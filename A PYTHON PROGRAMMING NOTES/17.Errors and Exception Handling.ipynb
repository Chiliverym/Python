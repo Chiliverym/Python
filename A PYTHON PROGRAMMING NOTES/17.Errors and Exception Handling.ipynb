{
 "cells": [
  {
   "cell_type": "markdown",
   "id": "510e8152",
   "metadata": {},
   "source": [
    "# Errors"
   ]
  },
  {
   "cell_type": "markdown",
   "id": "91aea3e2",
   "metadata": {},
   "source": [
    "> Errors are the problems in a program due to which the program will stop the executuion.\n",
    "\n",
    "> Types of errors: 1.Syntax or compile time error(Syntax error should be handled by developer)  2.Runtime Error"
   ]
  },
  {
   "cell_type": "code",
   "execution_count": null,
   "id": "eec818c3",
   "metadata": {},
   "outputs": [],
   "source": [
    "> Exception handling is typically designed and defined to handle runtime error"
   ]
  },
  {
   "cell_type": "code",
   "execution_count": 1,
   "id": "a4378a1b",
   "metadata": {},
   "outputs": [
    {
     "ename": "SyntaxError",
     "evalue": "EOL while scanning string literal (1679058590.py, line 1)",
     "output_type": "error",
     "traceback": [
      "\u001b[1;36m  Input \u001b[1;32mIn [1]\u001b[1;36m\u001b[0m\n\u001b[1;33m    print('Hello)\u001b[0m\n\u001b[1;37m                 ^\u001b[0m\n\u001b[1;31mSyntaxError\u001b[0m\u001b[1;31m:\u001b[0m EOL while scanning string literal\n"
     ]
    }
   ],
   "source": [
    "print('Hello)"
   ]
  },
  {
   "cell_type": "markdown",
   "id": "22b3f6e1",
   "metadata": {},
   "source": [
    "Note how we get a SyntaxError, with the further description that it was an End of Line Error (EOL) while scanning the string literal. This is specific enough for us to see that we forgot a single quote at the end of the line. Understanding of these various error types will help you debug your code much faster.Since the above error is syntax error so it will not handled by exception handling it will be handled by developer only."
   ]
  },
  {
   "cell_type": "code",
   "execution_count": 2,
   "id": "4e931a93",
   "metadata": {},
   "outputs": [
    {
     "ename": "ZeroDivisionError",
     "evalue": "division by zero",
     "output_type": "error",
     "traceback": [
      "\u001b[1;31m---------------------------------------------------------------------------\u001b[0m",
      "\u001b[1;31mZeroDivisionError\u001b[0m                         Traceback (most recent call last)",
      "Input \u001b[1;32mIn [2]\u001b[0m, in \u001b[0;36m<cell line: 1>\u001b[1;34m()\u001b[0m\n\u001b[1;32m----> 1\u001b[0m \u001b[38;5;241;43m10\u001b[39;49m\u001b[38;5;241;43m/\u001b[39;49m\u001b[38;5;241;43m0\u001b[39;49m\n",
      "\u001b[1;31mZeroDivisionError\u001b[0m: division by zero"
     ]
    }
   ],
   "source": [
    "10/0"
   ]
  },
  {
   "cell_type": "markdown",
   "id": "df209ee2",
   "metadata": {},
   "source": [
    "This type of error and description is known as an Exception. Even if a statement or expression is syntactically correct, it may cause an error when an attempt is made to execute it. Errors detected during execution are called exceptions and are not unconditionally fatal."
   ]
  },
  {
   "cell_type": "markdown",
   "id": "ca7b2959",
   "metadata": {},
   "source": [
    "# Built-in Exceptions for Python"
   ]
  },
  {
   "cell_type": "raw",
   "id": "5a4bd75d",
   "metadata": {},
   "source": [
    "Exception - Base class for all exceptions.\n",
    "ArithmeticError - numeric calculations.\n",
    "OverflowError - maximum limit for numeric type.\n",
    "ZeroDivisionError - divide by zero\n",
    "ImportError - when import fails\n",
    "Keyboardinterrupt - usually when the user interrupts the program execution by pressing ctrl+c\n",
    "IndexError - Index not found in the sequence\n",
    "KeyError - key not found in the sequence\n",
    "OSError - OS related error\n",
    "ValueError, TypeError and so on."
   ]
  },
  {
   "cell_type": "code",
   "execution_count": 3,
   "id": "0a366231",
   "metadata": {},
   "outputs": [
    {
     "ename": "FileNotFoundError",
     "evalue": "[Errno 2] No such file or directory: 'test51.txt'",
     "output_type": "error",
     "traceback": [
      "\u001b[1;31m---------------------------------------------------------------------------\u001b[0m",
      "\u001b[1;31mFileNotFoundError\u001b[0m                         Traceback (most recent call last)",
      "Input \u001b[1;32mIn [3]\u001b[0m, in \u001b[0;36m<cell line: 1>\u001b[1;34m()\u001b[0m\n\u001b[1;32m----> 1\u001b[0m f \u001b[38;5;241m=\u001b[39m \u001b[38;5;28;43mopen\u001b[39;49m\u001b[43m(\u001b[49m\u001b[38;5;124;43m'\u001b[39;49m\u001b[38;5;124;43mtest51.txt\u001b[39;49m\u001b[38;5;124;43m'\u001b[39;49m\u001b[43m)\u001b[49m\n\u001b[0;32m      2\u001b[0m f\u001b[38;5;241m.\u001b[39mwrite(\u001b[38;5;124m\"\u001b[39m\u001b[38;5;124msdfsdsf\u001b[39m\u001b[38;5;124m\"\u001b[39m)\n",
      "\u001b[1;31mFileNotFoundError\u001b[0m: [Errno 2] No such file or directory: 'test51.txt'"
     ]
    }
   ],
   "source": [
    "f = open('test51.txt')\n",
    "f.write(\"sdfsdsf\")"
   ]
  },
  {
   "cell_type": "code",
   "execution_count": 5,
   "id": "e4c37070",
   "metadata": {},
   "outputs": [
    {
     "name": "stdout",
     "output_type": "stream",
     "text": [
      "Error occured name 'a' is not defined\n"
     ]
    }
   ],
   "source": [
    "try:\n",
    "    print(a)\n",
    "except NameError as e:\n",
    "    print(\"Error occured\",e)"
   ]
  },
  {
   "cell_type": "code",
   "execution_count": 6,
   "id": "d2349b1c",
   "metadata": {},
   "outputs": [
    {
     "name": "stdout",
     "output_type": "stream",
     "text": [
      "Error occured name 'a' is not defined\n"
     ]
    }
   ],
   "source": [
    "try:\n",
    "    print(a)\n",
    "except NameError as e:\n",
    "    print(\"Error occured\",e)\n",
    "else:\n",
    "    print(\"There is no error\")"
   ]
  },
  {
   "cell_type": "code",
   "execution_count": 7,
   "id": "30fce0fc",
   "metadata": {},
   "outputs": [
    {
     "name": "stdout",
     "output_type": "stream",
     "text": [
      "Error occured name 'a' is not defined\n",
      "Done\n"
     ]
    }
   ],
   "source": [
    "try:\n",
    "    print(a)\n",
    "except NameError as e:\n",
    "    print(\"Error occured\",e)\n",
    "else:\n",
    "    print(\"There is no error\")\n",
    "finally:\n",
    "    print(\"Done\")"
   ]
  },
  {
   "cell_type": "code",
   "execution_count": 9,
   "id": "d184393f",
   "metadata": {},
   "outputs": [
    {
     "name": "stdout",
     "output_type": "stream",
     "text": [
      "Enter a number3\n",
      "13\n",
      "7\n",
      "3.3333333333333335\n",
      "30\n",
      "13\n",
      "7\n",
      "3.3333333333333335\n",
      "30\n"
     ]
    }
   ],
   "source": [
    "try:\n",
    "    #x = int(input(\"Enter a number\"))\n",
    "    y = int(input(\"Enter a number\"))\n",
    "    \n",
    "    a=x+y\n",
    "    b=x-y\n",
    "    c=x/y\n",
    "    d=x*y\n",
    "    \n",
    "except NameError:\n",
    "    x = 10\n",
    "    \n",
    "    a=x+y\n",
    "    b=x-y\n",
    "    c=x/y\n",
    "    d=x*y\n",
    "    \n",
    "else:\n",
    "    print(a)\n",
    "    print(b)\n",
    "    print(c)\n",
    "    print(d)\n",
    "\n",
    "finally:\n",
    "    print(a)\n",
    "    print(b)\n",
    "    print(c)\n",
    "    print(d)\n",
    "    "
   ]
  },
  {
   "cell_type": "code",
   "execution_count": 10,
   "id": "847bae74",
   "metadata": {},
   "outputs": [
    {
     "name": "stdout",
     "output_type": "stream",
     "text": [
      "Enter a number4\n",
      "14\n",
      "6\n",
      "2.5\n",
      "40\n"
     ]
    }
   ],
   "source": [
    "try:\n",
    "    #x = int(input(\"Enter a number\"))\n",
    "    y = int(input(\"Enter a number\"))\n",
    "    \n",
    "    a=x+y\n",
    "    b=x-y\n",
    "    c=x/y\n",
    "    d=x*y\n",
    "    \n",
    "except NameError:\n",
    "    x = 10\n",
    "    \n",
    "    a=x+y\n",
    "    b=x-y\n",
    "    c=x/y\n",
    "    d=x*y\n",
    "    \n",
    "finally:\n",
    "    print(a)\n",
    "    print(b)\n",
    "    print(c)\n",
    "    print(d)"
   ]
  },
  {
   "cell_type": "markdown",
   "id": "92c9e4e4",
   "metadata": {},
   "source": [
    "## Multiple Except block"
   ]
  },
  {
   "cell_type": "code",
   "execution_count": 8,
   "id": "0eefa4bb",
   "metadata": {},
   "outputs": [
    {
     "ename": "NameError",
     "evalue": "name 'a' is not defined",
     "output_type": "error",
     "traceback": [
      "\u001b[1;31m---------------------------------------------------------------------------\u001b[0m",
      "\u001b[1;31mNameError\u001b[0m                                 Traceback (most recent call last)",
      "Input \u001b[1;32mIn [8]\u001b[0m, in \u001b[0;36m<cell line: 1>\u001b[1;34m()\u001b[0m\n\u001b[1;32m----> 1\u001b[0m \u001b[38;5;241m-\u001b[39m\u001b[38;5;241m10\u001b[39m\u001b[38;5;241m/\u001b[39m\u001b[43ma\u001b[49m\n",
      "\u001b[1;31mNameError\u001b[0m: name 'a' is not defined"
     ]
    }
   ],
   "source": [
    "-10/a"
   ]
  },
  {
   "cell_type": "code",
   "execution_count": 12,
   "id": "4e8e3ccc",
   "metadata": {},
   "outputs": [
    {
     "name": "stdout",
     "output_type": "stream",
     "text": [
      "Enter a number1\n",
      "Enter a numbera\n",
      "Exception occured--> Value Error\n",
      "14\n",
      "6\n",
      "2.5\n",
      "40\n"
     ]
    }
   ],
   "source": [
    "try:\n",
    "    x = int(input(\"Enter a number\"))\n",
    "    y = int(input(\"Enter a number\"))\n",
    "    \n",
    "    a=x+y\n",
    "    b=x-y\n",
    "    c=x/y\n",
    "    d=x*y\n",
    "    \n",
    "except NameError:\n",
    "    print(\"Name Error occured\")\n",
    "    x = 5\n",
    "\n",
    "    a=x+y\n",
    "    b=x-y\n",
    "    c=x/y\n",
    "    d=x*y\n",
    "    \n",
    "\n",
    "except ZeroDivisionError:\n",
    "    print(\"ZeroDIvisionError\")\n",
    "    c = \"Try dividing by zero\"\n",
    "    d = x*y\n",
    "    \n",
    "except ValueError:\n",
    "    print(\"Exception occured--> Value Error\")\n",
    "    \n",
    "else:\n",
    "    print(a)\n",
    "    print(b)\n",
    "    print(c)\n",
    "    print(d)\n",
    "\n",
    "finally:\n",
    "    print(a)\n",
    "    print(b)\n",
    "    print(c)\n",
    "    print(d)\n",
    "    "
   ]
  },
  {
   "cell_type": "code",
   "execution_count": 14,
   "id": "ec135d15",
   "metadata": {},
   "outputs": [
    {
     "name": "stdout",
     "output_type": "stream",
     "text": [
      "Enter a number2\n",
      "Enter a number0\n",
      "division by zero\n",
      "2\n",
      "2\n",
      "2.5\n",
      "40\n"
     ]
    }
   ],
   "source": [
    "try:\n",
    "    x = int(input(\"Enter a number\"))\n",
    "    y = int(input(\"Enter a number\"))\n",
    "    \n",
    "    a=x+y\n",
    "    b=x-y\n",
    "    c=x/y\n",
    "    d=x*y\n",
    "    \n",
    "except NameError:\n",
    "    print(\"Name Error occured\")\n",
    "    x = 5\n",
    "\n",
    "    a=x+y\n",
    "    b=x-y\n",
    "    c=x/y\n",
    "    d=x*y\n",
    "    \n",
    "except Exception as e:\n",
    "    print(e)\n",
    "else:\n",
    "    print(a)\n",
    "    print(b)\n",
    "    print(c)\n",
    "    print(d)\n",
    "\n",
    "finally:\n",
    "    print(a)\n",
    "    print(b)\n",
    "    print(c)\n",
    "    print(d)\n",
    "    "
   ]
  },
  {
   "cell_type": "code",
   "execution_count": 16,
   "id": "c3d2a4c2",
   "metadata": {},
   "outputs": [
    {
     "name": "stdout",
     "output_type": "stream",
     "text": [
      "Error occured [Errno 2] No such file or directory: 'Example.txt'\n",
      "Execution is done\n"
     ]
    }
   ],
   "source": [
    "try:\n",
    "    file = open(\"Example.txt\",'r')\n",
    "    \n",
    "except FileNotFoundError as e:\n",
    "    print(f\"Error occured {e}\")\n",
    "    \n",
    "else:\n",
    "    content = file.read()\n",
    "    print(content)\n",
    "    file.close()\n",
    "\n",
    "finally:\n",
    "    print(\"Execution is done\")\n"
   ]
  },
  {
   "cell_type": "code",
   "execution_count": 18,
   "id": "2065ea91",
   "metadata": {},
   "outputs": [
    {
     "name": "stdout",
     "output_type": "stream",
     "text": [
      "[Errno 2] No such file or directory: 'Example.txt'\n",
      "Execution is done\n"
     ]
    }
   ],
   "source": [
    "try:\n",
    "    file = open(\"Example.txt\")\n",
    "    \n",
    "except Exception as e:\n",
    "    print(e)\n",
    "    \n",
    "else:\n",
    "    content = file.read()\n",
    "    print(content)\n",
    "    file.close()\n",
    "\n",
    "finally:\n",
    "    print(\"Execution is done\")"
   ]
  },
  {
   "cell_type": "markdown",
   "id": "dc2c7d4f",
   "metadata": {},
   "source": [
    "### Two errors together"
   ]
  },
  {
   "cell_type": "code",
   "execution_count": 1,
   "id": "92cb53a5",
   "metadata": {},
   "outputs": [
    {
     "name": "stdout",
     "output_type": "stream",
     "text": [
      "7.0\n",
      "Error occured name 'a' is not defined\n",
      "Thank You\n"
     ]
    }
   ],
   "source": [
    "try:\n",
    "    print(7/1)\n",
    "    print(a)\n",
    "    \n",
    "except ZeroDivisionError as e:\n",
    "    print(\"Error Occured\",e)\n",
    "except Exception as e:\n",
    "    print(f\"Error occured {e}\")\n",
    "else:\n",
    "    print(\"Execution Done\")\n",
    "finally:\n",
    "    print(\"Thank You\")"
   ]
  },
  {
   "cell_type": "markdown",
   "id": "7afc0da9",
   "metadata": {},
   "source": [
    "## User defined exception"
   ]
  },
  {
   "cell_type": "code",
   "execution_count": 2,
   "id": "8880142f",
   "metadata": {},
   "outputs": [],
   "source": [
    "def validate(age):\n",
    "    if age>=18:\n",
    "        return \"You can vote\"\n",
    "    else:\n",
    "        raise Exception(\"You are under 18 Hence cannot vote.\")"
   ]
  },
  {
   "cell_type": "code",
   "execution_count": 3,
   "id": "2bd08faa",
   "metadata": {},
   "outputs": [
    {
     "ename": "Exception",
     "evalue": "You are under 18 Hence cannot vote.",
     "output_type": "error",
     "traceback": [
      "\u001b[1;31m---------------------------------------------------------------------------\u001b[0m",
      "\u001b[1;31mException\u001b[0m                                 Traceback (most recent call last)",
      "Input \u001b[1;32mIn [3]\u001b[0m, in \u001b[0;36m<cell line: 1>\u001b[1;34m()\u001b[0m\n\u001b[1;32m----> 1\u001b[0m \u001b[43mvalidate\u001b[49m\u001b[43m(\u001b[49m\u001b[38;5;241;43m14\u001b[39;49m\u001b[43m)\u001b[49m\n",
      "Input \u001b[1;32mIn [2]\u001b[0m, in \u001b[0;36mvalidate\u001b[1;34m(age)\u001b[0m\n\u001b[0;32m      3\u001b[0m     \u001b[38;5;28;01mreturn\u001b[39;00m \u001b[38;5;124m\"\u001b[39m\u001b[38;5;124mYou can vote\u001b[39m\u001b[38;5;124m\"\u001b[39m\n\u001b[0;32m      4\u001b[0m \u001b[38;5;28;01melse\u001b[39;00m:\n\u001b[1;32m----> 5\u001b[0m     \u001b[38;5;28;01mraise\u001b[39;00m \u001b[38;5;167;01mException\u001b[39;00m(\u001b[38;5;124m\"\u001b[39m\u001b[38;5;124mYou are under 18 Hence cannot vote.\u001b[39m\u001b[38;5;124m\"\u001b[39m)\n",
      "\u001b[1;31mException\u001b[0m: You are under 18 Hence cannot vote."
     ]
    }
   ],
   "source": [
    "validate(14)"
   ]
  },
  {
   "cell_type": "code",
   "execution_count": 5,
   "id": "c7366528",
   "metadata": {},
   "outputs": [
    {
     "name": "stdout",
     "output_type": "stream",
     "text": [
      "You are under 18 Hence cannot vote.\n"
     ]
    }
   ],
   "source": [
    "try:\n",
    "    a = validate(17)\n",
    "    print(a)\n",
    "    \n",
    "except Exception as e:\n",
    "    print(e)"
   ]
  },
  {
   "cell_type": "code",
   "execution_count": null,
   "id": "70e30c17",
   "metadata": {},
   "outputs": [],
   "source": []
  }
 ],
 "metadata": {
  "kernelspec": {
   "display_name": "Python 3 (ipykernel)",
   "language": "python",
   "name": "python3"
  },
  "language_info": {
   "codemirror_mode": {
    "name": "ipython",
    "version": 3
   },
   "file_extension": ".py",
   "mimetype": "text/x-python",
   "name": "python",
   "nbconvert_exporter": "python",
   "pygments_lexer": "ipython3",
   "version": "3.9.12"
  }
 },
 "nbformat": 4,
 "nbformat_minor": 5
}
