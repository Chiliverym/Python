{
 "cells": [
  {
   "cell_type": "markdown",
   "id": "f6617cf7",
   "metadata": {},
   "source": [
    "# Python"
   ]
  },
  {
   "cell_type": "markdown",
   "id": "fb151bc0",
   "metadata": {},
   "source": [
    ">Python is a general purpose interpreted, interactive, object oriented and high level programming language with dynamic sementic.\n",
    "Python was created by Guido Van Rossum during 1985-1990 and is very easy to learn.\n",
    "\n",
    ">Language is not named after a snake, but after a comedy show \"Flying Circus\" which monty Python was a fan of.\n",
    "\n",
    ">Python is designed to be highly readable. It uses English keywords frequently as other languages uses Punctation and it has fewer syntactical constructions than other languages."
   ]
  },
  {
   "cell_type": "markdown",
   "id": "cee5c1f0",
   "metadata": {},
   "source": [
    "#### Following are the important features of Python Programming:\n",
    "\n",
    ">It is free and open source.\n",
    "\n",
    ">It supports functional and structured programming methods as well as OOP.\n",
    "\n",
    ">It provides very high level dynamic data types and supports dynamic type checking.\n",
    "\n",
    ">Itegrated: It can be easily integreted with C, C++, COM, ActiveX, COBRA and JAVA.\n",
    "\n",
    ">Broad Standard Library: Python's bulk of the library is very portable and cross platform compatible on UNIX, Windows and Macintosh.\n",
    "\n",
    ">Easy to maintain: Python's source code is fairly easy to maintain.\n",
    "\n",
    ">Portable : It can be used in any opearting system.\n",
    "\n",
    ">Databases: It provides interfaces to all major commercial databases.\n",
    "\n",
    ">Scalable: It provides a better structure and support large programs than shell scripting.\n"
   ]
  },
  {
   "cell_type": "markdown",
   "id": "92cb00f8",
   "metadata": {},
   "source": [
    "#### Applications of Python :\n",
    "\n",
    ">Youtube : The popular youtube video sharing service is largely written in python.\n",
    "\n",
    ">Google: It makes extensive use of python in its web search systems.\n",
    "\n",
    ">GUI Programming: Python supports GUI application that can be created and ported to many system calls, libraries and windows systems, such as Windows MFC, Macintosh and the X window system of Unix.\n",
    "\n",
    ">Data Analytics, Business Analytics and Machine Learning.\n",
    "\n",
    ">Raspberry pi : Its singleboard computer promotes python as its educational language.\n",
    "\n",
    ">Game Development.\n",
    "\n",
    ">IOT and Robotics."
   ]
  },
  {
   "cell_type": "markdown",
   "id": "b98b8641",
   "metadata": {},
   "source": [
    "# Python | Output using print() function"
   ]
  },
  {
   "cell_type": "markdown",
   "id": "81256031",
   "metadata": {},
   "source": [
    ">1.The simplest way to produce output is using the print() function where you can pass zero or more expressions by commas.\n",
    "\n",
    ">2.This function converts the expressions you pass into a string before writing to the screen."
   ]
  },
  {
   "cell_type": "code",
   "execution_count": 1,
   "id": "815b794f",
   "metadata": {},
   "outputs": [
    {
     "name": "stdout",
     "output_type": "stream",
     "text": [
      "Hello World!!!\n"
     ]
    }
   ],
   "source": [
    "print(\"Hello World!!!\")  #print is a output statement"
   ]
  },
  {
   "cell_type": "code",
   "execution_count": 2,
   "id": "c733e214",
   "metadata": {},
   "outputs": [
    {
     "ename": "IndentationError",
     "evalue": "unexpected indent (Temp/ipykernel_12408/1270584385.py, line 2)",
     "output_type": "error",
     "traceback": [
      "\u001b[1;36m  File \u001b[1;32m\"C:\\Users\\User\\AppData\\Local\\Temp/ipykernel_12408/1270584385.py\"\u001b[1;36m, line \u001b[1;32m2\u001b[0m\n\u001b[1;33m    print('Hello World')\u001b[0m\n\u001b[1;37m    ^\u001b[0m\n\u001b[1;31mIndentationError\u001b[0m\u001b[1;31m:\u001b[0m unexpected indent\n"
     ]
    }
   ],
   "source": [
    "print('Hello world')\n",
    "            print('Hello World')"
   ]
  },
  {
   "cell_type": "code",
   "execution_count": 2,
   "id": "096436af",
   "metadata": {},
   "outputs": [
    {
     "name": "stdout",
     "output_type": "stream",
     "text": [
      "1.1 1.2 1.3\n"
     ]
    }
   ],
   "source": [
    "print(1.1,1.2,1.3)"
   ]
  },
  {
   "cell_type": "code",
   "execution_count": 3,
   "id": "ee77d2ae",
   "metadata": {},
   "outputs": [
    {
     "name": "stdout",
     "output_type": "stream",
     "text": [
      "this is example 3 of print funtion\n"
     ]
    }
   ],
   "source": [
    "print('this is example',3,'of print funtion')"
   ]
  },
  {
   "cell_type": "code",
   "execution_count": 4,
   "id": "f58f679b",
   "metadata": {},
   "outputs": [
    {
     "name": "stdout",
     "output_type": "stream",
     "text": [
      "we can also print the variable\n"
     ]
    }
   ],
   "source": [
    "x = 'we can also print the variable'\n",
    "print(x)"
   ]
  },
  {
   "cell_type": "markdown",
   "id": "99630f09",
   "metadata": {},
   "source": [
    "print function has default new line argument, which means after printing the statement,\n",
    "it moves the cursor to the new line"
   ]
  },
  {
   "cell_type": "code",
   "execution_count": 5,
   "id": "dc96de63",
   "metadata": {},
   "outputs": [
    {
     "name": "stdout",
     "output_type": "stream",
     "text": [
      "this is line one\n",
      "this is line two\n"
     ]
    }
   ],
   "source": [
    "print(\"this is line one\")\n",
    "print(\"this is line two\")"
   ]
  },
  {
   "cell_type": "code",
   "execution_count": 6,
   "id": "d815183b",
   "metadata": {},
   "outputs": [
    {
     "name": "stdout",
     "output_type": "stream",
     "text": [
      "this is line one this is line two\n"
     ]
    }
   ],
   "source": [
    "# however can overwrite this end line arguments by simple doing this...\n",
    "print(\"this is line one\",end=\" \")\n",
    "print(\"this is line two\")"
   ]
  },
  {
   "cell_type": "code",
   "execution_count": 7,
   "id": "dd47a0ba",
   "metadata": {},
   "outputs": [
    {
     "name": "stdout",
     "output_type": "stream",
     "text": [
      "1\n",
      "2\n",
      "3\n"
     ]
    }
   ],
   "source": [
    "print(1)\n",
    "print(2)\n",
    "print(3)"
   ]
  },
  {
   "cell_type": "code",
   "execution_count": 8,
   "id": "521e40a8",
   "metadata": {},
   "outputs": [
    {
     "name": "stdout",
     "output_type": "stream",
     "text": [
      "1 2 3\n"
     ]
    }
   ],
   "source": [
    "print(1,end=\" \")\n",
    "print(2,end=\" \")\n",
    "print(3)"
   ]
  },
  {
   "cell_type": "code",
   "execution_count": 9,
   "id": "93311576",
   "metadata": {},
   "outputs": [],
   "source": [
    "a = 10  #a = variable #10=value  # = is assignment operator "
   ]
  },
  {
   "cell_type": "code",
   "execution_count": 10,
   "id": "4a157723",
   "metadata": {},
   "outputs": [
    {
     "data": {
      "text/plain": [
       "10"
      ]
     },
     "execution_count": 10,
     "metadata": {},
     "output_type": "execute_result"
    }
   ],
   "source": [
    "a"
   ]
  },
  {
   "cell_type": "code",
   "execution_count": 11,
   "id": "75cc53d1",
   "metadata": {},
   "outputs": [
    {
     "name": "stdout",
     "output_type": "stream",
     "text": [
      "30\n"
     ]
    }
   ],
   "source": [
    "b = 20\n",
    "x = a + b\n",
    "print(x)"
   ]
  },
  {
   "cell_type": "code",
   "execution_count": 1,
   "id": "b0e34098",
   "metadata": {},
   "outputs": [
    {
     "ename": "SyntaxError",
     "evalue": "invalid syntax (Temp/ipykernel_12408/2317080350.py, line 1)",
     "output_type": "error",
     "traceback": [
      "\u001b[1;36m  File \u001b[1;32m\"C:\\Users\\User\\AppData\\Local\\Temp/ipykernel_12408/2317080350.py\"\u001b[1;36m, line \u001b[1;32m1\u001b[0m\n\u001b[1;33m    Case Sensitive Language\u001b[0m\n\u001b[1;37m         ^\u001b[0m\n\u001b[1;31mSyntaxError\u001b[0m\u001b[1;31m:\u001b[0m invalid syntax\n"
     ]
    }
   ],
   "source": [
    "Case Sensitive Language\n",
    "print <> Print <> PRINT"
   ]
  },
  {
   "cell_type": "markdown",
   "id": "32281da3",
   "metadata": {},
   "source": [
    "# Indentation"
   ]
  },
  {
   "cell_type": "markdown",
   "id": "db5a0b3e",
   "metadata": {},
   "source": [
    "Indentatation refers to the spaces at the begining of the code line. It is very important as Python uses indentation to indicate a block of code. If the indentation id not correct we will endup with IndentationError error."
   ]
  },
  {
   "cell_type": "code",
   "execution_count": 1,
   "id": "697b43b1",
   "metadata": {},
   "outputs": [
    {
     "name": "stdout",
     "output_type": "stream",
     "text": [
      "1\n",
      "2\n"
     ]
    }
   ],
   "source": [
    "print(1)\n",
    "print(2)"
   ]
  },
  {
   "cell_type": "code",
   "execution_count": 2,
   "id": "f2d6c52c",
   "metadata": {},
   "outputs": [
    {
     "ename": "IndentationError",
     "evalue": "unexpected indent (4226839908.py, line 2)",
     "output_type": "error",
     "traceback": [
      "\u001b[1;36m  Input \u001b[1;32mIn [2]\u001b[1;36m\u001b[0m\n\u001b[1;33m    print(2)\u001b[0m\n\u001b[1;37m    ^\u001b[0m\n\u001b[1;31mIndentationError\u001b[0m\u001b[1;31m:\u001b[0m unexpected indent\n"
     ]
    }
   ],
   "source": [
    "print(1)\n",
    "  print(2)"
   ]
  },
  {
   "cell_type": "code",
   "execution_count": 1,
   "id": "86af938d",
   "metadata": {},
   "outputs": [
    {
     "name": "stdout",
     "output_type": "stream",
     "text": [
      "P is equal to 10\n"
     ]
    }
   ],
   "source": [
    "p = 10\n",
    "if p == 10:\n",
    "    print('P is equal to 10')  # correct indentation "
   ]
  },
  {
   "cell_type": "code",
   "execution_count": 2,
   "id": "6f486a90",
   "metadata": {},
   "outputs": [
    {
     "ename": "IndentationError",
     "evalue": "expected an indented block (Temp/ipykernel_3592/595780228.py, line 4)",
     "output_type": "error",
     "traceback": [
      "\u001b[1;36m  File \u001b[1;32m\"C:\\Users\\User\\AppData\\Local\\Temp/ipykernel_3592/595780228.py\"\u001b[1;36m, line \u001b[1;32m4\u001b[0m\n\u001b[1;33m    print('P is equal to 10')\u001b[0m\n\u001b[1;37m    ^\u001b[0m\n\u001b[1;31mIndentationError\u001b[0m\u001b[1;31m:\u001b[0m expected an indented block\n"
     ]
    }
   ],
   "source": [
    "#if indentation skipped we will encounter the Indentation Error\n",
    "p = 10\n",
    "if p == 10:\n",
    "print('P is equal to 10')"
   ]
  },
  {
   "cell_type": "markdown",
   "id": "e2760fd8",
   "metadata": {},
   "source": [
    "# Input and Output Operations"
   ]
  },
  {
   "cell_type": "markdown",
   "id": "902d1151",
   "metadata": {},
   "source": [
    ">1.This is a function first takes the input from the user and then evaluate the expression, which means Python automatically identifies whether\n",
    "user entered a string or a number or a list.\n",
    "\n",
    ">2.If the input provided is not correct then either syntax error or exception raised by Python."
   ]
  },
  {
   "cell_type": "code",
   "execution_count": 12,
   "id": "4a25a914",
   "metadata": {},
   "outputs": [
    {
     "name": "stdout",
     "output_type": "stream",
     "text": [
      "Please enter your name: Jayesh\n",
      "\n",
      "Welcome Jayesh !!!\n"
     ]
    }
   ],
   "source": [
    "# Input\n",
    "\n",
    "name = input('Please enter your name: ')\n",
    "print('\\nWelcome', name, '!!!') #\\n creates a new line"
   ]
  },
  {
   "cell_type": "code",
   "execution_count": 39,
   "id": "f9dfc520",
   "metadata": {},
   "outputs": [
    {
     "name": "stdout",
     "output_type": "stream",
     "text": [
      "Welcome Jayesh\n"
     ]
    }
   ],
   "source": [
    "print(\"Welcome\",name)"
   ]
  },
  {
   "cell_type": "code",
   "execution_count": 13,
   "id": "60818011",
   "metadata": {},
   "outputs": [
    {
     "data": {
      "text/plain": [
       "str"
      ]
     },
     "execution_count": 13,
     "metadata": {},
     "output_type": "execute_result"
    }
   ],
   "source": [
    "type(name)"
   ]
  },
  {
   "cell_type": "code",
   "execution_count": 21,
   "id": "bc3043c3",
   "metadata": {},
   "outputs": [
    {
     "name": "stdout",
     "output_type": "stream",
     "text": [
      "This is Jayesh\n"
     ]
    }
   ],
   "source": [
    "print('This is',name)"
   ]
  },
  {
   "cell_type": "code",
   "execution_count": 40,
   "id": "00803e63",
   "metadata": {},
   "outputs": [
    {
     "name": "stdout",
     "output_type": "stream",
     "text": [
      "Please enter your Age: 25\n",
      "25\n"
     ]
    },
    {
     "data": {
      "text/plain": [
       "str"
      ]
     },
     "execution_count": 40,
     "metadata": {},
     "output_type": "execute_result"
    }
   ],
   "source": [
    "age = input(\"Please enter your Age: \")\n",
    "print(age)\n",
    "type(age)"
   ]
  },
  {
   "cell_type": "code",
   "execution_count": 14,
   "id": "798b4527",
   "metadata": {
    "scrolled": true
   },
   "outputs": [
    {
     "name": "stdout",
     "output_type": "stream",
     "text": [
      "Please enter a number between 0 to 10: 8\n",
      "\n",
      "The Squared value of the number is 64\n"
     ]
    }
   ],
   "source": [
    "num = eval(input('Please enter a number between 0 to 10: '))\n",
    "print('\\nThe Squared value of the number is', num*num)"
   ]
  },
  {
   "cell_type": "code",
   "execution_count": 15,
   "id": "8d45f5b3",
   "metadata": {},
   "outputs": [
    {
     "data": {
      "text/plain": [
       "int"
      ]
     },
     "execution_count": 15,
     "metadata": {},
     "output_type": "execute_result"
    }
   ],
   "source": [
    "type(num)"
   ]
  },
  {
   "cell_type": "code",
   "execution_count": 41,
   "id": "303acd5d",
   "metadata": {},
   "outputs": [
    {
     "name": "stdout",
     "output_type": "stream",
     "text": [
      "Sales Value is: 25000\n",
      "Sales is 25000 Rs.\n"
     ]
    }
   ],
   "source": [
    "sales = int(input(\"Sales Value is: \"))\n",
    "print(\"Sales is\", sales,\"Rs.\")"
   ]
  },
  {
   "cell_type": "code",
   "execution_count": 42,
   "id": "20fb09f4",
   "metadata": {},
   "outputs": [
    {
     "name": "stdout",
     "output_type": "stream",
     "text": [
      "Sales Value is: 25658.3658\n",
      "Sales is 25658.3658 Rs.\n"
     ]
    }
   ],
   "source": [
    "sales = float(input(\"Sales Value is: \"))\n",
    "print(\"Sales is\", sales,\"Rs.\")"
   ]
  },
  {
   "cell_type": "code",
   "execution_count": 43,
   "id": "6ea49f5b",
   "metadata": {},
   "outputs": [
    {
     "name": "stdout",
     "output_type": "stream",
     "text": [
      "Please enter your marks in Percentage: 85.65\n",
      "Your score is  85.65\n"
     ]
    },
    {
     "data": {
      "text/plain": [
       "float"
      ]
     },
     "execution_count": 43,
     "metadata": {},
     "output_type": "execute_result"
    }
   ],
   "source": [
    "#Evaluator operator is a function which evaluate the input supplied by the user if it is integer it assigned 'int' datatype to it and if it is floating it will assign 'float' datatyppe to it.\n",
    "marks=eval(input(\"Please enter your marks in Percentage: \"))\n",
    "print(\"Your score is \",marks)\n",
    "type(marks)"
   ]
  },
  {
   "cell_type": "code",
   "execution_count": 44,
   "id": "8d684822",
   "metadata": {},
   "outputs": [
    {
     "name": "stdout",
     "output_type": "stream",
     "text": [
      "Please enter your marks in Percentage: 65.65\n",
      "Your score is  65.65\n"
     ]
    },
    {
     "data": {
      "text/plain": [
       "float"
      ]
     },
     "execution_count": 44,
     "metadata": {},
     "output_type": "execute_result"
    }
   ],
   "source": [
    "marks=eval(input(\"Please enter your marks in Percentage: \"))\n",
    "print(\"Your score is \",marks)\n",
    "type(marks)"
   ]
  },
  {
   "cell_type": "code",
   "execution_count": 45,
   "id": "f2635547",
   "metadata": {},
   "outputs": [
    {
     "name": "stdout",
     "output_type": "stream",
     "text": [
      "Please specify your Name: Jayesh\n",
      "Please enter your Age: 25\n",
      "Please enter your Experience: 3\n",
      "Jayesh at the age of 25 working with an experience of 3 years.\n"
     ]
    }
   ],
   "source": [
    "name = input(\"Please specify your Name: \")\n",
    "age = eval(input(\"Please enter your Age: \"))\n",
    "exp = eval(input('Please enter your Experience: '))\n",
    "\n",
    "print(name, \"at the age of\", age,\"working with an experience of\", exp, \"years.\")"
   ]
  },
  {
   "cell_type": "code",
   "execution_count": 46,
   "id": "1472b15d",
   "metadata": {},
   "outputs": [
    {
     "name": "stdout",
     "output_type": "stream",
     "text": [
      "\n",
      "--Jayesh--at the age of--25--working with an experience of--3--years.\n"
     ]
    }
   ],
   "source": [
    "print('\\n',name, \"at the age of\", age,\"working with an experience of\", exp, \"years.\", sep=\"--\")   #putting the separator as \"--\" instaed of space."
   ]
  },
  {
   "cell_type": "code",
   "execution_count": 47,
   "id": "e3255117",
   "metadata": {},
   "outputs": [
    {
     "name": "stdout",
     "output_type": "stream",
     "text": [
      "\n",
      " Jayesh at the age of 25 working with an experience of 3 years.\n"
     ]
    }
   ],
   "source": [
    "print('\\n',name, \"at the age of\", age,\"working with an experience of\", exp, \"years.\")"
   ]
  },
  {
   "cell_type": "code",
   "execution_count": 48,
   "id": "398e500c",
   "metadata": {},
   "outputs": [
    {
     "name": "stdout",
     "output_type": "stream",
     "text": [
      "name is:  Jayesh\n",
      "Age is:  25\n",
      "Experience is:  3\n"
     ]
    }
   ],
   "source": [
    "print(\"name is: \",name)\n",
    "print(\"Age is: \",age)\n",
    "print(\"Experience is: \",exp)"
   ]
  },
  {
   "cell_type": "code",
   "execution_count": 49,
   "id": "d7c71569",
   "metadata": {},
   "outputs": [
    {
     "name": "stdout",
     "output_type": "stream",
     "text": [
      "Name is:  Jayesh | Age is:  25 | Experience is:  3\n"
     ]
    }
   ],
   "source": [
    "print(\"Name is: \",name, end= \" | \")  #Instead of new line we create new sentence in the same lone using pipe operator.\n",
    "print(\"Age is: \",age, end= \" | \")\n",
    "print(\"Experience is: \",exp)"
   ]
  },
  {
   "cell_type": "code",
   "execution_count": 50,
   "id": "81b91257",
   "metadata": {},
   "outputs": [
    {
     "name": "stdout",
     "output_type": "stream",
     "text": [
      "Jayesh at the age of 25 working with an experience of 3 years\n"
     ]
    }
   ],
   "source": [
    "print('{} at the age of {} working with an experience of {} years'.format(name, age, exp))  #format function"
   ]
  },
  {
   "cell_type": "code",
   "execution_count": 51,
   "id": "8972315a",
   "metadata": {},
   "outputs": [
    {
     "name": "stdout",
     "output_type": "stream",
     "text": [
      "Jayesh at the age of 25 working with an experience of 3 years\n"
     ]
    }
   ],
   "source": [
    "print(f'{name} at the age of {age} working with an experience of {exp} years')  #format function"
   ]
  },
  {
   "cell_type": "markdown",
   "id": "66bd14d8",
   "metadata": {},
   "source": [
    "### Order of Operations\n",
    "PEMDAS"
   ]
  },
  {
   "cell_type": "markdown",
   "id": "27daa846",
   "metadata": {},
   "source": [
    "#### PEMDAS Vs BODMAS:\n",
    "PEMDAS is paranthesis, exponents. multiplication, division, addition,subtraction.\n",
    "\n",
    "BODMAS is brackets, orders, division, multiplication, addition, subtraction."
   ]
  },
  {
   "cell_type": "raw",
   "id": "a69d4313",
   "metadata": {},
   "source": [
    "2+3-1\n",
    "=(2+3)-1\n",
    "=4\n",
    "\n",
    "1+1**5-2\n",
    "=1+(1**5)-2\n",
    "=1+1-2\n",
    "=0\n",
    "\n",
    "2*3/2\n",
    "=(2*3)/2\n",
    "=3"
   ]
  },
  {
   "cell_type": "code",
   "execution_count": 38,
   "id": "feef8389",
   "metadata": {},
   "outputs": [
    {
     "name": "stdout",
     "output_type": "stream",
     "text": [
      "4\n",
      "1\n",
      "2\n",
      "3.5\n",
      "3.725290298461914e-09\n"
     ]
    }
   ],
   "source": [
    "print(2+3-1)\n",
    "print(1+1**5-1)  #(**) means exponent means a***b = a^b\n",
    "print(1+1**(5-2))\n",
    "print(2+3/2)\n",
    "print(2**(3+5-(1+3)*9))"
   ]
  },
  {
   "cell_type": "markdown",
   "id": "11395d1d",
   "metadata": {},
   "source": [
    "# eval()"
   ]
  },
  {
   "cell_type": "markdown",
   "id": "8674d73b",
   "metadata": {},
   "source": [
    ">The eval() method parses the expression passed to it and runs python expression(code) within the program."
   ]
  },
  {
   "cell_type": "code",
   "execution_count": 58,
   "id": "0e072f86",
   "metadata": {},
   "outputs": [
    {
     "name": "stdout",
     "output_type": "stream",
     "text": [
      "Please enter a number between 0 to 10: 25\n",
      "\n",
      "The Squared value of the number is 625\n"
     ]
    }
   ],
   "source": [
    "num = eval(input('Please enter a number between 0 to 10: '))\n",
    "print('\\nThe Squared value of the number is', num*num)"
   ]
  },
  {
   "cell_type": "code",
   "execution_count": 59,
   "id": "dd1397ff",
   "metadata": {},
   "outputs": [
    {
     "name": "stdout",
     "output_type": "stream",
     "text": [
      "Please enter your address: 143, BTM, Bengluru\n",
      "\n",
      "Address is 143, BTM, Bengluru\n"
     ]
    }
   ],
   "source": [
    "num = input('Please enter your address: ')\n",
    "print('\\nAddress is', num)"
   ]
  },
  {
   "cell_type": "code",
   "execution_count": 60,
   "id": "1548e262",
   "metadata": {},
   "outputs": [
    {
     "name": "stdout",
     "output_type": "stream",
     "text": [
      "Please enter your Height:172\n",
      "Please enter your weight:65\n",
      "\n",
      "The Height is 172 And the weight is 65\n"
     ]
    }
   ],
   "source": [
    "num1 = eval(input('Please enter your Height:'))\n",
    "num2 = eval(input('Please enter your weight:'))\n",
    "print('\\nThe Height is {} And the weight is {}'.format(num1, num2))"
   ]
  },
  {
   "cell_type": "code",
   "execution_count": 61,
   "id": "dc5c5ccc",
   "metadata": {},
   "outputs": [
    {
     "name": "stdout",
     "output_type": "stream",
     "text": [
      "Enter your weight in kilograms:67\n",
      "Your weight in Pounds is:  378.40000000000003\n"
     ]
    }
   ],
   "source": [
    "num1 = eval(input('Enter your weight in kilograms:'))\n",
    "print('Your weight in Pounds is: ', num1*2.2)"
   ]
  },
  {
   "cell_type": "code",
   "execution_count": 62,
   "id": "ba28f179",
   "metadata": {},
   "outputs": [
    {
     "name": "stdout",
     "output_type": "stream",
     "text": [
      "Enter your weight in kilograms:68\n",
      "Enter your Height in Cms:172\n",
      "Your Height is 172 cms and your weight in Pounds is:149.60000000000002\n"
     ]
    }
   ],
   "source": [
    "num1 = eval(input('Enter your weight in kilograms:'))\n",
    "num2 = eval(input('Enter your Height in Cms:'))\n",
    "print('Your Height is {} cms and your weight in Pounds is:{}'.format(num2, num1*2.2))"
   ]
  },
  {
   "cell_type": "code",
   "execution_count": 63,
   "id": "3720baad",
   "metadata": {},
   "outputs": [
    {
     "name": "stdout",
     "output_type": "stream",
     "text": [
      "The average weight of the product:----68\n"
     ]
    }
   ],
   "source": [
    "print('The average weight of the product:', num1, sep='----')"
   ]
  },
  {
   "cell_type": "markdown",
   "id": "bec44522",
   "metadata": {},
   "source": [
    "# Typecasting \n",
    "Changing the datatype from one into another as per our requirement."
   ]
  },
  {
   "cell_type": "code",
   "execution_count": 22,
   "id": "61a123c1",
   "metadata": {},
   "outputs": [
    {
     "name": "stdout",
     "output_type": "stream",
     "text": [
      "Enter your Age: 25\n",
      "Age is:  25\n"
     ]
    },
    {
     "data": {
      "text/plain": [
       "int"
      ]
     },
     "execution_count": 22,
     "metadata": {},
     "output_type": "execute_result"
    }
   ],
   "source": [
    "age = int(input(\"Enter your Age: \"))  #converting string into integer type\n",
    "print(\"Age is: \",age)\n",
    "type(age)"
   ]
  },
  {
   "cell_type": "code",
   "execution_count": 23,
   "id": "8cc461b9",
   "metadata": {},
   "outputs": [],
   "source": [
    "x = int('2017')"
   ]
  },
  {
   "cell_type": "code",
   "execution_count": 24,
   "id": "81b34b34",
   "metadata": {},
   "outputs": [
    {
     "data": {
      "text/plain": [
       "int"
      ]
     },
     "execution_count": 24,
     "metadata": {},
     "output_type": "execute_result"
    }
   ],
   "source": [
    "type(x)"
   ]
  },
  {
   "cell_type": "code",
   "execution_count": 25,
   "id": "1cd5f743",
   "metadata": {},
   "outputs": [
    {
     "data": {
      "text/plain": [
       "str"
      ]
     },
     "execution_count": 25,
     "metadata": {},
     "output_type": "execute_result"
    }
   ],
   "source": [
    "type('2017')"
   ]
  },
  {
   "cell_type": "code",
   "execution_count": 26,
   "id": "19034aa9",
   "metadata": {},
   "outputs": [
    {
     "data": {
      "text/plain": [
       "3"
      ]
     },
     "execution_count": 26,
     "metadata": {},
     "output_type": "execute_result"
    }
   ],
   "source": [
    "int(3.252658741356)"
   ]
  },
  {
   "cell_type": "code",
   "execution_count": 27,
   "id": "3db3f887",
   "metadata": {},
   "outputs": [
    {
     "data": {
      "text/plain": [
       "1.99"
      ]
     },
     "execution_count": 27,
     "metadata": {},
     "output_type": "execute_result"
    }
   ],
   "source": [
    "float('1.99')"
   ]
  },
  {
   "cell_type": "code",
   "execution_count": 28,
   "id": "720a543d",
   "metadata": {},
   "outputs": [
    {
     "data": {
      "text/plain": [
       "4.0"
      ]
     },
     "execution_count": 28,
     "metadata": {},
     "output_type": "execute_result"
    }
   ],
   "source": [
    "float(4)"
   ]
  },
  {
   "cell_type": "markdown",
   "id": "4fb3cc33",
   "metadata": {},
   "source": [
    "# Commenting"
   ]
  },
  {
   "cell_type": "code",
   "execution_count": 29,
   "id": "920d15d8",
   "metadata": {},
   "outputs": [],
   "source": [
    "# Single Line Commenting - Ctrl + /"
   ]
  },
  {
   "cell_type": "code",
   "execution_count": 30,
   "id": "37627a1c",
   "metadata": {},
   "outputs": [],
   "source": [
    "# This is to demonstrate how things\n",
    "# work in python\n",
    "# in terms of commenting     #Ctrl + A and Ctrl + /"
   ]
  },
  {
   "cell_type": "code",
   "execution_count": 31,
   "id": "333e04f3",
   "metadata": {
    "scrolled": true
   },
   "outputs": [
    {
     "data": {
      "text/plain": [
       "'\\nThis is to demonstrate how things\\nwork in python\\nin terms of double line commenting\\n'"
      ]
     },
     "execution_count": 31,
     "metadata": {},
     "output_type": "execute_result"
    }
   ],
   "source": [
    "\"\"\"\n",
    "This is to demonstrate how things\n",
    "work in python\n",
    "in terms of double line commenting\n",
    "\"\"\""
   ]
  },
  {
   "cell_type": "code",
   "execution_count": 32,
   "id": "454831b7",
   "metadata": {},
   "outputs": [
    {
     "data": {
      "text/plain": [
       "'\\nThis is to demonstrate how things\\nwork in python\\nin terms of double line commenting\\n'"
      ]
     },
     "execution_count": 32,
     "metadata": {},
     "output_type": "execute_result"
    }
   ],
   "source": [
    "'''\n",
    "This is to demonstrate how things\n",
    "work in python\n",
    "in terms of double line commenting\n",
    "'''"
   ]
  },
  {
   "cell_type": "markdown",
   "id": "ef3b344d",
   "metadata": {},
   "source": [
    "# Escape Characters"
   ]
  },
  {
   "cell_type": "markdown",
   "id": "851c8a50",
   "metadata": {},
   "source": [
    "**#** is used for making comments"
   ]
  },
  {
   "cell_type": "code",
   "execution_count": 53,
   "id": "3ca8a50a",
   "metadata": {},
   "outputs": [],
   "source": [
    "#this is comment and this will not executed"
   ]
  },
  {
   "cell_type": "markdown",
   "id": "cb81a737",
   "metadata": {},
   "source": [
    "**\\n** this is used to go on a new line"
   ]
  },
  {
   "cell_type": "code",
   "execution_count": 54,
   "id": "bad2173c",
   "metadata": {},
   "outputs": [
    {
     "name": "stdout",
     "output_type": "stream",
     "text": [
      "this is \n",
      " new line\n"
     ]
    }
   ],
   "source": [
    "print('this is \\n new line')"
   ]
  },
  {
   "cell_type": "markdown",
   "id": "1bd1e478",
   "metadata": {},
   "source": [
    "**\\t** is used to give tab or extra spaces between words"
   ]
  },
  {
   "cell_type": "code",
   "execution_count": 55,
   "id": "73540aaf",
   "metadata": {},
   "outputs": [
    {
     "name": "stdout",
     "output_type": "stream",
     "text": [
      "this is \t tab example\n"
     ]
    }
   ],
   "source": [
    "print('this is \\t tab example')"
   ]
  },
  {
   "cell_type": "code",
   "execution_count": 56,
   "id": "382dc84e",
   "metadata": {},
   "outputs": [
    {
     "ename": "SyntaxError",
     "evalue": "invalid syntax (Temp/ipykernel_9488/3890878859.py, line 1)",
     "output_type": "error",
     "traceback": [
      "\u001b[1;36m  File \u001b[1;32m\"C:\\Users\\User\\AppData\\Local\\Temp/ipykernel_9488/3890878859.py\"\u001b[1;36m, line \u001b[1;32m1\u001b[0m\n\u001b[1;33m    print('doesn't it sounds good')\u001b[0m\n\u001b[1;37m                 ^\u001b[0m\n\u001b[1;31mSyntaxError\u001b[0m\u001b[1;31m:\u001b[0m invalid syntax\n"
     ]
    }
   ],
   "source": [
    "print('doesn't it sounds good')"
   ]
  },
  {
   "cell_type": "markdown",
   "id": "cc0859c5",
   "metadata": {},
   "source": [
    "to overcome this type of situation we escape the single quotes"
   ]
  },
  {
   "cell_type": "code",
   "execution_count": 57,
   "id": "69af2d5d",
   "metadata": {},
   "outputs": [
    {
     "name": "stdout",
     "output_type": "stream",
     "text": [
      "doesn't it sounds good\n"
     ]
    }
   ],
   "source": [
    "print('doesn\\'t it sounds good')"
   ]
  },
  {
   "cell_type": "markdown",
   "id": "1acb6057",
   "metadata": {},
   "source": [
    "## Python Keywords"
   ]
  },
  {
   "cell_type": "markdown",
   "id": "71e99d76",
   "metadata": {},
   "source": [
    "Python keywords are special reserved words to convey a special meaning to the compiler/interpreter.Each keyword have a special meaning and a specific operation. These keywords can't be used as a variable."
   ]
  },
  {
   "cell_type": "code",
   "execution_count": 33,
   "id": "005a7e50",
   "metadata": {},
   "outputs": [
    {
     "name": "stdout",
     "output_type": "stream",
     "text": [
      "['False', 'None', 'True', '__peg_parser__', 'and', 'as', 'assert', 'async', 'await', 'break', 'class', 'continue', 'def', 'del', 'elif', 'else', 'except', 'finally', 'for', 'from', 'global', 'if', 'import', 'in', 'is', 'lambda', 'nonlocal', 'not', 'or', 'pass', 'raise', 'return', 'try', 'while', 'with', 'yield'] "
     ]
    }
   ],
   "source": [
    "import keyword\n",
    "print(keyword.kwlist, end=\" \")"
   ]
  },
  {
   "cell_type": "code",
   "execution_count": 34,
   "id": "c41f2b4d",
   "metadata": {},
   "outputs": [
    {
     "data": {
      "text/plain": [
       "36"
      ]
     },
     "execution_count": 34,
     "metadata": {},
     "output_type": "execute_result"
    }
   ],
   "source": [
    "len(keyword.kwlist)"
   ]
  }
 ],
 "metadata": {
  "kernelspec": {
   "display_name": "Python 3 (ipykernel)",
   "language": "python",
   "name": "python3"
  },
  "language_info": {
   "codemirror_mode": {
    "name": "ipython",
    "version": 3
   },
   "file_extension": ".py",
   "mimetype": "text/x-python",
   "name": "python",
   "nbconvert_exporter": "python",
   "pygments_lexer": "ipython3",
   "version": "3.9.12"
  }
 },
 "nbformat": 4,
 "nbformat_minor": 5
}
