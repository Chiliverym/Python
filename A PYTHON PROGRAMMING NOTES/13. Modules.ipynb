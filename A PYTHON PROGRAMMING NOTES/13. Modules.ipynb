{
 "cells": [
  {
   "cell_type": "markdown",
   "id": "51729cc0",
   "metadata": {},
   "source": [
    "# Python Modules\n",
    ">A module is file containing Python definitions and statements.\n",
    "\n",
    ">A module can define functions,classes and variables. A module can also include runnable code.\n",
    "\n",
    ">Grouping related code into a module makes the code easier to understand and use."
   ]
  },
  {
   "cell_type": "markdown",
   "id": "61020dcc",
   "metadata": {},
   "source": [
    "## 1. User Defined Module"
   ]
  },
  {
   "cell_type": "code",
   "execution_count": 1,
   "id": "843ff62d",
   "metadata": {},
   "outputs": [],
   "source": [
    "import testmodule as tm"
   ]
  },
  {
   "cell_type": "code",
   "execution_count": 2,
   "id": "8c916efe",
   "metadata": {},
   "outputs": [
    {
     "data": {
      "text/plain": [
       "11"
      ]
     },
     "execution_count": 2,
     "metadata": {},
     "output_type": "execute_result"
    }
   ],
   "source": [
    "tm.add(5,6)"
   ]
  },
  {
   "cell_type": "code",
   "execution_count": 3,
   "id": "4e694450",
   "metadata": {},
   "outputs": [
    {
     "data": {
      "text/plain": [
       "8599.26"
      ]
     },
     "execution_count": 3,
     "metadata": {},
     "output_type": "execute_result"
    }
   ],
   "source": [
    "tm.add(708.36,7890.90)"
   ]
  },
  {
   "cell_type": "code",
   "execution_count": 4,
   "id": "25cfad1c",
   "metadata": {},
   "outputs": [
    {
     "data": {
      "text/plain": [
       "35"
      ]
     },
     "execution_count": 4,
     "metadata": {},
     "output_type": "execute_result"
    }
   ],
   "source": [
    "tm.sub(100,65)"
   ]
  },
  {
   "cell_type": "code",
   "execution_count": 5,
   "id": "f3d2e897",
   "metadata": {},
   "outputs": [
    {
     "data": {
      "text/plain": [
       "3400"
      ]
     },
     "execution_count": 5,
     "metadata": {},
     "output_type": "execute_result"
    }
   ],
   "source": [
    "tm.mul(100,34)"
   ]
  },
  {
   "cell_type": "code",
   "execution_count": 6,
   "id": "d52d18de",
   "metadata": {},
   "outputs": [
    {
     "data": {
      "text/plain": [
       "4.333333333333333"
      ]
     },
     "execution_count": 6,
     "metadata": {},
     "output_type": "execute_result"
    }
   ],
   "source": [
    "tm.div(13,3)"
   ]
  },
  {
   "cell_type": "code",
   "execution_count": 7,
   "id": "db5ceceb",
   "metadata": {},
   "outputs": [
    {
     "data": {
      "text/plain": [
       "3"
      ]
     },
     "execution_count": 7,
     "metadata": {},
     "output_type": "execute_result"
    }
   ],
   "source": [
    "tm.flrdiv(10,3) # It returns the quotient"
   ]
  },
  {
   "cell_type": "code",
   "execution_count": 8,
   "id": "8d7bf9c3",
   "metadata": {},
   "outputs": [
    {
     "data": {
      "text/plain": [
       "1280000000"
      ]
     },
     "execution_count": 8,
     "metadata": {},
     "output_type": "execute_result"
    }
   ],
   "source": [
    "tm.power(20,7)"
   ]
  },
  {
   "cell_type": "code",
   "execution_count": 9,
   "id": "b4013e15",
   "metadata": {},
   "outputs": [
    {
     "data": {
      "text/plain": [
       "6"
      ]
     },
     "execution_count": 9,
     "metadata": {},
     "output_type": "execute_result"
    }
   ],
   "source": [
    "tm.mod(20,7)  #It returns the remainder"
   ]
  },
  {
   "cell_type": "code",
   "execution_count": 10,
   "id": "ad93ee07",
   "metadata": {},
   "outputs": [
    {
     "data": {
      "text/plain": [
       "['__builtins__',\n",
       " '__cached__',\n",
       " '__doc__',\n",
       " '__file__',\n",
       " '__loader__',\n",
       " '__name__',\n",
       " '__package__',\n",
       " '__spec__',\n",
       " 'add',\n",
       " 'div',\n",
       " 'flrdiv',\n",
       " 'mod',\n",
       " 'mul',\n",
       " 'power',\n",
       " 'sub']"
      ]
     },
     "execution_count": 10,
     "metadata": {},
     "output_type": "execute_result"
    }
   ],
   "source": [
    "dir(tm)"
   ]
  },
  {
   "cell_type": "code",
   "execution_count": 11,
   "id": "2c5ec8e1",
   "metadata": {},
   "outputs": [],
   "source": [
    "def factorial(n):\n",
    "    f=1\n",
    "    for i in range(1,n+1):\n",
    "        f = f * i\n",
    "    return f"
   ]
  },
  {
   "cell_type": "code",
   "execution_count": 12,
   "id": "d47fd905",
   "metadata": {},
   "outputs": [
    {
     "data": {
      "text/plain": [
       "120"
      ]
     },
     "execution_count": 12,
     "metadata": {},
     "output_type": "execute_result"
    }
   ],
   "source": [
    "factorial(5)"
   ]
  },
  {
   "cell_type": "code",
   "execution_count": 13,
   "id": "3793bb35",
   "metadata": {},
   "outputs": [
    {
     "ename": "NameError",
     "evalue": "name 'add' is not defined",
     "output_type": "error",
     "traceback": [
      "\u001b[1;31m---------------------------------------------------------------------------\u001b[0m",
      "\u001b[1;31mNameError\u001b[0m                                 Traceback (most recent call last)",
      "Input \u001b[1;32mIn [13]\u001b[0m, in \u001b[0;36m<cell line: 1>\u001b[1;34m()\u001b[0m\n\u001b[0;32m      2\u001b[0m a\u001b[38;5;241m=\u001b[39m\u001b[38;5;241m7\u001b[39m\n\u001b[0;32m      3\u001b[0m b\u001b[38;5;241m=\u001b[39m\u001b[38;5;241m4\u001b[39m\n\u001b[1;32m----> 4\u001b[0m \u001b[38;5;28mprint\u001b[39m(\u001b[38;5;124mf\u001b[39m\u001b[38;5;124m\"\u001b[39m\u001b[38;5;124mAddition of A and B is \u001b[39m\u001b[38;5;132;01m{\u001b[39;00madd(a,b)\u001b[38;5;132;01m}\u001b[39;00m\u001b[38;5;124m\"\u001b[39m)\n\u001b[0;32m      5\u001b[0m \u001b[38;5;28mprint\u001b[39m(\u001b[38;5;124mf\u001b[39m\u001b[38;5;124m\"\u001b[39m\u001b[38;5;124mSubtraction of A and B is \u001b[39m\u001b[38;5;132;01m{\u001b[39;00msub(a,b)\u001b[38;5;132;01m}\u001b[39;00m\u001b[38;5;124m\"\u001b[39m)\n\u001b[0;32m      6\u001b[0m \u001b[38;5;28mprint\u001b[39m(\u001b[38;5;124mf\u001b[39m\u001b[38;5;124m\"\u001b[39m\u001b[38;5;124mMultiplication of A and B is \u001b[39m\u001b[38;5;132;01m{\u001b[39;00mmul(a,b)\u001b[38;5;132;01m}\u001b[39;00m\u001b[38;5;124m\"\u001b[39m)\n",
      "\u001b[1;31mNameError\u001b[0m: name 'add' is not defined"
     ]
    }
   ],
   "source": [
    "if (__name__=='__main__'):\n",
    "    a=7\n",
    "    b=4\n",
    "    print(f\"Addition of A and B is {add(a,b)}\")\n",
    "    print(f\"Subtraction of A and B is {sub(a,b)}\")\n",
    "    print(f\"Multiplication of A and B is {mul(a,b)}\")\n",
    "    print(f\"Division of A and B is {div(a,b)}\")\n",
    "    print(f\"Floor Division of A and B is {flrdiv(a,b)}\")\n",
    "    print(f\"Power of A and B is {power(a,b)}\")\n",
    "          "
   ]
  },
  {
   "cell_type": "code",
   "execution_count": null,
   "id": "514725e8",
   "metadata": {},
   "outputs": [],
   "source": []
  },
  {
   "cell_type": "markdown",
   "id": "e553f87a",
   "metadata": {},
   "source": [
    "## 2. External module"
   ]
  },
  {
   "cell_type": "markdown",
   "id": "45aa1035",
   "metadata": {},
   "source": [
    "### Datetime module"
   ]
  },
  {
   "cell_type": "code",
   "execution_count": 16,
   "id": "482db98f",
   "metadata": {},
   "outputs": [],
   "source": [
    "import datetime as dt"
   ]
  },
  {
   "cell_type": "code",
   "execution_count": 17,
   "id": "a56e5795",
   "metadata": {},
   "outputs": [
    {
     "data": {
      "text/plain": [
       "['MAXYEAR',\n",
       " 'MINYEAR',\n",
       " '__all__',\n",
       " '__builtins__',\n",
       " '__cached__',\n",
       " '__doc__',\n",
       " '__file__',\n",
       " '__loader__',\n",
       " '__name__',\n",
       " '__package__',\n",
       " '__spec__',\n",
       " 'date',\n",
       " 'datetime',\n",
       " 'datetime_CAPI',\n",
       " 'sys',\n",
       " 'time',\n",
       " 'timedelta',\n",
       " 'timezone',\n",
       " 'tzinfo']"
      ]
     },
     "execution_count": 17,
     "metadata": {},
     "output_type": "execute_result"
    }
   ],
   "source": [
    "dir(dt)"
   ]
  },
  {
   "cell_type": "code",
   "execution_count": 18,
   "id": "fa19f5b2",
   "metadata": {},
   "outputs": [
    {
     "name": "stdout",
     "output_type": "stream",
     "text": [
      "Help on class date in module datetime:\n",
      "\n",
      "class date(builtins.object)\n",
      " |  date(year, month, day) --> date object\n",
      " |  \n",
      " |  Methods defined here:\n",
      " |  \n",
      " |  __add__(self, value, /)\n",
      " |      Return self+value.\n",
      " |  \n",
      " |  __eq__(self, value, /)\n",
      " |      Return self==value.\n",
      " |  \n",
      " |  __format__(...)\n",
      " |      Formats self with strftime.\n",
      " |  \n",
      " |  __ge__(self, value, /)\n",
      " |      Return self>=value.\n",
      " |  \n",
      " |  __getattribute__(self, name, /)\n",
      " |      Return getattr(self, name).\n",
      " |  \n",
      " |  __gt__(self, value, /)\n",
      " |      Return self>value.\n",
      " |  \n",
      " |  __hash__(self, /)\n",
      " |      Return hash(self).\n",
      " |  \n",
      " |  __le__(self, value, /)\n",
      " |      Return self<=value.\n",
      " |  \n",
      " |  __lt__(self, value, /)\n",
      " |      Return self<value.\n",
      " |  \n",
      " |  __ne__(self, value, /)\n",
      " |      Return self!=value.\n",
      " |  \n",
      " |  __radd__(self, value, /)\n",
      " |      Return value+self.\n",
      " |  \n",
      " |  __reduce__(...)\n",
      " |      __reduce__() -> (cls, state)\n",
      " |  \n",
      " |  __repr__(self, /)\n",
      " |      Return repr(self).\n",
      " |  \n",
      " |  __rsub__(self, value, /)\n",
      " |      Return value-self.\n",
      " |  \n",
      " |  __str__(self, /)\n",
      " |      Return str(self).\n",
      " |  \n",
      " |  __sub__(self, value, /)\n",
      " |      Return self-value.\n",
      " |  \n",
      " |  ctime(...)\n",
      " |      Return ctime() style string.\n",
      " |  \n",
      " |  isocalendar(...)\n",
      " |      Return a named tuple containing ISO year, week number, and weekday.\n",
      " |  \n",
      " |  isoformat(...)\n",
      " |      Return string in ISO 8601 format, YYYY-MM-DD.\n",
      " |  \n",
      " |  isoweekday(...)\n",
      " |      Return the day of the week represented by the date.\n",
      " |      Monday == 1 ... Sunday == 7\n",
      " |  \n",
      " |  replace(...)\n",
      " |      Return date with new specified fields.\n",
      " |  \n",
      " |  strftime(...)\n",
      " |      format -> strftime() style string.\n",
      " |  \n",
      " |  timetuple(...)\n",
      " |      Return time tuple, compatible with time.localtime().\n",
      " |  \n",
      " |  toordinal(...)\n",
      " |      Return proleptic Gregorian ordinal.  January 1 of year 1 is day 1.\n",
      " |  \n",
      " |  weekday(...)\n",
      " |      Return the day of the week represented by the date.\n",
      " |      Monday == 0 ... Sunday == 6\n",
      " |  \n",
      " |  ----------------------------------------------------------------------\n",
      " |  Class methods defined here:\n",
      " |  \n",
      " |  fromisocalendar(...) from builtins.type\n",
      " |      int, int, int -> Construct a date from the ISO year, week number and weekday.\n",
      " |      \n",
      " |      This is the inverse of the date.isocalendar() function\n",
      " |  \n",
      " |  fromisoformat(...) from builtins.type\n",
      " |      str -> Construct a date from the output of date.isoformat()\n",
      " |  \n",
      " |  fromordinal(...) from builtins.type\n",
      " |      int -> date corresponding to a proleptic Gregorian ordinal.\n",
      " |  \n",
      " |  fromtimestamp(timestamp, /) from builtins.type\n",
      " |      Create a date from a POSIX timestamp.\n",
      " |      \n",
      " |      The timestamp is a number, e.g. created via time.time(), that is interpreted\n",
      " |      as local time.\n",
      " |  \n",
      " |  today(...) from builtins.type\n",
      " |      Current date or datetime:  same as self.__class__.fromtimestamp(time.time()).\n",
      " |  \n",
      " |  ----------------------------------------------------------------------\n",
      " |  Static methods defined here:\n",
      " |  \n",
      " |  __new__(*args, **kwargs) from builtins.type\n",
      " |      Create and return a new object.  See help(type) for accurate signature.\n",
      " |  \n",
      " |  ----------------------------------------------------------------------\n",
      " |  Data descriptors defined here:\n",
      " |  \n",
      " |  day\n",
      " |  \n",
      " |  month\n",
      " |  \n",
      " |  year\n",
      " |  \n",
      " |  ----------------------------------------------------------------------\n",
      " |  Data and other attributes defined here:\n",
      " |  \n",
      " |  max = datetime.date(9999, 12, 31)\n",
      " |  \n",
      " |  min = datetime.date(1, 1, 1)\n",
      " |  \n",
      " |  resolution = datetime.timedelta(days=1)\n",
      "\n"
     ]
    }
   ],
   "source": [
    "help(dt.date)"
   ]
  },
  {
   "cell_type": "code",
   "execution_count": 19,
   "id": "c7146b51",
   "metadata": {},
   "outputs": [],
   "source": [
    "bat = dt.date(2022,8,22)"
   ]
  },
  {
   "cell_type": "code",
   "execution_count": 20,
   "id": "f6b3e52f",
   "metadata": {},
   "outputs": [
    {
     "name": "stdout",
     "output_type": "stream",
     "text": [
      "2022-08-22\n"
     ]
    }
   ],
   "source": [
    "print(bat)"
   ]
  },
  {
   "cell_type": "code",
   "execution_count": 21,
   "id": "22aa0a70",
   "metadata": {},
   "outputs": [
    {
     "data": {
      "text/plain": [
       "datetime.date"
      ]
     },
     "execution_count": 21,
     "metadata": {},
     "output_type": "execute_result"
    }
   ],
   "source": [
    "type(bat)"
   ]
  },
  {
   "cell_type": "code",
   "execution_count": 22,
   "id": "36648e4d",
   "metadata": {},
   "outputs": [
    {
     "data": {
      "text/plain": [
       "2022"
      ]
     },
     "execution_count": 22,
     "metadata": {},
     "output_type": "execute_result"
    }
   ],
   "source": [
    "bat.year"
   ]
  },
  {
   "cell_type": "code",
   "execution_count": 23,
   "id": "178d491d",
   "metadata": {},
   "outputs": [
    {
     "data": {
      "text/plain": [
       "22"
      ]
     },
     "execution_count": 23,
     "metadata": {},
     "output_type": "execute_result"
    }
   ],
   "source": [
    "bat.day"
   ]
  },
  {
   "cell_type": "code",
   "execution_count": 24,
   "id": "73aff0ff",
   "metadata": {},
   "outputs": [
    {
     "data": {
      "text/plain": [
       "8"
      ]
     },
     "execution_count": 24,
     "metadata": {},
     "output_type": "execute_result"
    }
   ],
   "source": [
    "bat.month"
   ]
  },
  {
   "cell_type": "markdown",
   "id": "b07ab4b7",
   "metadata": {},
   "source": [
    "#### Date after the 100 days"
   ]
  },
  {
   "cell_type": "code",
   "execution_count": 25,
   "id": "0328243a",
   "metadata": {},
   "outputs": [],
   "source": [
    "x = dt.timedelta(100)"
   ]
  },
  {
   "cell_type": "code",
   "execution_count": 26,
   "id": "c63fcd1f",
   "metadata": {},
   "outputs": [
    {
     "data": {
      "text/plain": [
       "datetime.timedelta(days=100)"
      ]
     },
     "execution_count": 26,
     "metadata": {},
     "output_type": "execute_result"
    }
   ],
   "source": [
    "x"
   ]
  },
  {
   "cell_type": "code",
   "execution_count": 27,
   "id": "60867121",
   "metadata": {},
   "outputs": [
    {
     "name": "stdout",
     "output_type": "stream",
     "text": [
      "2022-11-30\n"
     ]
    }
   ],
   "source": [
    "print(bat + x)"
   ]
  },
  {
   "cell_type": "markdown",
   "id": "74af8c5a",
   "metadata": {},
   "source": [
    "#### Date before 100 days"
   ]
  },
  {
   "cell_type": "code",
   "execution_count": 29,
   "id": "1a24e803",
   "metadata": {},
   "outputs": [],
   "source": [
    "y = dt.timedelta(-100)"
   ]
  },
  {
   "cell_type": "code",
   "execution_count": 30,
   "id": "2dac7a18",
   "metadata": {},
   "outputs": [
    {
     "name": "stdout",
     "output_type": "stream",
     "text": [
      "2022-05-14\n"
     ]
    }
   ],
   "source": [
    "print(bat + y)"
   ]
  },
  {
   "cell_type": "code",
   "execution_count": 34,
   "id": "1bc5945d",
   "metadata": {},
   "outputs": [
    {
     "name": "stdout",
     "output_type": "stream",
     "text": [
      "Monday,August22,2022\n"
     ]
    }
   ],
   "source": [
    "print(bat.strftime(\"%A,%B%d,%Y\"))"
   ]
  },
  {
   "cell_type": "code",
   "execution_count": 35,
   "id": "0a182caa",
   "metadata": {},
   "outputs": [
    {
     "name": "stdout",
     "output_type": "stream",
     "text": [
      "Mon,Aug22,2022\n"
     ]
    }
   ],
   "source": [
    "print(bat.strftime(\"%a,%b%d,%Y\"))"
   ]
  },
  {
   "cell_type": "code",
   "execution_count": 36,
   "id": "e8d9b2fd",
   "metadata": {},
   "outputs": [
    {
     "name": "stdout",
     "output_type": "stream",
     "text": [
      "Mon,Aug22,22\n"
     ]
    }
   ],
   "source": [
    "print(bat.strftime(\"%a,%b%d,%y\"))"
   ]
  },
  {
   "cell_type": "code",
   "execution_count": 39,
   "id": "98ea2290",
   "metadata": {},
   "outputs": [],
   "source": [
    "string = \"Batch started on {:%A,%B %d,%Y}.\""
   ]
  },
  {
   "cell_type": "code",
   "execution_count": 40,
   "id": "40b5570c",
   "metadata": {},
   "outputs": [
    {
     "data": {
      "text/plain": [
       "'Batch started on Monday,August 22,2022.'"
      ]
     },
     "execution_count": 40,
     "metadata": {},
     "output_type": "execute_result"
    }
   ],
   "source": [
    "string.format(bat)"
   ]
  },
  {
   "cell_type": "code",
   "execution_count": 41,
   "id": "dca4177b",
   "metadata": {},
   "outputs": [],
   "source": [
    "batchdate = dt.date(2022,8,22)\n",
    "battime = dt.time(19,10,0)\n",
    "batdt = dt.datetime(2022,8,22,19,10,0)"
   ]
  },
  {
   "cell_type": "code",
   "execution_count": 43,
   "id": "fe225465",
   "metadata": {},
   "outputs": [
    {
     "name": "stdout",
     "output_type": "stream",
     "text": [
      "2022-08-22\n"
     ]
    }
   ],
   "source": [
    "print(batchdate)"
   ]
  },
  {
   "cell_type": "code",
   "execution_count": 44,
   "id": "6cd1f481",
   "metadata": {},
   "outputs": [
    {
     "name": "stdout",
     "output_type": "stream",
     "text": [
      "19:10:00\n"
     ]
    }
   ],
   "source": [
    "print(battime)"
   ]
  },
  {
   "cell_type": "code",
   "execution_count": 45,
   "id": "a9341885",
   "metadata": {},
   "outputs": [
    {
     "name": "stdout",
     "output_type": "stream",
     "text": [
      "2022-08-22 19:10:00\n"
     ]
    }
   ],
   "source": [
    "print(batdt)"
   ]
  },
  {
   "cell_type": "code",
   "execution_count": 46,
   "id": "f6ac0b98",
   "metadata": {},
   "outputs": [
    {
     "name": "stdout",
     "output_type": "stream",
     "text": [
      "19\n"
     ]
    }
   ],
   "source": [
    "print(battime.hour)"
   ]
  },
  {
   "cell_type": "code",
   "execution_count": 47,
   "id": "9f3a14f8",
   "metadata": {},
   "outputs": [
    {
     "name": "stdout",
     "output_type": "stream",
     "text": [
      "10\n"
     ]
    }
   ],
   "source": [
    "print(battime.minute)"
   ]
  },
  {
   "cell_type": "code",
   "execution_count": 48,
   "id": "9603ff8f",
   "metadata": {},
   "outputs": [
    {
     "name": "stdout",
     "output_type": "stream",
     "text": [
      "0\n"
     ]
    }
   ],
   "source": [
    "print(battime.second)"
   ]
  },
  {
   "cell_type": "code",
   "execution_count": 49,
   "id": "58b1d474",
   "metadata": {},
   "outputs": [],
   "source": [
    "now = dt.datetime.today()"
   ]
  },
  {
   "cell_type": "code",
   "execution_count": 50,
   "id": "315ba3db",
   "metadata": {},
   "outputs": [
    {
     "name": "stdout",
     "output_type": "stream",
     "text": [
      "2022-09-17 16:17:33.503181\n"
     ]
    }
   ],
   "source": [
    "print(now)"
   ]
  },
  {
   "cell_type": "code",
   "execution_count": 51,
   "id": "a3302c86",
   "metadata": {},
   "outputs": [
    {
     "name": "stdout",
     "output_type": "stream",
     "text": [
      "503181\n"
     ]
    }
   ],
   "source": [
    "print(now.microsecond)"
   ]
  },
  {
   "cell_type": "code",
   "execution_count": 52,
   "id": "1e4d15c4",
   "metadata": {},
   "outputs": [],
   "source": [
    "z = \"17/08/2022\""
   ]
  },
  {
   "cell_type": "code",
   "execution_count": 53,
   "id": "c91bc83d",
   "metadata": {},
   "outputs": [],
   "source": [
    "a = dt.datetime.strptime(z,\"%d/%m/%Y\")"
   ]
  },
  {
   "cell_type": "code",
   "execution_count": 54,
   "id": "33be346e",
   "metadata": {},
   "outputs": [
    {
     "name": "stdout",
     "output_type": "stream",
     "text": [
      "2022-08-17 00:00:00\n"
     ]
    }
   ],
   "source": [
    "print(a)"
   ]
  },
  {
   "cell_type": "markdown",
   "id": "233ef3bb",
   "metadata": {},
   "source": [
    "### Math module"
   ]
  },
  {
   "cell_type": "code",
   "execution_count": 55,
   "id": "10c05ef3",
   "metadata": {},
   "outputs": [],
   "source": [
    "import math as m"
   ]
  },
  {
   "cell_type": "code",
   "execution_count": 56,
   "id": "5ef47feb",
   "metadata": {},
   "outputs": [
    {
     "data": {
      "text/plain": [
       "5.0"
      ]
     },
     "execution_count": 56,
     "metadata": {},
     "output_type": "execute_result"
    }
   ],
   "source": [
    "m.sqrt(25)"
   ]
  },
  {
   "cell_type": "code",
   "execution_count": 57,
   "id": "57cc1996",
   "metadata": {},
   "outputs": [
    {
     "data": {
      "text/plain": [
       "8.12403840463596"
      ]
     },
     "execution_count": 57,
     "metadata": {},
     "output_type": "execute_result"
    }
   ],
   "source": [
    "z = 66\n",
    "m.sqrt(z)"
   ]
  },
  {
   "cell_type": "code",
   "execution_count": 58,
   "id": "6f30c121",
   "metadata": {},
   "outputs": [
    {
     "data": {
      "text/plain": [
       "8.0"
      ]
     },
     "execution_count": 58,
     "metadata": {},
     "output_type": "execute_result"
    }
   ],
   "source": [
    "m.pow(2,3)"
   ]
  },
  {
   "cell_type": "code",
   "execution_count": 59,
   "id": "a5445663",
   "metadata": {},
   "outputs": [
    {
     "data": {
      "text/plain": [
       "3628800"
      ]
     },
     "execution_count": 59,
     "metadata": {},
     "output_type": "execute_result"
    }
   ],
   "source": [
    "m.factorial(10)"
   ]
  },
  {
   "cell_type": "code",
   "execution_count": 60,
   "id": "a9293a60",
   "metadata": {},
   "outputs": [
    {
     "data": {
      "text/plain": [
       "3.141592653589793"
      ]
     },
     "execution_count": 60,
     "metadata": {},
     "output_type": "execute_result"
    }
   ],
   "source": [
    "m.pi"
   ]
  },
  {
   "cell_type": "code",
   "execution_count": 61,
   "id": "d79ade36",
   "metadata": {},
   "outputs": [
    {
     "data": {
      "text/plain": [
       "2.718281828459045"
      ]
     },
     "execution_count": 61,
     "metadata": {},
     "output_type": "execute_result"
    }
   ],
   "source": [
    "m.e"
   ]
  },
  {
   "cell_type": "code",
   "execution_count": 62,
   "id": "9c5ce36d",
   "metadata": {},
   "outputs": [
    {
     "data": {
      "text/plain": [
       "5"
      ]
     },
     "execution_count": 62,
     "metadata": {},
     "output_type": "execute_result"
    }
   ],
   "source": [
    "m.ceil(4.5867)"
   ]
  },
  {
   "cell_type": "code",
   "execution_count": 63,
   "id": "0b5c9782",
   "metadata": {},
   "outputs": [
    {
     "data": {
      "text/plain": [
       "4"
      ]
     },
     "execution_count": 63,
     "metadata": {},
     "output_type": "execute_result"
    }
   ],
   "source": [
    "m.floor(4.5867)"
   ]
  },
  {
   "cell_type": "code",
   "execution_count": 65,
   "id": "103a242a",
   "metadata": {},
   "outputs": [
    {
     "data": {
      "text/plain": [
       "0.49991445538358353"
      ]
     },
     "execution_count": 65,
     "metadata": {},
     "output_type": "execute_result"
    }
   ],
   "source": [
    "m.sin(0.5235)"
   ]
  },
  {
   "cell_type": "code",
   "execution_count": 66,
   "id": "b2799f9e",
   "metadata": {},
   "outputs": [
    {
     "data": {
      "text/plain": [
       "0.866074787358768"
      ]
     },
     "execution_count": 66,
     "metadata": {},
     "output_type": "execute_result"
    }
   ],
   "source": [
    "m.cos(0.5235)"
   ]
  },
  {
   "cell_type": "code",
   "execution_count": 67,
   "id": "2933f098",
   "metadata": {},
   "outputs": [
    {
     "data": {
      "text/plain": [
       "2.302585092994046"
      ]
     },
     "execution_count": 67,
     "metadata": {},
     "output_type": "execute_result"
    }
   ],
   "source": [
    "m.log(10)"
   ]
  },
  {
   "cell_type": "code",
   "execution_count": 68,
   "id": "e54673b4",
   "metadata": {},
   "outputs": [
    {
     "data": {
      "text/plain": [
       "1.0"
      ]
     },
     "execution_count": 68,
     "metadata": {},
     "output_type": "execute_result"
    }
   ],
   "source": [
    "m.log10(10)"
   ]
  },
  {
   "cell_type": "code",
   "execution_count": 69,
   "id": "4904bb0f",
   "metadata": {},
   "outputs": [
    {
     "data": {
      "text/plain": [
       "22026.465794806718"
      ]
     },
     "execution_count": 69,
     "metadata": {},
     "output_type": "execute_result"
    }
   ],
   "source": [
    "m.exp(10)"
   ]
  },
  {
   "cell_type": "code",
   "execution_count": 70,
   "id": "897d609d",
   "metadata": {},
   "outputs": [
    {
     "data": {
      "text/plain": [
       "22026.465794806703"
      ]
     },
     "execution_count": 70,
     "metadata": {},
     "output_type": "execute_result"
    }
   ],
   "source": [
    "m.e**10"
   ]
  },
  {
   "cell_type": "markdown",
   "id": "3f26017c",
   "metadata": {},
   "source": [
    "### Statistics module"
   ]
  },
  {
   "cell_type": "code",
   "execution_count": 72,
   "id": "f809e594",
   "metadata": {},
   "outputs": [],
   "source": [
    "import statistics as st"
   ]
  },
  {
   "cell_type": "code",
   "execution_count": 73,
   "id": "b469c9c7",
   "metadata": {},
   "outputs": [],
   "source": [
    "x=[1,2,4,3,1,3,4,5,4,3,2,1]"
   ]
  },
  {
   "cell_type": "code",
   "execution_count": 74,
   "id": "98d5c86f",
   "metadata": {},
   "outputs": [
    {
     "data": {
      "text/plain": [
       "2.75"
      ]
     },
     "execution_count": 74,
     "metadata": {},
     "output_type": "execute_result"
    }
   ],
   "source": [
    "st.mean(x)"
   ]
  },
  {
   "cell_type": "code",
   "execution_count": 76,
   "id": "553ba36a",
   "metadata": {},
   "outputs": [
    {
     "data": {
      "text/plain": [
       "3.0"
      ]
     },
     "execution_count": 76,
     "metadata": {},
     "output_type": "execute_result"
    }
   ],
   "source": [
    "st.median(x)"
   ]
  },
  {
   "cell_type": "code",
   "execution_count": 77,
   "id": "4ff188de",
   "metadata": {},
   "outputs": [
    {
     "data": {
      "text/plain": [
       "1"
      ]
     },
     "execution_count": 77,
     "metadata": {},
     "output_type": "execute_result"
    }
   ],
   "source": [
    "st.mode(x)"
   ]
  },
  {
   "cell_type": "code",
   "execution_count": 78,
   "id": "604dee44",
   "metadata": {},
   "outputs": [
    {
     "data": {
      "text/plain": [
       "1.3568010505999362"
      ]
     },
     "execution_count": 78,
     "metadata": {},
     "output_type": "execute_result"
    }
   ],
   "source": [
    "st.stdev(x)"
   ]
  },
  {
   "cell_type": "code",
   "execution_count": 79,
   "id": "c6ff8ce4",
   "metadata": {},
   "outputs": [],
   "source": [
    "a = st.mean(x)"
   ]
  },
  {
   "cell_type": "code",
   "execution_count": 80,
   "id": "1269c41c",
   "metadata": {},
   "outputs": [
    {
     "data": {
      "text/plain": [
       "1.8409090909090908"
      ]
     },
     "execution_count": 80,
     "metadata": {},
     "output_type": "execute_result"
    }
   ],
   "source": [
    "st.variance(x,a)"
   ]
  },
  {
   "cell_type": "code",
   "execution_count": 81,
   "id": "50bfd663",
   "metadata": {},
   "outputs": [
    {
     "data": {
      "text/plain": [
       "5.5"
      ]
     },
     "execution_count": 81,
     "metadata": {},
     "output_type": "execute_result"
    }
   ],
   "source": [
    "st.mean([2,5,6,9])"
   ]
  },
  {
   "cell_type": "code",
   "execution_count": 82,
   "id": "ce98177d",
   "metadata": {},
   "outputs": [
    {
     "data": {
      "text/plain": [
       "3"
      ]
     },
     "execution_count": 82,
     "metadata": {},
     "output_type": "execute_result"
    }
   ],
   "source": [
    "st.median([1,2,3,8,9])"
   ]
  },
  {
   "cell_type": "code",
   "execution_count": 83,
   "id": "4bad8c66",
   "metadata": {},
   "outputs": [
    {
     "data": {
      "text/plain": [
       "2"
      ]
     },
     "execution_count": 83,
     "metadata": {},
     "output_type": "execute_result"
    }
   ],
   "source": [
    "st.mode([2,5,3,2,8,3,9,4,2,5,6])"
   ]
  },
  {
   "cell_type": "code",
   "execution_count": 84,
   "id": "2ef99c41",
   "metadata": {},
   "outputs": [
    {
     "data": {
      "text/plain": [
       "1.3693063937629153"
      ]
     },
     "execution_count": 84,
     "metadata": {},
     "output_type": "execute_result"
    }
   ],
   "source": [
    "st.stdev([1,1.5,2,2.5,3,3.5,4,4.5,5])"
   ]
  },
  {
   "cell_type": "markdown",
   "id": "b677d71f",
   "metadata": {},
   "source": [
    "## 3. Internal Modules"
   ]
  },
  {
   "cell_type": "code",
   "execution_count": 1,
   "id": "1599ac41",
   "metadata": {},
   "outputs": [],
   "source": [
    "import os"
   ]
  },
  {
   "cell_type": "code",
   "execution_count": 4,
   "id": "95a329c4",
   "metadata": {},
   "outputs": [
    {
     "name": "stdout",
     "output_type": "stream",
     "text": [
      "['DirEntry', 'F_OK', 'GenericAlias', 'Mapping', 'MutableMapping', 'O_APPEND', 'O_BINARY', 'O_CREAT', 'O_EXCL', 'O_NOINHERIT', 'O_RANDOM', 'O_RDONLY', 'O_RDWR', 'O_SEQUENTIAL', 'O_SHORT_LIVED', 'O_TEMPORARY', 'O_TEXT', 'O_TRUNC', 'O_WRONLY', 'P_DETACH', 'P_NOWAIT', 'P_NOWAITO', 'P_OVERLAY', 'P_WAIT', 'PathLike', 'R_OK', 'SEEK_CUR', 'SEEK_END', 'SEEK_SET', 'TMP_MAX', 'W_OK', 'X_OK', '_AddedDllDirectory', '_Environ', '__all__', '__builtins__', '__cached__', '__doc__', '__file__', '__loader__', '__name__', '__package__', '__spec__', '_check_methods', '_execvpe', '_exists', '_exit', '_fspath', '_get_exports_list', '_walk', '_wrap_close', 'abc', 'abort', 'access', 'add_dll_directory', 'altsep', 'chdir', 'chmod', 'close', 'closerange', 'cpu_count', 'curdir', 'defpath', 'device_encoding', 'devnull', 'dup', 'dup2', 'environ', 'error', 'execl', 'execle', 'execlp', 'execlpe', 'execv', 'execve', 'execvp', 'execvpe', 'extsep', 'fdopen', 'fsdecode', 'fsencode', 'fspath', 'fstat', 'fsync', 'ftruncate', 'get_exec_path', 'get_handle_inheritable', 'get_inheritable', 'get_terminal_size', 'getcwd', 'getcwdb', 'getenv', 'getlogin', 'getpid', 'getppid', 'isatty', 'kill', 'linesep', 'link', 'listdir', 'lseek', 'lstat', 'makedirs', 'mkdir', 'name', 'open', 'pardir', 'path', 'pathsep', 'pipe', 'popen', 'putenv', 'read', 'readlink', 'remove', 'removedirs', 'rename', 'renames', 'replace', 'rmdir', 'scandir', 'sep', 'set_handle_inheritable', 'set_inheritable', 'spawnl', 'spawnle', 'spawnv', 'spawnve', 'st', 'startfile', 'stat', 'stat_result', 'statvfs_result', 'strerror', 'supports_bytes_environ', 'supports_dir_fd', 'supports_effective_ids', 'supports_fd', 'supports_follow_symlinks', 'symlink', 'sys', 'system', 'terminal_size', 'times', 'times_result', 'truncate', 'umask', 'uname_result', 'unlink', 'unsetenv', 'urandom', 'utime', 'waitpid', 'waitstatus_to_exitcode', 'walk', 'write']\n"
     ]
    }
   ],
   "source": [
    "print(dir(os))"
   ]
  },
  {
   "cell_type": "code",
   "execution_count": 5,
   "id": "3165c9d1",
   "metadata": {},
   "outputs": [
    {
     "data": {
      "text/plain": [
       "'C:\\\\Users\\\\hp\\\\Desktop\\\\ITVedant\\\\Python'"
      ]
     },
     "execution_count": 5,
     "metadata": {},
     "output_type": "execute_result"
    }
   ],
   "source": [
    "os.getcwd()  #current working directory"
   ]
  },
  {
   "cell_type": "code",
   "execution_count": 6,
   "id": "af9ff3cc",
   "metadata": {},
   "outputs": [],
   "source": [
    "os.chdir('C:\\\\Users\\\\hp\\\\Desktop\\\\ITVedant')  #change current directory"
   ]
  },
  {
   "cell_type": "code",
   "execution_count": 7,
   "id": "c2561e14",
   "metadata": {},
   "outputs": [
    {
     "data": {
      "text/plain": [
       "'C:\\\\Users\\\\hp\\\\Desktop\\\\ITVedant'"
      ]
     },
     "execution_count": 7,
     "metadata": {},
     "output_type": "execute_result"
    }
   ],
   "source": [
    "os.getcwd()"
   ]
  },
  {
   "cell_type": "code",
   "execution_count": 8,
   "id": "513fc060",
   "metadata": {},
   "outputs": [],
   "source": [
    "os.chdir('C:\\\\Users\\\\hp\\\\Desktop\\\\ITVedant\\\\Python')"
   ]
  },
  {
   "cell_type": "code",
   "execution_count": 9,
   "id": "f99f0268",
   "metadata": {},
   "outputs": [
    {
     "data": {
      "text/plain": [
       "'C:\\\\Users\\\\hp\\\\Desktop\\\\ITVedant\\\\Python'"
      ]
     },
     "execution_count": 9,
     "metadata": {},
     "output_type": "execute_result"
    }
   ],
   "source": [
    "os.getcwd()"
   ]
  },
  {
   "cell_type": "code",
   "execution_count": 10,
   "id": "f70f899b",
   "metadata": {},
   "outputs": [
    {
     "data": {
      "text/plain": [
       "['.ipynb_checkpoints',\n",
       " '1.Introduction to Python.ipynb',\n",
       " '10. Operations on Sets .ipynb',\n",
       " '11. Functions.ipynb',\n",
       " '12. Anonymous Function.ipynb',\n",
       " '13. Modules.ipynb',\n",
       " '2.Variables, Data Types and Data Structures.ipynb',\n",
       " '3.Operators.ipynb',\n",
       " '4.Conditionals.ipynb',\n",
       " '5.Loops.ipynb',\n",
       " '6.Operations on Data Types.ipynb',\n",
       " '7.Operations on List.ipynb',\n",
       " '8.Operations on Tuples.ipynb',\n",
       " '9. Operations on Dictionary.ipynb',\n",
       " 'mypackage',\n",
       " 'pattern programming.ipynb',\n",
       " 'testmodule.py',\n",
       " '__pycache__']"
      ]
     },
     "execution_count": 10,
     "metadata": {},
     "output_type": "execute_result"
    }
   ],
   "source": [
    "os.listdir()  #Files and folders in directory"
   ]
  },
  {
   "cell_type": "code",
   "execution_count": 11,
   "id": "9ad53c33",
   "metadata": {},
   "outputs": [],
   "source": [
    "os.mkdir('JAYESH PYTHON')"
   ]
  },
  {
   "cell_type": "code",
   "execution_count": 12,
   "id": "a0f8308d",
   "metadata": {},
   "outputs": [
    {
     "data": {
      "text/plain": [
       "['.ipynb_checkpoints',\n",
       " '1.Introduction to Python.ipynb',\n",
       " '10. Operations on Sets .ipynb',\n",
       " '11. Functions.ipynb',\n",
       " '12. Anonymous Function.ipynb',\n",
       " '13. Modules.ipynb',\n",
       " '2.Variables, Data Types and Data Structures.ipynb',\n",
       " '3.Operators.ipynb',\n",
       " '4.Conditionals.ipynb',\n",
       " '5.Loops.ipynb',\n",
       " '6.Operations on Data Types.ipynb',\n",
       " '7.Operations on List.ipynb',\n",
       " '8.Operations on Tuples.ipynb',\n",
       " '9. Operations on Dictionary.ipynb',\n",
       " 'JAYESH PYTHON',\n",
       " 'mypackage',\n",
       " 'pattern programming.ipynb',\n",
       " 'testmodule.py',\n",
       " '__pycache__']"
      ]
     },
     "execution_count": 12,
     "metadata": {},
     "output_type": "execute_result"
    }
   ],
   "source": [
    "os.listdir()"
   ]
  },
  {
   "cell_type": "code",
   "execution_count": 13,
   "id": "f67bea7d",
   "metadata": {},
   "outputs": [],
   "source": [
    "os.rmdir('JAYESH PYTHON')"
   ]
  },
  {
   "cell_type": "code",
   "execution_count": 1,
   "id": "f97946cc",
   "metadata": {},
   "outputs": [],
   "source": [
    "import sys"
   ]
  },
  {
   "cell_type": "code",
   "execution_count": 2,
   "id": "0caa45e6",
   "metadata": {},
   "outputs": [
    {
     "data": {
      "text/plain": [
       "'3.9.12 (main, Apr  4 2022, 05:22:27) [MSC v.1916 64 bit (AMD64)]'"
      ]
     },
     "execution_count": 2,
     "metadata": {},
     "output_type": "execute_result"
    }
   ],
   "source": [
    "sys.version"
   ]
  },
  {
   "cell_type": "code",
   "execution_count": 3,
   "id": "746f8a2e",
   "metadata": {
    "scrolled": true
   },
   "outputs": [
    {
     "data": {
      "text/plain": [
       "['C:\\\\Users\\\\hp\\\\Desktop\\\\ITVedant\\\\Python',\n",
       " 'C:\\\\Users\\\\hp\\\\anaconda3\\\\python39.zip',\n",
       " 'C:\\\\Users\\\\hp\\\\anaconda3\\\\DLLs',\n",
       " 'C:\\\\Users\\\\hp\\\\anaconda3\\\\lib',\n",
       " 'C:\\\\Users\\\\hp\\\\anaconda3',\n",
       " '',\n",
       " 'C:\\\\Users\\\\hp\\\\anaconda3\\\\lib\\\\site-packages',\n",
       " 'C:\\\\Users\\\\hp\\\\anaconda3\\\\lib\\\\site-packages\\\\win32',\n",
       " 'C:\\\\Users\\\\hp\\\\anaconda3\\\\lib\\\\site-packages\\\\win32\\\\lib',\n",
       " 'C:\\\\Users\\\\hp\\\\anaconda3\\\\lib\\\\site-packages\\\\Pythonwin']"
      ]
     },
     "execution_count": 3,
     "metadata": {},
     "output_type": "execute_result"
    }
   ],
   "source": [
    "sys.path"
   ]
  },
  {
   "cell_type": "markdown",
   "id": "5081beaa",
   "metadata": {},
   "source": [
    "# Random numbers in Python\n",
    "\n",
    ">1.Python defines a set of functions that are used to generate or manipulate random numbers.\n",
    "\n",
    ">2.This particular type of functions are used in a lot of games, lotteries or any application requiring random number generation."
   ]
  },
  {
   "cell_type": "code",
   "execution_count": 1,
   "id": "f9803776",
   "metadata": {},
   "outputs": [],
   "source": [
    "import random "
   ]
  },
  {
   "cell_type": "code",
   "execution_count": 2,
   "id": "a3a51f9b",
   "metadata": {},
   "outputs": [],
   "source": [
    "from random import randint"
   ]
  },
  {
   "cell_type": "code",
   "execution_count": 3,
   "id": "0f0f43c7",
   "metadata": {},
   "outputs": [
    {
     "name": "stdout",
     "output_type": "stream",
     "text": [
      "6\n"
     ]
    }
   ],
   "source": [
    "print(random.choice((1,2,3,4,5,6)))"
   ]
  },
  {
   "cell_type": "code",
   "execution_count": 4,
   "id": "2efe0490",
   "metadata": {},
   "outputs": [
    {
     "name": "stdout",
     "output_type": "stream",
     "text": [
      "22\n"
     ]
    }
   ],
   "source": [
    "print(random.choice([11,22,33,44,55,66]))"
   ]
  },
  {
   "cell_type": "code",
   "execution_count": 5,
   "id": "a052e5f8",
   "metadata": {},
   "outputs": [
    {
     "name": "stdout",
     "output_type": "stream",
     "text": [
      "h\n"
     ]
    }
   ],
   "source": [
    "print(random.choice('Jayesh'))"
   ]
  },
  {
   "cell_type": "code",
   "execution_count": 6,
   "id": "498bd13d",
   "metadata": {},
   "outputs": [
    {
     "name": "stdout",
     "output_type": "stream",
     "text": [
      "4\n"
     ]
    }
   ],
   "source": [
    "print(random.randrange(1,10))"
   ]
  },
  {
   "cell_type": "code",
   "execution_count": 7,
   "id": "389701c2",
   "metadata": {},
   "outputs": [
    {
     "name": "stdout",
     "output_type": "stream",
     "text": [
      "7\n"
     ]
    }
   ],
   "source": [
    "print(random.randrange(1,10,2))"
   ]
  },
  {
   "cell_type": "code",
   "execution_count": 8,
   "id": "1d0d1c4b",
   "metadata": {},
   "outputs": [
    {
     "name": "stdout",
     "output_type": "stream",
     "text": [
      "0.1285690183485052\n"
     ]
    }
   ],
   "source": [
    "print(random.random())  #random value between 0 and 1"
   ]
  },
  {
   "cell_type": "code",
   "execution_count": 9,
   "id": "6229396c",
   "metadata": {},
   "outputs": [
    {
     "name": "stdout",
     "output_type": "stream",
     "text": [
      "[2, 6, 3, 1]\n"
     ]
    }
   ],
   "source": [
    "st=[1,3,2,6]\n",
    "random.shuffle(st)\n",
    "print(st)"
   ]
  },
  {
   "cell_type": "code",
   "execution_count": 10,
   "id": "6293f7b6",
   "metadata": {},
   "outputs": [
    {
     "name": "stdout",
     "output_type": "stream",
     "text": [
      "None\n"
     ]
    }
   ],
   "source": [
    "print(random.shuffle(st))"
   ]
  },
  {
   "cell_type": "code",
   "execution_count": 11,
   "id": "acf1b24b",
   "metadata": {},
   "outputs": [
    {
     "name": "stdout",
     "output_type": "stream",
     "text": [
      "10.48435973831486\n"
     ]
    }
   ],
   "source": [
    "print(random.uniform(7,14))  #uniform distribution(x,y) gives a number n such that x<=n<y"
   ]
  },
  {
   "cell_type": "code",
   "execution_count": 12,
   "id": "6b05e073",
   "metadata": {},
   "outputs": [
    {
     "name": "stdout",
     "output_type": "stream",
     "text": [
      "Please Guess a Number:5\n",
      "Try again!\n"
     ]
    }
   ],
   "source": [
    "a = randint(1,10)\n",
    "Guess = eval(input('Please Guess a Number:'))\n",
    "if a == Guess:\n",
    "    print('You are a Genius')\n",
    "else:\n",
    "    print('Try again!')"
   ]
  },
  {
   "cell_type": "code",
   "execution_count": 13,
   "id": "bc8c65bc",
   "metadata": {},
   "outputs": [
    {
     "name": "stdout",
     "output_type": "stream",
     "text": [
      "Please provide your Temperature:25\n",
      "You are in a better place\n"
     ]
    }
   ],
   "source": [
    "Guess = eval(input('Please provide your Temperature:'))\n",
    "if Guess<10:\n",
    "    print('Very Cold, get a jacket!')\n",
    "elif Guess >10:\n",
    "    print('You are in a better place')\n",
    "else:\n",
    "    print('Good Job!')"
   ]
  }
 ],
 "metadata": {
  "kernelspec": {
   "display_name": "Python 3 (ipykernel)",
   "language": "python",
   "name": "python3"
  },
  "language_info": {
   "codemirror_mode": {
    "name": "ipython",
    "version": 3
   },
   "file_extension": ".py",
   "mimetype": "text/x-python",
   "name": "python",
   "nbconvert_exporter": "python",
   "pygments_lexer": "ipython3",
   "version": "3.9.12"
  }
 },
 "nbformat": 4,
 "nbformat_minor": 5
}
