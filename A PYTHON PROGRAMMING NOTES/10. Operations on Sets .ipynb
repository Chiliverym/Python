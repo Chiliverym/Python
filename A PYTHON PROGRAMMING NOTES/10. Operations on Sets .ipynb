{
 "cells": [
  {
   "cell_type": "markdown",
   "id": "662ddec9",
   "metadata": {},
   "source": [
    "# Sets\n",
    ">1.A set is an unordered collection data type is iterable, mutable and has no duplicate elements.\n",
    "\n",
    ">2.The major advantage of using a set as opposed to a list, is that it has a highly optimized method for checking whether a specific element is contained in the set."
   ]
  },
  {
   "cell_type": "code",
   "execution_count": 1,
   "id": "c950e3cb",
   "metadata": {},
   "outputs": [
    {
     "data": {
      "text/plain": [
       "{1, 2, 3, 4, 5}"
      ]
     },
     "execution_count": 1,
     "metadata": {},
     "output_type": "execute_result"
    }
   ],
   "source": [
    "#Example of Set\n",
    "{1,5,4,3,2,4,5,3,2,3,2,1}"
   ]
  },
  {
   "cell_type": "code",
   "execution_count": 2,
   "id": "3d1c4a31",
   "metadata": {},
   "outputs": [
    {
     "name": "stdout",
     "output_type": "stream",
     "text": [
      "{1, 2, 3, 'Jayesh', 'Patil'}\n"
     ]
    }
   ],
   "source": [
    "s = {1,2,\"Jayesh\",3,\"Patil\"}\n",
    "print(s)"
   ]
  },
  {
   "cell_type": "code",
   "execution_count": 3,
   "id": "f0c23a0a",
   "metadata": {},
   "outputs": [
    {
     "name": "stdout",
     "output_type": "stream",
     "text": [
      "{'Banana', 'Cherry', 'Apple'}\n"
     ]
    }
   ],
   "source": [
    "s = {\"Apple\",\"Banana\",\"Cherry\"}\n",
    "print(s)"
   ]
  },
  {
   "cell_type": "code",
   "execution_count": 4,
   "id": "87df52e5",
   "metadata": {},
   "outputs": [
    {
     "ename": "TypeError",
     "evalue": "'set' object is not subscriptable",
     "output_type": "error",
     "traceback": [
      "\u001b[1;31m---------------------------------------------------------------------------\u001b[0m",
      "\u001b[1;31mTypeError\u001b[0m                                 Traceback (most recent call last)",
      "Input \u001b[1;32mIn [4]\u001b[0m, in \u001b[0;36m<cell line: 1>\u001b[1;34m()\u001b[0m\n\u001b[1;32m----> 1\u001b[0m \u001b[43ms\u001b[49m\u001b[43m[\u001b[49m\u001b[38;5;241;43m0\u001b[39;49m\u001b[43m]\u001b[49m\n",
      "\u001b[1;31mTypeError\u001b[0m: 'set' object is not subscriptable"
     ]
    }
   ],
   "source": [
    "s[0]"
   ]
  },
  {
   "cell_type": "raw",
   "id": "2b76c708",
   "metadata": {},
   "source": [
    "You cannot access items in a set by referring to an index, since sets are unordered the items has no index.\n",
    "\n",
    "But you can loop through the set items using a for loop, or ask if a specified value is present in a set, by using the in keyword."
   ]
  },
  {
   "cell_type": "code",
   "execution_count": 5,
   "id": "d6fa984f",
   "metadata": {},
   "outputs": [
    {
     "name": "stdout",
     "output_type": "stream",
     "text": [
      "Banana\n",
      "Cherry\n",
      "Apple\n"
     ]
    }
   ],
   "source": [
    "thisset = {\"Apple\",\"Banana\",\"Cherry\"}\n",
    "\n",
    "for x in thisset:\n",
    "    print(x)"
   ]
  },
  {
   "cell_type": "code",
   "execution_count": 6,
   "id": "3138d37b",
   "metadata": {},
   "outputs": [
    {
     "name": "stdout",
     "output_type": "stream",
     "text": [
      "False\n",
      "True\n",
      "False\n"
     ]
    }
   ],
   "source": [
    "# Check if banana is present in the set\n",
    "\n",
    "thisset = {\"Apple\",\"Banana\",\"Cherry\"}\n",
    "\n",
    "print(\"banana\" in thisset)\n",
    "print(\"Apple\" in thisset)\n",
    "print(\"Orange\" in thisset)"
   ]
  },
  {
   "cell_type": "code",
   "execution_count": 7,
   "id": "d0954bcf",
   "metadata": {},
   "outputs": [
    {
     "name": "stdout",
     "output_type": "stream",
     "text": [
      "{'Banana', 'Cherry', 'Apple', 'Orange'}\n"
     ]
    }
   ],
   "source": [
    "# Once a set is created, you cannot change its items, but you can add new items.\n",
    "# To add one item to a set use the add() method.\n",
    "\n",
    "thisset = {\"Apple\",\"Banana\",\"Cherry\"}\n",
    "\n",
    "thisset.add(\"Orange\")\n",
    "\n",
    "print(thisset)"
   ]
  },
  {
   "cell_type": "code",
   "execution_count": 8,
   "id": "d778aa88",
   "metadata": {},
   "outputs": [
    {
     "name": "stdout",
     "output_type": "stream",
     "text": [
      "{'orange', 'Banana', 'grapes', 'Apple', 'mango', 'Cherry'}\n"
     ]
    }
   ],
   "source": [
    "# To add more than one item to a set use the update() method.\n",
    "\n",
    "thisset = {\"Apple\",\"Banana\",\"Cherry\"}\n",
    "thisset.update([\"orange\",\"mango\",\"grapes\"])\n",
    "print(thisset)"
   ]
  },
  {
   "cell_type": "code",
   "execution_count": 9,
   "id": "36f211d7",
   "metadata": {},
   "outputs": [
    {
     "name": "stdout",
     "output_type": "stream",
     "text": [
      "3\n"
     ]
    }
   ],
   "source": [
    "# Get the number of items in the set\n",
    "\n",
    "thisset = {\"Apple\",\"Banana\",\"Cherry\"}\n",
    "\n",
    "print(len(thisset))"
   ]
  },
  {
   "cell_type": "code",
   "execution_count": 10,
   "id": "641b8d6e",
   "metadata": {},
   "outputs": [
    {
     "name": "stdout",
     "output_type": "stream",
     "text": [
      "{'Cherry', 'Apple'}\n"
     ]
    }
   ],
   "source": [
    "# Remove \"Banana\" from set\n",
    "\n",
    "thisset = {\"Apple\",\"Banana\",\"Cherry\"}\n",
    "thisset.remove(\"Banana\")\n",
    "\n",
    "print(thisset)"
   ]
  },
  {
   "cell_type": "raw",
   "id": "1c3943e8",
   "metadata": {},
   "source": [
    "Delete cannnot be used in sets because del needs position"
   ]
  },
  {
   "cell_type": "markdown",
   "id": "de666c2a",
   "metadata": {},
   "source": [
    "## Join Two Sets\n",
    "> There are several ways to join two or more sets in Python.\n",
    "\n",
    "> You can union() method that return a new set containing all items from both sets or the update() method that inserts all the items from one set into another."
   ]
  },
  {
   "cell_type": "code",
   "execution_count": 11,
   "id": "955d31f0",
   "metadata": {},
   "outputs": [
    {
     "name": "stdout",
     "output_type": "stream",
     "text": [
      "{'a', 1, 'b', 2, 3, 'c'}\n"
     ]
    }
   ],
   "source": [
    "# The union() method returns a new set with all items from both sets:\n",
    "set1 = {'a','b','c',2}\n",
    "set2 = {1,2,3}\n",
    "\n",
    "set3 = set1.union(set2)\n",
    "print(set3)"
   ]
  },
  {
   "cell_type": "code",
   "execution_count": 12,
   "id": "768ce999",
   "metadata": {},
   "outputs": [
    {
     "name": "stdout",
     "output_type": "stream",
     "text": [
      "{'a', 1, 'b', 2, 3, 'c'}\n"
     ]
    }
   ],
   "source": [
    "#The update() method inserts the items in set 2 into set 1:\n",
    "set1 = {'a','b','c'}\n",
    "set2 = {1,2,3}\n",
    "\n",
    "set1.update(set2)\n",
    "print(set1)\n",
    "\n",
    "#Note: Both union() and update() will exclude any duplicate items."
   ]
  },
  {
   "cell_type": "code",
   "execution_count": 13,
   "id": "0eca1cae",
   "metadata": {},
   "outputs": [
    {
     "data": {
      "text/plain": [
       "{1, 2, 3, 'a', 'b', 'c'}"
      ]
     },
     "execution_count": 13,
     "metadata": {},
     "output_type": "execute_result"
    }
   ],
   "source": [
    "set1 = {'a','b','c'}\n",
    "set2 = {1,2,3}\n",
    "set1 | set2  #union"
   ]
  },
  {
   "cell_type": "code",
   "execution_count": 14,
   "id": "c5a43667",
   "metadata": {},
   "outputs": [
    {
     "data": {
      "text/plain": [
       "{'a'}"
      ]
     },
     "execution_count": 14,
     "metadata": {},
     "output_type": "execute_result"
    }
   ],
   "source": [
    "set1 = {'a','b','c'}\n",
    "set2 = {\"a\",2,3}\n",
    "set1&set2  #intersection"
   ]
  },
  {
   "cell_type": "code",
   "execution_count": 15,
   "id": "c58eb7bc",
   "metadata": {},
   "outputs": [
    {
     "name": "stdout",
     "output_type": "stream",
     "text": [
      "{'microsoft', 'google'}\n"
     ]
    }
   ],
   "source": [
    "x = {\"apple\",\"banana\",\"cherry\"}\n",
    "y = {\"google\",\"microsoft\",\"apple\"}\n",
    "\n",
    "z = y.difference(x)\n",
    "print(z)"
   ]
  },
  {
   "cell_type": "code",
   "execution_count": 16,
   "id": "a3b70599",
   "metadata": {},
   "outputs": [
    {
     "name": "stdout",
     "output_type": "stream",
     "text": [
      "{'microsoft', 'google'}\n"
     ]
    }
   ],
   "source": [
    "x = {\"apple\",\"banana\",\"cherry\"}\n",
    "y = {\"google\",\"microsoft\",\"apple\"}\n",
    "\n",
    "z = y-x\n",
    "print(z)"
   ]
  },
  {
   "cell_type": "code",
   "execution_count": 17,
   "id": "87364080",
   "metadata": {},
   "outputs": [
    {
     "ename": "TypeError",
     "evalue": "unsupported operand type(s) for +: 'set' and 'set'",
     "output_type": "error",
     "traceback": [
      "\u001b[1;31m---------------------------------------------------------------------------\u001b[0m",
      "\u001b[1;31mTypeError\u001b[0m                                 Traceback (most recent call last)",
      "Input \u001b[1;32mIn [17]\u001b[0m, in \u001b[0;36m<cell line: 4>\u001b[1;34m()\u001b[0m\n\u001b[0;32m      1\u001b[0m x \u001b[38;5;241m=\u001b[39m {\u001b[38;5;124m\"\u001b[39m\u001b[38;5;124mapple\u001b[39m\u001b[38;5;124m\"\u001b[39m,\u001b[38;5;124m\"\u001b[39m\u001b[38;5;124mbanana\u001b[39m\u001b[38;5;124m\"\u001b[39m,\u001b[38;5;124m\"\u001b[39m\u001b[38;5;124mcherry\u001b[39m\u001b[38;5;124m\"\u001b[39m}\n\u001b[0;32m      2\u001b[0m y \u001b[38;5;241m=\u001b[39m {\u001b[38;5;124m\"\u001b[39m\u001b[38;5;124mgoogle\u001b[39m\u001b[38;5;124m\"\u001b[39m,\u001b[38;5;124m\"\u001b[39m\u001b[38;5;124mmicrosoft\u001b[39m\u001b[38;5;124m\"\u001b[39m,\u001b[38;5;124m\"\u001b[39m\u001b[38;5;124mapple\u001b[39m\u001b[38;5;124m\"\u001b[39m}\n\u001b[1;32m----> 4\u001b[0m z \u001b[38;5;241m=\u001b[39m \u001b[43my\u001b[49m\u001b[38;5;241;43m+\u001b[39;49m\u001b[43mx\u001b[49m\n\u001b[0;32m      5\u001b[0m \u001b[38;5;28mprint\u001b[39m(z)\n",
      "\u001b[1;31mTypeError\u001b[0m: unsupported operand type(s) for +: 'set' and 'set'"
     ]
    }
   ],
   "source": [
    "x = {\"apple\",\"banana\",\"cherry\"}\n",
    "y = {\"google\",\"microsoft\",\"apple\"}\n",
    "\n",
    "z = y+x\n",
    "print(z)"
   ]
  },
  {
   "cell_type": "code",
   "execution_count": 18,
   "id": "22df34a5",
   "metadata": {},
   "outputs": [
    {
     "name": "stdout",
     "output_type": "stream",
     "text": [
      "Set: \n",
      "{'a', 'b', 'c'}\n",
      "\n",
      "Set after adding: \n",
      "{'a', 'b', 'c', 'd'}\n"
     ]
    }
   ],
   "source": [
    "Set = set([\"a\", \"b\", \"c\"]) \n",
    "  \n",
    "print(\"Set: \") \n",
    "print(Set) \n",
    "  \n",
    "# Adding element to the set \n",
    "Set.add(\"d\") \n",
    "  \n",
    "print(\"\\nSet after adding: \") \n",
    "print(Set) "
   ]
  },
  {
   "cell_type": "markdown",
   "id": "15721a16",
   "metadata": {},
   "source": [
    "##### Frozen sets in Python are immutable objects that only support methods and operators that produce a result without affecting the frozen set or sets to which they are applied."
   ]
  },
  {
   "cell_type": "code",
   "execution_count": 19,
   "id": "dbf2f57b",
   "metadata": {},
   "outputs": [
    {
     "name": "stdout",
     "output_type": "stream",
     "text": [
      "Normal Set\n",
      "{'a', 'b', 'c'}\n",
      "\n",
      "Frozen Set\n",
      "frozenset({'e', 'f', 'g'})\n"
     ]
    }
   ],
   "source": [
    "normal_set = set([\"a\", \"b\",\"c\"]) \n",
    "  \n",
    "print(\"Normal Set\") \n",
    "print(normal_set) \n",
    "  \n",
    "# A frozen set \n",
    "frozen_set = frozenset([\"e\", \"f\", \"g\"]) \n",
    "  \n",
    "print(\"\\nFrozen Set\") \n",
    "print(frozen_set) \n",
    "  \n",
    "# we are trying to add element to a frozen set \n",
    "# frozen_set.add(\"h\")"
   ]
  },
  {
   "cell_type": "code",
   "execution_count": 20,
   "id": "7d15938a",
   "metadata": {},
   "outputs": [
    {
     "name": "stdout",
     "output_type": "stream",
     "text": [
      "People: {'Archi', 'Jay', 'Idrish'}\n",
      "\n",
      "Set after adding element: {1, 2, 3, 4, 5, 'Archi', 'Daxit', 'Idrish', 'Jay'}\n"
     ]
    }
   ],
   "source": [
    "# Adding Elements\n",
    "people = {\"Jay\", \"Idrish\", \"Archi\"} \n",
    "  \n",
    "print(\"People:\", end = \" \") \n",
    "print(people) \n",
    "  \n",
    "# This will add Daxit in the set \n",
    "people.add(\"Daxit\") \n",
    "  \n",
    "# Adding elements to the set using iterator \n",
    "for i in range(1, 6):  \n",
    "    people.add(i)  \n",
    "  \n",
    "print(\"\\nSet after adding element:\", end = \" \") \n",
    "print(people)"
   ]
  },
  {
   "cell_type": "code",
   "execution_count": 21,
   "id": "b8121dc2",
   "metadata": {},
   "outputs": [
    {
     "name": "stdout",
     "output_type": "stream",
     "text": [
      "{1, 3}\n",
      "{1, 2, 3}\n",
      "{1, 2, 3, 4}\n",
      "{1, 2, 3, 4, 5, 6, 8}\n"
     ]
    }
   ],
   "source": [
    "# initialize my_set\n",
    "my_set = {1,3}\n",
    "print(my_set)\n",
    "\n",
    "# my_set[0] # you will get an error TypeError: 'set' object does not support indexing\n",
    "\n",
    "# add an element\n",
    "my_set.add(2)\n",
    "print(my_set)\n",
    "\n",
    "# add multiple elements\n",
    "my_set.update([2,3,4])\n",
    "print(my_set)\n",
    "\n",
    "# add list and set\n",
    "my_set.update([4,5], {1,6,8})\n",
    "print(my_set)"
   ]
  },
  {
   "cell_type": "code",
   "execution_count": 22,
   "id": "c320560d",
   "metadata": {},
   "outputs": [
    {
     "name": "stdout",
     "output_type": "stream",
     "text": [
      "Union using union() function\n",
      "{'Karan', 'Idrish', 'Archil', 'Arjun', 'Jay'}\n",
      "\n",
      "Union using '|' operator\n",
      "{'Raju', 'Idrish', 'Deepanshu', 'Archil', 'Jay'}\n"
     ]
    }
   ],
   "source": [
    "# Union\n",
    "\n",
    "people = {\"Jay\", \"Idrish\", \"Archil\"} \n",
    "vampires = {\"Karan\", \"Arjun\"} \n",
    "dracula = {\"Deepanshu\", \"Raju\"} \n",
    "  \n",
    "# Union using union() function \n",
    "population = people.union(vampires) \n",
    "  \n",
    "print(\"Union using union() function\") \n",
    "print(population) \n",
    "  \n",
    "# Union using \"|\" operator \n",
    "population = people|dracula \n",
    "  \n",
    "print(\"\\nUnion using '|' operator\") \n",
    "print(population)"
   ]
  },
  {
   "cell_type": "code",
   "execution_count": 23,
   "id": "fd55481e",
   "metadata": {},
   "outputs": [
    {
     "name": "stdout",
     "output_type": "stream",
     "text": [
      "Intersection using intersection() function\n",
      "{3, 4}\n",
      "\n",
      "Intersection using '&' operator\n",
      "{3, 4}\n"
     ]
    }
   ],
   "source": [
    "# Intersection\n",
    "\n",
    "set1 = set() \n",
    "set2 = set() \n",
    "  \n",
    "for i in range(5): \n",
    "    set1.add(i) \n",
    "  \n",
    "for i in range(3,9): \n",
    "    set2.add(i) \n",
    "  \n",
    "# Intersection using \n",
    "# intersection() function \n",
    "set3 = set1.intersection(set2) \n",
    "  \n",
    "print(\"Intersection using intersection() function\") \n",
    "print(set3) \n",
    "  \n",
    "# Intersection using \"&\" operator \n",
    "set3 = set1 & set2 \n",
    "  \n",
    "print(\"\\nIntersection using '&' operator\") \n",
    "print(set3) "
   ]
  },
  {
   "cell_type": "code",
   "execution_count": 24,
   "id": "7c63043d",
   "metadata": {},
   "outputs": [
    {
     "name": "stdout",
     "output_type": "stream",
     "text": [
      " Difference of two sets using difference() function\n",
      "{0, 1, 2}\n",
      "\n",
      "Difference of two sets using '-' operator\n",
      "{0, 1, 2}\n"
     ]
    }
   ],
   "source": [
    "# Difference\n",
    "\n",
    "set1 = set() \n",
    "set2 = set() \n",
    "  \n",
    "for i in range(5): \n",
    "    set1.add(i) \n",
    "  \n",
    "for i in range(3,9): \n",
    "    set2.add(i) \n",
    "  \n",
    "# Difference of two sets \n",
    "# using difference() function \n",
    "set3 = set1.difference(set2) \n",
    "  \n",
    "print(\" Difference of two sets using difference() function\") \n",
    "print(set3) \n",
    "  \n",
    "# Difference of two sets \n",
    "# using '-' operator \n",
    "set3 = set1 - set2 \n",
    "\n",
    "print(\"\\nDifference of two sets using '-' operator\") \n",
    "print(set3)"
   ]
  },
  {
   "cell_type": "code",
   "execution_count": 25,
   "id": "94f96dd3",
   "metadata": {},
   "outputs": [
    {
     "name": "stdout",
     "output_type": "stream",
     "text": [
      "Initial set\n",
      "{1, 2, 3, 4, 5, 6}\n",
      "\n",
      "Set after using clear() function\n",
      "set()\n"
     ]
    }
   ],
   "source": [
    "# Clear() method empties the whole set.\n",
    "\n",
    "set1 = {1,2,3,4,5,6} \n",
    "  \n",
    "print(\"Initial set\") \n",
    "print(set1) \n",
    "  \n",
    "# This method will remove all the elements of the set \n",
    "set1.clear() \n",
    "  \n",
    "print(\"\\nSet after using clear() function\") \n",
    "print(set1)"
   ]
  },
  {
   "cell_type": "code",
   "execution_count": 26,
   "id": "444d1f2e",
   "metadata": {},
   "outputs": [
    {
     "name": "stdout",
     "output_type": "stream",
     "text": [
      "Set1 =  {1, 2, 3, 4, 5}\n",
      "Set2 =  {3, 4, 5, 6, 7}\n",
      "\n",
      "\n",
      "Union of Set1 & Set2: Set3 =  {1, 2, 3, 4, 5, 6, 7}\n",
      "Intersection of Set1 & Set2: Set4 =  {3, 4, 5}\n",
      "\n",
      "\n",
      "Set3 is superset of Set4\n",
      "Set4 is subset of Set3\n",
      "\n",
      "\n",
      "Elements in Set3 and not in Set4: Set5 =  {1, 2, 6, 7}\n",
      "\n",
      "\n",
      "Set4 and Set5 have nothing in common\n",
      "\n",
      "After applying clear on sets Set5: \n",
      "Set5 =  set()\n",
      "\n",
      "The elements from both the sets without anything in common {1, 2, 3, 6, 7, 8}\n"
     ]
    }
   ],
   "source": [
    "# Operations in set\n",
    "\n",
    "# Creating two sets \n",
    "set1 = set() \n",
    "set2 = set() \n",
    "  \n",
    "# Adding elements to set1 \n",
    "for i in range(1, 6): \n",
    "    set1.add(i) \n",
    " \n",
    "# Adding elements to set2 \n",
    "for i in range(3, 8): \n",
    "    set2.add(i) \n",
    "  \n",
    "print(\"Set1 = \", set1) \n",
    "print(\"Set2 = \", set2) \n",
    "print(\"\\n\") \n",
    "  \n",
    "# Union of set1 and set2 \n",
    "set3 = set1 | set2# set1.union(set2) \n",
    "print(\"Union of Set1 & Set2: Set3 = \", set3) \n",
    "  \n",
    "# Intersection of set1 and set2 \n",
    "set4 = set1 & set2# set1.intersection(set2) \n",
    "print(\"Intersection of Set1 & Set2: Set4 = \", set4) \n",
    "print(\"\\n\") \n",
    "  \n",
    "# Checking relation between set3 and set4 \n",
    "if set3 > set4: # set3.issuperset(set4) \n",
    "    print(\"Set3 is superset of Set4\") \n",
    "elif set3 < set4: # set3.issubset(set4) \n",
    "    print(\"Set3 is subset of Set4\") \n",
    "else : # set3 == set4 \n",
    "    print(\"Set3 is same as Set4\") \n",
    "  \n",
    "# displaying relation between set4 and set3 \n",
    "if set4 < set3: # set4.issubset(set3) \n",
    "    print(\"Set4 is subset of Set3\") \n",
    "    print(\"\\n\") \n",
    "  \n",
    "# difference between set3 and set4 \n",
    "set5 = set3 - set4 \n",
    "print(\"Elements in Set3 and not in Set4: Set5 = \", set5) \n",
    "print(\"\\n\") \n",
    "  \n",
    "# checkv if set4 and set5 are disjoint sets \n",
    "if set4.isdisjoint(set5): \n",
    "    print(\"Set4 and Set5 have nothing in common\\n\") \n",
    "  \n",
    "# Removing all the values of set5 \n",
    "set5.clear() \n",
    "  \n",
    "print(\"After applying clear on sets Set5: \") \n",
    "print(\"Set5 = \", set5) \n",
    "\n",
    "# initialize A and B\n",
    "A = {1, 2, 3, 4, 5}\n",
    "B = {4, 5, 6, 7, 8}\n",
    "\n",
    "# use ^ operator for symmetric difference\n",
    "print('\\nThe elements from both the sets without anything in common', A ^ B)"
   ]
  },
  {
   "cell_type": "code",
   "execution_count": 27,
   "id": "3e6a33e3",
   "metadata": {},
   "outputs": [
    {
     "name": "stdout",
     "output_type": "stream",
     "text": [
      "{1, 3, 4, 5, 6}\n",
      "{1, 3, 5, 6}\n",
      "{1, 3, 5}\n",
      "{1, 3, 5}\n"
     ]
    }
   ],
   "source": [
    "# initialize my_set\n",
    "my_set = {1, 3, 4, 5, 6}\n",
    "print(my_set)\n",
    "\n",
    "# discard an element\n",
    "my_set.discard(4)\n",
    "print(my_set)\n",
    "\n",
    "# remove an element\n",
    "my_set.remove(6)\n",
    "print(my_set)\n",
    "\n",
    "# discard an element\n",
    "# not present in my_set\n",
    "my_set.discard(2)\n",
    "print(my_set)\n",
    "\n",
    "# remove an element not present in my_set you will get an error Output: KeyError: 2\n",
    "\n",
    "# my_set.remove(2)"
   ]
  }
 ],
 "metadata": {
  "kernelspec": {
   "display_name": "Python 3 (ipykernel)",
   "language": "python",
   "name": "python3"
  },
  "language_info": {
   "codemirror_mode": {
    "name": "ipython",
    "version": 3
   },
   "file_extension": ".py",
   "mimetype": "text/x-python",
   "name": "python",
   "nbconvert_exporter": "python",
   "pygments_lexer": "ipython3",
   "version": "3.9.12"
  }
 },
 "nbformat": 4,
 "nbformat_minor": 5
}
