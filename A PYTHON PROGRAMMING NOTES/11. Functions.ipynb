{
 "cells": [
  {
   "cell_type": "markdown",
   "id": "a02f1d70",
   "metadata": {},
   "source": [
    "# Functions in Python"
   ]
  },
  {
   "cell_type": "markdown",
   "id": "13c06899",
   "metadata": {},
   "source": [
    "###### A function is a block of organized, reusable sets of instructions that is used to perform to some related actions"
   ]
  },
  {
   "cell_type": "markdown",
   "id": "7837e7a1",
   "metadata": {},
   "source": [
    "- Why do we have functions?\n",
    "  - Re-usability of code minimizes redundancy\n",
    "  - Procedural decomposition make things organized.\n",
    "\n",
    "- There are mainly two types i.e\n",
    "  - Built-in function\n",
    "  - User defined function\n"
   ]
  },
  {
   "cell_type": "markdown",
   "id": "c95f7285",
   "metadata": {},
   "source": [
    "## Built-in Functions:\n",
    "> Built in functions are all those function and methods that we have used till now.\n",
    "\n",
    "> The Python interpreter has a number of functions and types built into it that are always available."
   ]
  },
  {
   "cell_type": "code",
   "execution_count": 6,
   "id": "a8664716",
   "metadata": {},
   "outputs": [
    {
     "name": "stdout",
     "output_type": "stream",
     "text": [
      "Jayesh\n",
      "<class 'str'>\n",
      "6\n",
      "6\n",
      "6\n",
      "1\n",
      "1000\n",
      "range(0, 11)\n",
      "[0, 1, 2, 3, 4, 5, 6, 7, 8, 9, 10]\n"
     ]
    }
   ],
   "source": [
    "print('Jayesh')\n",
    "print(type(\"Jayesh\"))\n",
    "print(len(\"Jayesh\"))\n",
    "print(len([1,2,3,4,5,6]))\n",
    "print(max([1,2,3,4,5,6]))\n",
    "print(min([1,2,3,4,5,6]))\n",
    "print(pow(10,3))\n",
    "print(range(11))\n",
    "print(list(range(11)))"
   ]
  },
  {
   "cell_type": "markdown",
   "id": "7c77b292",
   "metadata": {},
   "source": [
    "## Type conversion functions"
   ]
  },
  {
   "cell_type": "code",
   "execution_count": 2,
   "id": "6e7b1912",
   "metadata": {},
   "outputs": [
    {
     "data": {
      "text/plain": [
       "32"
      ]
     },
     "execution_count": 2,
     "metadata": {},
     "output_type": "execute_result"
    }
   ],
   "source": [
    "int('32')"
   ]
  },
  {
   "cell_type": "code",
   "execution_count": 3,
   "id": "cfa412c7",
   "metadata": {},
   "outputs": [
    {
     "data": {
      "text/plain": [
       "int"
      ]
     },
     "execution_count": 3,
     "metadata": {},
     "output_type": "execute_result"
    }
   ],
   "source": [
    "type(32)"
   ]
  },
  {
   "cell_type": "code",
   "execution_count": 4,
   "id": "ca3822a3",
   "metadata": {},
   "outputs": [
    {
     "data": {
      "text/plain": [
       "str"
      ]
     },
     "execution_count": 4,
     "metadata": {},
     "output_type": "execute_result"
    }
   ],
   "source": [
    "type('32')"
   ]
  },
  {
   "cell_type": "code",
   "execution_count": 5,
   "id": "e3f4b8ab",
   "metadata": {},
   "outputs": [
    {
     "data": {
      "text/plain": [
       "3"
      ]
     },
     "execution_count": 5,
     "metadata": {},
     "output_type": "execute_result"
    }
   ],
   "source": [
    "int(3.88888888)"
   ]
  },
  {
   "cell_type": "code",
   "execution_count": 6,
   "id": "4a143983",
   "metadata": {},
   "outputs": [
    {
     "data": {
      "text/plain": [
       "-2"
      ]
     },
     "execution_count": 6,
     "metadata": {},
     "output_type": "execute_result"
    }
   ],
   "source": [
    "int(-2.33)"
   ]
  },
  {
   "cell_type": "code",
   "execution_count": 7,
   "id": "3e4c5180",
   "metadata": {},
   "outputs": [
    {
     "ename": "ValueError",
     "evalue": "invalid literal for int() with base 10: 'Hello'",
     "output_type": "error",
     "traceback": [
      "\u001b[1;31m---------------------------------------------------------------------------\u001b[0m",
      "\u001b[1;31mValueError\u001b[0m                                Traceback (most recent call last)",
      "Input \u001b[1;32mIn [7]\u001b[0m, in \u001b[0;36m<cell line: 1>\u001b[1;34m()\u001b[0m\n\u001b[1;32m----> 1\u001b[0m \u001b[38;5;28;43mint\u001b[39;49m\u001b[43m(\u001b[49m\u001b[38;5;124;43m\"\u001b[39;49m\u001b[38;5;124;43mHello\u001b[39;49m\u001b[38;5;124;43m\"\u001b[39;49m\u001b[43m)\u001b[49m\n",
      "\u001b[1;31mValueError\u001b[0m: invalid literal for int() with base 10: 'Hello'"
     ]
    }
   ],
   "source": [
    "int(\"Hello\")"
   ]
  },
  {
   "cell_type": "code",
   "execution_count": 8,
   "id": "d466a359",
   "metadata": {},
   "outputs": [
    {
     "data": {
      "text/plain": [
       "32.0"
      ]
     },
     "execution_count": 8,
     "metadata": {},
     "output_type": "execute_result"
    }
   ],
   "source": [
    "float(32)"
   ]
  },
  {
   "cell_type": "code",
   "execution_count": 9,
   "id": "76f4049f",
   "metadata": {},
   "outputs": [
    {
     "data": {
      "text/plain": [
       "72.7576"
      ]
     },
     "execution_count": 9,
     "metadata": {},
     "output_type": "execute_result"
    }
   ],
   "source": [
    "float(72.7576)"
   ]
  },
  {
   "cell_type": "code",
   "execution_count": 10,
   "id": "7520e866",
   "metadata": {},
   "outputs": [
    {
     "data": {
      "text/plain": [
       "'32'"
      ]
     },
     "execution_count": 10,
     "metadata": {},
     "output_type": "execute_result"
    }
   ],
   "source": [
    "str(32)"
   ]
  },
  {
   "cell_type": "markdown",
   "id": "c4b892b8",
   "metadata": {},
   "source": [
    "## Math Functions"
   ]
  },
  {
   "cell_type": "code",
   "execution_count": 13,
   "id": "a7bde8d7",
   "metadata": {},
   "outputs": [
    {
     "name": "stdout",
     "output_type": "stream",
     "text": [
      "<module 'math' (built-in)>\n"
     ]
    }
   ],
   "source": [
    "import math as m\n",
    "print(m)"
   ]
  },
  {
   "cell_type": "code",
   "execution_count": 15,
   "id": "99bcbb5b",
   "metadata": {},
   "outputs": [
    {
     "name": "stdout",
     "output_type": "stream",
     "text": [
      "Help on built-in module math:\n",
      "\n",
      "NAME\n",
      "    math\n",
      "\n",
      "DESCRIPTION\n",
      "    This module provides access to the mathematical functions\n",
      "    defined by the C standard.\n",
      "\n",
      "FUNCTIONS\n",
      "    acos(x, /)\n",
      "        Return the arc cosine (measured in radians) of x.\n",
      "        \n",
      "        The result is between 0 and pi.\n",
      "    \n",
      "    acosh(x, /)\n",
      "        Return the inverse hyperbolic cosine of x.\n",
      "    \n",
      "    asin(x, /)\n",
      "        Return the arc sine (measured in radians) of x.\n",
      "        \n",
      "        The result is between -pi/2 and pi/2.\n",
      "    \n",
      "    asinh(x, /)\n",
      "        Return the inverse hyperbolic sine of x.\n",
      "    \n",
      "    atan(x, /)\n",
      "        Return the arc tangent (measured in radians) of x.\n",
      "        \n",
      "        The result is between -pi/2 and pi/2.\n",
      "    \n",
      "    atan2(y, x, /)\n",
      "        Return the arc tangent (measured in radians) of y/x.\n",
      "        \n",
      "        Unlike atan(y/x), the signs of both x and y are considered.\n",
      "    \n",
      "    atanh(x, /)\n",
      "        Return the inverse hyperbolic tangent of x.\n",
      "    \n",
      "    ceil(x, /)\n",
      "        Return the ceiling of x as an Integral.\n",
      "        \n",
      "        This is the smallest integer >= x.\n",
      "    \n",
      "    comb(n, k, /)\n",
      "        Number of ways to choose k items from n items without repetition and without order.\n",
      "        \n",
      "        Evaluates to n! / (k! * (n - k)!) when k <= n and evaluates\n",
      "        to zero when k > n.\n",
      "        \n",
      "        Also called the binomial coefficient because it is equivalent\n",
      "        to the coefficient of k-th term in polynomial expansion of the\n",
      "        expression (1 + x)**n.\n",
      "        \n",
      "        Raises TypeError if either of the arguments are not integers.\n",
      "        Raises ValueError if either of the arguments are negative.\n",
      "    \n",
      "    copysign(x, y, /)\n",
      "        Return a float with the magnitude (absolute value) of x but the sign of y.\n",
      "        \n",
      "        On platforms that support signed zeros, copysign(1.0, -0.0)\n",
      "        returns -1.0.\n",
      "    \n",
      "    cos(x, /)\n",
      "        Return the cosine of x (measured in radians).\n",
      "    \n",
      "    cosh(x, /)\n",
      "        Return the hyperbolic cosine of x.\n",
      "    \n",
      "    degrees(x, /)\n",
      "        Convert angle x from radians to degrees.\n",
      "    \n",
      "    dist(p, q, /)\n",
      "        Return the Euclidean distance between two points p and q.\n",
      "        \n",
      "        The points should be specified as sequences (or iterables) of\n",
      "        coordinates.  Both inputs must have the same dimension.\n",
      "        \n",
      "        Roughly equivalent to:\n",
      "            sqrt(sum((px - qx) ** 2.0 for px, qx in zip(p, q)))\n",
      "    \n",
      "    erf(x, /)\n",
      "        Error function at x.\n",
      "    \n",
      "    erfc(x, /)\n",
      "        Complementary error function at x.\n",
      "    \n",
      "    exp(x, /)\n",
      "        Return e raised to the power of x.\n",
      "    \n",
      "    expm1(x, /)\n",
      "        Return exp(x)-1.\n",
      "        \n",
      "        This function avoids the loss of precision involved in the direct evaluation of exp(x)-1 for small x.\n",
      "    \n",
      "    fabs(x, /)\n",
      "        Return the absolute value of the float x.\n",
      "    \n",
      "    factorial(x, /)\n",
      "        Find x!.\n",
      "        \n",
      "        Raise a ValueError if x is negative or non-integral.\n",
      "    \n",
      "    floor(x, /)\n",
      "        Return the floor of x as an Integral.\n",
      "        \n",
      "        This is the largest integer <= x.\n",
      "    \n",
      "    fmod(x, y, /)\n",
      "        Return fmod(x, y), according to platform C.\n",
      "        \n",
      "        x % y may differ.\n",
      "    \n",
      "    frexp(x, /)\n",
      "        Return the mantissa and exponent of x, as pair (m, e).\n",
      "        \n",
      "        m is a float and e is an int, such that x = m * 2.**e.\n",
      "        If x is 0, m and e are both 0.  Else 0.5 <= abs(m) < 1.0.\n",
      "    \n",
      "    fsum(seq, /)\n",
      "        Return an accurate floating point sum of values in the iterable seq.\n",
      "        \n",
      "        Assumes IEEE-754 floating point arithmetic.\n",
      "    \n",
      "    gamma(x, /)\n",
      "        Gamma function at x.\n",
      "    \n",
      "    gcd(*integers)\n",
      "        Greatest Common Divisor.\n",
      "    \n",
      "    hypot(...)\n",
      "        hypot(*coordinates) -> value\n",
      "        \n",
      "        Multidimensional Euclidean distance from the origin to a point.\n",
      "        \n",
      "        Roughly equivalent to:\n",
      "            sqrt(sum(x**2 for x in coordinates))\n",
      "        \n",
      "        For a two dimensional point (x, y), gives the hypotenuse\n",
      "        using the Pythagorean theorem:  sqrt(x*x + y*y).\n",
      "        \n",
      "        For example, the hypotenuse of a 3/4/5 right triangle is:\n",
      "        \n",
      "            >>> hypot(3.0, 4.0)\n",
      "            5.0\n",
      "    \n",
      "    isclose(a, b, *, rel_tol=1e-09, abs_tol=0.0)\n",
      "        Determine whether two floating point numbers are close in value.\n",
      "        \n",
      "          rel_tol\n",
      "            maximum difference for being considered \"close\", relative to the\n",
      "            magnitude of the input values\n",
      "          abs_tol\n",
      "            maximum difference for being considered \"close\", regardless of the\n",
      "            magnitude of the input values\n",
      "        \n",
      "        Return True if a is close in value to b, and False otherwise.\n",
      "        \n",
      "        For the values to be considered close, the difference between them\n",
      "        must be smaller than at least one of the tolerances.\n",
      "        \n",
      "        -inf, inf and NaN behave similarly to the IEEE 754 Standard.  That\n",
      "        is, NaN is not close to anything, even itself.  inf and -inf are\n",
      "        only close to themselves.\n",
      "    \n",
      "    isfinite(x, /)\n",
      "        Return True if x is neither an infinity nor a NaN, and False otherwise.\n",
      "    \n",
      "    isinf(x, /)\n",
      "        Return True if x is a positive or negative infinity, and False otherwise.\n",
      "    \n",
      "    isnan(x, /)\n",
      "        Return True if x is a NaN (not a number), and False otherwise.\n",
      "    \n",
      "    isqrt(n, /)\n",
      "        Return the integer part of the square root of the input.\n",
      "    \n",
      "    lcm(*integers)\n",
      "        Least Common Multiple.\n",
      "    \n",
      "    ldexp(x, i, /)\n",
      "        Return x * (2**i).\n",
      "        \n",
      "        This is essentially the inverse of frexp().\n",
      "    \n",
      "    lgamma(x, /)\n",
      "        Natural logarithm of absolute value of Gamma function at x.\n",
      "    \n",
      "    log(...)\n",
      "        log(x, [base=math.e])\n",
      "        Return the logarithm of x to the given base.\n",
      "        \n",
      "        If the base not specified, returns the natural logarithm (base e) of x.\n",
      "    \n",
      "    log10(x, /)\n",
      "        Return the base 10 logarithm of x.\n",
      "    \n",
      "    log1p(x, /)\n",
      "        Return the natural logarithm of 1+x (base e).\n",
      "        \n",
      "        The result is computed in a way which is accurate for x near zero.\n",
      "    \n",
      "    log2(x, /)\n",
      "        Return the base 2 logarithm of x.\n",
      "    \n",
      "    modf(x, /)\n",
      "        Return the fractional and integer parts of x.\n",
      "        \n",
      "        Both results carry the sign of x and are floats.\n",
      "    \n",
      "    nextafter(x, y, /)\n",
      "        Return the next floating-point value after x towards y.\n",
      "    \n",
      "    perm(n, k=None, /)\n",
      "        Number of ways to choose k items from n items without repetition and with order.\n",
      "        \n",
      "        Evaluates to n! / (n - k)! when k <= n and evaluates\n",
      "        to zero when k > n.\n",
      "        \n",
      "        If k is not specified or is None, then k defaults to n\n",
      "        and the function returns n!.\n",
      "        \n",
      "        Raises TypeError if either of the arguments are not integers.\n",
      "        Raises ValueError if either of the arguments are negative.\n",
      "    \n",
      "    pow(x, y, /)\n",
      "        Return x**y (x to the power of y).\n",
      "    \n",
      "    prod(iterable, /, *, start=1)\n",
      "        Calculate the product of all the elements in the input iterable.\n",
      "        \n",
      "        The default start value for the product is 1.\n",
      "        \n",
      "        When the iterable is empty, return the start value.  This function is\n",
      "        intended specifically for use with numeric values and may reject\n",
      "        non-numeric types.\n",
      "    \n",
      "    radians(x, /)\n",
      "        Convert angle x from degrees to radians.\n",
      "    \n",
      "    remainder(x, y, /)\n",
      "        Difference between x and the closest integer multiple of y.\n",
      "        \n",
      "        Return x - n*y where n*y is the closest integer multiple of y.\n",
      "        In the case where x is exactly halfway between two multiples of\n",
      "        y, the nearest even value of n is used. The result is always exact.\n",
      "    \n",
      "    sin(x, /)\n",
      "        Return the sine of x (measured in radians).\n",
      "    \n",
      "    sinh(x, /)\n",
      "        Return the hyperbolic sine of x.\n",
      "    \n",
      "    sqrt(x, /)\n",
      "        Return the square root of x.\n",
      "    \n",
      "    tan(x, /)\n",
      "        Return the tangent of x (measured in radians).\n",
      "    \n",
      "    tanh(x, /)\n",
      "        Return the hyperbolic tangent of x.\n",
      "    \n",
      "    trunc(x, /)\n",
      "        Truncates the Real x to the nearest Integral toward 0.\n",
      "        \n",
      "        Uses the __trunc__ magic method.\n",
      "    \n",
      "    ulp(x, /)\n",
      "        Return the value of the least significant bit of the float x.\n",
      "\n",
      "DATA\n",
      "    e = 2.718281828459045\n",
      "    inf = inf\n",
      "    nan = nan\n",
      "    pi = 3.141592653589793\n",
      "    tau = 6.283185307179586\n",
      "\n",
      "FILE\n",
      "    (built-in)\n",
      "\n",
      "\n"
     ]
    }
   ],
   "source": [
    "help(m)"
   ]
  },
  {
   "cell_type": "code",
   "execution_count": 16,
   "id": "e8d6b429",
   "metadata": {},
   "outputs": [
    {
     "name": "stdout",
     "output_type": "stream",
     "text": [
      "0.4459230474713877\n"
     ]
    }
   ],
   "source": [
    "# it is used with dot notations.\n",
    "a = math.sin(90)\n",
    "b = math.cos(90)\n",
    "print(a+b)"
   ]
  },
  {
   "cell_type": "code",
   "execution_count": 17,
   "id": "6fc14f9d",
   "metadata": {},
   "outputs": [
    {
     "name": "stdout",
     "output_type": "stream",
     "text": [
      "-3.990400824416484\n"
     ]
    }
   ],
   "source": [
    "import math as m\n",
    "a = 2*m.tan(90)\n",
    "print(a)"
   ]
  },
  {
   "cell_type": "code",
   "execution_count": 18,
   "id": "687ca0b2",
   "metadata": {},
   "outputs": [
    {
     "name": "stdout",
     "output_type": "stream",
     "text": [
      "2.0\n"
     ]
    }
   ],
   "source": [
    "print(m.sqrt(4))"
   ]
  },
  {
   "cell_type": "code",
   "execution_count": 19,
   "id": "c094b667",
   "metadata": {},
   "outputs": [
    {
     "name": "stdout",
     "output_type": "stream",
     "text": [
      "6\n"
     ]
    }
   ],
   "source": [
    "print(m.ceil(5.1))  #next bigger integer"
   ]
  },
  {
   "cell_type": "code",
   "execution_count": 20,
   "id": "70019f35",
   "metadata": {},
   "outputs": [
    {
     "name": "stdout",
     "output_type": "stream",
     "text": [
      "5\n"
     ]
    }
   ],
   "source": [
    "print(m.floor(5.1)) #previous integer"
   ]
  },
  {
   "cell_type": "code",
   "execution_count": 21,
   "id": "f33c5673",
   "metadata": {},
   "outputs": [
    {
     "name": "stdout",
     "output_type": "stream",
     "text": [
      "20.085536923187668\n"
     ]
    }
   ],
   "source": [
    "print(m.exp(3.0))   #e^3(2.718 is approximate value of e)"
   ]
  },
  {
   "cell_type": "code",
   "execution_count": 22,
   "id": "4e1e53e2",
   "metadata": {},
   "outputs": [
    {
     "name": "stdout",
     "output_type": "stream",
     "text": [
      "1.0986122886681098\n"
     ]
    }
   ],
   "source": [
    "print(m.log(3)) "
   ]
  },
  {
   "cell_type": "code",
   "execution_count": 23,
   "id": "8d349e32",
   "metadata": {},
   "outputs": [
    {
     "name": "stdout",
     "output_type": "stream",
     "text": [
      "0.3010299956639812\n"
     ]
    }
   ],
   "source": [
    "print(m.log10(2))"
   ]
  },
  {
   "cell_type": "code",
   "execution_count": 24,
   "id": "90c6d301",
   "metadata": {},
   "outputs": [
    {
     "name": "stdout",
     "output_type": "stream",
     "text": [
      "8.0\n"
     ]
    }
   ],
   "source": [
    "print(m.pow(2,3)) #2^3 power default output is float"
   ]
  },
  {
   "cell_type": "markdown",
   "id": "03059b92",
   "metadata": {},
   "source": [
    "## Composition functions"
   ]
  },
  {
   "cell_type": "markdown",
   "id": "d310052e",
   "metadata": {},
   "source": [
    "> It is ability to take small building blocks and compose them."
   ]
  },
  {
   "cell_type": "code",
   "execution_count": 25,
   "id": "d8020fe8",
   "metadata": {},
   "outputs": [
    {
     "name": "stdout",
     "output_type": "stream",
     "text": [
      "1.1101041343168954\n"
     ]
    }
   ],
   "source": [
    "import math as m\n",
    "print(m.pow(3,(m.log10(m.tan(m.sin(90))))))"
   ]
  },
  {
   "cell_type": "code",
   "execution_count": 26,
   "id": "705c9bb6",
   "metadata": {},
   "outputs": [
    {
     "data": {
      "text/plain": [
       "-0.9992995818189946"
      ]
     },
     "execution_count": 26,
     "metadata": {},
     "output_type": "execute_result"
    }
   ],
   "source": [
    "m.sin(m.sinh(30))"
   ]
  },
  {
   "cell_type": "markdown",
   "id": "881202af",
   "metadata": {},
   "source": [
    "## User defined function"
   ]
  },
  {
   "cell_type": "markdown",
   "id": "d4733ddc",
   "metadata": {},
   "source": [
    "> User defined function that the name itself it mans it is defined by user to make code more easy, short and effecive.\n",
    "\n",
    "> Functions enable us to reuse logic an infinite number of times without the codes."
   ]
  },
  {
   "cell_type": "markdown",
   "id": "d4387237",
   "metadata": {},
   "source": [
    "**Syntax:**\n",
    "- def function_name(arg1,arg2,arg3,…):\n",
    "     - statements\n",
    "     - return expression"
   ]
  },
  {
   "cell_type": "markdown",
   "id": "c89c91d1",
   "metadata": {},
   "source": [
    "> To define a function we must use the keyword def followed by the name of the number followed parentheses. \n",
    "\n",
    "> Inside these parentheses we can list the input to the function.Another name for inputs is arguments.\n",
    "\n",
    "> So lets say this function has zero or no argument , next type a colon and press enter.\n",
    "\n",
    "> The colon  is how your start a new code block in python for our first function we will keep things simple.\n",
    "\n",
    "> We will use keyword pass, the word pass is how you tell python to skip this line and do nothing.\n",
    "\n",
    "> Notice that we indented the code, in python we group code by indentation."
   ]
  },
  {
   "cell_type": "code",
   "execution_count": 8,
   "id": "229e9e1b",
   "metadata": {},
   "outputs": [],
   "source": [
    "def welcome():\n",
    "    print('Welcome to Python Programming')"
   ]
  },
  {
   "cell_type": "code",
   "execution_count": 10,
   "id": "f43ad203",
   "metadata": {},
   "outputs": [
    {
     "name": "stdout",
     "output_type": "stream",
     "text": [
      "Welcome to Python Programming\n"
     ]
    }
   ],
   "source": [
    "welcome()"
   ]
  },
  {
   "cell_type": "markdown",
   "id": "8830522f",
   "metadata": {},
   "source": [
    "The function welcome did nothing as we told this function to do.By the way, look what happens if you forget to type parentheses, withour parentheses , python displays that welcome is a function and also gives its memory address."
   ]
  },
  {
   "cell_type": "code",
   "execution_count": 36,
   "id": "85a9114a",
   "metadata": {},
   "outputs": [
    {
     "data": {
      "text/plain": [
       "<function __main__.welcome()>"
      ]
     },
     "execution_count": 36,
     "metadata": {},
     "output_type": "execute_result"
    }
   ],
   "source": [
    "welcome"
   ]
  },
  {
   "cell_type": "markdown",
   "id": "66f6ce72",
   "metadata": {},
   "source": [
    "###### Now we will write a function that actually does something, \n",
    "- we will start with d-e-f. \n",
    "- We will name this function as greetings. \n",
    "- Next, list the arguments inside parentheses.\n",
    "- This function will have zero arguments. \n",
    "- Finally, type colon and press enter.\n",
    "- Function in python can return values.\n",
    "- To return a  values, type the word “return”  and then the oject.\n",
    "- This function will return the string “Hey There Hello world.”\n",
    "- Return values are optional, you are under no obligation to return something."
   ]
  },
  {
   "cell_type": "code",
   "execution_count": 29,
   "id": "e3dcc284",
   "metadata": {},
   "outputs": [],
   "source": [
    "def greet():\n",
    "    print(\"Hello Learners.\")\n",
    "    print(\"I am your Coach\")\n",
    "    print(\"My name is Jayesh patil\")"
   ]
  },
  {
   "cell_type": "code",
   "execution_count": 30,
   "id": "9ea43f29",
   "metadata": {},
   "outputs": [
    {
     "name": "stdout",
     "output_type": "stream",
     "text": [
      "HEY\n",
      "Hello Learners.\n",
      "I am your Coach\n",
      "My name is Jayesh patil\n"
     ]
    }
   ],
   "source": [
    "print(\"HEY\")\n",
    "greet()"
   ]
  },
  {
   "cell_type": "code",
   "execution_count": 31,
   "id": "a4e44474",
   "metadata": {},
   "outputs": [
    {
     "name": "stdout",
     "output_type": "stream",
     "text": [
      "Hello Learners.\n",
      "I am your Coach\n",
      "My name is Jayesh patil\n",
      "Hello Learners.\n",
      "I am your Coach\n",
      "My name is Jayesh patil\n"
     ]
    }
   ],
   "source": [
    "greet()\n",
    "greet()"
   ]
  },
  {
   "cell_type": "code",
   "execution_count": 32,
   "id": "5dfdef10",
   "metadata": {},
   "outputs": [
    {
     "name": "stdout",
     "output_type": "stream",
     "text": [
      "Hello Learners.\n",
      "I am your Coach\n",
      "My name is Jayesh patil\n",
      "Hello Learners.\n",
      "I am your Coach\n",
      "My name is Jayesh patil\n",
      "Hello Learners.\n",
      "I am your Coach\n",
      "My name is Jayesh patil\n",
      "Hello Learners.\n",
      "I am your Coach\n",
      "My name is Jayesh patil\n",
      "Hello Learners.\n",
      "I am your Coach\n",
      "My name is Jayesh patil\n",
      "Hello Learners.\n",
      "I am your Coach\n",
      "My name is Jayesh patil\n",
      "Hello Learners.\n",
      "I am your Coach\n",
      "My name is Jayesh patil\n",
      "Hello Learners.\n",
      "I am your Coach\n",
      "My name is Jayesh patil\n",
      "Hello Learners.\n",
      "I am your Coach\n",
      "My name is Jayesh patil\n",
      "Hello Learners.\n",
      "I am your Coach\n",
      "My name is Jayesh patil\n"
     ]
    }
   ],
   "source": [
    "for i in range(10):\n",
    "    greet()"
   ]
  },
  {
   "cell_type": "code",
   "execution_count": 11,
   "id": "530b2dd1",
   "metadata": {},
   "outputs": [],
   "source": [
    "def greet(name):\n",
    "    print(f\"Hello {name}\")"
   ]
  },
  {
   "cell_type": "code",
   "execution_count": 12,
   "id": "ddf1f49f",
   "metadata": {},
   "outputs": [
    {
     "name": "stdout",
     "output_type": "stream",
     "text": [
      "Hello Jay\n"
     ]
    }
   ],
   "source": [
    "greet('Jay')"
   ]
  },
  {
   "cell_type": "code",
   "execution_count": 13,
   "id": "d7b776c4",
   "metadata": {},
   "outputs": [
    {
     "name": "stdout",
     "output_type": "stream",
     "text": [
      "Hello Sampada\n"
     ]
    }
   ],
   "source": [
    "greet('Sampada')"
   ]
  },
  {
   "cell_type": "code",
   "execution_count": 33,
   "id": "fe16da0a",
   "metadata": {},
   "outputs": [],
   "source": [
    "def abc():\n",
    "    print(\"Hi,I am abc function\")\n",
    "    \n",
    "def xyz():\n",
    "    print(\"Hi, I am xyz function\")"
   ]
  },
  {
   "cell_type": "code",
   "execution_count": 34,
   "id": "1bf1fc50",
   "metadata": {},
   "outputs": [
    {
     "name": "stdout",
     "output_type": "stream",
     "text": [
      "Hi,I am abc function\n"
     ]
    }
   ],
   "source": [
    "abc()"
   ]
  },
  {
   "cell_type": "code",
   "execution_count": 35,
   "id": "c78bd0d8",
   "metadata": {},
   "outputs": [
    {
     "name": "stdout",
     "output_type": "stream",
     "text": [
      "Hi, I am xyz function\n"
     ]
    }
   ],
   "source": [
    "xyz()"
   ]
  },
  {
   "cell_type": "markdown",
   "id": "bb1cf9c1",
   "metadata": {},
   "source": [
    "We can also store a function into a variable"
   ]
  },
  {
   "cell_type": "code",
   "execution_count": 37,
   "id": "bf2b5c71",
   "metadata": {},
   "outputs": [
    {
     "name": "stdout",
     "output_type": "stream",
     "text": [
      "Hello Learners.\n",
      "I am your Coach\n",
      "My name is Jayesh patil\n"
     ]
    }
   ],
   "source": [
    "x = greet()\n",
    "x"
   ]
  },
  {
   "cell_type": "code",
   "execution_count": 38,
   "id": "a638e6fe",
   "metadata": {},
   "outputs": [],
   "source": [
    "def vol_of_sphere(r):\n",
    "    v = (4.0/3.0)*3.14*(r**3)\n",
    "    return v"
   ]
  },
  {
   "cell_type": "code",
   "execution_count": 39,
   "id": "4109928e",
   "metadata": {},
   "outputs": [
    {
     "data": {
      "text/plain": [
       "523.3333333333334"
      ]
     },
     "execution_count": 39,
     "metadata": {},
     "output_type": "execute_result"
    }
   ],
   "source": [
    "vol_of_sphere(5)"
   ]
  },
  {
   "cell_type": "code",
   "execution_count": 40,
   "id": "086c983d",
   "metadata": {},
   "outputs": [],
   "source": [
    "def vol_of_sph(r):\n",
    "    v = (4.0/3.0)*3.14*(r**3)\n",
    "    print(v)"
   ]
  },
  {
   "cell_type": "code",
   "execution_count": 41,
   "id": "efed3044",
   "metadata": {},
   "outputs": [
    {
     "name": "stdout",
     "output_type": "stream",
     "text": [
      "523.3333333333334\n"
     ]
    }
   ],
   "source": [
    "vol_of_sph(5)"
   ]
  },
  {
   "cell_type": "markdown",
   "id": "12a4868c",
   "metadata": {},
   "source": [
    "Because we used an argument when defining the function, you must provide an inpurt when calling it –‘r’ is a required argument. Look what happens if you call ‘volume’ without any argument."
   ]
  },
  {
   "cell_type": "code",
   "execution_count": 42,
   "id": "0f7da477",
   "metadata": {},
   "outputs": [
    {
     "ename": "TypeError",
     "evalue": "vol_of_sphere() missing 1 required positional argument: 'r'",
     "output_type": "error",
     "traceback": [
      "\u001b[1;31m---------------------------------------------------------------------------\u001b[0m",
      "\u001b[1;31mTypeError\u001b[0m                                 Traceback (most recent call last)",
      "Input \u001b[1;32mIn [42]\u001b[0m, in \u001b[0;36m<cell line: 1>\u001b[1;34m()\u001b[0m\n\u001b[1;32m----> 1\u001b[0m \u001b[43mvol_of_sphere\u001b[49m\u001b[43m(\u001b[49m\u001b[43m)\u001b[49m\n",
      "\u001b[1;31mTypeError\u001b[0m: vol_of_sphere() missing 1 required positional argument: 'r'"
     ]
    }
   ],
   "source": [
    "vol_of_sphere()"
   ]
  },
  {
   "cell_type": "code",
   "execution_count": 43,
   "id": "a7f63fd3",
   "metadata": {},
   "outputs": [
    {
     "data": {
      "text/plain": [
       "9.0"
      ]
     },
     "execution_count": 43,
     "metadata": {},
     "output_type": "execute_result"
    }
   ],
   "source": [
    "def triangle_area(b,h):\n",
    "    return 0.5*b*h\n",
    "\n",
    "triangle_area(3,6)"
   ]
  },
  {
   "cell_type": "markdown",
   "id": "cf874720",
   "metadata": {},
   "source": [
    "Function in python can accept another kind of arguments called “keyword arguments”."
   ]
  },
  {
   "cell_type": "markdown",
   "id": "5f5256be",
   "metadata": {},
   "source": [
    "###### To show how to use these kinds of arguments,\n",
    "- We will write a function which converts a  persons heights from feet and inches to centimeters.\n",
    "- 1 inch = 2.45 cm\n",
    "- 1 foot = 12 inches"
   ]
  },
  {
   "cell_type": "markdown",
   "id": "c15004be",
   "metadata": {},
   "source": [
    "- We will call this function cm , for centimeter. \n",
    "- This  function will accept two arguments, feet and inches.\n",
    "- Notice that these arguments have equal signs after them since we are assigning a default values 0 to each argument. \n",
    "- For this reason, python also calls keyword  arguments, “default” arguments."
   ]
  },
  {
   "cell_type": "code",
   "execution_count": 1,
   "id": "7e138841",
   "metadata": {},
   "outputs": [],
   "source": [
    "def cm(feet =0, inches=0):\n",
    "    inchestocm = inches * 2.54\n",
    "    feettocm = feet * 12 * 2.54\n",
    "    return inchestocm + feettocm\n"
   ]
  },
  {
   "cell_type": "code",
   "execution_count": 2,
   "id": "0a758bbe",
   "metadata": {},
   "outputs": [
    {
     "data": {
      "text/plain": [
       "0.0"
      ]
     },
     "execution_count": 2,
     "metadata": {},
     "output_type": "execute_result"
    }
   ],
   "source": [
    "cm()"
   ]
  },
  {
   "cell_type": "code",
   "execution_count": 3,
   "id": "c360f100",
   "metadata": {},
   "outputs": [
    {
     "data": {
      "text/plain": [
       "152.4"
      ]
     },
     "execution_count": 3,
     "metadata": {},
     "output_type": "execute_result"
    }
   ],
   "source": [
    "cm(5)  #By default it will set inches=0"
   ]
  },
  {
   "cell_type": "code",
   "execution_count": 46,
   "id": "3141ffc7",
   "metadata": {},
   "outputs": [
    {
     "data": {
      "text/plain": [
       "152.4"
      ]
     },
     "execution_count": 46,
     "metadata": {},
     "output_type": "execute_result"
    }
   ],
   "source": [
    "cm(5,0) #feet = 5 ,inches=0"
   ]
  },
  {
   "cell_type": "code",
   "execution_count": 47,
   "id": "9ad6ad88",
   "metadata": {},
   "outputs": [
    {
     "data": {
      "text/plain": [
       "172.72"
      ]
     },
     "execution_count": 47,
     "metadata": {},
     "output_type": "execute_result"
    }
   ],
   "source": [
    "cm(5,8) #feet=5,inches = 8"
   ]
  },
  {
   "cell_type": "code",
   "execution_count": 48,
   "id": "5f192134",
   "metadata": {},
   "outputs": [
    {
     "data": {
      "text/plain": [
       "172.72"
      ]
     },
     "execution_count": 48,
     "metadata": {},
     "output_type": "execute_result"
    }
   ],
   "source": [
    "#we can also specify inches values as first\n",
    "cm(inches=8,feet=5)"
   ]
  },
  {
   "cell_type": "code",
   "execution_count": 49,
   "id": "53457ca6",
   "metadata": {},
   "outputs": [],
   "source": [
    "def greeting(com = \"Facebook\"):\n",
    "    name = input(\"Please enter your name:\")\n",
    "    return f'Welcome to {com},{name}'"
   ]
  },
  {
   "cell_type": "code",
   "execution_count": 50,
   "id": "26110008",
   "metadata": {},
   "outputs": [
    {
     "name": "stdout",
     "output_type": "stream",
     "text": [
      "Please enter your name:Jayesh\n"
     ]
    },
    {
     "data": {
      "text/plain": [
       "'Welcome to Facebook,Jayesh'"
      ]
     },
     "execution_count": 50,
     "metadata": {},
     "output_type": "execute_result"
    }
   ],
   "source": [
    "greeting()"
   ]
  },
  {
   "cell_type": "code",
   "execution_count": 51,
   "id": "f81707b3",
   "metadata": {},
   "outputs": [
    {
     "name": "stdout",
     "output_type": "stream",
     "text": [
      "Please enter your name:Jayesh\n"
     ]
    },
    {
     "data": {
      "text/plain": [
       "'Welcome to Twitter,Jayesh'"
      ]
     },
     "execution_count": 51,
     "metadata": {},
     "output_type": "execute_result"
    }
   ],
   "source": [
    "greeting(com = \"Twitter\")"
   ]
  },
  {
   "cell_type": "code",
   "execution_count": 52,
   "id": "866f010d",
   "metadata": {},
   "outputs": [],
   "source": [
    "def add(x,y):\n",
    "    print('Addition of these values is:', x + y)"
   ]
  },
  {
   "cell_type": "code",
   "execution_count": 53,
   "id": "ed776e99",
   "metadata": {},
   "outputs": [
    {
     "name": "stdout",
     "output_type": "stream",
     "text": [
      "Addition of these values is: 30\n"
     ]
    }
   ],
   "source": [
    "add(10,20)"
   ]
  },
  {
   "cell_type": "code",
   "execution_count": 55,
   "id": "abe9497d",
   "metadata": {},
   "outputs": [
    {
     "name": "stdout",
     "output_type": "stream",
     "text": [
      "Addition of these values is: 30\n",
      "None\n"
     ]
    }
   ],
   "source": [
    "print(add(10,20))  #it creates none object unnecessarily"
   ]
  },
  {
   "cell_type": "code",
   "execution_count": 56,
   "id": "815efd92",
   "metadata": {},
   "outputs": [],
   "source": [
    "def add(x,y):   #return function works like print function without ()\n",
    "    return 'Addition of these values is:', x + y"
   ]
  },
  {
   "cell_type": "code",
   "execution_count": 57,
   "id": "cf25411b",
   "metadata": {},
   "outputs": [
    {
     "name": "stdout",
     "output_type": "stream",
     "text": [
      "('Addition of these values is:', 520)\n"
     ]
    }
   ],
   "source": [
    "print(add(20,500))   #It does not create none object unnecessarily"
   ]
  },
  {
   "cell_type": "code",
   "execution_count": 2,
   "id": "f0d20eed",
   "metadata": {},
   "outputs": [],
   "source": [
    "def add(x,y):   #documentation of a function in the back end.\n",
    "    \"\"\"\n",
    "    This function will allow two values and adds them as Output.\n",
    "    \"\"\"\n",
    "    return 'Addition of these values is:', x + y"
   ]
  },
  {
   "cell_type": "code",
   "execution_count": 4,
   "id": "abd1ec1a",
   "metadata": {},
   "outputs": [
    {
     "data": {
      "text/plain": [
       "('Addition of these values is:', 8991)"
      ]
     },
     "execution_count": 4,
     "metadata": {},
     "output_type": "execute_result"
    }
   ],
   "source": [
    "add(333,8658)"
   ]
  },
  {
   "cell_type": "code",
   "execution_count": 60,
   "id": "d464958f",
   "metadata": {},
   "outputs": [
    {
     "data": {
      "text/plain": [
       "'\\n    This function will allow two values and adds them as Output.\\n    '"
      ]
     },
     "execution_count": 60,
     "metadata": {},
     "output_type": "execute_result"
    }
   ],
   "source": [
    "add.__doc__  #syntax for documentation of a function"
   ]
  },
  {
   "cell_type": "code",
   "execution_count": 61,
   "id": "00d37245",
   "metadata": {},
   "outputs": [
    {
     "ename": "SyntaxError",
     "evalue": "non-default argument follows default argument (714572962.py, line 1)",
     "output_type": "error",
     "traceback": [
      "\u001b[1;36m  Input \u001b[1;32mIn [61]\u001b[1;36m\u001b[0m\n\u001b[1;33m    def g(x=0,y):\u001b[0m\n\u001b[1;37m               ^\u001b[0m\n\u001b[1;31mSyntaxError\u001b[0m\u001b[1;31m:\u001b[0m non-default argument follows default argument\n"
     ]
    }
   ],
   "source": [
    "def g(x=0,y):\n",
    "    return x+y"
   ]
  },
  {
   "cell_type": "markdown",
   "id": "9550cf54",
   "metadata": {},
   "source": [
    "To fix this , we have to list the non-default arguments first.These are also called required arguments.Since they are required."
   ]
  },
  {
   "cell_type": "code",
   "execution_count": 63,
   "id": "cbb755c1",
   "metadata": {},
   "outputs": [],
   "source": [
    "def g(y,x=0):\n",
    "    return x+y"
   ]
  },
  {
   "cell_type": "markdown",
   "id": "d6711163",
   "metadata": {},
   "source": [
    "To call this function, we must pass in a values for  the required argument.Y The keyword argument is optional since by default it will be set as 0."
   ]
  },
  {
   "cell_type": "code",
   "execution_count": 64,
   "id": "23ac12ea",
   "metadata": {},
   "outputs": [
    {
     "data": {
      "text/plain": [
       "10"
      ]
     },
     "execution_count": 64,
     "metadata": {},
     "output_type": "execute_result"
    }
   ],
   "source": [
    "g(10)"
   ]
  },
  {
   "cell_type": "code",
   "execution_count": 65,
   "id": "484a444a",
   "metadata": {},
   "outputs": [
    {
     "data": {
      "text/plain": [
       "8"
      ]
     },
     "execution_count": 65,
     "metadata": {},
     "output_type": "execute_result"
    }
   ],
   "source": [
    "g(5,3)"
   ]
  },
  {
   "cell_type": "code",
   "execution_count": 66,
   "id": "002f412a",
   "metadata": {},
   "outputs": [
    {
     "data": {
      "text/plain": [
       "8"
      ]
     },
     "execution_count": 66,
     "metadata": {},
     "output_type": "execute_result"
    }
   ],
   "source": [
    "#We can also swap the position of argument\n",
    "g(x=3,y=5) #x=3 and y =5 – does the samething as (5,3)\n"
   ]
  },
  {
   "cell_type": "markdown",
   "id": "685631e0",
   "metadata": {},
   "source": [
    "## Parameters passing and arguments"
   ]
  },
  {
   "cell_type": "markdown",
   "id": "2b292d1b",
   "metadata": {},
   "source": [
    "- Now let’s create a function with multiple parameters for example, there’s going to come times like you wanted to build a shoping cart or grocery list program where you don’t exactly know how many things the user is going to have, so you need a way to tell python that I don’t know exactly how many things or element are going to have but I need you to do a certain thing to them.\n",
    "- So to do that let’s create a function named grocerylist and if you wanted to add many things and unknown amount of things, what you need to do is put an astericks before the name of argument."
   ]
  },
  {
   "cell_type": "code",
   "execution_count": 67,
   "id": "497f20a0",
   "metadata": {},
   "outputs": [],
   "source": [
    "def grocerylist(*food):\n",
    "    return food"
   ]
  },
  {
   "cell_type": "code",
   "execution_count": 68,
   "id": "dc265bf2",
   "metadata": {},
   "outputs": [
    {
     "data": {
      "text/plain": [
       "('apple', 'bananas', 'vegies', 'and', ' other', ' stuffs')"
      ]
     },
     "execution_count": 68,
     "metadata": {},
     "output_type": "execute_result"
    }
   ],
   "source": [
    "grocerylist(\"apple\",\"bananas\",\"vegies\",\"and\",\" other\",\" stuffs\")"
   ]
  },
  {
   "cell_type": "code",
   "execution_count": 99,
   "id": "adf3fc79",
   "metadata": {},
   "outputs": [],
   "source": [
    "def welcome(*args):  #we can supply as many as argument we want\n",
    "    for i in args:\n",
    "        print(f'Welcome to Python Programming, {i}')"
   ]
  },
  {
   "cell_type": "code",
   "execution_count": 100,
   "id": "c725be8f",
   "metadata": {
    "scrolled": true
   },
   "outputs": [
    {
     "name": "stdout",
     "output_type": "stream",
     "text": [
      "Welcome to Python Programming, Jayesh\n",
      "Welcome to Python Programming, Sanket\n",
      "Welcome to Python Programming, Rohit\n"
     ]
    }
   ],
   "source": [
    "welcome('Jayesh', 'Sanket','Rohit')"
   ]
  },
  {
   "cell_type": "markdown",
   "id": "098695ed",
   "metadata": {},
   "source": [
    "- As you can see, it not just print out the element but it printed out it as an element in tuple. So now using this astericks we can add many elements to one parameter. \n",
    "- So far we have seen, how to use asterisks with parameters in functions to convert it as tuple, now let’s see how to use askterisks with parameter in functions to convert it as dictionary but instead of using one askterisks we actually use two.\n",
    "- Let’s  say we want to create a function named ‘cart’   for a shopping cart  and to convert it as dictionary we will use askterisks symbol twice."
   ]
  },
  {
   "cell_type": "code",
   "execution_count": 69,
   "id": "64ecb3ae",
   "metadata": {},
   "outputs": [],
   "source": [
    "def cart(**items):\n",
    "    return items"
   ]
  },
  {
   "cell_type": "markdown",
   "id": "31b184ef",
   "metadata": {},
   "source": [
    "- So now let’s call the function and put  some items in there, and any items we put in cart it gets converted to a dictionary and dictionary don’t have single item in it but it has a Key-Value pair.\n",
    "- So that’s what we need for each parameter,  a key or a item and it’s value.Instead of putting apples , we have to put apples = 4 because that’s how many apples you want. "
   ]
  },
  {
   "cell_type": "markdown",
   "id": "fdffc3b7",
   "metadata": {},
   "source": [
    "- Inside your function , whatever comes before the equals sign – is treated as the key of the dictionary and whatever comes after the equals sign is treated as key of the dictionary.\n",
    "- So if we pass apple = 4, then python will treat the ‘apple’  as  the ‘Key’ and ‘4’ as it’s ‘Value’."
   ]
  },
  {
   "cell_type": "code",
   "execution_count": 70,
   "id": "7d8aeefd",
   "metadata": {},
   "outputs": [
    {
     "data": {
      "text/plain": [
       "{'apple': 4, 'oats': 3, 'rice': 2, 'grapes': 6}"
      ]
     },
     "execution_count": 70,
     "metadata": {},
     "output_type": "execute_result"
    }
   ],
   "source": [
    "cart(apple=4,oats=3,rice=2,grapes=6)"
   ]
  },
  {
   "cell_type": "code",
   "execution_count": 71,
   "id": "34e81bda",
   "metadata": {},
   "outputs": [],
   "source": [
    "import math"
   ]
  },
  {
   "cell_type": "code",
   "execution_count": 72,
   "id": "2105acca",
   "metadata": {},
   "outputs": [
    {
     "name": "stdout",
     "output_type": "stream",
     "text": [
      "10\n",
      "7.5\n",
      "JayJayJayJayJay\n",
      "999999999999999\n",
      "15.707963267948966\n",
      "3.141592653589793\n"
     ]
    }
   ],
   "source": [
    "def mno(a):  #giving a particular input inside a function is a parameter a= parameter, a = argument \n",
    "    print(a*5)\n",
    "    \n",
    "mno(2)\n",
    "mno(1.5)\n",
    "mno('Jay')\n",
    "mno('999')\n",
    "mno(math.pi)  #user defined function (pre-defined python/math function)\n",
    "print(math.pi)"
   ]
  },
  {
   "cell_type": "code",
   "execution_count": 73,
   "id": "cb58f8a3",
   "metadata": {},
   "outputs": [
    {
     "name": "stdout",
     "output_type": "stream",
     "text": [
      "25\n"
     ]
    }
   ],
   "source": [
    "def mno(a):\n",
    "    a = a**2\n",
    "    return a\n",
    "\n",
    "x = mno(5)\n",
    "print(x)"
   ]
  },
  {
   "cell_type": "code",
   "execution_count": 74,
   "id": "74767569",
   "metadata": {},
   "outputs": [
    {
     "name": "stdout",
     "output_type": "stream",
     "text": [
      "Enter radius of the circle:52\n",
      "8494.8665353068\n"
     ]
    }
   ],
   "source": [
    "import math as m\n",
    "def area(radius):\n",
    "    a = m.pi*radius*radius\n",
    "    return a\n",
    "\n",
    "r = float(input(\"Enter radius of the circle:\"))\n",
    "ar = area(r)\n",
    "print(ar)"
   ]
  },
  {
   "cell_type": "code",
   "execution_count": 75,
   "id": "6a12d75a",
   "metadata": {},
   "outputs": [
    {
     "name": "stdout",
     "output_type": "stream",
     "text": [
      "Enter the radius of the circle25\n",
      "Area of the circle = 1963.5\n"
     ]
    }
   ],
   "source": [
    "def area(radius):\n",
    "    return (m.pi*radius*radius)\n",
    "print(\"Area of the circle =\",round(area(float(input('Enter the radius of the circle'))),2))"
   ]
  },
  {
   "cell_type": "code",
   "execution_count": 76,
   "id": "3c1494ac",
   "metadata": {},
   "outputs": [
    {
     "name": "stdout",
     "output_type": "stream",
     "text": [
      "20.0\n",
      "567.87\n"
     ]
    }
   ],
   "source": [
    "#program to find the average of 3 months\n",
    "def avg(n1,n2,n3):\n",
    "    res=n1+n2+n3\n",
    "    print(res/3)\n",
    "avg(10,20,30)\n",
    "avg(789,256.25,658.36)"
   ]
  },
  {
   "cell_type": "code",
   "execution_count": 77,
   "id": "32c66f1b",
   "metadata": {},
   "outputs": [
    {
     "name": "stdout",
     "output_type": "stream",
     "text": [
      "1.0\n",
      "0.6666666666666666\n",
      "2.6666666666666665\n",
      "4.333333333333333\n",
      "4.333333333333333\n",
      "Enter the value of n3:52\n",
      "Enter the value of n1:25\n",
      "26.0\n"
     ]
    }
   ],
   "source": [
    "def avg(n1=2,n2=1,n3=0):\n",
    "    sum = n1+n2+n3\n",
    "    print(sum/3)\n",
    "\n",
    "avg()\n",
    "avg(1)\n",
    "avg(3,5)\n",
    "avg(n1=5,n3=7)\n",
    "avg(n3=7,n1=5)\n",
    "avg(n3=int(input(\"Enter the value of n3:\")),n1= int(input(\"Enter the value of n1:\")))"
   ]
  },
  {
   "cell_type": "code",
   "execution_count": 78,
   "id": "7e87e34a",
   "metadata": {},
   "outputs": [],
   "source": [
    "def profile(firstname,lastname,*language,**level):\n",
    "    name =firstname.title() + \" \" + lastname.title()\n",
    "    return f\"Name-: {name}\\nSKills-: {language}\\nLevel-: {level}\""
   ]
  },
  {
   "cell_type": "code",
   "execution_count": 1,
   "id": "5b3be40e",
   "metadata": {},
   "outputs": [],
   "source": [
    "def profile(firstname,lastname,*languages,**level):\n",
    "    name = firstname.title()+\" \"+lastname.title()\n",
    "    return f\"Name :-{name}\\nSkills :- {languages}\\nLevel :- {level}\""
   ]
  },
  {
   "cell_type": "code",
   "execution_count": 2,
   "id": "41ce8d11",
   "metadata": {},
   "outputs": [
    {
     "name": "stdout",
     "output_type": "stream",
     "text": [
      "Name :-Aryan Khanna\n",
      "Skills :- ('Python', 'R', 'SQL')\n",
      "Level :- {'Python': 'Intermidiate', 'R': 'Beginer', 'SQL': 'Intermidiate'}\n"
     ]
    }
   ],
   "source": [
    "x = profile(\"Aryan\",\"Khanna\",\"Python\",\"R\",\"SQL\",Python = \"Intermidiate\",R = \"Beginer\", SQL = \"Intermidiate\")\n",
    "print(x)"
   ]
  },
  {
   "cell_type": "code",
   "execution_count": 80,
   "id": "9760aa36",
   "metadata": {},
   "outputs": [
    {
     "name": "stdout",
     "output_type": "stream",
     "text": [
      "Name-: Aryan Khanna\n",
      "SKills-: ('Python', 'R', 'SQL')\n",
      "Level-: {'Python': 'Intermidiate', 'R': 'Beginer', 'SQL': 'Intermidiate'}\n"
     ]
    }
   ],
   "source": [
    "var1 = ('Python', 'R', 'SQL')\n",
    "var2 = {'Python': 'Intermidiate', 'R': 'Beginer', 'SQL': 'Intermidiate'}\n",
    "x = profile(\"Aryan\",\"Khanna\",*var1,**var2)\n",
    "print(x)"
   ]
  },
  {
   "cell_type": "markdown",
   "id": "7cf13201",
   "metadata": {},
   "source": [
    "# Recursive function"
   ]
  },
  {
   "cell_type": "markdown",
   "id": "f223b2e5",
   "metadata": {},
   "source": [
    "Recursion is a method of programming or coding a problem, in which a function calls itself one or more times in its body.\n",
    "for ex. Fibonacci Series"
   ]
  },
  {
   "cell_type": "code",
   "execution_count": 81,
   "id": "59fe3af9",
   "metadata": {},
   "outputs": [
    {
     "name": "stdout",
     "output_type": "stream",
     "text": [
      "5\n",
      "4\n",
      "3\n",
      "2\n",
      "1\n",
      "Blast off!!!\n"
     ]
    }
   ],
   "source": [
    "def countdown(n):\n",
    "    if n<=0:\n",
    "        print('Blast off!!!')\n",
    "    else:\n",
    "        print(n)\n",
    "        countdown(n-1)\n",
    "\n",
    "countdown(5)"
   ]
  },
  {
   "cell_type": "code",
   "execution_count": 82,
   "id": "73c4ff92",
   "metadata": {},
   "outputs": [],
   "source": [
    "import random\n",
    "secretnum = random.randint(0,10)"
   ]
  },
  {
   "cell_type": "code",
   "execution_count": 83,
   "id": "4a4c4f31",
   "metadata": {},
   "outputs": [],
   "source": [
    "def guessgame(n):\n",
    "    for i in range(n):   #repeat a operation 3 times\n",
    "        guess = eval(input('Please guess a number between 0 to 10:'))\n",
    "        if secretnum == guess:\n",
    "            print('\\nYay ! you are a Genius')\n",
    "        elif secretnum < guess:\n",
    "            print('\\nGuess Lesser')\n",
    "        elif secretnum > guess:\n",
    "            print('\\nGuess Higher')"
   ]
  },
  {
   "cell_type": "code",
   "execution_count": 84,
   "id": "24d7d1c3",
   "metadata": {},
   "outputs": [
    {
     "name": "stdout",
     "output_type": "stream",
     "text": [
      "Please guess a number between 0 to 10:5\n",
      "\n",
      "Guess Lesser\n",
      "Please guess a number between 0 to 10:3\n",
      "\n",
      "Yay ! you are a Genius\n",
      "Please guess a number between 0 to 10:3\n",
      "\n",
      "Yay ! you are a Genius\n",
      "Please guess a number between 0 to 10:3\n",
      "\n",
      "Yay ! you are a Genius\n",
      "Please guess a number between 0 to 10:3\n",
      "\n",
      "Yay ! you are a Genius\n"
     ]
    }
   ],
   "source": [
    "guessgame(5)"
   ]
  },
  {
   "cell_type": "code",
   "execution_count": 85,
   "id": "5a1be904",
   "metadata": {},
   "outputs": [],
   "source": [
    "def oddnums(n,m):   # odd numbers between range\n",
    "    a = []\n",
    "    for i in range(n,m):\n",
    "        if i % 2 ==1:\n",
    "            a.append(i)\n",
    "    return a    "
   ]
  },
  {
   "cell_type": "code",
   "execution_count": 86,
   "id": "eaf1acac",
   "metadata": {},
   "outputs": [
    {
     "name": "stdout",
     "output_type": "stream",
     "text": [
      "[11, 13, 15, 17, 19, 21, 23, 25, 27, 29, 31, 33, 35, 37, 39, 41, 43, 45, 47, 49, 51, 53, 55, 57, 59, 61, 63, 65, 67, 69, 71, 73, 75, 77, 79, 81, 83, 85, 87, 89, 91, 93, 95, 97, 99] "
     ]
    }
   ],
   "source": [
    "print(oddnums(10,100), end = \" \")    #odd numbers between 10 and 100"
   ]
  },
  {
   "cell_type": "code",
   "execution_count": 87,
   "id": "326ef61a",
   "metadata": {},
   "outputs": [
    {
     "name": "stdout",
     "output_type": "stream",
     "text": [
      "5\n",
      "The value supplied as input is 5\n",
      "The square of the given value is 25\n"
     ]
    }
   ],
   "source": [
    "def squares(a):\n",
    "    print('The value supplied as input is', a)\n",
    "    b = a**2\n",
    "    return b\n",
    "#     print(b)\n",
    "\n",
    "a = eval(input())\n",
    "print('The square of the given value is', squares(a))"
   ]
  },
  {
   "cell_type": "code",
   "execution_count": 88,
   "id": "cf9b8f0a",
   "metadata": {},
   "outputs": [
    {
     "name": "stdout",
     "output_type": "stream",
     "text": [
      "The value supplied as input is 10\n"
     ]
    },
    {
     "data": {
      "text/plain": [
       "100"
      ]
     },
     "execution_count": 88,
     "metadata": {},
     "output_type": "execute_result"
    }
   ],
   "source": [
    "squares(10)"
   ]
  },
  {
   "cell_type": "code",
   "execution_count": 89,
   "id": "03c1e6ad",
   "metadata": {},
   "outputs": [],
   "source": [
    "def range_values(a):\n",
    "    if a < 100:\n",
    "        print('Value is less than 100')\n",
    "    elif a >=100 and a <250:\n",
    "        print('value is less than 250 but greater than 100')\n",
    "    else:\n",
    "        print(\"Greater than 250\")"
   ]
  },
  {
   "cell_type": "code",
   "execution_count": 90,
   "id": "0205c0fa",
   "metadata": {},
   "outputs": [
    {
     "name": "stdout",
     "output_type": "stream",
     "text": [
      "Value is less than 100\n",
      "value is less than 250 but greater than 100\n",
      "Greater than 250\n"
     ]
    }
   ],
   "source": [
    "for i in [90, 150, 3500]:\n",
    "    range_values(i)"
   ]
  },
  {
   "cell_type": "code",
   "execution_count": 91,
   "id": "dcee0031",
   "metadata": {},
   "outputs": [],
   "source": [
    "def sum_of_squares(a,b):\n",
    "    c = squares(a)+squares(b)\n",
    "    print(c)"
   ]
  },
  {
   "cell_type": "code",
   "execution_count": 92,
   "id": "879c67b4",
   "metadata": {},
   "outputs": [
    {
     "name": "stdout",
     "output_type": "stream",
     "text": [
      "The value supplied as input is 5\n",
      "The value supplied as input is 5\n",
      "50\n"
     ]
    }
   ],
   "source": [
    "sum_of_squares(5,5)"
   ]
  },
  {
   "cell_type": "code",
   "execution_count": 93,
   "id": "5a7d241e",
   "metadata": {},
   "outputs": [
    {
     "name": "stdout",
     "output_type": "stream",
     "text": [
      "The value supplied as input is 5\n",
      "The value supplied as input is 6\n",
      "61\n"
     ]
    }
   ],
   "source": [
    "sum_of_squares(5,6)"
   ]
  },
  {
   "cell_type": "code",
   "execution_count": 94,
   "id": "ea4df0b1",
   "metadata": {},
   "outputs": [],
   "source": [
    "def temp():\n",
    "    temp = 0 \n",
    "    while temp!=-1000:\n",
    "        temp = eval(input('Enter a temperature (-1000 to quit): ')) \n",
    "        print('In Fahrenheit that is', 9/5*temp+32, '\\n')\n",
    "    print('The loop is over now')"
   ]
  },
  {
   "cell_type": "code",
   "execution_count": 95,
   "id": "7860ddcf",
   "metadata": {},
   "outputs": [
    {
     "name": "stdout",
     "output_type": "stream",
     "text": [
      "Enter a temperature (-1000 to quit): 25\n",
      "In Fahrenheit that is 77.0 \n",
      "\n",
      "Enter a temperature (-1000 to quit): -1000\n",
      "In Fahrenheit that is -1768.0 \n",
      "\n",
      "The loop is over now\n"
     ]
    }
   ],
   "source": [
    "temp()"
   ]
  },
  {
   "cell_type": "code",
   "execution_count": 101,
   "id": "81252f80",
   "metadata": {},
   "outputs": [
    {
     "name": "stdout",
     "output_type": "stream",
     "text": [
      "Negative\n",
      "Zero\n",
      "Positive\n"
     ]
    }
   ],
   "source": [
    "def sign(x):\n",
    "    if x > 0:\n",
    "        print('Positive')\n",
    "    elif x < 0:\n",
    "        print('Negative')\n",
    "    else:\n",
    "        print('Zero')\n",
    "        \n",
    "for i in [-1, 0, 2]:\n",
    "    sign(i)"
   ]
  },
  {
   "cell_type": "code",
   "execution_count": 1,
   "id": "c515c42b",
   "metadata": {},
   "outputs": [
    {
     "name": "stdout",
     "output_type": "stream",
     "text": [
      "1 :-  1\n",
      "2 :-  1\n",
      "3 :-  2\n",
      "4 :-  3\n",
      "5 :-  5\n",
      "6 :-  8\n",
      "7 :-  13\n",
      "8 :-  21\n",
      "9 :-  34\n",
      "10 :-  55\n"
     ]
    }
   ],
   "source": [
    "#fibonacci series by recurssion\n",
    "def fibo(n):\n",
    "    if n==1:\n",
    "        return 1\n",
    "    elif n==2:\n",
    "        return 1\n",
    "    elif n>2:\n",
    "        return fibo(n-1) + fibo(n-2)\n",
    "\n",
    "for i in range(1,11):\n",
    "    print(i,\":- \", fibo(i))\n"
   ]
  },
  {
   "cell_type": "code",
   "execution_count": 3,
   "id": "5c845c28",
   "metadata": {},
   "outputs": [
    {
     "name": "stdout",
     "output_type": "stream",
     "text": [
      "1 :-  1\n",
      "2 :-  1\n",
      "3 :-  2\n",
      "4 :-  3\n",
      "5 :-  5\n",
      "6 :-  8\n",
      "7 :-  13\n",
      "8 :-  21\n",
      "9 :-  34\n",
      "10 :-  55\n",
      "11 :-  89\n",
      "12 :-  144\n",
      "13 :-  233\n",
      "14 :-  377\n",
      "15 :-  610\n",
      "16 :-  987\n",
      "17 :-  1597\n",
      "18 :-  2584\n",
      "19 :-  4181\n",
      "20 :-  6765\n",
      "21 :-  10946\n",
      "22 :-  17711\n",
      "23 :-  28657\n",
      "24 :-  46368\n",
      "25 :-  75025\n",
      "26 :-  121393\n",
      "27 :-  196418\n",
      "28 :-  317811\n",
      "29 :-  514229\n",
      "30 :-  832040\n"
     ]
    }
   ],
   "source": [
    "for i in range(1,31):\n",
    "    print(i,\":- \", fibo(i))\n"
   ]
  },
  {
   "cell_type": "code",
   "execution_count": 5,
   "id": "1e2b0ab6",
   "metadata": {},
   "outputs": [],
   "source": [
    "# Function for nth Fibonacci number \n",
    "\n",
    "def Fibonacci(n): \n",
    "    if n<0: \n",
    "        print(\"Incorrect input\") \n",
    "    elif n==1: \n",
    "        return 0\n",
    "    elif n==2: \n",
    "        return 1\n",
    "    else: \n",
    "        return Fibonacci(n-1)+Fibonacci(n-2) "
   ]
  },
  {
   "cell_type": "code",
   "execution_count": 6,
   "id": "b2d22888",
   "metadata": {},
   "outputs": [
    {
     "name": "stdout",
     "output_type": "stream",
     "text": [
      "1\n",
      "1\n",
      "2\n",
      "3\n",
      "5\n"
     ]
    }
   ],
   "source": [
    "n = range(2,7)\n",
    "for i in n:\n",
    "    print(Fibonacci(i))"
   ]
  },
  {
   "cell_type": "markdown",
   "id": "eb6ba2ca",
   "metadata": {},
   "source": [
    "###### There are several ways to use memorization in python.\n",
    "- Implementing memorization explicitly.\n",
    "- Using built-in python tool"
   ]
  },
  {
   "cell_type": "markdown",
   "id": "e8250f6d",
   "metadata": {},
   "source": [
    "To begin we should create a dictionary  ‘cache’  which will store the recent function calls,then write the Fibonacci function to make use of cached value.We do not want to simply return the value, instead we will compute the value , cache it and then return it."
   ]
  },
  {
   "cell_type": "code",
   "execution_count": 7,
   "id": "9118827e",
   "metadata": {},
   "outputs": [
    {
     "name": "stdout",
     "output_type": "stream",
     "text": [
      "1 :-  1\n",
      "2 :-  1\n",
      "3 :-  2\n",
      "4 :-  3\n",
      "5 :-  5\n",
      "6 :-  8\n",
      "7 :-  13\n",
      "8 :-  21\n",
      "9 :-  34\n",
      "10 :-  55\n",
      "11 :-  89\n",
      "12 :-  144\n",
      "13 :-  233\n",
      "14 :-  377\n",
      "15 :-  610\n",
      "16 :-  987\n",
      "17 :-  1597\n",
      "18 :-  2584\n",
      "19 :-  4181\n",
      "20 :-  6765\n",
      "21 :-  10946\n",
      "22 :-  17711\n",
      "23 :-  28657\n",
      "24 :-  46368\n",
      "25 :-  75025\n",
      "26 :-  121393\n",
      "27 :-  196418\n",
      "28 :-  317811\n",
      "29 :-  514229\n",
      "30 :-  832040\n",
      "31 :-  1346269\n",
      "32 :-  2178309\n",
      "33 :-  3524578\n",
      "34 :-  5702887\n",
      "35 :-  9227465\n",
      "36 :-  14930352\n",
      "37 :-  24157817\n",
      "38 :-  39088169\n",
      "39 :-  63245986\n",
      "40 :-  102334155\n",
      "41 :-  165580141\n",
      "42 :-  267914296\n",
      "43 :-  433494437\n",
      "44 :-  701408733\n",
      "45 :-  1134903170\n",
      "46 :-  1836311903\n",
      "47 :-  2971215073\n",
      "48 :-  4807526976\n",
      "49 :-  7778742049\n",
      "50 :-  12586269025\n",
      "51 :-  20365011074\n",
      "52 :-  32951280099\n",
      "53 :-  53316291173\n",
      "54 :-  86267571272\n",
      "55 :-  139583862445\n",
      "56 :-  225851433717\n",
      "57 :-  365435296162\n",
      "58 :-  591286729879\n",
      "59 :-  956722026041\n",
      "60 :-  1548008755920\n",
      "61 :-  2504730781961\n",
      "62 :-  4052739537881\n",
      "63 :-  6557470319842\n",
      "64 :-  10610209857723\n",
      "65 :-  17167680177565\n",
      "66 :-  27777890035288\n",
      "67 :-  44945570212853\n",
      "68 :-  72723460248141\n",
      "69 :-  117669030460994\n",
      "70 :-  190392490709135\n",
      "71 :-  308061521170129\n",
      "72 :-  498454011879264\n",
      "73 :-  806515533049393\n",
      "74 :-  1304969544928657\n",
      "75 :-  2111485077978050\n",
      "76 :-  3416454622906707\n",
      "77 :-  5527939700884757\n",
      "78 :-  8944394323791464\n",
      "79 :-  14472334024676221\n",
      "80 :-  23416728348467685\n",
      "81 :-  37889062373143906\n",
      "82 :-  61305790721611591\n",
      "83 :-  99194853094755497\n",
      "84 :-  160500643816367088\n",
      "85 :-  259695496911122585\n",
      "86 :-  420196140727489673\n",
      "87 :-  679891637638612258\n",
      "88 :-  1100087778366101931\n",
      "89 :-  1779979416004714189\n",
      "90 :-  2880067194370816120\n",
      "91 :-  4660046610375530309\n",
      "92 :-  7540113804746346429\n",
      "93 :-  12200160415121876738\n",
      "94 :-  19740274219868223167\n",
      "95 :-  31940434634990099905\n",
      "96 :-  51680708854858323072\n",
      "97 :-  83621143489848422977\n",
      "98 :-  135301852344706746049\n",
      "99 :-  218922995834555169026\n",
      "100 :-  354224848179261915075\n"
     ]
    }
   ],
   "source": [
    "cache={}\n",
    "def fibo(n):\n",
    "    if n in cache:\n",
    "        return cache[n]\n",
    "    if n ==1:\n",
    "        value =1\n",
    "    elif n==2:\n",
    "        value =1\n",
    "    elif n>2:\n",
    "        value = fibo(n-1) + fibo(n-2)\n",
    "    \n",
    "    cache[n] = value\n",
    "    return value\n",
    "\n",
    "for i in range(1,101):\n",
    "    print(i,\":- \",fibo(i))\n"
   ]
  },
  {
   "cell_type": "markdown",
   "id": "6d512fb2",
   "metadata": {},
   "source": [
    "So now you can use the code and checkout yourself, it works perfectly fine. Now that you have seen the explicit use of memoization, but the simpler approach would be using the built-in lru_cache module, stands for Least Recently Used Cache."
   ]
  },
  {
   "cell_type": "markdown",
   "id": "e5263f05",
   "metadata": {},
   "source": [
    "To use this,import the module and then  type @lru_cache(maxsize=1000) before our function. In parentheses, enter the number of value to cache by default python will cache 128 most recent values. So if you do not specify the maxsize you will still see the benefits."
   ]
  },
  {
   "cell_type": "code",
   "execution_count": 8,
   "id": "2039b7e2",
   "metadata": {},
   "outputs": [
    {
     "name": "stdout",
     "output_type": "stream",
     "text": [
      "1 :-  1\n",
      "2 :-  2\n",
      "3 :-  3\n",
      "4 :-  5\n",
      "5 :-  8\n",
      "6 :-  13\n",
      "7 :-  21\n",
      "8 :-  34\n",
      "9 :-  55\n",
      "10 :-  89\n",
      "11 :-  144\n",
      "12 :-  233\n",
      "13 :-  377\n",
      "14 :-  610\n",
      "15 :-  987\n",
      "16 :-  1597\n",
      "17 :-  2584\n",
      "18 :-  4181\n",
      "19 :-  6765\n",
      "20 :-  10946\n",
      "21 :-  17711\n",
      "22 :-  28657\n",
      "23 :-  46368\n",
      "24 :-  75025\n",
      "25 :-  121393\n",
      "26 :-  196418\n",
      "27 :-  317811\n",
      "28 :-  514229\n",
      "29 :-  832040\n",
      "30 :-  1346269\n",
      "31 :-  2178309\n",
      "32 :-  3524578\n",
      "33 :-  5702887\n",
      "34 :-  9227465\n",
      "35 :-  14930352\n",
      "36 :-  24157817\n",
      "37 :-  39088169\n",
      "38 :-  63245986\n",
      "39 :-  102334155\n",
      "40 :-  165580141\n",
      "41 :-  267914296\n",
      "42 :-  433494437\n",
      "43 :-  701408733\n",
      "44 :-  1134903170\n",
      "45 :-  1836311903\n",
      "46 :-  2971215073\n",
      "47 :-  4807526976\n",
      "48 :-  7778742049\n",
      "49 :-  12586269025\n",
      "50 :-  20365011074\n",
      "51 :-  32951280099\n",
      "52 :-  53316291173\n",
      "53 :-  86267571272\n",
      "54 :-  139583862445\n",
      "55 :-  225851433717\n",
      "56 :-  365435296162\n",
      "57 :-  591286729879\n",
      "58 :-  956722026041\n",
      "59 :-  1548008755920\n",
      "60 :-  2504730781961\n",
      "61 :-  4052739537881\n",
      "62 :-  6557470319842\n",
      "63 :-  10610209857723\n",
      "64 :-  17167680177565\n",
      "65 :-  27777890035288\n",
      "66 :-  44945570212853\n",
      "67 :-  72723460248141\n",
      "68 :-  117669030460994\n",
      "69 :-  190392490709135\n",
      "70 :-  308061521170129\n",
      "71 :-  498454011879264\n",
      "72 :-  806515533049393\n",
      "73 :-  1304969544928657\n",
      "74 :-  2111485077978050\n",
      "75 :-  3416454622906707\n",
      "76 :-  5527939700884757\n",
      "77 :-  8944394323791464\n",
      "78 :-  14472334024676221\n",
      "79 :-  23416728348467685\n",
      "80 :-  37889062373143906\n",
      "81 :-  61305790721611591\n",
      "82 :-  99194853094755497\n",
      "83 :-  160500643816367088\n",
      "84 :-  259695496911122585\n",
      "85 :-  420196140727489673\n",
      "86 :-  679891637638612258\n",
      "87 :-  1100087778366101931\n",
      "88 :-  1779979416004714189\n",
      "89 :-  2880067194370816120\n",
      "90 :-  4660046610375530309\n",
      "91 :-  7540113804746346429\n",
      "92 :-  12200160415121876738\n",
      "93 :-  19740274219868223167\n",
      "94 :-  31940434634990099905\n",
      "95 :-  51680708854858323072\n",
      "96 :-  83621143489848422977\n",
      "97 :-  135301852344706746049\n",
      "98 :-  218922995834555169026\n",
      "99 :-  354224848179261915075\n"
     ]
    }
   ],
   "source": [
    "from functools import lru_cache\n",
    "@lru_cache(maxsize =1000)\n",
    "\n",
    "def fibo(n):\n",
    "    if n==1:\n",
    "        return 1\n",
    "    elif n==2:\n",
    "        return 2\n",
    "    elif n>2:\n",
    "        return fibo(n-1) + fibo(n-2)\n",
    "    \n",
    "for i in range(1,100):\n",
    "    print(i,\":- \", fibo(i))"
   ]
  },
  {
   "cell_type": "code",
   "execution_count": 9,
   "id": "d3dd95e9",
   "metadata": {},
   "outputs": [],
   "source": [
    "#Here’s, the example of Fibonacci series without recursion.\n",
    "\n",
    "def fibo(n):\n",
    "    a,b = 0,1\n",
    "    for i in range(n):\n",
    "        print(a)\n",
    "        c=a+b\n",
    "        a=b\n",
    "        b=c\n",
    "        \n",
    "    return b"
   ]
  },
  {
   "cell_type": "code",
   "execution_count": 10,
   "id": "27824d15",
   "metadata": {},
   "outputs": [
    {
     "name": "stdout",
     "output_type": "stream",
     "text": [
      "0\n",
      "1\n",
      "1\n",
      "2\n",
      "3\n",
      "5\n",
      "8\n",
      "13\n",
      "21\n",
      "34\n",
      "55\n",
      "89\n",
      "144\n",
      "233\n",
      "377\n",
      "610\n",
      "987\n",
      "1597\n",
      "2584\n",
      "4181\n",
      "6765\n",
      "10946\n",
      "17711\n",
      "28657\n",
      "46368\n",
      "75025\n",
      "121393\n",
      "196418\n",
      "317811\n",
      "514229\n",
      "832040\n",
      "1346269\n",
      "2178309\n",
      "3524578\n",
      "5702887\n",
      "9227465\n",
      "14930352\n",
      "24157817\n",
      "39088169\n",
      "63245986\n",
      "102334155\n",
      "165580141\n",
      "267914296\n",
      "433494437\n",
      "701408733\n",
      "1134903170\n",
      "1836311903\n",
      "2971215073\n",
      "4807526976\n",
      "7778742049\n",
      "12586269025\n",
      "20365011074\n",
      "32951280099\n",
      "53316291173\n",
      "86267571272\n",
      "139583862445\n",
      "225851433717\n",
      "365435296162\n",
      "591286729879\n",
      "956722026041\n",
      "1548008755920\n",
      "2504730781961\n",
      "4052739537881\n",
      "6557470319842\n",
      "10610209857723\n",
      "17167680177565\n",
      "27777890035288\n",
      "44945570212853\n",
      "72723460248141\n",
      "117669030460994\n",
      "190392490709135\n",
      "308061521170129\n",
      "498454011879264\n",
      "806515533049393\n",
      "1304969544928657\n",
      "2111485077978050\n",
      "3416454622906707\n",
      "5527939700884757\n",
      "8944394323791464\n",
      "14472334024676221\n",
      "23416728348467685\n",
      "37889062373143906\n",
      "61305790721611591\n",
      "99194853094755497\n",
      "160500643816367088\n",
      "259695496911122585\n",
      "420196140727489673\n",
      "679891637638612258\n",
      "1100087778366101931\n",
      "1779979416004714189\n",
      "2880067194370816120\n",
      "4660046610375530309\n",
      "7540113804746346429\n",
      "12200160415121876738\n",
      "19740274219868223167\n",
      "31940434634990099905\n",
      "51680708854858323072\n",
      "83621143489848422977\n",
      "135301852344706746049\n",
      "218922995834555169026\n"
     ]
    },
    {
     "data": {
      "text/plain": [
       "573147844013817084101"
      ]
     },
     "execution_count": 10,
     "metadata": {},
     "output_type": "execute_result"
    }
   ],
   "source": [
    "fibo(100)"
   ]
  },
  {
   "cell_type": "code",
   "execution_count": null,
   "id": "0064c87d",
   "metadata": {},
   "outputs": [],
   "source": []
  }
 ],
 "metadata": {
  "kernelspec": {
   "display_name": "Python 3 (ipykernel)",
   "language": "python",
   "name": "python3"
  },
  "language_info": {
   "codemirror_mode": {
    "name": "ipython",
    "version": 3
   },
   "file_extension": ".py",
   "mimetype": "text/x-python",
   "name": "python",
   "nbconvert_exporter": "python",
   "pygments_lexer": "ipython3",
   "version": "3.9.12"
  }
 },
 "nbformat": 4,
 "nbformat_minor": 5
}
