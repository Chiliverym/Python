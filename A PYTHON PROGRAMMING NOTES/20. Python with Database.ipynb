{
 "cells": [
  {
   "cell_type": "raw",
   "id": "ed498c3d",
   "metadata": {},
   "source": [
    "In order to establish a communication between Python and DBMS. PYMSQL module is required which connect python with DBMS. "
   ]
  },
  {
   "cell_type": "code",
   "execution_count": 1,
   "id": "bfbc2cfe",
   "metadata": {},
   "outputs": [
    {
     "name": "stdout",
     "output_type": "stream",
     "text": [
      "Requirement already satisfied: pymysql in c:\\users\\hp\\anaconda3\\lib\\site-packages (1.0.2)\n",
      "Note: you may need to restart the kernel to use updated packages.\n"
     ]
    }
   ],
   "source": [
    "pip install pymysql"
   ]
  },
  {
   "cell_type": "code",
   "execution_count": 2,
   "id": "051e3e65",
   "metadata": {},
   "outputs": [],
   "source": [
    "import pymysql"
   ]
  },
  {
   "cell_type": "raw",
   "id": "2a880da6",
   "metadata": {},
   "source": [
    "pymysql.connect() which helps us to connect our python with database.\n",
    "There are four keyword arguments:\n",
    "host = \"localhost\"\n",
    "user = \"root\"\n",
    "password=\"\"\n",
    "database = \"abc\""
   ]
  },
  {
   "cell_type": "code",
   "execution_count": 3,
   "id": "0c773a07",
   "metadata": {},
   "outputs": [
    {
     "name": "stdout",
     "output_type": "stream",
     "text": [
      "<pymysql.connections.Connection object at 0x00000248E3AFCD60>\n",
      "Connected successfully\n"
     ]
    }
   ],
   "source": [
    "try:\n",
    "    db = pymysql.connect(host=\"localhost\",user=\"root\",password=\"\",database=\"abc\")\n",
    "    print(db)\n",
    "    print(\"Connected successfully\")\n",
    "except Exception as e:\n",
    "    print(\"Error:\",e)"
   ]
  },
  {
   "cell_type": "code",
   "execution_count": 4,
   "id": "fc181955",
   "metadata": {},
   "outputs": [
    {
     "name": "stdout",
     "output_type": "stream",
     "text": [
      "Error: (1049, \"Unknown database 'rajat'\")\n"
     ]
    }
   ],
   "source": [
    "#unknown database error\n",
    "try:\n",
    "    db = pymysql.connect(host=\"localhost\",user=\"root\",password=\"\",database=\"rajat\")\n",
    "    print(db)\n",
    "    print(\"Connected successfully\")\n",
    "except Exception as e:\n",
    "    print(\"Error:\",e)"
   ]
  },
  {
   "cell_type": "markdown",
   "id": "866ca493",
   "metadata": {},
   "source": [
    "## CRUD Operations\n",
    "\n",
    "- C Create => To insert record into database\n",
    "- R Read => To retrieve all records or single record from database.\n",
    "- U Update => To update record from database.\n",
    "- D Delete => To delete record from database."
   ]
  },
  {
   "cell_type": "raw",
   "id": "807e1341",
   "metadata": {},
   "source": [
    "Insert record into Database Table task.\n",
    "\n",
    "Step 1: Connect python with DBMS.\n",
    "Step 2: Cursor creation cu=db.cursor()\n",
    "Step 3: Prepare sql query for operation(string) q=\"sql query\"\n",
    "Step 4: Execute query with cursor cu.execute(q)\n",
    "Step 5: commit() =>db.commit()"
   ]
  },
  {
   "cell_type": "code",
   "execution_count": 6,
   "id": "39ad6a17",
   "metadata": {},
   "outputs": [
    {
     "name": "stdout",
     "output_type": "stream",
     "text": [
      "Record inserted successfully\n"
     ]
    }
   ],
   "source": [
    "try:\n",
    "    db = pymysql.connect(host=\"localhost\",user=\"root\",password=\"\",database=\"abc\")\n",
    "    cu = db.cursor()\n",
    "    q = \"insert into students(Name,Course,Date)values('Suraj','AWS','2022-10-21')\"\n",
    "    cu.execute(q)\n",
    "    db.commit()\n",
    "    print(\"Record inserted successfully\")\n",
    "except Exception as e:\n",
    "    print(\"Error:\",e)"
   ]
  },
  {
   "cell_type": "code",
   "execution_count": 7,
   "id": "3dfeb612",
   "metadata": {},
   "outputs": [
    {
     "name": "stdout",
     "output_type": "stream",
     "text": [
      "Record inserted successfully\n"
     ]
    }
   ],
   "source": [
    "try:\n",
    "    db = pymysql.connect(host=\"localhost\",user=\"root\",password=\"\",database=\"abc\")\n",
    "    cu = db.cursor()\n",
    "    q = \"insert into students(Name,Course,Date)values('Rajat','Data Science','2022-06-01')\"\n",
    "    cu.execute(q)\n",
    "    db.commit()\n",
    "    print(\"Record inserted successfully\")\n",
    "except Exception as e:\n",
    "    print(\"Error:\",e)"
   ]
  },
  {
   "cell_type": "code",
   "execution_count": 10,
   "id": "737af74b",
   "metadata": {},
   "outputs": [
    {
     "name": "stdout",
     "output_type": "stream",
     "text": [
      "Record inserted successfully\n"
     ]
    }
   ],
   "source": [
    "try:\n",
    "    db = pymysql.connect(host=\"localhost\",user=\"root\",password=\"\",database=\"abc\")\n",
    "    cu = db.cursor()\n",
    "    n=\"Sarvesh\"\n",
    "    c=\"Data Science\"\n",
    "    dt=\"2022-09-15\"\n",
    "    q = \"insert into students(Name,course,date)values('{}','{}','{}')\".format(n,c,dt)\n",
    "    cu.execute(q)\n",
    "    db.commit()\n",
    "    print(\"Record inserted successfully\")\n",
    "except Exception as e:\n",
    "    print(\"Error:\",e)"
   ]
  },
  {
   "cell_type": "markdown",
   "id": "16dc7b7a",
   "metadata": {},
   "source": [
    "### Retrieve the records"
   ]
  },
  {
   "cell_type": "raw",
   "id": "fa54dae2",
   "metadata": {},
   "source": [
    "1.Retrieve all records from database table task."
   ]
  },
  {
   "cell_type": "code",
   "execution_count": 11,
   "id": "0c5ff209",
   "metadata": {},
   "outputs": [
    {
     "name": "stdout",
     "output_type": "stream",
     "text": [
      "((1, 'Suraj', 'AWS', datetime.date(2022, 10, 21)), (2, 'Rajat', 'Data Science', datetime.date(2022, 6, 1)), (3, 'Sarvesh', 'Data Science', datetime.date(2022, 9, 15)))\n"
     ]
    }
   ],
   "source": [
    "try:\n",
    "    db=pymysql.connect(host=\"localhost\",user=\"root\",password=\"\",database=\"abc\")\n",
    "    cu=db.cursor()\n",
    "    q=\"select * from students\"\n",
    "    cu.execute(q)\n",
    "    data=cu.fetchall()\n",
    "    print(data)\n",
    "    \n",
    "except Exception as e:\n",
    "    print(\"Error occured :\",e)"
   ]
  },
  {
   "cell_type": "code",
   "execution_count": 12,
   "id": "206edba8",
   "metadata": {},
   "outputs": [
    {
     "name": "stdout",
     "output_type": "stream",
     "text": [
      "(1, 'Suraj', 'AWS', datetime.date(2022, 10, 21))\n",
      "(2, 'Rajat', 'Data Science', datetime.date(2022, 6, 1))\n",
      "(3, 'Sarvesh', 'Data Science', datetime.date(2022, 9, 15))\n"
     ]
    }
   ],
   "source": [
    "try:\n",
    "    db=pymysql.connect(host=\"localhost\",user=\"root\",password=\"\",database=\"abc\")\n",
    "    cu=db.cursor()\n",
    "    q=\"select * from students\"\n",
    "    cu.execute(q)\n",
    "    data=cu.fetchall()\n",
    "    for x in data:\n",
    "        print(x)\n",
    "except Exception as e:\n",
    "    print(\"Error occured :\",e)"
   ]
  },
  {
   "cell_type": "code",
   "execution_count": 13,
   "id": "492b8aab",
   "metadata": {},
   "outputs": [
    {
     "name": "stdout",
     "output_type": "stream",
     "text": [
      "[1, 'Suraj', 'AWS', datetime.date(2022, 10, 21)]\n",
      "[2, 'Rajat', 'Data Science', datetime.date(2022, 6, 1)]\n",
      "[3, 'Sarvesh', 'Data Science', datetime.date(2022, 9, 15)]\n"
     ]
    }
   ],
   "source": [
    "try:\n",
    "    db=pymysql.connect(host=\"localhost\",user=\"root\",password=\"\",database=\"abc\")\n",
    "    cu=db.cursor()\n",
    "    q=\"select * from students\"\n",
    "    cu.execute(q)\n",
    "    data=cu.fetchall()\n",
    "    for x in data:\n",
    "        print(list(x))\n",
    "except Exception as e:\n",
    "    print(\"Error occured :\",e)"
   ]
  },
  {
   "cell_type": "code",
   "execution_count": 14,
   "id": "5764bc66",
   "metadata": {},
   "outputs": [
    {
     "name": "stdout",
     "output_type": "stream",
     "text": [
      "1 Suraj AWS 2022-10-21\n",
      "2 Rajat Data Science 2022-06-01\n",
      "3 Sarvesh Data Science 2022-09-15\n"
     ]
    }
   ],
   "source": [
    "try:\n",
    "    db=pymysql.connect(host=\"localhost\",user=\"root\",password=\"\",database=\"abc\")\n",
    "    cu=db.cursor()\n",
    "    q=\"select * from students\"\n",
    "    cu.execute(q)\n",
    "    data=cu.fetchall()\n",
    "    for x in data:\n",
    "        print(x[0],end=\" \")\n",
    "        print(x[1],end=\" \")\n",
    "        print(x[2],end=\" \")\n",
    "        print(x[3])\n",
    "except Exception as e:\n",
    "    print(\"Error occured :\",e)"
   ]
  },
  {
   "cell_type": "raw",
   "id": "a1f98ab9",
   "metadata": {},
   "source": [
    "2.Retrieve single record from database table task."
   ]
  },
  {
   "cell_type": "code",
   "execution_count": 15,
   "id": "0f4b1d87",
   "metadata": {},
   "outputs": [
    {
     "name": "stdout",
     "output_type": "stream",
     "text": [
      "((3, 'Sarvesh', 'Data Science', datetime.date(2022, 9, 15)),)\n"
     ]
    }
   ],
   "source": [
    "try:\n",
    "    db=pymysql.connect(host=\"localhost\",user=\"root\",password=\"\",database=\"abc\")\n",
    "    cu=db.cursor()\n",
    "    rid=3\n",
    "    q=\"select * from students where id='{}'\".format(rid)\n",
    "    cu.execute(q)\n",
    "    data=cu.fetchall()\n",
    "    print(data)\n",
    "except Exception as e:\n",
    "    print(\"Error occured :\",e)"
   ]
  },
  {
   "cell_type": "code",
   "execution_count": 16,
   "id": "158d970b",
   "metadata": {},
   "outputs": [
    {
     "name": "stdout",
     "output_type": "stream",
     "text": [
      "((1, 'Suraj', 'AWS', datetime.date(2022, 10, 21)),)\n"
     ]
    }
   ],
   "source": [
    "try:\n",
    "    db=pymysql.connect(host=\"localhost\",user=\"root\",password=\"\",database=\"abc\")\n",
    "    cu=db.cursor()\n",
    "    rid=1\n",
    "    q=\"select * from students where id='{}'\".format(rid)\n",
    "    cu.execute(q)\n",
    "    data=cu.fetchall()\n",
    "    print(data)\n",
    "except Exception as e:\n",
    "    print(\"Error occured :\",e)"
   ]
  },
  {
   "cell_type": "code",
   "execution_count": 17,
   "id": "4bd5ad26",
   "metadata": {},
   "outputs": [
    {
     "name": "stdout",
     "output_type": "stream",
     "text": [
      "((2, 'Rajat', 'Data Science', datetime.date(2022, 6, 1)),)\n"
     ]
    }
   ],
   "source": [
    "try:\n",
    "    db=pymysql.connect(host=\"localhost\",user=\"root\",password=\"\",database=\"abc\")\n",
    "    cu=db.cursor()\n",
    "    rid=2\n",
    "    q=\"select * from students where id='{}'\".format(rid)\n",
    "    cu.execute(q)\n",
    "    data=cu.fetchall()\n",
    "    print(data)\n",
    "except Exception as e:\n",
    "    print(\"Error occured :\",e)"
   ]
  },
  {
   "cell_type": "code",
   "execution_count": 18,
   "id": "c9e31f11",
   "metadata": {},
   "outputs": [
    {
     "name": "stdout",
     "output_type": "stream",
     "text": [
      "(2, 'Rajat', 'Data Science', datetime.date(2022, 6, 1))\n"
     ]
    }
   ],
   "source": [
    "try:\n",
    "    db=pymysql.connect(host=\"localhost\",user=\"root\",password=\"\",database=\"abc\")\n",
    "    cu=db.cursor()\n",
    "    dt=\"2022-06-01\"\n",
    "    q=\"select * from students where date='{}'\".format(dt)\n",
    "    cu.execute(q)\n",
    "    data=cu.fetchall()\n",
    "    for x in data:\n",
    "        print(x)\n",
    "except Exception as e:\n",
    "    print(\"Error occured :\",e)"
   ]
  },
  {
   "cell_type": "code",
   "execution_count": 21,
   "id": "b85d0b47",
   "metadata": {},
   "outputs": [
    {
     "name": "stdout",
     "output_type": "stream",
     "text": [
      "(1, 'Suraj', 'AWS', datetime.date(2022, 10, 21))\n",
      "(2, 'Rajat', 'Data Science', datetime.date(2022, 6, 1))\n",
      "(3, 'Sarvesh', 'Data Science', datetime.date(2022, 9, 15))\n"
     ]
    }
   ],
   "source": [
    "try:\n",
    "    db=pymysql.connect(host=\"localhost\",user=\"root\",password=\"\",database=\"abc\")\n",
    "    cu=db.cursor()\n",
    "    d1=\"2022-06-01\"\n",
    "    d2 = \"2022-12-31\"\n",
    "    q=\"select * from students where date between '{}' and '{}'\".format(d1,d2)\n",
    "    cu.execute(q)\n",
    "    data=cu.fetchall()\n",
    "    for x in data:\n",
    "        print(x)\n",
    "except Exception as e:\n",
    "    print(\"Error occured :\",e)"
   ]
  },
  {
   "cell_type": "markdown",
   "id": "079a226a",
   "metadata": {},
   "source": [
    "## Update Operation"
   ]
  },
  {
   "cell_type": "raw",
   "id": "437112e5",
   "metadata": {},
   "source": [
    "update tablename set colname1=value1, colname2=value2,...,colnamen=valuen where id=idvalue"
   ]
  },
  {
   "cell_type": "code",
   "execution_count": 2,
   "id": "ec8d5f91",
   "metadata": {},
   "outputs": [
    {
     "name": "stdout",
     "output_type": "stream",
     "text": [
      "Record updated successfully!!\n"
     ]
    }
   ],
   "source": [
    "try:\n",
    "    db=pymysql.connect(host=\"localhost\",user=\"root\",password=\"\",database=\"abc\")\n",
    "    cu=db.cursor()\n",
    "    ut=\"insert completed\"\n",
    "    ud=\"inserting record completed\"\n",
    "    udt=\"2022-06-19\"\n",
    "    q=\"update task set title='{}',detail='{}',date='{}'\".format(ut,ud,udt)\n",
    "    cu.execute(q)\n",
    "    db.commit()\n",
    "    print(\"Record updated successfully!!\")\n",
    "    \n",
    "    \n",
    "except Exception as e:\n",
    "    print(\"Error occured :\",e)"
   ]
  },
  {
   "cell_type": "code",
   "execution_count": 22,
   "id": "bd5b0215",
   "metadata": {},
   "outputs": [
    {
     "name": "stdout",
     "output_type": "stream",
     "text": [
      "Record updated successfully!!\n"
     ]
    }
   ],
   "source": [
    "try:\n",
    "    db=pymysql.connect(host=\"localhost\",user=\"root\",password=\"\",database=\"abc\")\n",
    "    cu=db.cursor()\n",
    "    ut=\"Rajat Goel\"\n",
    "    ud=\"Full Stack\"\n",
    "    udt=\"2022-06-19\"\n",
    "    rid=2\n",
    "    q=\"update students set name='{}',course='{}',date='{}' where id='{}'\".format(ut,ud,udt,rid)\n",
    "    cu.execute(q)\n",
    "    db.commit()\n",
    "    print(\"Record updated successfully!!\")\n",
    "    \n",
    "    \n",
    "except Exception as e:\n",
    "    print(\"Error occured :\",e)"
   ]
  },
  {
   "cell_type": "markdown",
   "id": "a0ae3480",
   "metadata": {},
   "source": [
    "## Delete Operation"
   ]
  },
  {
   "cell_type": "raw",
   "id": "b87355b3",
   "metadata": {},
   "source": [
    "delete from tablename where id=value"
   ]
  },
  {
   "cell_type": "code",
   "execution_count": 23,
   "id": "ad1b476d",
   "metadata": {},
   "outputs": [
    {
     "name": "stdout",
     "output_type": "stream",
     "text": [
      "Record deleted Successfully\n"
     ]
    }
   ],
   "source": [
    "try:\n",
    "    db=pymysql.connect(host=\"localhost\",user=\"root\",password=\"\",database=\"abc\")\n",
    "    cu=db.cursor()\n",
    "    rid=2\n",
    "    q=\"delete from students where id='{}'\".format(rid)\n",
    "    cu.execute(q)\n",
    "    db.commit()\n",
    "    print(\"Record deleted Successfully\")\n",
    "    \n",
    "except Exception as e:\n",
    "    print(\"Error occured :\",e)"
   ]
  },
  {
   "cell_type": "code",
   "execution_count": null,
   "id": "1c8d3aaa",
   "metadata": {},
   "outputs": [],
   "source": []
  }
 ],
 "metadata": {
  "kernelspec": {
   "display_name": "Python 3 (ipykernel)",
   "language": "python",
   "name": "python3"
  },
  "language_info": {
   "codemirror_mode": {
    "name": "ipython",
    "version": 3
   },
   "file_extension": ".py",
   "mimetype": "text/x-python",
   "name": "python",
   "nbconvert_exporter": "python",
   "pygments_lexer": "ipython3",
   "version": "3.9.12"
  }
 },
 "nbformat": 4,
 "nbformat_minor": 5
}
