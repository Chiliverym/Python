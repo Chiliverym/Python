{
 "cells": [
  {
   "cell_type": "markdown",
   "id": "88810c23",
   "metadata": {},
   "source": [
    "## Regular Expression"
   ]
  },
  {
   "cell_type": "markdown",
   "id": "2f67ff86",
   "metadata": {},
   "source": [
    "> It is an sequence of character that specifies the search of pattern."
   ]
  },
  {
   "cell_type": "code",
   "execution_count": 1,
   "id": "25b931e7",
   "metadata": {},
   "outputs": [],
   "source": [
    "mesg = \"so the mesg is, 022-456-7391 is my home phone number, call me whenever you get time and if it comes busy then try 022-795-7843\""
   ]
  },
  {
   "cell_type": "markdown",
   "id": "5036ee6a",
   "metadata": {},
   "source": [
    "I just want to check whether this mesg or this particular string contain a number or not and I only want 022-456-7391 this particular number part from a string. That means if I passed through a function should give me 022-456-7391 and 022-795-7843. Based on this number we need to create a particular search pattern. "
   ]
  },
  {
   "cell_type": "markdown",
   "id": "cfe9524f",
   "metadata": {},
   "source": [
    "- phone number size is 12\n",
    "- area code/pin code : 3 digit number\n",
    "- first dash\n",
    "- 3 digit number\n",
    "- second dash\n",
    "- last 4 digit number"
   ]
  },
  {
   "cell_type": "code",
   "execution_count": 2,
   "id": "2d51df2f",
   "metadata": {},
   "outputs": [
    {
     "data": {
      "text/plain": [
       "True"
      ]
     },
     "execution_count": 2,
     "metadata": {},
     "output_type": "execute_result"
    }
   ],
   "source": [
    "\"123\".isdecimal()  #isdecimal() function let us know about there is a number is present in a particular string or not. gives us the output in Boolean i.e. True or False."
   ]
  },
  {
   "cell_type": "code",
   "execution_count": 3,
   "id": "c141abd4",
   "metadata": {},
   "outputs": [
    {
     "data": {
      "text/plain": [
       "False"
      ]
     },
     "execution_count": 3,
     "metadata": {},
     "output_type": "execute_result"
    }
   ],
   "source": [
    "\"abc\".isdecimal()"
   ]
  },
  {
   "cell_type": "code",
   "execution_count": 4,
   "id": "85639355",
   "metadata": {},
   "outputs": [
    {
     "data": {
      "text/plain": [
       "False"
      ]
     },
     "execution_count": 4,
     "metadata": {},
     "output_type": "execute_result"
    }
   ],
   "source": [
    "\"abc123\".isdecimal()"
   ]
  },
  {
   "cell_type": "code",
   "execution_count": 5,
   "id": "6078001e",
   "metadata": {},
   "outputs": [
    {
     "data": {
      "text/plain": [
       "False"
      ]
     },
     "execution_count": 5,
     "metadata": {},
     "output_type": "execute_result"
    }
   ],
   "source": [
    "\"abc 123\".isdecimal()"
   ]
  },
  {
   "cell_type": "code",
   "execution_count": 6,
   "id": "1043be15",
   "metadata": {},
   "outputs": [],
   "source": [
    "no = \"022-456-7391\" "
   ]
  },
  {
   "cell_type": "code",
   "execution_count": 7,
   "id": "a7fd604a",
   "metadata": {},
   "outputs": [
    {
     "data": {
      "text/plain": [
       "False"
      ]
     },
     "execution_count": 7,
     "metadata": {},
     "output_type": "execute_result"
    }
   ],
   "source": [
    "no.isdecimal()"
   ]
  },
  {
   "cell_type": "markdown",
   "id": "5a4a125c",
   "metadata": {},
   "source": [
    "So I want to create a function which creates a search pattern for this number. I want to tell whether a particular number is phone number or not by using this particular search pattern."
   ]
  },
  {
   "cell_type": "code",
   "execution_count": 8,
   "id": "72183072",
   "metadata": {},
   "outputs": [],
   "source": [
    "def isphoneno(text):\n",
    "    if(len(text)!=12):  #if the length of the string is not equal to 12 then return Falsei.iit should not be a number\n",
    "        return False\n",
    "    \n",
    "    for i in range(0,3):  #using a for loop to check the first three digit of the text is the number or not.i.e.022\n",
    "        if(not text[i].isdecimal()):  #if the text is not decimal then return False\n",
    "            return False\n",
    "        \n",
    "    if(text[3]!='-'):  #if there is no dash at index 3 return False\n",
    "        return False\n",
    "    \n",
    "    for i in range(4,7):  #456\n",
    "        if(not text[i].isdecimal()): #if there is not decimal then return False\n",
    "            return False\n",
    "        \n",
    "    if(text[7]!='-'):  #if there is no dash at index 7 then return False\n",
    "        return False\n",
    "    \n",
    "    for i in range(8, 12):  #7391\n",
    "        if(not text[i].isdecimal()):\n",
    "            return False  \n",
    "    \n",
    "    #All the conditions become small if entered text is an phone number\n",
    "    return True\n",
    "    #If all these specified conditions are False then return True"
   ]
  },
  {
   "cell_type": "code",
   "execution_count": 9,
   "id": "bfea6d48",
   "metadata": {},
   "outputs": [
    {
     "data": {
      "text/plain": [
       "'022-456-7391'"
      ]
     },
     "execution_count": 9,
     "metadata": {},
     "output_type": "execute_result"
    }
   ],
   "source": [
    "no"
   ]
  },
  {
   "cell_type": "code",
   "execution_count": 10,
   "id": "932d712d",
   "metadata": {},
   "outputs": [
    {
     "data": {
      "text/plain": [
       "True"
      ]
     },
     "execution_count": 10,
     "metadata": {},
     "output_type": "execute_result"
    }
   ],
   "source": [
    "isphoneno(no)"
   ]
  },
  {
   "cell_type": "code",
   "execution_count": 11,
   "id": "759cb928",
   "metadata": {
    "scrolled": true
   },
   "outputs": [
    {
     "data": {
      "text/plain": [
       "False"
      ]
     },
     "execution_count": 11,
     "metadata": {},
     "output_type": "execute_result"
    }
   ],
   "source": [
    "isphoneno(\"2589-789-456\")"
   ]
  },
  {
   "cell_type": "code",
   "execution_count": 12,
   "id": "9b23983e",
   "metadata": {},
   "outputs": [
    {
     "data": {
      "text/plain": [
       "'so the mesg is, 022-456-7391 is my home phone number, call me whenever you get time and if it comes busy then try 022-795-7843'"
      ]
     },
     "execution_count": 12,
     "metadata": {},
     "output_type": "execute_result"
    }
   ],
   "source": [
    "mesg"
   ]
  },
  {
   "cell_type": "code",
   "execution_count": 13,
   "id": "4f672603",
   "metadata": {},
   "outputs": [
    {
     "name": "stdout",
     "output_type": "stream",
     "text": [
      "Phone number found :- 022-456-7391\n",
      "Phone number found :- 022-795-7843\n"
     ]
    }
   ],
   "source": [
    "# I create a variabel and set it as a False coz currently I didn't got any number\n",
    "foundnumber = False\n",
    "#foundnumber turns True when I find the number\n",
    "for i in range(len(mesg)):\n",
    "    chunk = mesg[i:i+12]\n",
    "    \n",
    "    if (isphoneno(chunk)):\n",
    "        print(f\"Phone number found :- {chunk}\")\n",
    "        foundnumber = True\n",
    "        \n",
    "if(not foundnumber):\n",
    "    print(\"Match does not exist\")"
   ]
  },
  {
   "cell_type": "code",
   "execution_count": 14,
   "id": "98c35916",
   "metadata": {},
   "outputs": [
    {
     "name": "stdout",
     "output_type": "stream",
     "text": [
      "so the mesg \n",
      "o the mesg i\n",
      " the mesg is\n",
      "the mesg is,\n",
      "he mesg is, \n",
      "e mesg is, 0\n",
      " mesg is, 02\n",
      "mesg is, 022\n",
      "esg is, 022-\n",
      "sg is, 022-4\n",
      "g is, 022-45\n",
      " is, 022-456\n",
      "is, 022-456-\n",
      "s, 022-456-7\n",
      ", 022-456-73\n",
      " 022-456-739\n",
      "022-456-7391\n",
      "Phone number found :- 022-456-7391\n",
      "22-456-7391 \n",
      "2-456-7391 i\n",
      "-456-7391 is\n",
      "456-7391 is \n",
      "56-7391 is m\n",
      "6-7391 is my\n",
      "-7391 is my \n",
      "7391 is my h\n",
      "391 is my ho\n",
      "91 is my hom\n",
      "1 is my home\n",
      " is my home \n",
      "is my home p\n",
      "s my home ph\n",
      " my home pho\n",
      "my home phon\n",
      "y home phone\n",
      " home phone \n",
      "home phone n\n",
      "ome phone nu\n",
      "me phone num\n",
      "e phone numb\n",
      " phone numbe\n",
      "phone number\n",
      "hone number,\n",
      "one number, \n",
      "ne number, c\n",
      "e number, ca\n",
      " number, cal\n",
      "number, call\n",
      "umber, call \n",
      "mber, call m\n",
      "ber, call me\n",
      "er, call me \n",
      "r, call me w\n",
      ", call me wh\n",
      " call me whe\n",
      "call me when\n",
      "all me whene\n",
      "ll me whenev\n",
      "l me wheneve\n",
      " me whenever\n",
      "me whenever \n",
      "e whenever y\n",
      " whenever yo\n",
      "whenever you\n",
      "henever you \n",
      "enever you g\n",
      "never you ge\n",
      "ever you get\n",
      "ver you get \n",
      "er you get t\n",
      "r you get ti\n",
      " you get tim\n",
      "you get time\n",
      "ou get time \n",
      "u get time a\n",
      " get time an\n",
      "get time and\n",
      "et time and \n",
      "t time and i\n",
      " time and if\n",
      "time and if \n",
      "ime and if i\n",
      "me and if it\n",
      "e and if it \n",
      " and if it c\n",
      "and if it co\n",
      "nd if it com\n",
      "d if it come\n",
      " if it comes\n",
      "if it comes \n",
      "f it comes b\n",
      " it comes bu\n",
      "it comes bus\n",
      "t comes busy\n",
      " comes busy \n",
      "comes busy t\n",
      "omes busy th\n",
      "mes busy the\n",
      "es busy then\n",
      "s busy then \n",
      " busy then t\n",
      "busy then tr\n",
      "usy then try\n",
      "sy then try \n",
      "y then try 0\n",
      " then try 02\n",
      "then try 022\n",
      "hen try 022-\n",
      "en try 022-7\n",
      "n try 022-79\n",
      " try 022-795\n",
      "try 022-795-\n",
      "ry 022-795-7\n",
      "y 022-795-78\n",
      " 022-795-784\n",
      "022-795-7843\n",
      "Phone number found :- 022-795-7843\n",
      "22-795-7843\n",
      "2-795-7843\n",
      "-795-7843\n",
      "795-7843\n",
      "95-7843\n",
      "5-7843\n",
      "-7843\n",
      "7843\n",
      "843\n",
      "43\n",
      "3\n"
     ]
    }
   ],
   "source": [
    "foundnumber = False\n",
    "\n",
    "for i in range(len(mesg)):\n",
    "    chunk = mesg[i:i+12]\n",
    "    print(chunk)\n",
    "    \n",
    "    if (isphoneno(chunk)):\n",
    "        print(f\"Phone number found :- {chunk}\")\n",
    "        foundnumber = True\n",
    "        \n",
    "if(not foundnumber):\n",
    "    print(\"Match does not exist\")"
   ]
  },
  {
   "cell_type": "markdown",
   "id": "bb943d94",
   "metadata": {},
   "source": [
    "## Pattern matching with Regex"
   ]
  },
  {
   "cell_type": "code",
   "execution_count": 15,
   "id": "338aca9d",
   "metadata": {},
   "outputs": [],
   "source": [
    "import re"
   ]
  },
  {
   "cell_type": "code",
   "execution_count": 16,
   "id": "b2cba077",
   "metadata": {},
   "outputs": [
    {
     "name": "stdout",
     "output_type": "stream",
     "text": [
      "Phone number found -: 0224-987-8243\n"
     ]
    }
   ],
   "source": [
    "#022-456-7391\n",
    "#\\d\\d\\d -\\d\\d\\d - \\d\\d\\d\\d\n",
    "\n",
    "mesg = \"my phone number is 0224-987-8243\"\n",
    "\n",
    "#step1 -: define the pattern\n",
    "pattern = re.compile(r\"\\d\\d\\d\\d-\\d\\d\\d-\\d\\d\\d\\d\")  #to define we need to use method re.compile\n",
    "\n",
    "#step2 -: search for the pattern in the given string & store it in match object\n",
    "mo = pattern.search(mesg)  #to search the pattern we used pattern.search method and then store it in a variable called mo(matched object)\n",
    "\n",
    "#step3 -: use group method to see your match object value\n",
    "print(f\"Phone number found -: {mo.group()}\")"
   ]
  },
  {
   "cell_type": "code",
   "execution_count": 17,
   "id": "d645d0e7",
   "metadata": {},
   "outputs": [
    {
     "data": {
      "text/plain": [
       "<re.Match object; span=(19, 32), match='0224-987-8243'>"
      ]
     },
     "execution_count": 17,
     "metadata": {},
     "output_type": "execute_result"
    }
   ],
   "source": [
    "mo"
   ]
  },
  {
   "cell_type": "markdown",
   "id": "d29f6a1f",
   "metadata": {},
   "source": [
    "## We can do grouping using round brackets"
   ]
  },
  {
   "cell_type": "code",
   "execution_count": 27,
   "id": "a5e3ac87",
   "metadata": {},
   "outputs": [
    {
     "data": {
      "text/plain": [
       "'451-825-7931'"
      ]
     },
     "execution_count": 27,
     "metadata": {},
     "output_type": "execute_result"
    }
   ],
   "source": [
    "pattern = re.compile(r\"(\\d\\d\\d)-(\\d\\d\\d-\\d\\d\\d\\d)\")\n",
    "mo = pattern.search(\"My number is 451-825-7931\")\n",
    "mo.group()"
   ]
  },
  {
   "cell_type": "code",
   "execution_count": 28,
   "id": "d3da8f78",
   "metadata": {},
   "outputs": [
    {
     "data": {
      "text/plain": [
       "'451-825-7931'"
      ]
     },
     "execution_count": 28,
     "metadata": {},
     "output_type": "execute_result"
    }
   ],
   "source": [
    "mo.group(0)"
   ]
  },
  {
   "cell_type": "code",
   "execution_count": 29,
   "id": "4998cec8",
   "metadata": {},
   "outputs": [
    {
     "data": {
      "text/plain": [
       "'451'"
      ]
     },
     "execution_count": 29,
     "metadata": {},
     "output_type": "execute_result"
    }
   ],
   "source": [
    "mo.group(1)"
   ]
  },
  {
   "cell_type": "code",
   "execution_count": 30,
   "id": "fbe52731",
   "metadata": {},
   "outputs": [
    {
     "data": {
      "text/plain": [
       "'825-7931'"
      ]
     },
     "execution_count": 30,
     "metadata": {},
     "output_type": "execute_result"
    }
   ],
   "source": [
    "mo.group(2)"
   ]
  },
  {
   "cell_type": "markdown",
   "id": "354f9b90",
   "metadata": {},
   "source": [
    "## Matching multiple groups with pipe operator(|)"
   ]
  },
  {
   "cell_type": "code",
   "execution_count": 31,
   "id": "5925fbc2",
   "metadata": {},
   "outputs": [
    {
     "data": {
      "text/plain": [
       "'Jayesh'"
      ]
     },
     "execution_count": 31,
     "metadata": {},
     "output_type": "execute_result"
    }
   ],
   "source": [
    "mesg = \"hello world, this regular expression is written by Jayesh Vikas Patil\"\n",
    "\n",
    "pat = re.compile(r\"(Mah|Jay|Shail|Mayur|Brij)esh\")\n",
    "mo = pat.search(mesg)\n",
    "mo.group()"
   ]
  },
  {
   "cell_type": "markdown",
   "id": "a25dda1b",
   "metadata": {},
   "source": [
    "## Matching optional groups with question marks '?'"
   ]
  },
  {
   "cell_type": "markdown",
   "id": "a1d0a9bf",
   "metadata": {},
   "source": [
    "### ? -> Zero or One time occured in String"
   ]
  },
  {
   "cell_type": "code",
   "execution_count": 39,
   "id": "f349dc0b",
   "metadata": {},
   "outputs": [],
   "source": [
    "mesg1 = \"The adventures of Batman\"\n",
    "mesg2 = \"The adventures of Batwoman\"\n",
    "mesg3 = \"The adventures of Batwowoman\"\n",
    "\n",
    "pat = re.compile(r\"Bat(wo)?man\")"
   ]
  },
  {
   "cell_type": "code",
   "execution_count": 40,
   "id": "a614441f",
   "metadata": {},
   "outputs": [
    {
     "data": {
      "text/plain": [
       "'Batman'"
      ]
     },
     "execution_count": 40,
     "metadata": {},
     "output_type": "execute_result"
    }
   ],
   "source": [
    "mo1 = pat.search(mesg1)\n",
    "mo1.group()"
   ]
  },
  {
   "cell_type": "code",
   "execution_count": 41,
   "id": "9ac45615",
   "metadata": {},
   "outputs": [
    {
     "data": {
      "text/plain": [
       "'Batwoman'"
      ]
     },
     "execution_count": 41,
     "metadata": {},
     "output_type": "execute_result"
    }
   ],
   "source": [
    "mo2 = pat.search(mesg2)\n",
    "mo2.group()"
   ]
  },
  {
   "cell_type": "code",
   "execution_count": 42,
   "id": "7131b372",
   "metadata": {},
   "outputs": [
    {
     "ename": "AttributeError",
     "evalue": "'NoneType' object has no attribute 'group'",
     "output_type": "error",
     "traceback": [
      "\u001b[1;31m---------------------------------------------------------------------------\u001b[0m",
      "\u001b[1;31mAttributeError\u001b[0m                            Traceback (most recent call last)",
      "Input \u001b[1;32mIn [42]\u001b[0m, in \u001b[0;36m<cell line: 2>\u001b[1;34m()\u001b[0m\n\u001b[0;32m      1\u001b[0m mo3 \u001b[38;5;241m=\u001b[39m pat\u001b[38;5;241m.\u001b[39msearch(mesg3)\n\u001b[1;32m----> 2\u001b[0m \u001b[43mmo3\u001b[49m\u001b[38;5;241;43m.\u001b[39;49m\u001b[43mgroup\u001b[49m()\n",
      "\u001b[1;31mAttributeError\u001b[0m: 'NoneType' object has no attribute 'group'"
     ]
    }
   ],
   "source": [
    "mo3 = pat.search(mesg3)\n",
    "mo3.group()"
   ]
  },
  {
   "cell_type": "code",
   "execution_count": 43,
   "id": "6da1de5c",
   "metadata": {},
   "outputs": [],
   "source": [
    "mesg1 = \"My number is 022-258-3497\"\n",
    "mesg2 = \"My number is 258-7913\""
   ]
  },
  {
   "cell_type": "code",
   "execution_count": 49,
   "id": "ac5b2b28",
   "metadata": {},
   "outputs": [],
   "source": [
    "pat = re.compile(r\"(\\d\\d\\d-)?\\d\\d\\d-\\d\\d\\d\\d\")"
   ]
  },
  {
   "cell_type": "code",
   "execution_count": 50,
   "id": "08f92286",
   "metadata": {},
   "outputs": [
    {
     "data": {
      "text/plain": [
       "'022-258-3497'"
      ]
     },
     "execution_count": 50,
     "metadata": {},
     "output_type": "execute_result"
    }
   ],
   "source": [
    "mo1 = pat.search(mesg1)\n",
    "mo1.group()"
   ]
  },
  {
   "cell_type": "code",
   "execution_count": 51,
   "id": "faaea5f1",
   "metadata": {},
   "outputs": [
    {
     "data": {
      "text/plain": [
       "'258-7913'"
      ]
     },
     "execution_count": 51,
     "metadata": {},
     "output_type": "execute_result"
    }
   ],
   "source": [
    "mo2= pat.search(mesg2)\n",
    "mo2.group()"
   ]
  },
  {
   "cell_type": "markdown",
   "id": "162adacb",
   "metadata": {},
   "source": [
    "# Matching Zero or More with Star *"
   ]
  },
  {
   "cell_type": "code",
   "execution_count": 62,
   "id": "e756687f",
   "metadata": {},
   "outputs": [],
   "source": [
    "mesg1 = \"This is JayeshVikasPatil\"\n",
    "mesg2 = \"This is JayeshVikasVikasPatil\"\n",
    "mesg3 = \"This is JayeshVikasVikasVikasPatil\"\n",
    "mesg4 = \"This is JayeshPatil\""
   ]
  },
  {
   "cell_type": "code",
   "execution_count": 63,
   "id": "ff37667e",
   "metadata": {},
   "outputs": [],
   "source": [
    "pat = re.compile(f\"Jayesh(Vikas)*Patil\")"
   ]
  },
  {
   "cell_type": "code",
   "execution_count": 64,
   "id": "8f038317",
   "metadata": {},
   "outputs": [
    {
     "data": {
      "text/plain": [
       "'JayeshVikasPatil'"
      ]
     },
     "execution_count": 64,
     "metadata": {},
     "output_type": "execute_result"
    }
   ],
   "source": [
    "mo1 = pat.search(mesg1)\n",
    "mo1.group()"
   ]
  },
  {
   "cell_type": "code",
   "execution_count": 65,
   "id": "999bc333",
   "metadata": {},
   "outputs": [
    {
     "data": {
      "text/plain": [
       "'JayeshVikasVikasPatil'"
      ]
     },
     "execution_count": 65,
     "metadata": {},
     "output_type": "execute_result"
    }
   ],
   "source": [
    "mo2 = pat.search(mesg2)\n",
    "mo2.group()"
   ]
  },
  {
   "cell_type": "code",
   "execution_count": 61,
   "id": "3e044d50",
   "metadata": {},
   "outputs": [
    {
     "data": {
      "text/plain": [
       "'JayeshVikasVikasVikasPatil'"
      ]
     },
     "execution_count": 61,
     "metadata": {},
     "output_type": "execute_result"
    }
   ],
   "source": [
    "mo3 = pat.search(mesg3)\n",
    "mo3.group()"
   ]
  },
  {
   "cell_type": "code",
   "execution_count": 66,
   "id": "04cc9a3e",
   "metadata": {},
   "outputs": [
    {
     "data": {
      "text/plain": [
       "'JayeshPatil'"
      ]
     },
     "execution_count": 66,
     "metadata": {},
     "output_type": "execute_result"
    }
   ],
   "source": [
    "mo4 = pat.search(mesg4)\n",
    "mo4.group()"
   ]
  },
  {
   "cell_type": "markdown",
   "id": "4de34c8f",
   "metadata": {},
   "source": [
    "## Matching one or more with plus +"
   ]
  },
  {
   "cell_type": "code",
   "execution_count": 3,
   "id": "be43bc3d",
   "metadata": {},
   "outputs": [],
   "source": [
    "import re"
   ]
  },
  {
   "cell_type": "code",
   "execution_count": 26,
   "id": "bbf80d6a",
   "metadata": {},
   "outputs": [],
   "source": [
    "mesg1 = \"This is Jayesh Vikas Patil\"\n",
    "mesg2 = \"This is Jayesh VikasVikas Patil\"\n",
    "mesg3 = \"This is Jayesh VikasVikasVikas Patil\"\n",
    "mesg4 = \"This is Jayesh Patil\"\n",
    "\n",
    "pat = re.compile(f\"Jayesh (Vikas)+ Patil\")"
   ]
  },
  {
   "cell_type": "code",
   "execution_count": 27,
   "id": "b635567d",
   "metadata": {},
   "outputs": [
    {
     "data": {
      "text/plain": [
       "'Jayesh Vikas Patil'"
      ]
     },
     "execution_count": 27,
     "metadata": {},
     "output_type": "execute_result"
    }
   ],
   "source": [
    "mo1 = pat.search(mesg1)\n",
    "mo1.group()"
   ]
  },
  {
   "cell_type": "code",
   "execution_count": 28,
   "id": "c8763edf",
   "metadata": {},
   "outputs": [
    {
     "data": {
      "text/plain": [
       "'Jayesh VikasVikas Patil'"
      ]
     },
     "execution_count": 28,
     "metadata": {},
     "output_type": "execute_result"
    }
   ],
   "source": [
    "mo2 = pat.search(mesg2)\n",
    "mo2.group()"
   ]
  },
  {
   "cell_type": "code",
   "execution_count": 29,
   "id": "ee8a16a3",
   "metadata": {},
   "outputs": [
    {
     "data": {
      "text/plain": [
       "'Jayesh VikasVikasVikas Patil'"
      ]
     },
     "execution_count": 29,
     "metadata": {},
     "output_type": "execute_result"
    }
   ],
   "source": [
    "mo3 = pat.search(mesg3)\n",
    "mo3.group()"
   ]
  },
  {
   "cell_type": "code",
   "execution_count": 30,
   "id": "8bad1d0e",
   "metadata": {},
   "outputs": [
    {
     "ename": "AttributeError",
     "evalue": "'NoneType' object has no attribute 'group'",
     "output_type": "error",
     "traceback": [
      "\u001b[1;31m---------------------------------------------------------------------------\u001b[0m",
      "\u001b[1;31mAttributeError\u001b[0m                            Traceback (most recent call last)",
      "Input \u001b[1;32mIn [30]\u001b[0m, in \u001b[0;36m<cell line: 2>\u001b[1;34m()\u001b[0m\n\u001b[0;32m      1\u001b[0m mo4 \u001b[38;5;241m=\u001b[39m pat\u001b[38;5;241m.\u001b[39msearch(mesg4)\n\u001b[1;32m----> 2\u001b[0m \u001b[43mmo4\u001b[49m\u001b[38;5;241;43m.\u001b[39;49m\u001b[43mgroup\u001b[49m()\n",
      "\u001b[1;31mAttributeError\u001b[0m: 'NoneType' object has no attribute 'group'"
     ]
    }
   ],
   "source": [
    "mo4 = pat.search(mesg4)\n",
    "mo4.group()"
   ]
  },
  {
   "cell_type": "markdown",
   "id": "d1fb26e0",
   "metadata": {},
   "source": [
    "## Findall"
   ]
  },
  {
   "cell_type": "code",
   "execution_count": 72,
   "id": "7f36a967",
   "metadata": {},
   "outputs": [],
   "source": [
    "mesg = 'so the mesg is, 022-456-7391 is my home phone number, call me whenever you get time and if it comes bussy then try 022-795-7843'"
   ]
  },
  {
   "cell_type": "code",
   "execution_count": 73,
   "id": "e8266eee",
   "metadata": {},
   "outputs": [
    {
     "data": {
      "text/plain": [
       "'so the mesg is, 022-456-7391 is my home phone number, call me whenever you get time and if it comes bussy then try 022-795-7843'"
      ]
     },
     "execution_count": 73,
     "metadata": {},
     "output_type": "execute_result"
    }
   ],
   "source": [
    "mesg"
   ]
  },
  {
   "cell_type": "code",
   "execution_count": 74,
   "id": "5dd31f28",
   "metadata": {},
   "outputs": [
    {
     "data": {
      "text/plain": [
       "'022-456-7391'"
      ]
     },
     "execution_count": 74,
     "metadata": {},
     "output_type": "execute_result"
    }
   ],
   "source": [
    "pat = re.compile(r\"\\d\\d\\d-\\d\\d\\d-\\d\\d\\d\\d\")\n",
    "mo = pat.search(mesg) #return match object\n",
    "mo.group()"
   ]
  },
  {
   "cell_type": "code",
   "execution_count": 75,
   "id": "f2f6d156",
   "metadata": {},
   "outputs": [
    {
     "data": {
      "text/plain": [
       "['022-456-7391', '022-795-7843']"
      ]
     },
     "execution_count": 75,
     "metadata": {},
     "output_type": "execute_result"
    }
   ],
   "source": [
    "pat = re.compile(r\"\\d\\d\\d-\\d\\d\\d-\\d\\d\\d\\d\")\n",
    "mo = pat.findall(mesg) #return a list\n",
    "mo"
   ]
  },
  {
   "cell_type": "code",
   "execution_count": 76,
   "id": "25f7c439",
   "metadata": {},
   "outputs": [
    {
     "data": {
      "text/plain": [
       "['022-456-7391', '022-795-7843']"
      ]
     },
     "execution_count": 76,
     "metadata": {},
     "output_type": "execute_result"
    }
   ],
   "source": [
    "pat = re.compile(r\"\\d{3}-\\d{3}-\\d{4}\")\n",
    "mo = pat.findall(mesg) #return a list\n",
    "mo"
   ]
  },
  {
   "cell_type": "code",
   "execution_count": 77,
   "id": "7357f588",
   "metadata": {},
   "outputs": [
    {
     "data": {
      "text/plain": [
       "['Jay']"
      ]
     },
     "execution_count": 77,
     "metadata": {},
     "output_type": "execute_result"
    }
   ],
   "source": [
    "mesg = \"hello world, this regular expression is written by Jayesh Vikas Patil\"\n",
    "\n",
    "pat = re.compile(r\"(Mayur|Sand|Jay|Mah)esh\")\n",
    "mo = pat.findall(mesg)\n",
    "mo"
   ]
  },
  {
   "cell_type": "markdown",
   "id": "4c5f0333",
   "metadata": {},
   "source": [
    "# Character Classes"
   ]
  },
  {
   "cell_type": "markdown",
   "id": "794fa5c1",
   "metadata": {},
   "source": [
    "- \\d -> Any nemeric digit 0-9\n",
    "- \\D -> Any character apart from numeric digit\n",
    "- \\s -> Any Space, new line and tab characters\n",
    "- \\S -> Any character apart from space, newline & tab\n",
    "- \\w -> Any letter, numeric digit and also the underscore character\n",
    "- \\W -> Any character apart from letter, numeric & Underscore\n",
    "- [A-Z] -> A to Z\n",
    "- [a-z] -> a to z "
   ]
  },
  {
   "cell_type": "code",
   "execution_count": 79,
   "id": "4bc91186",
   "metadata": {},
   "outputs": [
    {
     "data": {
      "text/plain": [
       "['12 Drumers', '11 pipers', '10 loards', '9 ladies', '3 men']"
      ]
     },
     "execution_count": 79,
     "metadata": {},
     "output_type": "execute_result"
    }
   ],
   "source": [
    "script = \"12 Drumers druming on the floor, 11 pipers piping on the floor, 10 loards a leaping, 9 ladies dancing, 3 men cleaning\"\n",
    "\n",
    "pat = re.compile(r\"\\d+\\s\\w+\")\n",
    "fall = pat.findall(script)\n",
    "fall"
   ]
  },
  {
   "cell_type": "code",
   "execution_count": 80,
   "id": "5ac5186a",
   "metadata": {},
   "outputs": [],
   "source": [
    "biodata =\"\"\"Mickey is 12 years old,\n",
    "Rickey is 13 years old,\n",
    "Pratik is 22 years old,\n",
    "Faizan is 24 years old\n",
    "Varun is 25 years old,\n",
    "Khusali is 26 years old\"\"\""
   ]
  },
  {
   "cell_type": "code",
   "execution_count": 81,
   "id": "4ae2c788",
   "metadata": {},
   "outputs": [],
   "source": [
    "age = re.findall(r\"\\d+\", biodata)\n",
    "name = re.findall(r\"[A-Z][a-z]*\", biodata)"
   ]
  },
  {
   "cell_type": "code",
   "execution_count": 82,
   "id": "2e706db4",
   "metadata": {},
   "outputs": [
    {
     "data": {
      "text/plain": [
       "['12', '13', '22', '24', '25', '26']"
      ]
     },
     "execution_count": 82,
     "metadata": {},
     "output_type": "execute_result"
    }
   ],
   "source": [
    "age"
   ]
  },
  {
   "cell_type": "code",
   "execution_count": 83,
   "id": "71f4e851",
   "metadata": {},
   "outputs": [
    {
     "data": {
      "text/plain": [
       "['Mickey', 'Rickey', 'Pratik', 'Faizan', 'Varun', 'Khusali']"
      ]
     },
     "execution_count": 83,
     "metadata": {},
     "output_type": "execute_result"
    }
   ],
   "source": [
    "name"
   ]
  },
  {
   "cell_type": "code",
   "execution_count": 84,
   "id": "a0c6fc3d",
   "metadata": {},
   "outputs": [],
   "source": [
    "info = {}\n",
    "\n",
    "x=0\n",
    "for i in name:\n",
    "    info[i] = age[x]\n",
    "    x=x+1"
   ]
  },
  {
   "cell_type": "code",
   "execution_count": 85,
   "id": "417f56fc",
   "metadata": {},
   "outputs": [
    {
     "data": {
      "text/plain": [
       "{'Mickey': '12',\n",
       " 'Rickey': '13',\n",
       " 'Pratik': '22',\n",
       " 'Faizan': '24',\n",
       " 'Varun': '25',\n",
       " 'Khusali': '26'}"
      ]
     },
     "execution_count": 85,
     "metadata": {},
     "output_type": "execute_result"
    }
   ],
   "source": [
    "info"
   ]
  },
  {
   "cell_type": "code",
   "execution_count": 86,
   "id": "cb294bb5",
   "metadata": {},
   "outputs": [],
   "source": [
    "import pandas as pd"
   ]
  },
  {
   "cell_type": "code",
   "execution_count": 87,
   "id": "ab59ea77",
   "metadata": {},
   "outputs": [],
   "source": [
    "dic = {\"Name\":name, \"Age\":age}"
   ]
  },
  {
   "cell_type": "code",
   "execution_count": 88,
   "id": "434a0d94",
   "metadata": {},
   "outputs": [
    {
     "data": {
      "text/plain": [
       "{'Name': ['Mickey', 'Rickey', 'Pratik', 'Faizan', 'Varun', 'Khusali'],\n",
       " 'Age': ['12', '13', '22', '24', '25', '26']}"
      ]
     },
     "execution_count": 88,
     "metadata": {},
     "output_type": "execute_result"
    }
   ],
   "source": [
    "dic"
   ]
  },
  {
   "cell_type": "code",
   "execution_count": 89,
   "id": "44d7b148",
   "metadata": {},
   "outputs": [
    {
     "data": {
      "text/html": [
       "<div>\n",
       "<style scoped>\n",
       "    .dataframe tbody tr th:only-of-type {\n",
       "        vertical-align: middle;\n",
       "    }\n",
       "\n",
       "    .dataframe tbody tr th {\n",
       "        vertical-align: top;\n",
       "    }\n",
       "\n",
       "    .dataframe thead th {\n",
       "        text-align: right;\n",
       "    }\n",
       "</style>\n",
       "<table border=\"1\" class=\"dataframe\">\n",
       "  <thead>\n",
       "    <tr style=\"text-align: right;\">\n",
       "      <th></th>\n",
       "      <th>Name</th>\n",
       "      <th>Age</th>\n",
       "    </tr>\n",
       "  </thead>\n",
       "  <tbody>\n",
       "    <tr>\n",
       "      <th>0</th>\n",
       "      <td>Mickey</td>\n",
       "      <td>12</td>\n",
       "    </tr>\n",
       "    <tr>\n",
       "      <th>1</th>\n",
       "      <td>Rickey</td>\n",
       "      <td>13</td>\n",
       "    </tr>\n",
       "    <tr>\n",
       "      <th>2</th>\n",
       "      <td>Pratik</td>\n",
       "      <td>22</td>\n",
       "    </tr>\n",
       "    <tr>\n",
       "      <th>3</th>\n",
       "      <td>Faizan</td>\n",
       "      <td>24</td>\n",
       "    </tr>\n",
       "    <tr>\n",
       "      <th>4</th>\n",
       "      <td>Varun</td>\n",
       "      <td>25</td>\n",
       "    </tr>\n",
       "    <tr>\n",
       "      <th>5</th>\n",
       "      <td>Khusali</td>\n",
       "      <td>26</td>\n",
       "    </tr>\n",
       "  </tbody>\n",
       "</table>\n",
       "</div>"
      ],
      "text/plain": [
       "      Name Age\n",
       "0   Mickey  12\n",
       "1   Rickey  13\n",
       "2   Pratik  22\n",
       "3   Faizan  24\n",
       "4    Varun  25\n",
       "5  Khusali  26"
      ]
     },
     "execution_count": 89,
     "metadata": {},
     "output_type": "execute_result"
    }
   ],
   "source": [
    "df = pd.DataFrame(dic)\n",
    "df"
   ]
  },
  {
   "cell_type": "code",
   "execution_count": 90,
   "id": "c21aabf6",
   "metadata": {},
   "outputs": [],
   "source": [
    "df.to_csv(\"Biodata.csv\", index=False)"
   ]
  }
 ],
 "metadata": {
  "kernelspec": {
   "display_name": "Python 3 (ipykernel)",
   "language": "python",
   "name": "python3"
  },
  "language_info": {
   "codemirror_mode": {
    "name": "ipython",
    "version": 3
   },
   "file_extension": ".py",
   "mimetype": "text/x-python",
   "name": "python",
   "nbconvert_exporter": "python",
   "pygments_lexer": "ipython3",
   "version": "3.9.12"
  }
 },
 "nbformat": 4,
 "nbformat_minor": 5
}
