{
 "cells": [
  {
   "cell_type": "markdown",
   "id": "e4859d65",
   "metadata": {},
   "source": [
    "# Python Operators"
   ]
  },
  {
   "cell_type": "markdown",
   "id": "0d117c7c",
   "metadata": {},
   "source": [
    ">Arithmetic : + - * / //Floor division **exponential \n",
    "\n",
    ">Comparison/Relational : < <= > >= != ==\n",
    "\n",
    ">Assignment : =\n",
    "    \n",
    ">Logical : and or not\n",
    "\n",
    ">Membership : in, not in\n",
    "    \n",
    ">Identity : is, is not"
   ]
  },
  {
   "cell_type": "markdown",
   "id": "7a6e5410",
   "metadata": {},
   "source": [
    "## Arithmetic Operators"
   ]
  },
  {
   "cell_type": "code",
   "execution_count": 1,
   "id": "11191d60",
   "metadata": {},
   "outputs": [
    {
     "name": "stdout",
     "output_type": "stream",
     "text": [
      "Addition: 125\n",
      "Subtraction: 25\n",
      "Multiplication: 3750\n",
      "Division: 1.5\n",
      "Floor Division: 1\n",
      "Power: 5663216564269376246651146961451462555847156881308848176692638531903867260552942752838134765625\n",
      "Modulus without a remainder: 0\n",
      "Modulus with a remainder: 1\n"
     ]
    }
   ],
   "source": [
    "a = 75\n",
    "b = 50\n",
    "\n",
    "print(\"Addition:\", a + b)\n",
    "print(\"Subtraction:\", a - b)\n",
    "print(\"Multiplication:\", a * b)\n",
    "print(\"Division:\", a / b)\n",
    "print(\"Floor Division:\", a // b)\n",
    "print(\"Power:\", a ** b)\n",
    "print(\"Modulus without a remainder:\", 10 % 2)\n",
    "print(\"Modulus with a remainder:\", 10 % 3) # Mod or percent gives the Remainder of the division of the left oper and by the Right."
   ]
  },
  {
   "cell_type": "code",
   "execution_count": 2,
   "id": "b8810b64",
   "metadata": {},
   "outputs": [
    {
     "name": "stdout",
     "output_type": "stream",
     "text": [
      "Addition - Value of c is  5\n",
      "Substraction - Value of c is  -1\n",
      "Multiplication - Value of c is  6\n",
      "Division - Value of c is  0.6666666666666666\n",
      "Floor Division - Value of c is  0\n",
      "Modulus / Remainder - Value of c is  2\n",
      "Exponent / Power - Value of c is  8\n"
     ]
    }
   ],
   "source": [
    "a = 2\n",
    "b = 3\n",
    "c = 0\n",
    "\n",
    "c = a + b \n",
    "print(\"Addition - Value of c is \", c)\n",
    "\n",
    "c = a - b\n",
    "print(\"Substraction - Value of c is \", c)\n",
    "\n",
    "c = a * b\n",
    "print(\"Multiplication - Value of c is \", c)\n",
    "\n",
    "c = a / b\n",
    "print(\"Division - Value of c is \", c)\n",
    "\n",
    "c = a//b \n",
    "print(\"Floor Division - Value of c is \", c)  #floor devision is the Division that results into whole number adjusted to the left in the number line.\n",
    "\n",
    "c = a % b\n",
    "print(\"Modulus / Remainder - Value of c is \", c)\n",
    "\n",
    "c = a**b \n",
    "print(\"Exponent / Power - Value of c is \", c)"
   ]
  },
  {
   "cell_type": "markdown",
   "id": "1e278a47",
   "metadata": {},
   "source": [
    "## Comparison/Relational Operators"
   ]
  },
  {
   "cell_type": "markdown",
   "id": "4f992d2e",
   "metadata": {},
   "source": [
    "Comparison operators gives result in only in True or False\n",
    "\n",
    "<,>,<=,>=,==,!="
   ]
  },
  {
   "cell_type": "code",
   "execution_count": 3,
   "id": "591ee932",
   "metadata": {},
   "outputs": [
    {
     "name": "stdout",
     "output_type": "stream",
     "text": [
      "A is equals to B: False\n",
      "A is not equals to B: True\n",
      "A is greater than B: True\n",
      "A is less than B: False\n",
      "A is greater than or equal B: True\n",
      "A is lesser than or equal to B: False\n"
     ]
    }
   ],
   "source": [
    "a = 20 \n",
    "b = 10\n",
    "\n",
    "print(\"A is equals to B:\", a == b)\n",
    "print(\"A is not equals to B:\", a != b)\n",
    "print(\"A is greater than B:\", a > b)\n",
    "print(\"A is less than B:\", a < b)\n",
    "print(\"A is greater than or equal B:\", a >= b)\n",
    "print(\"A is lesser than or equal to B:\", a <= b)"
   ]
  },
  {
   "cell_type": "markdown",
   "id": "6bf499da",
   "metadata": {},
   "source": [
    "## Assignment Operators"
   ]
  },
  {
   "cell_type": "markdown",
   "id": "27bc0576",
   "metadata": {},
   "source": [
    "+=, -=, *=, /=, %=, //=,**="
   ]
  },
  {
   "cell_type": "code",
   "execution_count": 6,
   "id": "fa8b07c6",
   "metadata": {},
   "outputs": [
    {
     "name": "stdout",
     "output_type": "stream",
     "text": [
      "5\n"
     ]
    }
   ],
   "source": [
    "x = 5\n",
    "print(x)"
   ]
  },
  {
   "cell_type": "code",
   "execution_count": 7,
   "id": "cda4690c",
   "metadata": {},
   "outputs": [
    {
     "name": "stdout",
     "output_type": "stream",
     "text": [
      "6\n"
     ]
    }
   ],
   "source": [
    "x +=1 #x=x+1  i.e.5+1=6\n",
    "print(x)"
   ]
  },
  {
   "cell_type": "code",
   "execution_count": 8,
   "id": "1f00e2f5",
   "metadata": {},
   "outputs": [
    {
     "name": "stdout",
     "output_type": "stream",
     "text": [
      "5\n"
     ]
    }
   ],
   "source": [
    "x -=1 #x=x-1 i.e. 6-1=5\n",
    "print(x)"
   ]
  },
  {
   "cell_type": "code",
   "execution_count": 9,
   "id": "17d39cff",
   "metadata": {},
   "outputs": [
    {
     "name": "stdout",
     "output_type": "stream",
     "text": [
      "10\n"
     ]
    }
   ],
   "source": [
    "x *=2  #x = x*2 i.e.5*2=10\n",
    "print(x)"
   ]
  },
  {
   "cell_type": "code",
   "execution_count": 10,
   "id": "4a88ab84",
   "metadata": {},
   "outputs": [
    {
     "name": "stdout",
     "output_type": "stream",
     "text": [
      "5.0\n"
     ]
    }
   ],
   "source": [
    "x /=2 #x= x/2 i.e.10/2=5\n",
    "print(x)"
   ]
  },
  {
   "cell_type": "code",
   "execution_count": 11,
   "id": "e5d61800",
   "metadata": {},
   "outputs": [
    {
     "name": "stdout",
     "output_type": "stream",
     "text": [
      "1.0\n"
     ]
    }
   ],
   "source": [
    "x %=2 #x= 5%2=1\n",
    "print(x)"
   ]
  },
  {
   "cell_type": "code",
   "execution_count": 12,
   "id": "01961901",
   "metadata": {},
   "outputs": [
    {
     "name": "stdout",
     "output_type": "stream",
     "text": [
      "0.0\n"
     ]
    }
   ],
   "source": [
    "x //=2 #x = x//2\n",
    "print(x)"
   ]
  },
  {
   "cell_type": "code",
   "execution_count": 13,
   "id": "9d7e6dd7",
   "metadata": {},
   "outputs": [
    {
     "name": "stdout",
     "output_type": "stream",
     "text": [
      "27\n"
     ]
    }
   ],
   "source": [
    "x = 3\n",
    "x **=3 #x= x**3=3**3=27\n",
    "print(x)"
   ]
  },
  {
   "cell_type": "code",
   "execution_count": 14,
   "id": "cc6e4cb3",
   "metadata": {},
   "outputs": [
    {
     "name": "stdout",
     "output_type": "stream",
     "text": [
      "Adding values to C: 35\n",
      "Subtracting values from C: 20\n",
      "Multiplying values on C: 300\n",
      "Dividing values from C: 20.0\n",
      "Floor Division of C: 1.0\n",
      "Power of C by 2 1.0\n",
      "Modulus of C by 2: 1.0\n"
     ]
    }
   ],
   "source": [
    "a = 15\n",
    "b = 5\n",
    "c = a + b\n",
    "\n",
    "c += a\n",
    "print(\"Adding values to C:\", c)\n",
    "c -= a\n",
    "print(\"Subtracting values from C:\", c)\n",
    "c *= a\n",
    "print(\"Multiplying values on C:\", c)\n",
    "c /= a\n",
    "print(\"Dividing values from C:\", c)\n",
    "c //= a\n",
    "print(\"Floor Division of C:\", c)\n",
    "c **= 2\n",
    "print(\"Power of C by 2\", c)\n",
    "c %= 2\n",
    "print(\"Modulus of C by 2:\", c)"
   ]
  },
  {
   "cell_type": "code",
   "execution_count": 15,
   "id": "67084094",
   "metadata": {},
   "outputs": [
    {
     "name": "stdout",
     "output_type": "stream",
     "text": [
      "Line 1 - Value of c is  5\n",
      "Line 2 - Value of c is  7\n",
      "Line 3 - Value of c is  14\n",
      "Line 4 - Value of c is  7.0\n",
      "Line 5 - Value of c is  3.0\n",
      "Line 6 - Value of c is  1.0\n",
      "Line 7 - Value of c is  1.0\n"
     ]
    }
   ],
   "source": [
    "a = 2\n",
    "b = 3\n",
    "c = 0\n",
    "\n",
    "c = a + b\n",
    "print(\"Line 1 - Value of c is \", c)\n",
    "\n",
    "c += a\n",
    "print(\"Line 2 - Value of c is \", c) \n",
    "\n",
    "c *= a\n",
    "print(\"Line 3 - Value of c is \", c) \n",
    "\n",
    "c /= a \n",
    "print(\"Line 4 - Value of c is \", c) \n",
    "\n",
    "c //= a\n",
    "print(\"Line 5 - Value of c is \", c)\n",
    "\n",
    "c %= a\n",
    "print(\"Line 6 - Value of c is \", c)\n",
    "\n",
    "c **= a\n",
    "print(\"Line 7 - Value of c is \", c)"
   ]
  },
  {
   "cell_type": "markdown",
   "id": "4accfe55",
   "metadata": {},
   "source": [
    "## Logical Operators"
   ]
  },
  {
   "cell_type": "markdown",
   "id": "6c9a6649",
   "metadata": {},
   "source": [
    "AND operator will only evaluate the conditions as True when each and every condition is True"
   ]
  },
  {
   "cell_type": "code",
   "execution_count": 16,
   "id": "e6680f8e",
   "metadata": {},
   "outputs": [
    {
     "data": {
      "text/plain": [
       "True"
      ]
     },
     "execution_count": 16,
     "metadata": {},
     "output_type": "execute_result"
    }
   ],
   "source": [
    "True and True"
   ]
  },
  {
   "cell_type": "code",
   "execution_count": 17,
   "id": "f5ad3b44",
   "metadata": {},
   "outputs": [
    {
     "data": {
      "text/plain": [
       "False"
      ]
     },
     "execution_count": 17,
     "metadata": {},
     "output_type": "execute_result"
    }
   ],
   "source": [
    "True and False"
   ]
  },
  {
   "cell_type": "code",
   "execution_count": 18,
   "id": "76d63174",
   "metadata": {},
   "outputs": [
    {
     "data": {
      "text/plain": [
       "False"
      ]
     },
     "execution_count": 18,
     "metadata": {},
     "output_type": "execute_result"
    }
   ],
   "source": [
    "False and True"
   ]
  },
  {
   "cell_type": "code",
   "execution_count": 19,
   "id": "8a998e2b",
   "metadata": {},
   "outputs": [
    {
     "data": {
      "text/plain": [
       "False"
      ]
     },
     "execution_count": 19,
     "metadata": {},
     "output_type": "execute_result"
    }
   ],
   "source": [
    "False and False"
   ]
  },
  {
   "cell_type": "markdown",
   "id": "65e3a477",
   "metadata": {},
   "source": [
    "OR operator will only evaluate the conditions as True if any one condition is True"
   ]
  },
  {
   "cell_type": "code",
   "execution_count": 20,
   "id": "55c35f48",
   "metadata": {},
   "outputs": [
    {
     "data": {
      "text/plain": [
       "True"
      ]
     },
     "execution_count": 20,
     "metadata": {},
     "output_type": "execute_result"
    }
   ],
   "source": [
    "True or True"
   ]
  },
  {
   "cell_type": "code",
   "execution_count": 21,
   "id": "c3c8f19e",
   "metadata": {},
   "outputs": [
    {
     "data": {
      "text/plain": [
       "True"
      ]
     },
     "execution_count": 21,
     "metadata": {},
     "output_type": "execute_result"
    }
   ],
   "source": [
    "True or False"
   ]
  },
  {
   "cell_type": "code",
   "execution_count": 22,
   "id": "0fce408e",
   "metadata": {},
   "outputs": [
    {
     "data": {
      "text/plain": [
       "True"
      ]
     },
     "execution_count": 22,
     "metadata": {},
     "output_type": "execute_result"
    }
   ],
   "source": [
    "False or True"
   ]
  },
  {
   "cell_type": "code",
   "execution_count": 23,
   "id": "3c0056e3",
   "metadata": {},
   "outputs": [
    {
     "data": {
      "text/plain": [
       "False"
      ]
     },
     "execution_count": 23,
     "metadata": {},
     "output_type": "execute_result"
    }
   ],
   "source": [
    "False or False"
   ]
  },
  {
   "cell_type": "markdown",
   "id": "5d9b924c",
   "metadata": {},
   "source": [
    "NOT Operator gives opposite of that codition"
   ]
  },
  {
   "cell_type": "code",
   "execution_count": 24,
   "id": "25d49fc2",
   "metadata": {},
   "outputs": [
    {
     "data": {
      "text/plain": [
       "False"
      ]
     },
     "execution_count": 24,
     "metadata": {},
     "output_type": "execute_result"
    }
   ],
   "source": [
    "not True"
   ]
  },
  {
   "cell_type": "code",
   "execution_count": 25,
   "id": "35882536",
   "metadata": {},
   "outputs": [
    {
     "data": {
      "text/plain": [
       "True"
      ]
     },
     "execution_count": 25,
     "metadata": {},
     "output_type": "execute_result"
    }
   ],
   "source": [
    "not False"
   ]
  },
  {
   "cell_type": "markdown",
   "id": "c6740c5c",
   "metadata": {},
   "source": [
    "## Membership Operators"
   ]
  },
  {
   "cell_type": "markdown",
   "id": "5af42693",
   "metadata": {},
   "source": [
    "used to understand whether a particular value is present or not in a variable"
   ]
  },
  {
   "cell_type": "code",
   "execution_count": 2,
   "id": "7fbfa191",
   "metadata": {},
   "outputs": [
    {
     "data": {
      "text/plain": [
       "[1, 2, 3, 4, 5, 6, 7, 8, 9, 10]"
      ]
     },
     "execution_count": 2,
     "metadata": {},
     "output_type": "execute_result"
    }
   ],
   "source": [
    "a = [1,2,3,4,5,6,7,8,9,10]\n",
    "a"
   ]
  },
  {
   "cell_type": "code",
   "execution_count": 3,
   "id": "f80335c7",
   "metadata": {},
   "outputs": [
    {
     "data": {
      "text/plain": [
       "True"
      ]
     },
     "execution_count": 3,
     "metadata": {},
     "output_type": "execute_result"
    }
   ],
   "source": [
    "3 in a"
   ]
  },
  {
   "cell_type": "code",
   "execution_count": 4,
   "id": "6fc8be59",
   "metadata": {},
   "outputs": [
    {
     "data": {
      "text/plain": [
       "True"
      ]
     },
     "execution_count": 4,
     "metadata": {},
     "output_type": "execute_result"
    }
   ],
   "source": [
    "11.5 not in a"
   ]
  },
  {
   "cell_type": "code",
   "execution_count": 5,
   "id": "c375f692",
   "metadata": {},
   "outputs": [
    {
     "data": {
      "text/plain": [
       "False"
      ]
     },
     "execution_count": 5,
     "metadata": {},
     "output_type": "execute_result"
    }
   ],
   "source": [
    "0 in a"
   ]
  },
  {
   "cell_type": "code",
   "execution_count": 6,
   "id": "bcd8d9c2",
   "metadata": {},
   "outputs": [
    {
     "name": "stdout",
     "output_type": "stream",
     "text": [
      "Line 1 - a is available in the given list\n"
     ]
    }
   ],
   "source": [
    "a = 1\n",
    "b = 20\n",
    "list = [1, 2, 3, 4, 5 ]\n",
    "\n",
    "if ( a in list ):\n",
    "   print(\"Line 1 - a is available in the given list\")\n",
    "else:\n",
    "   print(\"Line 1 - a is not available in the given list\")"
   ]
  },
  {
   "cell_type": "code",
   "execution_count": 7,
   "id": "f03e9475",
   "metadata": {},
   "outputs": [
    {
     "name": "stdout",
     "output_type": "stream",
     "text": [
      "Line 2 - a is not available in the given list\n",
      "Line 3 - b is not available in the given list\n"
     ]
    }
   ],
   "source": [
    "a = 10\n",
    "if ( a in list ):\n",
    "   print(\"Line 2 - a is available in the given list\")\n",
    "else:\n",
    "   print(\"Line 2 - a is not available in the given list\")\n",
    "\n",
    "if (b not in list):\n",
    "   print(\"Line 3 - b is not available in the given list\")\n",
    "else:\n",
    "   print(\"Line 3 - b is available in the given list\")"
   ]
  },
  {
   "cell_type": "code",
   "execution_count": 8,
   "id": "5f8ce668",
   "metadata": {},
   "outputs": [
    {
     "data": {
      "text/plain": [
       "[11, 101, 12, 13, 25, (2+3j), True, 36.52]"
      ]
     },
     "execution_count": 8,
     "metadata": {},
     "output_type": "execute_result"
    }
   ],
   "source": [
    "y = [11,101,12,13,25,2+3j,True,36.52]\n",
    "y"
   ]
  },
  {
   "cell_type": "code",
   "execution_count": 10,
   "id": "72327492",
   "metadata": {},
   "outputs": [
    {
     "name": "stdout",
     "output_type": "stream",
     "text": [
      "X is present in y: False\n"
     ]
    }
   ],
   "source": [
    "x = 10\n",
    "print(\"X is present in y:\", x in y)"
   ]
  },
  {
   "cell_type": "code",
   "execution_count": 11,
   "id": "73735934",
   "metadata": {},
   "outputs": [
    {
     "name": "stdout",
     "output_type": "stream",
     "text": [
      "X is present in y: True\n"
     ]
    }
   ],
   "source": [
    "x = 2+3j\n",
    "print(\"X is present in y:\", x in y)"
   ]
  },
  {
   "cell_type": "markdown",
   "id": "016ca690",
   "metadata": {},
   "source": [
    "## Identity Operators"
   ]
  },
  {
   "cell_type": "markdown",
   "id": "6364eb94",
   "metadata": {},
   "source": [
    "is, is not"
   ]
  },
  {
   "cell_type": "code",
   "execution_count": null,
   "id": "da604e06",
   "metadata": {},
   "outputs": [],
   "source": [
    "# is \t Evaluates to true if the variables on either side of the operator point to the same object and false otherwise.\n",
    "\n",
    "# is not \t Evaluates to false if the variables on either side of the operator point to the same object and true otherwise."
   ]
  },
  {
   "cell_type": "code",
   "execution_count": 13,
   "id": "13ab130e",
   "metadata": {},
   "outputs": [],
   "source": [
    "x = 20"
   ]
  },
  {
   "cell_type": "code",
   "execution_count": 14,
   "id": "050db12d",
   "metadata": {},
   "outputs": [
    {
     "name": "stderr",
     "output_type": "stream",
     "text": [
      "<>:1: SyntaxWarning: \"is\" with a literal. Did you mean \"==\"?\n",
      "<>:1: SyntaxWarning: \"is\" with a literal. Did you mean \"==\"?\n",
      "C:\\Users\\User\\AppData\\Local\\Temp/ipykernel_13220/1564652717.py:1: SyntaxWarning: \"is\" with a literal. Did you mean \"==\"?\n",
      "  x is 5\n"
     ]
    },
    {
     "data": {
      "text/plain": [
       "False"
      ]
     },
     "execution_count": 14,
     "metadata": {},
     "output_type": "execute_result"
    }
   ],
   "source": [
    "x is 5"
   ]
  },
  {
   "cell_type": "code",
   "execution_count": 15,
   "id": "071bed9e",
   "metadata": {},
   "outputs": [
    {
     "name": "stderr",
     "output_type": "stream",
     "text": [
      "<>:1: SyntaxWarning: \"is\" with a literal. Did you mean \"==\"?\n",
      "<>:1: SyntaxWarning: \"is\" with a literal. Did you mean \"==\"?\n",
      "C:\\Users\\User\\AppData\\Local\\Temp/ipykernel_13220/140267597.py:1: SyntaxWarning: \"is\" with a literal. Did you mean \"==\"?\n",
      "  x is 20\n"
     ]
    },
    {
     "data": {
      "text/plain": [
       "True"
      ]
     },
     "execution_count": 15,
     "metadata": {},
     "output_type": "execute_result"
    }
   ],
   "source": [
    "x is 20"
   ]
  },
  {
   "cell_type": "code",
   "execution_count": 16,
   "id": "2eea0712",
   "metadata": {},
   "outputs": [
    {
     "name": "stderr",
     "output_type": "stream",
     "text": [
      "<>:1: SyntaxWarning: \"is not\" with a literal. Did you mean \"!=\"?\n",
      "<>:1: SyntaxWarning: \"is not\" with a literal. Did you mean \"!=\"?\n",
      "C:\\Users\\User\\AppData\\Local\\Temp/ipykernel_13220/908714030.py:1: SyntaxWarning: \"is not\" with a literal. Did you mean \"!=\"?\n",
      "  x is not 5\n"
     ]
    },
    {
     "data": {
      "text/plain": [
       "True"
      ]
     },
     "execution_count": 16,
     "metadata": {},
     "output_type": "execute_result"
    }
   ],
   "source": [
    "x is not 5"
   ]
  },
  {
   "cell_type": "code",
   "execution_count": 17,
   "id": "0e8c9e14",
   "metadata": {},
   "outputs": [
    {
     "name": "stdout",
     "output_type": "stream",
     "text": [
      "True\n"
     ]
    }
   ],
   "source": [
    "a = 20\n",
    "b = 30\n",
    "\n",
    "print(a is not b)"
   ]
  },
  {
   "cell_type": "code",
   "execution_count": 18,
   "id": "428e8f97",
   "metadata": {},
   "outputs": [
    {
     "name": "stdout",
     "output_type": "stream",
     "text": [
      "False\n"
     ]
    }
   ],
   "source": [
    "print(a is b)"
   ]
  },
  {
   "cell_type": "code",
   "execution_count": 19,
   "id": "63b28f4c",
   "metadata": {},
   "outputs": [
    {
     "name": "stdout",
     "output_type": "stream",
     "text": [
      "True\n"
     ]
    }
   ],
   "source": [
    "print(b is not a)"
   ]
  }
 ],
 "metadata": {
  "kernelspec": {
   "display_name": "Python 3 (ipykernel)",
   "language": "python",
   "name": "python3"
  },
  "language_info": {
   "codemirror_mode": {
    "name": "ipython",
    "version": 3
   },
   "file_extension": ".py",
   "mimetype": "text/x-python",
   "name": "python",
   "nbconvert_exporter": "python",
   "pygments_lexer": "ipython3",
   "version": "3.9.12"
  }
 },
 "nbformat": 4,
 "nbformat_minor": 5
}
