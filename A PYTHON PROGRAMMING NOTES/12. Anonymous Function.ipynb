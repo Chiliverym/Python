{
 "cells": [
  {
   "cell_type": "markdown",
   "id": "e8897ed1",
   "metadata": {},
   "source": [
    "There are functions that have no names at all. There functions are called Anonymous functions or a lambda expressions.\n",
    "\n",
    "Suppose you want to write a function that will evaluate the value 3x+1, the standard approach would be to define a function. \n",
    "Let’s call it ‘f’ with a single input ‘x’ next it would return the value 3x+1"
   ]
  },
  {
   "cell_type": "code",
   "execution_count": 1,
   "id": "f9a71319",
   "metadata": {},
   "outputs": [],
   "source": [
    "def f(x):\n",
    "    return 3*x+1"
   ]
  },
  {
   "cell_type": "code",
   "execution_count": 2,
   "id": "705ef7a2",
   "metadata": {},
   "outputs": [
    {
     "data": {
      "text/plain": [
       "7"
      ]
     },
     "execution_count": 2,
     "metadata": {},
     "output_type": "execute_result"
    }
   ],
   "source": [
    "f(2)"
   ]
  },
  {
   "cell_type": "markdown",
   "id": "9b5e599b",
   "metadata": {},
   "source": [
    "So it worked nicely, let us now do this by using lambda expression.\n",
    "\n",
    "- To create a lambda expression, \n",
    "- Type the keyword lambda followed by your input.\n",
    "- Next, type a colon. \n",
    "- Finally, enter an expression that will be the return value."
   ]
  },
  {
   "cell_type": "code",
   "execution_count": 3,
   "id": "dcb5cf06",
   "metadata": {},
   "outputs": [
    {
     "data": {
      "text/plain": [
       "<function __main__.<lambda>(x)>"
      ]
     },
     "execution_count": 3,
     "metadata": {},
     "output_type": "execute_result"
    }
   ],
   "source": [
    "lambda x:3*x+1"
   ]
  },
  {
   "cell_type": "markdown",
   "id": "718d3187",
   "metadata": {},
   "source": [
    "This anonymous function will take the input ‘x’ and return the and return the 3x+1, just like the earlies function ‘f’.However, there is a problem. We cannot use this function because it does not have a name. It is, after all a anonymous function.\n",
    "Lambda is not the name of the function, it is the keyword that says what follows is a anonymous function. \n",
    "\n",
    "So how do you use it? One ways is to give it a name. Let’s us call this call this lambda expression ‘g’.\n"
   ]
  },
  {
   "cell_type": "code",
   "execution_count": 4,
   "id": "337bb34a",
   "metadata": {},
   "outputs": [],
   "source": [
    "g = lambda x:3*x+1"
   ]
  },
  {
   "cell_type": "code",
   "execution_count": 5,
   "id": "9962982f",
   "metadata": {},
   "outputs": [
    {
     "data": {
      "text/plain": [
       "7"
      ]
     },
     "execution_count": 5,
     "metadata": {},
     "output_type": "execute_result"
    }
   ],
   "source": [
    "g(2)"
   ]
  },
  {
   "cell_type": "code",
   "execution_count": 6,
   "id": "61585094",
   "metadata": {},
   "outputs": [],
   "source": [
    "name = [\"Mithilesh Yadav\",\"Deepak Kumar Gupta\",\"Sneha Singh\",\"Kishor Lashman Ramiste\",\"Rohit Mohite\"]"
   ]
  },
  {
   "cell_type": "code",
   "execution_count": 7,
   "id": "82676cf5",
   "metadata": {},
   "outputs": [
    {
     "data": {
      "text/plain": [
       "['Mithilesh Yadav',\n",
       " 'Deepak Kumar Gupta',\n",
       " 'Sneha Singh',\n",
       " 'Kishor Lashman Ramiste',\n",
       " 'Rohit Mohite']"
      ]
     },
     "execution_count": 7,
     "metadata": {},
     "output_type": "execute_result"
    }
   ],
   "source": [
    "name"
   ]
  },
  {
   "cell_type": "code",
   "execution_count": 8,
   "id": "bda78e75",
   "metadata": {},
   "outputs": [],
   "source": [
    "name.sort(key=lambda name:name.split(\" \")[-1].lower())"
   ]
  },
  {
   "cell_type": "code",
   "execution_count": 9,
   "id": "a958f5b6",
   "metadata": {},
   "outputs": [
    {
     "data": {
      "text/plain": [
       "['Deepak Kumar Gupta',\n",
       " 'Rohit Mohite',\n",
       " 'Kishor Lashman Ramiste',\n",
       " 'Sneha Singh',\n",
       " 'Mithilesh Yadav']"
      ]
     },
     "execution_count": 9,
     "metadata": {},
     "output_type": "execute_result"
    }
   ],
   "source": [
    "name"
   ]
  },
  {
   "cell_type": "code",
   "execution_count": 10,
   "id": "cfeba3f6",
   "metadata": {},
   "outputs": [
    {
     "name": "stdout",
     "output_type": "stream",
     "text": [
      "3\n"
     ]
    }
   ],
   "source": [
    "adder = lambda x, y: x + y\n",
    "print (adder (1, 2))"
   ]
  },
  {
   "cell_type": "code",
   "execution_count": 11,
   "id": "b332eaf3",
   "metadata": {},
   "outputs": [
    {
     "name": "stdout",
     "output_type": "stream",
     "text": [
      "15\n"
     ]
    }
   ],
   "source": [
    "x = lambda x,y : x + y\n",
    "print(x(5,10))"
   ]
  },
  {
   "cell_type": "code",
   "execution_count": 12,
   "id": "50ba46f4",
   "metadata": {},
   "outputs": [
    {
     "name": "stdout",
     "output_type": "stream",
     "text": [
      "13\n"
     ]
    }
   ],
   "source": [
    "x = lambda a, b, c : a + b + c\n",
    "print(x(5, 6, 2))"
   ]
  },
  {
   "cell_type": "code",
   "execution_count": 13,
   "id": "06006685",
   "metadata": {},
   "outputs": [
    {
     "data": {
      "text/plain": [
       "14750"
      ]
     },
     "execution_count": 13,
     "metadata": {},
     "output_type": "execute_result"
    }
   ],
   "source": [
    "(lambda x,y,z: x*y-z)(100,150,250)"
   ]
  },
  {
   "cell_type": "code",
   "execution_count": 14,
   "id": "50f6a4ea",
   "metadata": {},
   "outputs": [
    {
     "data": {
      "text/plain": [
       "350"
      ]
     },
     "execution_count": 14,
     "metadata": {},
     "output_type": "execute_result"
    }
   ],
   "source": [
    "mul = lambda x, y: x * y\n",
    "mul(10,35)"
   ]
  },
  {
   "cell_type": "code",
   "execution_count": 15,
   "id": "64efb764",
   "metadata": {},
   "outputs": [
    {
     "data": {
      "text/plain": [
       "3"
      ]
     },
     "execution_count": 15,
     "metadata": {},
     "output_type": "execute_result"
    }
   ],
   "source": [
    "(lambda x: x + 1)(2)"
   ]
  },
  {
   "cell_type": "code",
   "execution_count": 16,
   "id": "a3f24942",
   "metadata": {},
   "outputs": [],
   "source": [
    "def myfunc(n):\n",
    "    return lambda a : a * n"
   ]
  },
  {
   "cell_type": "code",
   "execution_count": 17,
   "id": "23daf9d6",
   "metadata": {},
   "outputs": [
    {
     "name": "stdout",
     "output_type": "stream",
     "text": [
      "44\n"
     ]
    }
   ],
   "source": [
    "def myfunc(n):\n",
    "      return lambda a : a * n\n",
    "\n",
    "mydoubler = myfunc(2)\n",
    "\n",
    "print(mydoubler(22))"
   ]
  },
  {
   "cell_type": "code",
   "execution_count": 18,
   "id": "327598fe",
   "metadata": {},
   "outputs": [
    {
     "name": "stdout",
     "output_type": "stream",
     "text": [
      "22\n",
      "33\n"
     ]
    }
   ],
   "source": [
    "def myfunc(n):\n",
    "    return lambda a : a * n\n",
    "\n",
    "mydoubler = myfunc(2)\n",
    "mytripler = myfunc(3)\n",
    "\n",
    "print(mydoubler(11))\n",
    "print(mytripler(11))"
   ]
  },
  {
   "cell_type": "markdown",
   "id": "bfcf1d52",
   "metadata": {},
   "source": [
    "## Map Function."
   ]
  },
  {
   "cell_type": "markdown",
   "id": "ad58695b",
   "metadata": {},
   "source": [
    "Software engineers spend a lot of  time working with list, you work for stock market , you are analyzing lists of stock prices. Writing software for a drone delivery service , you are processing lists of orders. You work at friendface, you are  profiling lists of users with your mountain of personal data. \n",
    "\n",
    "A lot of code is spent analyzing, filtering and combing the items in a list. Python gives you functions to streamline these tasks, the map, filter and reduce function. We will now iterate over this list of functions one by one.\n",
    "\n",
    "Let us begin with the Map function, suppose we a have a function that computes the area of the circle with radius ‘r’ .\n"
   ]
  },
  {
   "cell_type": "code",
   "execution_count": 1,
   "id": "e262ad06",
   "metadata": {},
   "outputs": [],
   "source": [
    "def area(r):\n",
    "    \"\"\" area of the circle with radius r\"\"\"\n",
    "    return 3.14 * r**2\n"
   ]
  },
  {
   "cell_type": "code",
   "execution_count": 2,
   "id": "33764b03",
   "metadata": {},
   "outputs": [
    {
     "data": {
      "text/plain": [
       "[12.56, 78.5, 158.2874, 0.2826, 314.0]"
      ]
     },
     "execution_count": 2,
     "metadata": {},
     "output_type": "execute_result"
    }
   ],
   "source": [
    "#Method 1: Direct method\n",
    "areas =[]\n",
    "radii = [2,5,7.1,0.3,10]\n",
    "for i in radii:\n",
    "    areas.append(area(i))\n",
    "    \n",
    "areas\n"
   ]
  },
  {
   "cell_type": "markdown",
   "id": "3e21fb1b",
   "metadata": {},
   "source": [
    "Next, you could  loop over the list of  radii. For each radius you would compute the area of the circle, then append it to the area list. This is block of code is very clear and erect. \n",
    "\n",
    "But with the map function, we can accomplish this with a single line of code. The map function takes two arguments. The first is function, and the second is your list,tuple or other iterable object.\n"
   ]
  },
  {
   "cell_type": "code",
   "execution_count": 3,
   "id": "41ce11bb",
   "metadata": {},
   "outputs": [
    {
     "data": {
      "text/plain": [
       "<map at 0x24e3a24ffa0>"
      ]
     },
     "execution_count": 3,
     "metadata": {},
     "output_type": "execute_result"
    }
   ],
   "source": [
    "#Method 2: Use ‘map’ function.\n",
    "map(area,radii)"
   ]
  },
  {
   "cell_type": "markdown",
   "id": "f96e2fb4",
   "metadata": {},
   "source": [
    "Here , map will apply the area function to each element in the list, but look! The output of the map function is not a list. It is a map object, which is actually an iterator over the results.\n",
    "\n",
    "\n",
    "This is highly favorable, especially when working with large collections of data. We can, however, turn this into a list by passing the map to the list constructor."
   ]
  },
  {
   "cell_type": "code",
   "execution_count": 6,
   "id": "0dc0c125",
   "metadata": {},
   "outputs": [
    {
     "data": {
      "text/plain": [
       "[12.56, 78.5, 158.2874, 0.2826, 314.0]"
      ]
     },
     "execution_count": 6,
     "metadata": {},
     "output_type": "execute_result"
    }
   ],
   "source": [
    "list(map(area,radii))"
   ]
  },
  {
   "cell_type": "markdown",
   "id": "7bc6b066",
   "metadata": {},
   "source": [
    "Suppose you work for a weather and all your temperature data is stored in Celsius, then, unexpectedly, someone asks for a weather map in Fahrenheit.\n",
    "\n",
    "Here is a list of temperature data for some major cities in India.\n"
   ]
  },
  {
   "cell_type": "code",
   "execution_count": 24,
   "id": "eed53985",
   "metadata": {},
   "outputs": [],
   "source": [
    "temps  =  [(\"Kasmir\",1),(\"Simla\",5),(\"Mumbai\",16),\n",
    "           (\"Hydrabad\",14),(\"Chennai\",14), (\"Banglure\",13)]"
   ]
  },
  {
   "cell_type": "markdown",
   "id": "c484eeba",
   "metadata": {},
   "source": [
    "Each  tuple contains the name of the city in English and the Temperature in degrees Celsius. Our  goal is to Convert this to a list, where the degrees are in Fahrenheit."
   ]
  },
  {
   "cell_type": "markdown",
   "id": "76ac82f7",
   "metadata": {},
   "source": [
    "###### Here is the Formula for converting from\n",
    "\n",
    "F =9/5 x  C + 32\n",
    "\n",
    "So we will write a converter function using a lambda expression. This function will accept a tuple as the input, and will return a tuple with the same name, but the temperature in Fahrenheit.\n"
   ]
  },
  {
   "cell_type": "code",
   "execution_count": 25,
   "id": "29af4328",
   "metadata": {},
   "outputs": [],
   "source": [
    "ctof = lambda data: (data[0], (9/5) * data[1] + 32)"
   ]
  },
  {
   "cell_type": "markdown",
   "id": "4707a0e6",
   "metadata": {},
   "source": [
    "You can now create a list of data in Fahrenheit, by mapping the converter function to our list of temperature data."
   ]
  },
  {
   "cell_type": "code",
   "execution_count": 26,
   "id": "0e90b7e2",
   "metadata": {},
   "outputs": [
    {
     "data": {
      "text/plain": [
       "[('Kasmir', 33.8),\n",
       " ('Simla', 41.0),\n",
       " ('Mumbai', 60.8),\n",
       " ('Hydrabad', 57.2),\n",
       " ('Chennai', 57.2),\n",
       " ('Banglure', 55.400000000000006)]"
      ]
     },
     "execution_count": 26,
     "metadata": {},
     "output_type": "execute_result"
    }
   ],
   "source": [
    "list(map(ctof,temps))"
   ]
  },
  {
   "cell_type": "code",
   "execution_count": 27,
   "id": "cee07803",
   "metadata": {},
   "outputs": [
    {
     "name": "stdout",
     "output_type": "stream",
     "text": [
      "[100, 4, 64, 49, 25, 16, 9, 121, 0, 1]\n"
     ]
    }
   ],
   "source": [
    "sequences = [10,2,8,7,5,4,3,11,0, 1]\n",
    "filtered_result = map (lambda x: x*x, sequences) \n",
    "print(list(filtered_result))\n"
   ]
  },
  {
   "cell_type": "code",
   "execution_count": 28,
   "id": "313e4485",
   "metadata": {},
   "outputs": [
    {
     "name": "stdout",
     "output_type": "stream",
     "text": [
      "193\n"
     ]
    }
   ],
   "source": [
    "# Python code to illustrate  \n",
    "# reduce() with lambda() \n",
    "# to get sum of a list \n",
    "from functools import reduce\n",
    "li = [5, 8, 10, 20, 50, 100] \n",
    "sum = reduce((lambda x, y: x + y), li) \n",
    "print (sum)"
   ]
  },
  {
   "cell_type": "markdown",
   "id": "1c70c17a",
   "metadata": {},
   "source": [
    "## Filter function"
   ]
  },
  {
   "cell_type": "markdown",
   "id": "864215f0",
   "metadata": {},
   "source": [
    "The Filter function in used to select certain pieces of data from a list, tuple or other collection of data. This name was chosen because it filters out the data you do not need.\n",
    "\n",
    "\n",
    "Suppose you were analyzing some data and you would like to select all the value that are above the average. So first we have to import the statistic module. Here’s  the list of data"
   ]
  },
  {
   "cell_type": "code",
   "execution_count": 29,
   "id": "9cc5d203",
   "metadata": {},
   "outputs": [],
   "source": [
    "import statistics\n",
    "data = [1.3,2.7,0.8,4.1,4.3,0.2]\n"
   ]
  },
  {
   "cell_type": "code",
   "execution_count": 30,
   "id": "d5eb0d3e",
   "metadata": {},
   "outputs": [
    {
     "data": {
      "text/plain": [
       "2.2333333333333334"
      ]
     },
     "execution_count": 30,
     "metadata": {},
     "output_type": "execute_result"
    }
   ],
   "source": [
    "#Then , lets compute the average of the data,\n",
    "\n",
    "avg = statistics.mean(data)\n",
    "avg\n"
   ]
  },
  {
   "cell_type": "markdown",
   "id": "5a51d9f1",
   "metadata": {},
   "source": [
    "We will now use the filter function to select the data greater then the average, just like with map the first argument is a function. We will create an anonymous function that tests the input to see if it is above average. Next, passing in the list of data. The filter function will only return the data for which the function is true"
   ]
  },
  {
   "cell_type": "code",
   "execution_count": 31,
   "id": "908cd49f",
   "metadata": {},
   "outputs": [
    {
     "data": {
      "text/plain": [
       "<filter at 0x127c3f92160>"
      ]
     },
     "execution_count": 31,
     "metadata": {},
     "output_type": "execute_result"
    }
   ],
   "source": [
    "filter(lambda x:x>avg, data)"
   ]
  },
  {
   "cell_type": "code",
   "execution_count": 32,
   "id": "3aba05af",
   "metadata": {},
   "outputs": [
    {
     "data": {
      "text/plain": [
       "[2.7, 4.1, 4.3]"
      ]
     },
     "execution_count": 32,
     "metadata": {},
     "output_type": "execute_result"
    }
   ],
   "source": [
    "list(filter(lambda x:x>avg, data))"
   ]
  },
  {
   "cell_type": "markdown",
   "id": "71a67816",
   "metadata": {},
   "source": [
    "When you are working with data from outside sources, you will often encounter missing data or empty values. For example, here is a partial list of the cities in India."
   ]
  },
  {
   "cell_type": "code",
   "execution_count": 33,
   "id": "352a6e6b",
   "metadata": {},
   "outputs": [],
   "source": [
    "cities = [\"\",\"Delhi\",\"\",\"Pune\",\"\",\"Mumbai\",\"\",\"Benglure\",\"\"]"
   ]
  },
  {
   "cell_type": "markdown",
   "id": "6ab3393b",
   "metadata": {},
   "source": [
    "Notice, there are numerous string that are empty. To remove these, we’ll use the filter function. But instead of passing in a function we will simply pass none as first argument. The second argument is the list of data as before."
   ]
  },
  {
   "cell_type": "code",
   "execution_count": 34,
   "id": "bc1bfc4a",
   "metadata": {},
   "outputs": [
    {
     "data": {
      "text/plain": [
       "['Delhi', 'Pune', 'Mumbai', 'Benglure']"
      ]
     },
     "execution_count": 34,
     "metadata": {},
     "output_type": "execute_result"
    }
   ],
   "source": [
    "list(filter(None,cities))"
   ]
  },
  {
   "cell_type": "code",
   "execution_count": 35,
   "id": "066e9de0",
   "metadata": {},
   "outputs": [
    {
     "name": "stdout",
     "output_type": "stream",
     "text": [
      "[10, 8, 7, 5, 11]\n"
     ]
    }
   ],
   "source": [
    "# Lambda with a Filter\n",
    "\n",
    "sequences = [10,2,8,7,5,4,3,11,0, 1]\n",
    "filtered_result = filter (lambda x: x > 4, sequences) \n",
    "print(list(filtered_result))"
   ]
  },
  {
   "cell_type": "code",
   "execution_count": 36,
   "id": "a68b6c90",
   "metadata": {},
   "outputs": [
    {
     "name": "stdout",
     "output_type": "stream",
     "text": [
      "[4, 6, 8, 12]\n"
     ]
    }
   ],
   "source": [
    "my_list = [1, 5, 4, 6, 8, 11, 3, 12]\n",
    "\n",
    "new_list = list(filter(lambda x: (x%2 == 0) , my_list))\n",
    "\n",
    "print(new_list)"
   ]
  },
  {
   "cell_type": "markdown",
   "id": "23cd2f34",
   "metadata": {},
   "source": [
    "## Zip function"
   ]
  },
  {
   "cell_type": "code",
   "execution_count": 1,
   "id": "9e611e48",
   "metadata": {},
   "outputs": [],
   "source": [
    "x = [1,2,3,4]\n",
    "y = ['a','b','c','d']"
   ]
  },
  {
   "cell_type": "code",
   "execution_count": 2,
   "id": "148da955",
   "metadata": {},
   "outputs": [
    {
     "name": "stdout",
     "output_type": "stream",
     "text": [
      "1 a\n",
      "2 b\n",
      "3 c\n",
      "4 d\n"
     ]
    }
   ],
   "source": [
    "for i,j in zip(x,y):\n",
    "    print(i,j)"
   ]
  },
  {
   "cell_type": "code",
   "execution_count": 3,
   "id": "b89c2ca6",
   "metadata": {},
   "outputs": [],
   "source": [
    "x = [1,2,3]\n",
    "y = ['a','b','c','d']"
   ]
  },
  {
   "cell_type": "code",
   "execution_count": 4,
   "id": "c70883ee",
   "metadata": {},
   "outputs": [
    {
     "name": "stdout",
     "output_type": "stream",
     "text": [
      "1 a\n",
      "2 b\n",
      "3 c\n"
     ]
    }
   ],
   "source": [
    "for i,j in zip(x,y):\n",
    "    print(i,j)"
   ]
  },
  {
   "cell_type": "markdown",
   "id": "3bcdc9e3",
   "metadata": {},
   "source": [
    "## Reduce Function "
   ]
  },
  {
   "cell_type": "code",
   "execution_count": 5,
   "id": "6d71fc93",
   "metadata": {},
   "outputs": [],
   "source": [
    "from functools import reduce"
   ]
  },
  {
   "cell_type": "code",
   "execution_count": 6,
   "id": "2273c35d",
   "metadata": {},
   "outputs": [
    {
     "data": {
      "text/plain": [
       "10"
      ]
     },
     "execution_count": 6,
     "metadata": {},
     "output_type": "execute_result"
    }
   ],
   "source": [
    "x = [1,2,3,4]\n",
    "reduce(lambda i,j:i+j,x)"
   ]
  },
  {
   "cell_type": "code",
   "execution_count": 7,
   "id": "16897868",
   "metadata": {},
   "outputs": [
    {
     "data": {
      "text/plain": [
       "'PuneNagpurGoaMumbai'"
      ]
     },
     "execution_count": 7,
     "metadata": {},
     "output_type": "execute_result"
    }
   ],
   "source": [
    "x = [\"Pune\",\"Nagpur\",\"Goa\",\"Mumbai\"]\n",
    "reduce(lambda i,j:i+j,x)"
   ]
  }
 ],
 "metadata": {
  "kernelspec": {
   "display_name": "Python 3 (ipykernel)",
   "language": "python",
   "name": "python3"
  },
  "language_info": {
   "codemirror_mode": {
    "name": "ipython",
    "version": 3
   },
   "file_extension": ".py",
   "mimetype": "text/x-python",
   "name": "python",
   "nbconvert_exporter": "python",
   "pygments_lexer": "ipython3",
   "version": "3.9.12"
  }
 },
 "nbformat": 4,
 "nbformat_minor": 5
}
