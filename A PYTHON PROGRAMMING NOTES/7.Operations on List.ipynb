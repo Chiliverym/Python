{
 "cells": [
  {
   "cell_type": "markdown",
   "id": "571659ef",
   "metadata": {},
   "source": [
    "# Data Structures"
   ]
  },
  {
   "cell_type": "markdown",
   "id": "3d41423c",
   "metadata": {},
   "source": [
    "## List"
   ]
  },
  {
   "cell_type": "markdown",
   "id": "de882407",
   "metadata": {},
   "source": [
    ">A list is a group of sequence of values of similar or different datatype that are separated by comma(,) and surrouded by square brackets [ ]\n",
    "\n",
    ">Values in a list are also called items or elements.\n",
    "\n",
    ">You can access items in a list with its integer index.\n",
    "\n",
    ">The indexes starts at 0 , not 1.\n",
    "\n",
    ">The lists can be modified."
   ]
  },
  {
   "cell_type": "code",
   "execution_count": 1,
   "id": "756069d6",
   "metadata": {},
   "outputs": [
    {
     "data": {
      "text/plain": [
       "[1, 2, 3, 4, 5, 6, 7, 8, 9, 10]"
      ]
     },
     "execution_count": 1,
     "metadata": {},
     "output_type": "execute_result"
    }
   ],
   "source": [
    "#Example of list\n",
    "[1,2,3,4,5,6,7,8,9,10]\n",
    "#[0,1,2,3,4,5,6,7,8,9] will be its index"
   ]
  },
  {
   "cell_type": "markdown",
   "id": "5e9a62c5",
   "metadata": {},
   "source": [
    "### 1.Operations in List"
   ]
  },
  {
   "cell_type": "code",
   "execution_count": 2,
   "id": "b266ad77",
   "metadata": {},
   "outputs": [
    {
     "data": {
      "text/plain": [
       "[1, 2, 3, 4, 5, 6]"
      ]
     },
     "execution_count": 2,
     "metadata": {},
     "output_type": "execute_result"
    }
   ],
   "source": [
    "[1,2,3]+[4,5,6]  #Concatenation"
   ]
  },
  {
   "cell_type": "code",
   "execution_count": 3,
   "id": "90e08c96",
   "metadata": {},
   "outputs": [
    {
     "data": {
      "text/plain": [
       "[1, 2, 3, 1, 2, 3, 1, 2, 3, 1, 2, 3, 1, 2, 3]"
      ]
     },
     "execution_count": 3,
     "metadata": {},
     "output_type": "execute_result"
    }
   ],
   "source": [
    "[1,2,3] * 5  #Replication"
   ]
  },
  {
   "cell_type": "code",
   "execution_count": 4,
   "id": "ca826d17",
   "metadata": {},
   "outputs": [
    {
     "data": {
      "text/plain": [
       "3"
      ]
     },
     "execution_count": 4,
     "metadata": {},
     "output_type": "execute_result"
    }
   ],
   "source": [
    "# Indexing\n",
    "x=[1,2,3,4]\n",
    "\n",
    "x[2]"
   ]
  },
  {
   "cell_type": "code",
   "execution_count": 5,
   "id": "a7d0eb79",
   "metadata": {},
   "outputs": [
    {
     "data": {
      "text/plain": [
       "[2, 3]"
      ]
     },
     "execution_count": 5,
     "metadata": {},
     "output_type": "execute_result"
    }
   ],
   "source": [
    "x[1:3]  #Slicing"
   ]
  },
  {
   "cell_type": "markdown",
   "id": "5495c951",
   "metadata": {},
   "source": [
    "Some other stuffs we do on list"
   ]
  },
  {
   "cell_type": "code",
   "execution_count": 6,
   "id": "0dd3f2b5",
   "metadata": {},
   "outputs": [
    {
     "data": {
      "text/plain": [
       "[1, 2, 3, 4, 5]"
      ]
     },
     "execution_count": 6,
     "metadata": {},
     "output_type": "execute_result"
    }
   ],
   "source": [
    "#Creating a list\n",
    "x = [1,2,3,4,5]\n",
    "x"
   ]
  },
  {
   "cell_type": "code",
   "execution_count": 7,
   "id": "c8dca3bd",
   "metadata": {},
   "outputs": [
    {
     "data": {
      "text/plain": [
       "1641371098624"
      ]
     },
     "execution_count": 7,
     "metadata": {},
     "output_type": "execute_result"
    }
   ],
   "source": [
    "#Fetching the memory location id of that list\n",
    "id(x)"
   ]
  },
  {
   "cell_type": "code",
   "execution_count": 8,
   "id": "92326f1c",
   "metadata": {},
   "outputs": [
    {
     "data": {
      "text/plain": [
       "5"
      ]
     },
     "execution_count": 8,
     "metadata": {},
     "output_type": "execute_result"
    }
   ],
   "source": [
    "#Counting the total number of elements in list\n",
    "len(x)"
   ]
  },
  {
   "cell_type": "code",
   "execution_count": 9,
   "id": "d43fa38c",
   "metadata": {},
   "outputs": [
    {
     "data": {
      "text/plain": [
       "[1, 2, 3, 4, 5, 6, 7, 8, 10]"
      ]
     },
     "execution_count": 9,
     "metadata": {},
     "output_type": "execute_result"
    }
   ],
   "source": [
    "#Merging new list\n",
    "x[5:] = [6,7,8,10]     # x.extend([6,7,8,10])\n",
    "x"
   ]
  },
  {
   "cell_type": "code",
   "execution_count": 10,
   "id": "8a5f94c5",
   "metadata": {},
   "outputs": [
    {
     "data": {
      "text/plain": [
       "[1, 2, 3, 4, 5, 6, 7, 8, 10, 10, 11, 12, 13]"
      ]
     },
     "execution_count": 10,
     "metadata": {},
     "output_type": "execute_result"
    }
   ],
   "source": [
    "x.extend([10,11,12,13])\n",
    "x"
   ]
  },
  {
   "cell_type": "code",
   "execution_count": 11,
   "id": "df60d23e",
   "metadata": {},
   "outputs": [
    {
     "data": {
      "text/plain": [
       "[1, 2, 3, 4, 5, 6, 7, 8, 10, 10, 11, 12, 13, 11]"
      ]
     },
     "execution_count": 11,
     "metadata": {},
     "output_type": "execute_result"
    }
   ],
   "source": [
    "#Other way to add elements in the list\n",
    "x.append(11)\n",
    "x\n",
    "\n",
    "#append is method and takes exactly one arguments and\n",
    "#adds the element at the end of list"
   ]
  },
  {
   "cell_type": "code",
   "execution_count": 12,
   "id": "6afcc383",
   "metadata": {},
   "outputs": [
    {
     "data": {
      "text/plain": [
       "[1, 2, 3, 4, 5, 6, 7, 8, 9, 10, 10, 11, 12, 13, 11]"
      ]
     },
     "execution_count": 12,
     "metadata": {},
     "output_type": "execute_result"
    }
   ],
   "source": [
    "#Updating values by index or position (Replacing position).\n",
    "x.insert(8,9)\n",
    "x\n",
    "#insert is the method and take 2 argument \n",
    "# syntax - list.insert(index_number,new_element)"
   ]
  },
  {
   "cell_type": "code",
   "execution_count": 13,
   "id": "e1489e73",
   "metadata": {},
   "outputs": [
    {
     "data": {
      "text/plain": [
       "['One', 2, 3, 4, 5, 6, 7, 8, 9, 10, 10, 11, 12, 13, 11]"
      ]
     },
     "execution_count": 13,
     "metadata": {},
     "output_type": "execute_result"
    }
   ],
   "source": [
    "#Updating single elements (Replacing elements)\n",
    "x[0] ='One'\n",
    "x"
   ]
  },
  {
   "cell_type": "code",
   "execution_count": 14,
   "id": "f3f594c9",
   "metadata": {},
   "outputs": [
    {
     "data": {
      "text/plain": [
       "['One', 'Two', 'Three', 4, 5, 6, 7, 8, 9, 10, 10, 11, 12, 13, 11]"
      ]
     },
     "execution_count": 14,
     "metadata": {},
     "output_type": "execute_result"
    }
   ],
   "source": [
    "#Updating multiple elements (Replacing elements)\n",
    "x[1:3] =['Two','Three']\n",
    "x"
   ]
  },
  {
   "cell_type": "code",
   "execution_count": 15,
   "id": "eeb92d25",
   "metadata": {},
   "outputs": [
    {
     "data": {
      "text/plain": [
       "['One', 'Two', 'Three', 4, 5, 6, 7, 8, 9, 10, 11, 12, 13, 11]"
      ]
     },
     "execution_count": 15,
     "metadata": {},
     "output_type": "execute_result"
    }
   ],
   "source": [
    "#Deleting single element by index number\n",
    "del x[10]     \n",
    "x\n",
    "\n",
    "# element 11 is at 10th index "
   ]
  },
  {
   "cell_type": "code",
   "execution_count": 16,
   "id": "ed46090b",
   "metadata": {},
   "outputs": [
    {
     "data": {
      "text/plain": [
       "['One', 'Two', 8, 9, 10, 11, 12, 13, 11]"
      ]
     },
     "execution_count": 16,
     "metadata": {},
     "output_type": "execute_result"
    }
   ],
   "source": [
    "#Deleting Multiple elements of list by index number\n",
    "x[2:7] = []     # del x[2:7]\n",
    "x\n",
    "\n",
    "#it will start deleting from index number 2 till 7 but\n",
    "# it will not include 7th index\n",
    "# that mean it will delete till 6th index"
   ]
  },
  {
   "cell_type": "code",
   "execution_count": 17,
   "id": "77f68754",
   "metadata": {},
   "outputs": [
    {
     "data": {
      "text/plain": [
       "[]"
      ]
     },
     "execution_count": 17,
     "metadata": {},
     "output_type": "execute_result"
    }
   ],
   "source": [
    "#Deleting complete list\n",
    "x[:] = []\n",
    "x"
   ]
  },
  {
   "cell_type": "markdown",
   "id": "8df8dd3d",
   "metadata": {},
   "source": [
    "#### Typecasting into list"
   ]
  },
  {
   "cell_type": "code",
   "execution_count": 18,
   "id": "d65a2e5b",
   "metadata": {},
   "outputs": [
    {
     "data": {
      "text/plain": [
       "'Jayesh'"
      ]
     },
     "execution_count": 18,
     "metadata": {},
     "output_type": "execute_result"
    }
   ],
   "source": [
    "x= 'Jayesh'\n",
    "x"
   ]
  },
  {
   "cell_type": "code",
   "execution_count": 19,
   "id": "5671c3cf",
   "metadata": {},
   "outputs": [
    {
     "data": {
      "text/plain": [
       "['J', 'a', 'y', 'e', 's', 'h']"
      ]
     },
     "execution_count": 19,
     "metadata": {},
     "output_type": "execute_result"
    }
   ],
   "source": [
    "list(x)    #converting string into list"
   ]
  },
  {
   "cell_type": "markdown",
   "id": "505ad246",
   "metadata": {},
   "source": [
    "### 2.Methods in List"
   ]
  },
  {
   "cell_type": "markdown",
   "id": "e7536b92",
   "metadata": {},
   "source": [
    ">Methods are function that are called on values."
   ]
  },
  {
   "cell_type": "markdown",
   "id": "74badc5a",
   "metadata": {},
   "source": [
    "#### APPEND\n",
    ">The append method adds the value at the end of the list and takes only one argument\n",
    "\n",
    ">list.append(x)"
   ]
  },
  {
   "cell_type": "code",
   "execution_count": 21,
   "id": "25cc92b2",
   "metadata": {},
   "outputs": [],
   "source": [
    "mylist = [1,2,3,4,5] "
   ]
  },
  {
   "cell_type": "code",
   "execution_count": 22,
   "id": "8d512765",
   "metadata": {},
   "outputs": [],
   "source": [
    "mylist.append(6)"
   ]
  },
  {
   "cell_type": "code",
   "execution_count": 23,
   "id": "96277d9e",
   "metadata": {},
   "outputs": [
    {
     "data": {
      "text/plain": [
       "[1, 2, 3, 4, 5, 6]"
      ]
     },
     "execution_count": 23,
     "metadata": {},
     "output_type": "execute_result"
    }
   ],
   "source": [
    "mylist"
   ]
  },
  {
   "cell_type": "markdown",
   "id": "8c7e5a80",
   "metadata": {},
   "source": [
    "#### EXTEND\n",
    ">The extend method adds the multiple element at once in the end, or you can say it merges two different list together\n",
    "\n",
    ">list.extend(x)"
   ]
  },
  {
   "cell_type": "code",
   "execution_count": 24,
   "id": "d5d45464",
   "metadata": {},
   "outputs": [
    {
     "data": {
      "text/plain": [
       "[1, 2, 3, 4, 5, 6]"
      ]
     },
     "execution_count": 24,
     "metadata": {},
     "output_type": "execute_result"
    }
   ],
   "source": [
    "mylist"
   ]
  },
  {
   "cell_type": "code",
   "execution_count": 25,
   "id": "970ff9db",
   "metadata": {},
   "outputs": [],
   "source": [
    "add = [7,8,9,10]\n",
    "mylist.extend(add)"
   ]
  },
  {
   "cell_type": "code",
   "execution_count": 26,
   "id": "4a78a0e0",
   "metadata": {},
   "outputs": [
    {
     "data": {
      "text/plain": [
       "[1, 2, 3, 4, 5, 6, 7, 8, 9, 10]"
      ]
     },
     "execution_count": 26,
     "metadata": {},
     "output_type": "execute_result"
    }
   ],
   "source": [
    "mylist"
   ]
  },
  {
   "cell_type": "markdown",
   "id": "675158ac",
   "metadata": {},
   "source": [
    "See what happens when we pass add list with append"
   ]
  },
  {
   "cell_type": "code",
   "execution_count": 27,
   "id": "a752ee35",
   "metadata": {},
   "outputs": [
    {
     "data": {
      "text/plain": [
       "[7, 8, 9, 10]"
      ]
     },
     "execution_count": 27,
     "metadata": {},
     "output_type": "execute_result"
    }
   ],
   "source": [
    "add"
   ]
  },
  {
   "cell_type": "code",
   "execution_count": 28,
   "id": "38252a08",
   "metadata": {},
   "outputs": [
    {
     "data": {
      "text/plain": [
       "[1, 2, 3, 4, 5, 6, 7, 8, 9, 10]"
      ]
     },
     "execution_count": 28,
     "metadata": {},
     "output_type": "execute_result"
    }
   ],
   "source": [
    "mylist"
   ]
  },
  {
   "cell_type": "code",
   "execution_count": 29,
   "id": "adef25c1",
   "metadata": {},
   "outputs": [],
   "source": [
    "mylist.append(add) #this is what happens when we try to use append"
   ]
  },
  {
   "cell_type": "code",
   "execution_count": 30,
   "id": "95b2a58d",
   "metadata": {},
   "outputs": [
    {
     "data": {
      "text/plain": [
       "[1, 2, 3, 4, 5, 6, 7, 8, 9, 10, [7, 8, 9, 10]]"
      ]
     },
     "execution_count": 30,
     "metadata": {},
     "output_type": "execute_result"
    }
   ],
   "source": [
    "mylist"
   ]
  },
  {
   "cell_type": "markdown",
   "id": "0213974a",
   "metadata": {},
   "source": [
    "#### COUNT\n",
    ">The count method counts the number of element present in the list\n",
    "\n",
    ">list.count(x)"
   ]
  },
  {
   "cell_type": "code",
   "execution_count": 31,
   "id": "9d0a3062",
   "metadata": {},
   "outputs": [],
   "source": [
    "newlist= ['hey','this','is','python','python']"
   ]
  },
  {
   "cell_type": "code",
   "execution_count": 32,
   "id": "36bbb0c1",
   "metadata": {},
   "outputs": [
    {
     "data": {
      "text/plain": [
       "['hey', 'this', 'is', 'python', 'python']"
      ]
     },
     "execution_count": 32,
     "metadata": {},
     "output_type": "execute_result"
    }
   ],
   "source": [
    "newlist"
   ]
  },
  {
   "cell_type": "code",
   "execution_count": 33,
   "id": "fca8a5ab",
   "metadata": {},
   "outputs": [
    {
     "data": {
      "text/plain": [
       "2"
      ]
     },
     "execution_count": 33,
     "metadata": {},
     "output_type": "execute_result"
    }
   ],
   "source": [
    "newlist.count('python')"
   ]
  },
  {
   "cell_type": "code",
   "execution_count": 34,
   "id": "691331c4",
   "metadata": {},
   "outputs": [
    {
     "data": {
      "text/plain": [
       "1"
      ]
     },
     "execution_count": 34,
     "metadata": {},
     "output_type": "execute_result"
    }
   ],
   "source": [
    "newlist.count('this')"
   ]
  },
  {
   "cell_type": "markdown",
   "id": "39de3fd1",
   "metadata": {},
   "source": [
    "#### INDEX\n",
    ">The index method gives the index number of specified element.\n",
    "\n",
    ">list.index(x)"
   ]
  },
  {
   "cell_type": "code",
   "execution_count": 35,
   "id": "b05afd55",
   "metadata": {},
   "outputs": [
    {
     "data": {
      "text/plain": [
       "['hey', 'this', 'is', 'python', 'python']"
      ]
     },
     "execution_count": 35,
     "metadata": {},
     "output_type": "execute_result"
    }
   ],
   "source": [
    "newlist"
   ]
  },
  {
   "cell_type": "code",
   "execution_count": 37,
   "id": "d69f16d7",
   "metadata": {},
   "outputs": [
    {
     "data": {
      "text/plain": [
       "2"
      ]
     },
     "execution_count": 37,
     "metadata": {},
     "output_type": "execute_result"
    }
   ],
   "source": [
    "newlist.index(\"is\")"
   ]
  },
  {
   "cell_type": "code",
   "execution_count": 38,
   "id": "a256e930",
   "metadata": {},
   "outputs": [
    {
     "data": {
      "text/plain": [
       "0"
      ]
     },
     "execution_count": 38,
     "metadata": {},
     "output_type": "execute_result"
    }
   ],
   "source": [
    "newlist.index(\"hey\")"
   ]
  },
  {
   "cell_type": "markdown",
   "id": "d38785bd",
   "metadata": {},
   "source": [
    "#### INSERT\n",
    ">The insert method add the new element in the list at specified index\n",
    "\n",
    ">list.insert(index,newelement)"
   ]
  },
  {
   "cell_type": "code",
   "execution_count": 39,
   "id": "c7d8cc17",
   "metadata": {},
   "outputs": [
    {
     "data": {
      "text/plain": [
       "['hey', 'this', 'is', 'python', 'python']"
      ]
     },
     "execution_count": 39,
     "metadata": {},
     "output_type": "execute_result"
    }
   ],
   "source": [
    "newlist"
   ]
  },
  {
   "cell_type": "code",
   "execution_count": 41,
   "id": "bad22e7e",
   "metadata": {},
   "outputs": [],
   "source": [
    "newlist.insert(4,'Programming')"
   ]
  },
  {
   "cell_type": "code",
   "execution_count": 42,
   "id": "2369fcb3",
   "metadata": {},
   "outputs": [
    {
     "data": {
      "text/plain": [
       "['hey', 'this', 'is', 'python', 'Programming', 'python']"
      ]
     },
     "execution_count": 42,
     "metadata": {},
     "output_type": "execute_result"
    }
   ],
   "source": [
    "newlist"
   ]
  },
  {
   "cell_type": "markdown",
   "id": "18b25970",
   "metadata": {},
   "source": [
    "#### POP\n",
    ">The pop method deletes the element by index\n",
    "\n",
    ">list.pop(x)"
   ]
  },
  {
   "cell_type": "code",
   "execution_count": 43,
   "id": "e66e3456",
   "metadata": {},
   "outputs": [
    {
     "data": {
      "text/plain": [
       "'python'"
      ]
     },
     "execution_count": 43,
     "metadata": {},
     "output_type": "execute_result"
    }
   ],
   "source": [
    "newlist.pop(5)"
   ]
  },
  {
   "cell_type": "code",
   "execution_count": 44,
   "id": "35b25d68",
   "metadata": {},
   "outputs": [
    {
     "data": {
      "text/plain": [
       "['hey', 'this', 'is', 'python', 'Programming']"
      ]
     },
     "execution_count": 44,
     "metadata": {},
     "output_type": "execute_result"
    }
   ],
   "source": [
    "newlist"
   ]
  },
  {
   "cell_type": "markdown",
   "id": "6968c71d",
   "metadata": {},
   "source": [
    "#### REMOVE\n",
    ">The remove method deletes the specified element\n",
    "\n",
    ">list.remove(x)"
   ]
  },
  {
   "cell_type": "code",
   "execution_count": 46,
   "id": "ed5a599a",
   "metadata": {},
   "outputs": [
    {
     "data": {
      "text/plain": [
       "[1, 2, 3, 4, 5, 6, 7, 8, 9, 10, [7, 8, 9, 10]]"
      ]
     },
     "execution_count": 46,
     "metadata": {},
     "output_type": "execute_result"
    }
   ],
   "source": [
    "mylist"
   ]
  },
  {
   "cell_type": "code",
   "execution_count": 47,
   "id": "f5c22578",
   "metadata": {},
   "outputs": [],
   "source": [
    "mylist.remove([7,8,9,10])"
   ]
  },
  {
   "cell_type": "code",
   "execution_count": 48,
   "id": "800f6a19",
   "metadata": {},
   "outputs": [
    {
     "data": {
      "text/plain": [
       "[1, 2, 3, 4, 5, 6, 7, 8, 9, 10]"
      ]
     },
     "execution_count": 48,
     "metadata": {},
     "output_type": "execute_result"
    }
   ],
   "source": [
    "mylist"
   ]
  },
  {
   "cell_type": "code",
   "execution_count": 49,
   "id": "e41db77f",
   "metadata": {},
   "outputs": [],
   "source": [
    "mylist.remove(7)"
   ]
  },
  {
   "cell_type": "code",
   "execution_count": 50,
   "id": "8ace44fe",
   "metadata": {},
   "outputs": [
    {
     "data": {
      "text/plain": [
       "[1, 2, 3, 4, 5, 6, 8, 9, 10]"
      ]
     },
     "execution_count": 50,
     "metadata": {},
     "output_type": "execute_result"
    }
   ],
   "source": [
    "mylist"
   ]
  },
  {
   "cell_type": "markdown",
   "id": "774a50a0",
   "metadata": {},
   "source": [
    "#### REVERSE\n",
    ">The reverse method is used to reverse the list.\n",
    "\n",
    ">list.reverse()"
   ]
  },
  {
   "cell_type": "code",
   "execution_count": 51,
   "id": "4b94ec6d",
   "metadata": {},
   "outputs": [
    {
     "data": {
      "text/plain": [
       "[6, 1, 8, 9, 2, 3, 4, 5, 10]"
      ]
     },
     "execution_count": 51,
     "metadata": {},
     "output_type": "execute_result"
    }
   ],
   "source": [
    "mylist= [6,1,8,9,2,3,4,5,10]\n",
    "mylist"
   ]
  },
  {
   "cell_type": "code",
   "execution_count": 53,
   "id": "5dd4f137",
   "metadata": {},
   "outputs": [],
   "source": [
    "mylist.reverse()"
   ]
  },
  {
   "cell_type": "code",
   "execution_count": 54,
   "id": "02fbebbc",
   "metadata": {},
   "outputs": [
    {
     "data": {
      "text/plain": [
       "[10, 5, 4, 3, 2, 9, 8, 1, 6]"
      ]
     },
     "execution_count": 54,
     "metadata": {},
     "output_type": "execute_result"
    }
   ],
   "source": [
    "mylist"
   ]
  },
  {
   "cell_type": "markdown",
   "id": "e91680ee",
   "metadata": {},
   "source": [
    "#### SORT\n",
    ">The sort method sorts the list in ascending order.\n",
    "\n",
    ">list.sort()"
   ]
  },
  {
   "cell_type": "code",
   "execution_count": 56,
   "id": "0c9ec78a",
   "metadata": {},
   "outputs": [
    {
     "data": {
      "text/plain": [
       "[10, 5, 4, 3, 2, 9, 8, 1, 6]"
      ]
     },
     "execution_count": 56,
     "metadata": {},
     "output_type": "execute_result"
    }
   ],
   "source": [
    "mylist"
   ]
  },
  {
   "cell_type": "code",
   "execution_count": 57,
   "id": "7d139911",
   "metadata": {},
   "outputs": [],
   "source": [
    "mylist.sort()"
   ]
  },
  {
   "cell_type": "code",
   "execution_count": 58,
   "id": "48e58043",
   "metadata": {},
   "outputs": [
    {
     "data": {
      "text/plain": [
       "[1, 2, 3, 4, 5, 6, 8, 9, 10]"
      ]
     },
     "execution_count": 58,
     "metadata": {},
     "output_type": "execute_result"
    }
   ],
   "source": [
    "mylist"
   ]
  },
  {
   "cell_type": "markdown",
   "id": "a3490e45",
   "metadata": {},
   "source": [
    "we can also make this sorted list in descending order"
   ]
  },
  {
   "cell_type": "code",
   "execution_count": 59,
   "id": "e2fb782f",
   "metadata": {},
   "outputs": [
    {
     "data": {
      "text/plain": [
       "[10, 9, 8, 6, 5, 4, 3, 2, 1]"
      ]
     },
     "execution_count": 59,
     "metadata": {},
     "output_type": "execute_result"
    }
   ],
   "source": [
    "mylist.sort(reverse=True)\n",
    "mylist"
   ]
  },
  {
   "cell_type": "code",
   "execution_count": 60,
   "id": "7caf264f",
   "metadata": {},
   "outputs": [],
   "source": [
    "lists = ['A','b','z','Z','B','a']"
   ]
  },
  {
   "cell_type": "code",
   "execution_count": 61,
   "id": "e609994c",
   "metadata": {},
   "outputs": [],
   "source": [
    "lists.sort()"
   ]
  },
  {
   "cell_type": "code",
   "execution_count": 62,
   "id": "5c370da4",
   "metadata": {},
   "outputs": [
    {
     "data": {
      "text/plain": [
       "['A', 'B', 'Z', 'a', 'b', 'z']"
      ]
     },
     "execution_count": 62,
     "metadata": {},
     "output_type": "execute_result"
    }
   ],
   "source": [
    "lists"
   ]
  },
  {
   "cell_type": "markdown",
   "id": "2d781e9b",
   "metadata": {},
   "source": [
    "this is basically sort but not as we wanted. \n",
    "since Ascii-bettical gives preference to capital letter first."
   ]
  },
  {
   "cell_type": "markdown",
   "id": "a845c3c1",
   "metadata": {},
   "source": [
    "so to solve this we can use this one,"
   ]
  },
  {
   "cell_type": "code",
   "execution_count": 63,
   "id": "56fe7eb7",
   "metadata": {},
   "outputs": [],
   "source": [
    "lists.sort(key=str.lower)"
   ]
  },
  {
   "cell_type": "code",
   "execution_count": 64,
   "id": "62b7e0b3",
   "metadata": {},
   "outputs": [
    {
     "data": {
      "text/plain": [
       "['A', 'a', 'B', 'b', 'Z', 'z']"
      ]
     },
     "execution_count": 64,
     "metadata": {},
     "output_type": "execute_result"
    }
   ],
   "source": [
    "lists"
   ]
  },
  {
   "cell_type": "markdown",
   "id": "1fb20c50",
   "metadata": {},
   "source": [
    "#### JOIN\n",
    ">The join method joins a specified values with every element of list and return string.\n",
    "\n",
    ">list.join(x)"
   ]
  },
  {
   "cell_type": "code",
   "execution_count": 65,
   "id": "4abe5f96",
   "metadata": {},
   "outputs": [],
   "source": [
    "newlist = ['hey', 'this', 'is', 'python', 'programming']"
   ]
  },
  {
   "cell_type": "code",
   "execution_count": 66,
   "id": "aa6d5fee",
   "metadata": {},
   "outputs": [],
   "source": [
    "value = 'there'"
   ]
  },
  {
   "cell_type": "code",
   "execution_count": 67,
   "id": "a904bddd",
   "metadata": {},
   "outputs": [
    {
     "data": {
      "text/plain": [
       "'there'"
      ]
     },
     "execution_count": 67,
     "metadata": {},
     "output_type": "execute_result"
    }
   ],
   "source": [
    "value"
   ]
  },
  {
   "cell_type": "code",
   "execution_count": 68,
   "id": "3f510362",
   "metadata": {},
   "outputs": [
    {
     "data": {
      "text/plain": [
       "'heytherethisthereistherepythonthereprogramming'"
      ]
     },
     "execution_count": 68,
     "metadata": {},
     "output_type": "execute_result"
    }
   ],
   "source": [
    "value.join(newlist)"
   ]
  },
  {
   "cell_type": "code",
   "execution_count": 69,
   "id": "7e129026",
   "metadata": {},
   "outputs": [
    {
     "data": {
      "text/plain": [
       "' '"
      ]
     },
     "execution_count": 69,
     "metadata": {},
     "output_type": "execute_result"
    }
   ],
   "source": [
    "value=' '\n",
    "value"
   ]
  },
  {
   "cell_type": "code",
   "execution_count": 70,
   "id": "ab78b123",
   "metadata": {},
   "outputs": [
    {
     "data": {
      "text/plain": [
       "'hey this is python programming'"
      ]
     },
     "execution_count": 70,
     "metadata": {},
     "output_type": "execute_result"
    }
   ],
   "source": [
    "value.join(newlist)"
   ]
  },
  {
   "cell_type": "markdown",
   "id": "fbb5427c",
   "metadata": {},
   "source": [
    "## Shallow Copy and Deep Copy\n",
    ">It will work across Python.\n",
    "\n",
    ">Shallow copy = Assigns value of a variable into another. (Dependent on each other)\n",
    "\n",
    ">Deep copy = Copies the value from one variable and pastes it into another. (Independent of each other)"
   ]
  },
  {
   "cell_type": "markdown",
   "id": "af71fe72",
   "metadata": {},
   "source": [
    "### Shallow Copy"
   ]
  },
  {
   "cell_type": "code",
   "execution_count": 2,
   "id": "ffca2c48",
   "metadata": {},
   "outputs": [
    {
     "name": "stdout",
     "output_type": "stream",
     "text": [
      "[0, 1, 2, 3, 4, 5, 6, 7, 8, 9]\n"
     ]
    }
   ],
   "source": [
    "b = [0,1,2,3,4,5,6,7,8,9]\n",
    "print(b)"
   ]
  },
  {
   "cell_type": "code",
   "execution_count": 3,
   "id": "a436641c",
   "metadata": {},
   "outputs": [],
   "source": [
    "c = b"
   ]
  },
  {
   "cell_type": "code",
   "execution_count": 4,
   "id": "0ef30cd1",
   "metadata": {},
   "outputs": [
    {
     "data": {
      "text/plain": [
       "[0, 1, 2, 3, 4, 5, 6, 7, 8, 9]"
      ]
     },
     "execution_count": 4,
     "metadata": {},
     "output_type": "execute_result"
    }
   ],
   "source": [
    "c"
   ]
  },
  {
   "cell_type": "code",
   "execution_count": 5,
   "id": "4311c84e",
   "metadata": {},
   "outputs": [],
   "source": [
    "c.append(\"New\")"
   ]
  },
  {
   "cell_type": "code",
   "execution_count": 6,
   "id": "1674f7b7",
   "metadata": {},
   "outputs": [
    {
     "data": {
      "text/plain": [
       "[0, 1, 2, 3, 4, 5, 6, 7, 8, 9, 'New']"
      ]
     },
     "execution_count": 6,
     "metadata": {},
     "output_type": "execute_result"
    }
   ],
   "source": [
    "c"
   ]
  },
  {
   "cell_type": "code",
   "execution_count": 7,
   "id": "a434d012",
   "metadata": {},
   "outputs": [
    {
     "data": {
      "text/plain": [
       "[0, 1, 2, 3, 4, 5, 6, 7, 8, 9, 'New']"
      ]
     },
     "execution_count": 7,
     "metadata": {},
     "output_type": "execute_result"
    }
   ],
   "source": [
    "b"
   ]
  },
  {
   "cell_type": "code",
   "execution_count": 8,
   "id": "d1a3e446",
   "metadata": {},
   "outputs": [
    {
     "data": {
      "text/plain": [
       "'New'"
      ]
     },
     "execution_count": 8,
     "metadata": {},
     "output_type": "execute_result"
    }
   ],
   "source": [
    "b.pop()"
   ]
  },
  {
   "cell_type": "code",
   "execution_count": 9,
   "id": "10ae8a63",
   "metadata": {},
   "outputs": [
    {
     "data": {
      "text/plain": [
       "[0, 1, 2, 3, 4, 5, 6, 7, 8, 9]"
      ]
     },
     "execution_count": 9,
     "metadata": {},
     "output_type": "execute_result"
    }
   ],
   "source": [
    "b"
   ]
  },
  {
   "cell_type": "code",
   "execution_count": 10,
   "id": "ec42e118",
   "metadata": {},
   "outputs": [
    {
     "data": {
      "text/plain": [
       "[0, 1, 2, 3, 4, 5, 6, 7, 8, 9]"
      ]
     },
     "execution_count": 10,
     "metadata": {},
     "output_type": "execute_result"
    }
   ],
   "source": [
    "c"
   ]
  },
  {
   "cell_type": "markdown",
   "id": "73d0b079",
   "metadata": {},
   "source": [
    "### Deep Copy"
   ]
  },
  {
   "cell_type": "code",
   "execution_count": 11,
   "id": "34382842",
   "metadata": {},
   "outputs": [
    {
     "data": {
      "text/plain": [
       "[0, 1, 2, 3, 4, 5, 6, 7, 8, 9]"
      ]
     },
     "execution_count": 11,
     "metadata": {},
     "output_type": "execute_result"
    }
   ],
   "source": [
    "d = b.copy()\n",
    "d"
   ]
  },
  {
   "cell_type": "code",
   "execution_count": 12,
   "id": "7a21476b",
   "metadata": {},
   "outputs": [
    {
     "data": {
      "text/plain": [
       "[0, 1, 2, 3, 4, 5, 6, 7, 8, 9]"
      ]
     },
     "execution_count": 12,
     "metadata": {},
     "output_type": "execute_result"
    }
   ],
   "source": [
    "b"
   ]
  },
  {
   "cell_type": "code",
   "execution_count": 13,
   "id": "e1fcfced",
   "metadata": {},
   "outputs": [
    {
     "data": {
      "text/plain": [
       "[0, 1, 2, 3, 4, 5, 6, 7, 8]"
      ]
     },
     "execution_count": 13,
     "metadata": {},
     "output_type": "execute_result"
    }
   ],
   "source": [
    "d.pop()\n",
    "d"
   ]
  },
  {
   "cell_type": "code",
   "execution_count": 14,
   "id": "0f153485",
   "metadata": {},
   "outputs": [
    {
     "data": {
      "text/plain": [
       "[0, 1, 2, 3, 4, 5, 6, 7, 8, 9]"
      ]
     },
     "execution_count": 14,
     "metadata": {},
     "output_type": "execute_result"
    }
   ],
   "source": [
    "b"
   ]
  },
  {
   "cell_type": "markdown",
   "id": "b94f9738",
   "metadata": {},
   "source": [
    "### Indexing and Slicing\n",
    "In addition to accessing the list elements one at a time, Python provides concise syntax to access sublists; this is known as Slicing. "
   ]
  },
  {
   "cell_type": "markdown",
   "id": "ed710f2e",
   "metadata": {},
   "source": [
    ">Index from left to right starts from 0\n",
    "\n",
    ">Index from right to left starts from -1"
   ]
  },
  {
   "cell_type": "code",
   "execution_count": 15,
   "id": "38faef13",
   "metadata": {},
   "outputs": [],
   "source": [
    "#a[x:y] start at position x and go till y excluding y"
   ]
  },
  {
   "cell_type": "code",
   "execution_count": 16,
   "id": "af22e7d2",
   "metadata": {},
   "outputs": [
    {
     "name": "stdout",
     "output_type": "stream",
     "text": [
      "['a', 'b', 'c', 'd', 'e', 'f']\n"
     ]
    }
   ],
   "source": [
    "str_list = [\"a\",\"b\",\"c\",\"d\",\"e\",\"f\"]\n",
    "print(str_list)"
   ]
  },
  {
   "cell_type": "code",
   "execution_count": 17,
   "id": "2878ae99",
   "metadata": {},
   "outputs": [
    {
     "name": "stdout",
     "output_type": "stream",
     "text": [
      "b\n",
      "f\n"
     ]
    }
   ],
   "source": [
    "print(str_list[1])\n",
    "print(str_list[-1])"
   ]
  },
  {
   "cell_type": "code",
   "execution_count": 18,
   "id": "21a5c671",
   "metadata": {},
   "outputs": [
    {
     "name": "stdout",
     "output_type": "stream",
     "text": [
      "['c', 'd']\n",
      "['c', 'd', 'e', 'f']\n",
      "['a', 'b']\n",
      "['a', 'b', 'c', 'd', 'e', 'f']\n",
      "['a', 'b', 'c', 'd', 'e']\n"
     ]
    }
   ],
   "source": [
    "print(str_list[2:4])    # Get a slice from index 2 to 4 (exclusive)\n",
    "print(str_list[2:])     # Get a slice from index 2 to the end\n",
    "print(str_list[:2])     # Get a slice from the start to index 2 (exclusive)\n",
    "print(str_list[:])      # Get a slice of the whole list\n",
    "print(str_list[:-1])    # Slice indices can be negative"
   ]
  },
  {
   "cell_type": "code",
   "execution_count": 21,
   "id": "e3976f73",
   "metadata": {},
   "outputs": [],
   "source": [
    "a = [1,2,3,1,2,3, 'new', 'old', 13.5, True]"
   ]
  },
  {
   "cell_type": "code",
   "execution_count": 22,
   "id": "5a0b45c8",
   "metadata": {},
   "outputs": [
    {
     "name": "stdout",
     "output_type": "stream",
     "text": [
      "Positive indexing starts with: 0\n",
      "Negative indexing starts with: -1\n",
      "=========================\n",
      "the List contains [1, 2, 3, 1, 2, 3, 'new', 'old', 13.5, True]\n",
      "\n",
      "All the Elements: [1, 2, 3, 1, 2, 3, 'new', 'old', 13.5, True]\n",
      "\n",
      "From 2nd Element: [3, 1, 2, 3, 'new', 'old', 13.5, True]\n",
      "\n",
      "Until 4th Element: [1, 2, 3, 1]\n",
      "\n",
      "From 2nd to 5th Element: [3, 1, 2]\n",
      "\n",
      "Only the last Element: True\n",
      "\n",
      "With intervals: [1, 3, 2, 'new', 13.5]\n",
      "\n",
      "With interval of One: [1, 2, 3, 1, 2, 3, 'new', 'old', 13.5, True]\n",
      "\n",
      "Reverse: [True, 13.5, 'old', 'new', 3, 2, 1, 3, 2, 1]\n"
     ]
    }
   ],
   "source": [
    "print(\"Positive indexing starts with: 0\")\n",
    "print(\"Negative indexing starts with: -1\")\n",
    "print(\"=====\"*5)\n",
    "\n",
    "print('the List contains', a)\n",
    "print('\\nAll the Elements:', a[:])  #[Start position : End position]\n",
    "print('\\nFrom 2nd Element:', a[2:])\n",
    "print('\\nUntil 4th Element:', a[:4])\n",
    "print('\\nFrom 2nd to 5th Element:', a[2:5])\n",
    "print('\\nOnly the last Element:', a[-1])\n",
    "print('\\nWith intervals:', a[::2])\n",
    "print('\\nWith interval of One:',a[::1]) #[Start Position : End Position : Intervals]\n",
    "print('\\nReverse:', a[::-1])"
   ]
  },
  {
   "cell_type": "code",
   "execution_count": 23,
   "id": "3a2a2cc3",
   "metadata": {},
   "outputs": [
    {
     "name": "stdout",
     "output_type": "stream",
     "text": [
      "JayeshPatil\n",
      "h\n",
      "l\n",
      "s\n",
      "ayes\n",
      "Jay\n",
      "eshPatil\n",
      "Jayesh\n",
      "hPat\n",
      "y s\n",
      "JayeshPatil\n",
      "litaPhseyaJ\n"
     ]
    }
   ],
   "source": [
    "s = \"JayeshPatil\"\n",
    "print(s)\n",
    "print(s[5])\n",
    "#print(s[7])gives an error\n",
    "print(s[-1])\n",
    "print(s[-7])\n",
    "print(s[1:5]) #start index to end index\n",
    "print(s[0:3]) #o to (3-1)\n",
    "print(s[3:])\n",
    "print(s[:6]) #o to (6-1)\n",
    "print(s[-6:-2]) #startingindex=-6 and(EI-1)=(-2-1)\n",
    "print(s[2],s[4])\n",
    "print(s)\n",
    "print(s[::-1])  #print the string in reverse"
   ]
  },
  {
   "cell_type": "code",
   "execution_count": 24,
   "id": "5a722905",
   "metadata": {},
   "outputs": [
    {
     "name": "stdout",
     "output_type": "stream",
     "text": [
      "PatilJayesh\n"
     ]
    }
   ],
   "source": [
    "b = s[6:]\n",
    "c = s[0:6]\n",
    "d = b + c\n",
    "print(d)"
   ]
  },
  {
   "cell_type": "code",
   "execution_count": 25,
   "id": "98862c65",
   "metadata": {},
   "outputs": [
    {
     "data": {
      "text/plain": [
       "'PatilJayesh'"
      ]
     },
     "execution_count": 25,
     "metadata": {},
     "output_type": "execute_result"
    }
   ],
   "source": [
    "s[6:]+s[0:6]"
   ]
  },
  {
   "cell_type": "code",
   "execution_count": 26,
   "id": "e511f61c",
   "metadata": {},
   "outputs": [
    {
     "name": "stdout",
     "output_type": "stream",
     "text": [
      "\n",
      "All the Elements: Python Programming\n",
      "\n",
      "From 2nd Element: thon Programming\n",
      "\n",
      "Until 4th Element: Pyth\n",
      "\n",
      "From 2nd to 5th Element: tho\n",
      "\n",
      "Only the last Element: g\n",
      "\n",
      "With intervals: Pto rgamn\n",
      "\n",
      "With interval of One: Python Programming\n",
      "\n",
      "Reverse: gnimmargorP nohtyP\n"
     ]
    }
   ],
   "source": [
    "#Slicing iand indexing in String\n",
    "\n",
    "a = \"Python Programming\"\n",
    "\n",
    "print('\\nAll the Elements:', a[:])  #[Start position : End position]\n",
    "print('\\nFrom 2nd Element:', a[2:])\n",
    "print('\\nUntil 4th Element:', a[:4])\n",
    "print('\\nFrom 2nd to 5th Element:', a[2:5])\n",
    "print('\\nOnly the last Element:', a[-1])\n",
    "print('\\nWith intervals:', a[::2])\n",
    "print('\\nWith interval of One:',a[::1]) #[Start Position : End Position : Intervals]\n",
    "print('\\nReverse:', a[::-1])"
   ]
  },
  {
   "cell_type": "code",
   "execution_count": 27,
   "id": "ecd35ff8",
   "metadata": {},
   "outputs": [],
   "source": [
    "x =[1,2,3,[\"a\",\"b\",\"c\",[1.0,2.0,3.0]]]"
   ]
  },
  {
   "cell_type": "code",
   "execution_count": 28,
   "id": "2a15c0cc",
   "metadata": {},
   "outputs": [
    {
     "data": {
      "text/plain": [
       "[1, 2, 3, ['a', 'b', 'c', [1.0, 2.0, 3.0]]]"
      ]
     },
     "execution_count": 28,
     "metadata": {},
     "output_type": "execute_result"
    }
   ],
   "source": [
    "x"
   ]
  },
  {
   "cell_type": "markdown",
   "id": "7febb30c",
   "metadata": {},
   "source": [
    "##### The task is to get the 2.0 value"
   ]
  },
  {
   "cell_type": "code",
   "execution_count": 29,
   "id": "ec44982c",
   "metadata": {},
   "outputs": [
    {
     "data": {
      "text/plain": [
       "2.0"
      ]
     },
     "execution_count": 29,
     "metadata": {},
     "output_type": "execute_result"
    }
   ],
   "source": [
    "x[3][3][1]"
   ]
  }
 ],
 "metadata": {
  "kernelspec": {
   "display_name": "Python 3 (ipykernel)",
   "language": "python",
   "name": "python3"
  },
  "language_info": {
   "codemirror_mode": {
    "name": "ipython",
    "version": 3
   },
   "file_extension": ".py",
   "mimetype": "text/x-python",
   "name": "python",
   "nbconvert_exporter": "python",
   "pygments_lexer": "ipython3",
   "version": "3.9.12"
  }
 },
 "nbformat": 4,
 "nbformat_minor": 5
}
