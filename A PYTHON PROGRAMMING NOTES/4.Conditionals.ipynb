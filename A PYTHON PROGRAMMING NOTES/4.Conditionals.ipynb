{
 "cells": [
  {
   "cell_type": "markdown",
   "id": "8fcfbfdc",
   "metadata": {},
   "source": [
    "# If - Statement"
   ]
  },
  {
   "cell_type": "markdown",
   "id": "68d12ff6",
   "metadata": {},
   "source": [
    "> The simplest flow control statement is ' if ' statement .\n",
    "\n",
    ">' if ' statement checks that the condition is  True or not , and if its True then it executes the indented block of code. \n",
    "\n",
    ">The expression in the \" if \" statement is called conditions, but technically a condition and expressions are same things."
   ]
  },
  {
   "cell_type": "markdown",
   "id": "9c200718",
   "metadata": {},
   "source": [
    "<img src = https://media.geeksforgeeks.org/wp-content/uploads/if-else.jpg width = 200>"
   ]
  },
  {
   "cell_type": "markdown",
   "id": "4d8fa3b1",
   "metadata": {},
   "source": [
    "**Syntax:**\n",
    "\n",
    "If(condition):\n",
    "   - Statement1"
   ]
  },
  {
   "cell_type": "code",
   "execution_count": 3,
   "id": "46db6ac9",
   "metadata": {},
   "outputs": [
    {
     "name": "stdout",
     "output_type": "stream",
     "text": [
      "Okay\n"
     ]
    }
   ],
   "source": [
    "if True:\n",
    "    print(\"Okay\")"
   ]
  },
  {
   "cell_type": "code",
   "execution_count": 4,
   "id": "c4fffa15",
   "metadata": {},
   "outputs": [
    {
     "name": "stdout",
     "output_type": "stream",
     "text": [
      "10 is even\n",
      "Yes I got the right ans.\n"
     ]
    }
   ],
   "source": [
    "if 10%2==0:\n",
    "    print(\"10 is even\")\n",
    "    \n",
    "print(\"Yes I got the right ans.\")"
   ]
  },
  {
   "cell_type": "code",
   "execution_count": 2,
   "id": "65be3700",
   "metadata": {},
   "outputs": [
    {
     "name": "stdout",
     "output_type": "stream",
     "text": [
      "9 is odd\n"
     ]
    }
   ],
   "source": [
    "if 9%2==0:\n",
    "    print(\"10 is even\")\n",
    "print(\"9 is odd\")"
   ]
  },
  {
   "cell_type": "code",
   "execution_count": 23,
   "id": "5fcebaf9",
   "metadata": {},
   "outputs": [
    {
     "name": "stdout",
     "output_type": "stream",
     "text": [
      "Enter ur name:alice\n",
      "hi Alice\n",
      "Done\n"
     ]
    }
   ],
   "source": [
    "name=input('Enter ur name:')\n",
    "if name.lower() == 'alice': \n",
    "    print('hi Alice')\n",
    "print('Done')"
   ]
  },
  {
   "cell_type": "code",
   "execution_count": 22,
   "id": "e6444958",
   "metadata": {},
   "outputs": [
    {
     "name": "stdout",
     "output_type": "stream",
     "text": [
      "Enter ur name:alice\n",
      "hi Alice\n",
      "Done\n"
     ]
    }
   ],
   "source": [
    "name=input('Enter ur name:')\n",
    "if name.lower() == 'alice': \n",
    "    print('hi Alice')\n",
    "print('Done')\n"
   ]
  },
  {
   "cell_type": "code",
   "execution_count": 6,
   "id": "1b124ce5",
   "metadata": {},
   "outputs": [
    {
     "name": "stdout",
     "output_type": "stream",
     "text": [
      "Enter value of side a: 3\n",
      "Enter value of side b: 4\n",
      "Enter value of side c: 5\n",
      "The triangle is right angle triangle\n",
      "Give correct values\n"
     ]
    }
   ],
   "source": [
    "ab=int(input(\"Enter value of side a: \"))\n",
    "bc=int(input(\"Enter value of side b: \"))\n",
    "ac=int(input(\"Enter value of side c: \"))\n",
    "\n",
    "\n",
    "if (ac**2)==(ab**2)+(bc**2):\n",
    "    print(\"The triangle is right angle triangle\")\n",
    "    \n",
    "print(\"Give correct values\")"
   ]
  },
  {
   "cell_type": "code",
   "execution_count": 14,
   "id": "62626317",
   "metadata": {},
   "outputs": [
    {
     "name": "stdout",
     "output_type": "stream",
     "text": [
      "Out of if statement\n"
     ]
    }
   ],
   "source": [
    "x = -5\n",
    "if x>0:\n",
    "    print(x)\n",
    "    print(\"Hi Jayesh\")\n",
    "print(\"Out of if statement\")"
   ]
  },
  {
   "cell_type": "code",
   "execution_count": 8,
   "id": "512336b7",
   "metadata": {},
   "outputs": [
    {
     "name": "stdout",
     "output_type": "stream",
     "text": [
      "1\n",
      "Hi Jayesh\n",
      "Out of if statement\n"
     ]
    }
   ],
   "source": [
    "x = 1\n",
    "if x>0:\n",
    "    print(x)\n",
    "    print(\"Hi Jayesh\")\n",
    "print(\"Out of if statement\")"
   ]
  },
  {
   "cell_type": "markdown",
   "id": "26569b40",
   "metadata": {},
   "source": [
    "# If-else Statement"
   ]
  },
  {
   "cell_type": "markdown",
   "id": "fd699925",
   "metadata": {},
   "source": [
    "**Syntax:**\n",
    "- if(condition):\n",
    "    - Statment1\n",
    "- else:\n",
    "  - Statment2\n"
   ]
  },
  {
   "cell_type": "code",
   "execution_count": 14,
   "id": "08e4bbe0",
   "metadata": {},
   "outputs": [
    {
     "name": "stdout",
     "output_type": "stream",
     "text": [
      "Username : Jayesh Patil\n",
      "Enter your password : rty\n",
      "Wrong password\n"
     ]
    }
   ],
   "source": [
    "#Program on If-else Statement.    CASE1\n",
    "\n",
    "print(\"Username : Jayesh Patil\")\n",
    "password=input(\"Enter your password : \")\n",
    "\n",
    "if password=='JAYESH123':\n",
    "    print(\"Access granted.\\nHi \"+ password+\",Welcome to the Python Programing.\")\n",
    "else:\n",
    "    print(\"Wrong password\")"
   ]
  },
  {
   "cell_type": "code",
   "execution_count": 15,
   "id": "9264855e",
   "metadata": {},
   "outputs": [
    {
     "name": "stdout",
     "output_type": "stream",
     "text": [
      "Enter value of side a: 3\n",
      "Enter value of side b: 4\n",
      "Enter value of side c: 5\n",
      "The triangle is right angle triangle\n"
     ]
    }
   ],
   "source": [
    "a=int(input(\"Enter value of side a: \"))\n",
    "b=int(input(\"Enter value of side b: \"))\n",
    "c=int(input(\"Enter value of side c: \"))\n",
    "\n",
    "\n",
    "if (c**2)==(a**2)+(b**2):\n",
    "    print(\"The triangle is right angle triangle\")\n",
    "else:\n",
    "    print(\"Give correct values\")"
   ]
  },
  {
   "cell_type": "code",
   "execution_count": 16,
   "id": "97a050fe",
   "metadata": {},
   "outputs": [
    {
     "name": "stdout",
     "output_type": "stream",
     "text": [
      "Enter value of side a: 8\n",
      "Enter value of side b: 3\n",
      "Enter value of side c: 6\n",
      "Give correct values\n"
     ]
    }
   ],
   "source": [
    "a=int(input(\"Enter value of side a: \"))\n",
    "b=int(input(\"Enter value of side b: \"))\n",
    "c=int(input(\"Enter value of side c: \"))\n",
    "\n",
    "\n",
    "if (c**2)==(a**2)+(b**2):\n",
    "    print(\"The triangle is right angle triangle\")\n",
    "else:\n",
    "    print(\"Give correct values\")"
   ]
  },
  {
   "cell_type": "code",
   "execution_count": 17,
   "id": "e6574e3e",
   "metadata": {},
   "outputs": [
    {
     "name": "stdout",
     "output_type": "stream",
     "text": [
      "5 is odd\n",
      "Finally I got it predicted as an EVEN or ODD number\n"
     ]
    }
   ],
   "source": [
    "x = 5\n",
    "if x%2==0:\n",
    "    print(x,\"is even\")\n",
    "else:\n",
    "    print(x,\"is odd\")\n",
    "print(\"Finally I got it predicted as an EVEN or ODD number\")"
   ]
  },
  {
   "cell_type": "code",
   "execution_count": 18,
   "id": "32c794ac",
   "metadata": {},
   "outputs": [
    {
     "name": "stdout",
     "output_type": "stream",
     "text": [
      "40 is greater than 35\n"
     ]
    }
   ],
   "source": [
    "x = 40\n",
    "if x>35:\n",
    "    print(x,\"is greater than 35\")\n",
    "else:\n",
    "    print(x,\"is less than or equal to 35\")"
   ]
  },
  {
   "cell_type": "code",
   "execution_count": 19,
   "id": "52fb4bab",
   "metadata": {},
   "outputs": [
    {
     "name": "stdout",
     "output_type": "stream",
     "text": [
      "please enter your age:18\n",
      "Please enjoy the movie !!!\n"
     ]
    }
   ],
   "source": [
    "age = int(input('please enter your age:'))\n",
    "if age < 18:\n",
    "    print('Children under the age of 18 is not Allowed')\n",
    "else:\n",
    "    print('Please enjoy the movie !!!')"
   ]
  },
  {
   "cell_type": "markdown",
   "id": "ddc7ed6e",
   "metadata": {},
   "source": [
    "# If-elif-else Statement"
   ]
  },
  {
   "cell_type": "markdown",
   "id": "6b41981a",
   "metadata": {},
   "source": [
    ">1.Here a user can decide among multiple options. The if statements are executed from the top down\n",
    "\n",
    ">2.As soon as one of the conditions controlling the if is true, the statement associated with that if is executed, and the rest of the ladder bypassed.\n",
    "\n",
    ">3.If none of the coditions is true, then the final else statement will be executed."
   ]
  },
  {
   "cell_type": "markdown",
   "id": "39bb662e",
   "metadata": {},
   "source": [
    "**Syntax:**\n",
    "- if(conditionA):\n",
    "  - Statment1\n",
    "- elif(conditionB):\n",
    "   - Statement2\n",
    "- elif(conditionC):\n",
    "   - Statement3\n",
    "- else:\n",
    "   - Statment4\n"
   ]
  },
  {
   "cell_type": "code",
   "execution_count": 20,
   "id": "458bc6d9",
   "metadata": {},
   "outputs": [
    {
     "name": "stdout",
     "output_type": "stream",
     "text": [
      "10 is less than 35\n"
     ]
    }
   ],
   "source": [
    "x = 10\n",
    "if x>35:\n",
    "    print(x,\"is greater than 35\")\n",
    "elif x<35:\n",
    "    print(x,\"is less than 35\")\n",
    "else:\n",
    "    print(x,\"is equal to 35\")"
   ]
  },
  {
   "cell_type": "code",
   "execution_count": 21,
   "id": "8e8214a4",
   "metadata": {},
   "outputs": [
    {
     "name": "stdout",
     "output_type": "stream",
     "text": [
      "The third condion is true\n",
      "We are happy now\n"
     ]
    }
   ],
   "source": [
    "p=10\n",
    "q=11\n",
    "r=12\n",
    "\n",
    "if p>q and q>r:\n",
    "    print(\"The above statement is true\")\n",
    "elif p<q and p>r:\n",
    "    print(\"The second condition is true\")\n",
    "elif p<q and q<r:\n",
    "    print(\"The third condion is true\")\n",
    "else:\n",
    "    print(\"None of the above conditions are true\")\n",
    "    \n",
    "print(\"We are happy now\") "
   ]
  },
  {
   "cell_type": "code",
   "execution_count": 5,
   "id": "e540dc74",
   "metadata": {},
   "outputs": [
    {
     "name": "stdout",
     "output_type": "stream",
     "text": [
      "Enter your mark -: 45\n",
      "C Grade\n"
     ]
    }
   ],
   "source": [
    "#program for marks to grade\n",
    "'''\n",
    "    75 & above -: A grade\n",
    "    60-74      -: B grade \n",
    "    35-59      -: C grade\n",
    "    Below 35   -: Fail\n",
    "'''\n",
    "\n",
    "mark = int(input('Enter your mark -: '))\n",
    "\n",
    "if(mark>=75):\n",
    "    print(\"A Grade\")\n",
    "elif(60<= mark and mark<=74):\n",
    "    print('B Grade')\n",
    "elif(35<=mark and mark<=59):\n",
    "    print('C Grade')\n",
    "else:\n",
    "    print('Fail')"
   ]
  },
  {
   "cell_type": "code",
   "execution_count": 23,
   "id": "bf63889e",
   "metadata": {},
   "outputs": [
    {
     "name": "stdout",
     "output_type": "stream",
     "text": [
      "Enter your name:Jayesh\n",
      "No Match found.\n",
      "Please sign up into database. \n"
     ]
    }
   ],
   "source": [
    "name=input(\"Enter your name:\")\n",
    "if name.lower() =='micky':\n",
    "    print(\"whatsup Micky!!!\")\n",
    "elif name.lower() == 'deepak':\n",
    "    print(\"hi Deepak!!!\")\n",
    "elif name.lower() == 'rohit':\n",
    "    print(\"hello Rohit !!!\")\n",
    "else:\n",
    "    print(\"No Match found.\\nPlease sign up into database. \")"
   ]
  },
  {
   "cell_type": "code",
   "execution_count": 24,
   "id": "dc8ff6d1",
   "metadata": {},
   "outputs": [
    {
     "name": "stdout",
     "output_type": "stream",
     "text": [
      "Enter your name:micky\n",
      "whatsup Micky!!!\n"
     ]
    }
   ],
   "source": [
    "name=input(\"Enter your name:\")\n",
    "if name.lower() =='micky':\n",
    "    print(\"whatsup Micky!!!\")\n",
    "elif name.lower() == 'deepak':\n",
    "    print(\"hi Deepak!!!\")\n",
    "elif name.lower() == 'rohit':\n",
    "    print(\"hello Rohit !!!\")\n",
    "else:\n",
    "    print(\"No Match found.\\nPlease sign up into database. \")"
   ]
  },
  {
   "cell_type": "code",
   "execution_count": 25,
   "id": "27a24d4c",
   "metadata": {},
   "outputs": [
    {
     "name": "stdout",
     "output_type": "stream",
     "text": [
      "Your balance is 9450\n",
      "Enter withdraw ammout:10000\n",
      "You dont have sufficent balance to withdraw.\n"
     ]
    }
   ],
   "source": [
    "print(\"Your balance is 9450\")\n",
    "withdrawl=int(input(\"Enter withdraw ammout:\"))\n",
    "if withdrawl > 9450:\n",
    "    print(\"You dont have sufficent balance to withdraw.\")\n",
    "elif  100 < withdrawl < 9450:\n",
    "    print(\"Thankyou , for visiting have a great day\")\n",
    "elif withdrawl < 100:\n",
    "    print(\"You cannot withdraw less than 100\")\n",
    "else:\n",
    "    print(\"Out of Money\")"
   ]
  },
  {
   "cell_type": "code",
   "execution_count": 26,
   "id": "cb2c28de",
   "metadata": {},
   "outputs": [
    {
     "name": "stdout",
     "output_type": "stream",
     "text": [
      "Please enter an integer: 5\n",
      "The Number Given is Odd\n"
     ]
    }
   ],
   "source": [
    "x = int(input(\"Please enter an integer: \"))\n",
    "\n",
    "if x == 0:\n",
    "    print('The Value Given is Zero, Kindly enter another Number')\n",
    "elif x %2 == 0:\n",
    "    print('The Number provided is Even')\n",
    "else:\n",
    "    print('The Number Given is Odd')"
   ]
  },
  {
   "cell_type": "code",
   "execution_count": 27,
   "id": "f36e20d9",
   "metadata": {},
   "outputs": [],
   "source": [
    "import random\n",
    "secretnum = random.randint(0,10)"
   ]
  },
  {
   "cell_type": "code",
   "execution_count": 28,
   "id": "36e0aef2",
   "metadata": {},
   "outputs": [
    {
     "name": "stdout",
     "output_type": "stream",
     "text": [
      "Please guess a number between 0 to 10:5\n",
      "\n",
      "Guess Higher\n"
     ]
    }
   ],
   "source": [
    "guess = eval(input('Please guess a number between 0 to 10:'))\n",
    "\n",
    "if secretnum == guess:\n",
    "    print('\\nYay ! you are a Genius')\n",
    "elif secretnum < guess:\n",
    "    print('\\nGuess Lesser')\n",
    "elif secretnum > guess:\n",
    "    print('\\nGuess Higher')\n",
    "else:\n",
    "    print('\\nGood Try')"
   ]
  },
  {
   "cell_type": "code",
   "execution_count": 29,
   "id": "859e3953",
   "metadata": {},
   "outputs": [
    {
     "name": "stdout",
     "output_type": "stream",
     "text": [
      "Please enter your Age:25\n",
      "Please enter your years of Experience:3\n",
      "\n",
      "Please submit your job aplication for Senior Developer Role\n"
     ]
    }
   ],
   "source": [
    "age = eval(input('Please enter your Age:'))\n",
    "exp = eval(input('Please enter your years of Experience:'))\n",
    "\n",
    "if age >= 25 and exp >= 3:\n",
    "    print('\\nPlease submit your job aplication for Senior Developer Role')\n",
    "elif age >= 20 and exp >=1:\n",
    "    print('\\nPlease submit your job application for Junior Developer Role')\n",
    "else:\n",
    "    print('\\nThanks for your Interest, however we do not have any roles for your age and experience')"
   ]
  }
 ],
 "metadata": {
  "kernelspec": {
   "display_name": "Python 3 (ipykernel)",
   "language": "python",
   "name": "python3"
  },
  "language_info": {
   "codemirror_mode": {
    "name": "ipython",
    "version": 3
   },
   "file_extension": ".py",
   "mimetype": "text/x-python",
   "name": "python",
   "nbconvert_exporter": "python",
   "pygments_lexer": "ipython3",
   "version": "3.9.12"
  }
 },
 "nbformat": 4,
 "nbformat_minor": 5
}
