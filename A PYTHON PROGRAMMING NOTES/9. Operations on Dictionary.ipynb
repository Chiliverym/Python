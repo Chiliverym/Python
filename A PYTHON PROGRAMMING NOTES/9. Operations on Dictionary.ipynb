{
 "cells": [
  {
   "cell_type": "markdown",
   "id": "b8a5a493",
   "metadata": {},
   "source": [
    "# Dictionary/Associative Array:\n",
    ">Python provides a dictionary structure to deal with unordered set of keys and values.\n",
    "\n",
    ">The key and value pair is called item.\n",
    "\n",
    ">The value in the list are be mutable i.e. can be changed.\n",
    "\n",
    ">The keys in the dictionary are immutable i.e.cannot be changed.\n",
    "\n",
    ">It is also called as an associative array beacuse the key works as an index and they are decided by the user."
   ]
  },
  {
   "cell_type": "raw",
   "id": "4f63d335",
   "metadata": {},
   "source": [
    "Dictionary format - word:meaning\n",
    "                    key : value"
   ]
  },
  {
   "cell_type": "code",
   "execution_count": 13,
   "id": "cb7e9ef8",
   "metadata": {},
   "outputs": [
    {
     "name": "stdout",
     "output_type": "stream",
     "text": [
      "Empty Dictionary: \n",
      "{}\n"
     ]
    }
   ],
   "source": [
    "Dict = {}  # Creating an empty Dictionary \n",
    "print(\"Empty Dictionary: \") \n",
    "print(Dict) "
   ]
  },
  {
   "cell_type": "code",
   "execution_count": 14,
   "id": "d0609f76",
   "metadata": {},
   "outputs": [
    {
     "name": "stdout",
     "output_type": "stream",
     "text": [
      "{1: 'State', 2: 'Street', 3: 'Bellandur'}\n",
      "{1: 'State', 2: 'Street'}\n"
     ]
    }
   ],
   "source": [
    "Dict = dict({1: 'State', 2: 'Street', 3:'Bellandur'}) # with dict() method \n",
    "print(Dict) \n",
    "\n",
    "Dict = dict([(1, 'State'), (2, 'Street')]) # with each item as a Pair  \n",
    "print(Dict) "
   ]
  },
  {
   "cell_type": "code",
   "execution_count": 12,
   "id": "00fca3d0",
   "metadata": {},
   "outputs": [
    {
     "name": "stdout",
     "output_type": "stream",
     "text": [
      "{1: 'Comp', 2: 'IT', 3: 'EXTC'}\n",
      "<class 'dict'>\n",
      "Comp\n",
      "IT\n",
      "EXTC\n"
     ]
    }
   ],
   "source": [
    "d = { 1:\"Comp\", 2:\"IT\", 3:\"EXTC\" }\n",
    "print(d)\n",
    "print(type(d))\n",
    "print(d[1])\n",
    "print(d[2])\n",
    "print(d[3])"
   ]
  },
  {
   "cell_type": "code",
   "execution_count": 15,
   "id": "4442b433",
   "metadata": {},
   "outputs": [
    {
     "ename": "KeyError",
     "evalue": "0",
     "output_type": "error",
     "traceback": [
      "\u001b[1;31m---------------------------------------------------------------------------\u001b[0m",
      "\u001b[1;31mKeyError\u001b[0m                                  Traceback (most recent call last)",
      "Input \u001b[1;32mIn [15]\u001b[0m, in \u001b[0;36m<cell line: 1>\u001b[1;34m()\u001b[0m\n\u001b[1;32m----> 1\u001b[0m \u001b[43md\u001b[49m\u001b[43m[\u001b[49m\u001b[38;5;241;43m0\u001b[39;49m\u001b[43m]\u001b[49m\n",
      "\u001b[1;31mKeyError\u001b[0m: 0"
     ]
    }
   ],
   "source": [
    "d[0]"
   ]
  },
  {
   "cell_type": "code",
   "execution_count": 16,
   "id": "a7d72150",
   "metadata": {},
   "outputs": [
    {
     "name": "stdout",
     "output_type": "stream",
     "text": [
      "{'COMP': 3, 'IT': 1, 'EXTC': 2}\n",
      "<class 'dict'>\n",
      "3\n",
      "2\n"
     ]
    }
   ],
   "source": [
    "d1 = {\"COMP\":3, \"IT\":1, \"EXTC\":2}\n",
    "print(d1)\n",
    "print(type(d1))\n",
    "print(d1[\"COMP\"])\n",
    "print(d1[\"EXTC\"])"
   ]
  },
  {
   "cell_type": "code",
   "execution_count": 17,
   "id": "4cd898e2",
   "metadata": {},
   "outputs": [
    {
     "name": "stdout",
     "output_type": "stream",
     "text": [
      "{1: 100, 1.2: 150, 'Jayesh': 'Jayesh Patil', 'ITVedant': 1256.236, 12.246: 'Learners'}\n",
      "100\n",
      "Jayesh Patil\n",
      "Learners\n"
     ]
    }
   ],
   "source": [
    "d = {1:100, 1.2:150, \"Jayesh\":\"Jayesh Patil\",\"ITVedant\":1256.236,12.246:'Learners'}\n",
    "print(d)\n",
    "print(d[1])\n",
    "print(d[\"Jayesh\"])\n",
    "print(d[12.246])"
   ]
  },
  {
   "cell_type": "code",
   "execution_count": 18,
   "id": "439920cb",
   "metadata": {},
   "outputs": [
    {
     "name": "stdout",
     "output_type": "stream",
     "text": [
      "{1: 100, 5.6: [1, 2, 3, 4, 5], 12: (55, 66, 77), 13: {'e', 'a'}}\n",
      "100\n",
      "(55, 66, 77)\n",
      "<class 'tuple'>\n",
      "66\n"
     ]
    }
   ],
   "source": [
    "d = {1:100, 5.6:[1,2,3,4,5], 12:(55,66,77), 13:{'a','e'}}\n",
    "print(d)\n",
    "print(d[1])\n",
    "print(d[12])\n",
    "print(type(d[12]))\n",
    "print(d[12][1])"
   ]
  },
  {
   "cell_type": "code",
   "execution_count": 1,
   "id": "cb36c75f",
   "metadata": {},
   "outputs": [
    {
     "name": "stdout",
     "output_type": "stream",
     "text": [
      "{1: 'COMP', 2: 'IT', 3: 'EXTC'}\n",
      "False\n",
      "{1: 'COMP', 2: 'IT', 3: 'EXTC'}\n",
      "<class 'str'>\n",
      "dict_keys([1, 2, 3])\n",
      "[1, 2, 3]\n",
      "dict_values(['COMP', 'IT', 'EXTC'])\n",
      "dict_items([(1, 'COMP'), (2, 'IT'), (3, 'EXTC')])\n"
     ]
    }
   ],
   "source": [
    "d = {1:'COMP', 2:\"IT\", 3:\"EXTC\"}\n",
    "print(d)\n",
    "print(\"EXTC\" in d)\n",
    "print(str(d))\n",
    "print(type(str(d)))\n",
    "print(d.keys())\n",
    "print(list(d.keys()))\n",
    "print(d.values())\n",
    "print(d.items())"
   ]
  },
  {
   "cell_type": "code",
   "execution_count": 20,
   "id": "6fc31742",
   "metadata": {},
   "outputs": [
    {
     "name": "stdout",
     "output_type": "stream",
     "text": [
      "{1: 'COMP', 2: 'IT', 3: 'EXTC'}\n",
      "{4: 'MECH'}\n",
      "{1: 'COMP', 2: 'IT', 3: 'EXTC', 4: 'MECH'}\n",
      "{4: 'MECH'}\n"
     ]
    }
   ],
   "source": [
    "d1= {1:'COMP',2:'IT',3:'EXTC'}\n",
    "d2={4:'MECH'}\n",
    "print(d1)\n",
    "print(d2)\n",
    "d1.update(d2)  # update the dictionary d1 with the elements of the dictionary d2\n",
    "print(d1)\n",
    "print(d2)"
   ]
  },
  {
   "cell_type": "code",
   "execution_count": 21,
   "id": "4b1b6dcc",
   "metadata": {},
   "outputs": [
    {
     "name": "stdout",
     "output_type": "stream",
     "text": [
      "1\n",
      "1\n"
     ]
    }
   ],
   "source": [
    "d1 = {\"COMP\":3,\"IT\":1, \"EXTC\":2}\n",
    "print(d1.get(\"IT\"))\n",
    "print(d1[\"IT\"])"
   ]
  },
  {
   "cell_type": "code",
   "execution_count": 3,
   "id": "fd63b46d",
   "metadata": {},
   "outputs": [],
   "source": [
    "#Creating the dictionary\n",
    "family ={\"Dad\":42 , \"Mom\":39,\"Sister\":24,\"Me\":21}"
   ]
  },
  {
   "cell_type": "code",
   "execution_count": 33,
   "id": "4ab49820",
   "metadata": {},
   "outputs": [
    {
     "data": {
      "text/plain": [
       "{'Dad': 42, 'Mom': 39, 'Sister': 24, 'Me': 21}"
      ]
     },
     "execution_count": 33,
     "metadata": {},
     "output_type": "execute_result"
    }
   ],
   "source": [
    "family"
   ]
  },
  {
   "cell_type": "code",
   "execution_count": 5,
   "id": "9ea76984",
   "metadata": {},
   "outputs": [
    {
     "data": {
      "text/plain": [
       "39"
      ]
     },
     "execution_count": 5,
     "metadata": {},
     "output_type": "execute_result"
    }
   ],
   "source": [
    "family.get(\"Mom\")"
   ]
  },
  {
   "cell_type": "markdown",
   "id": "b4960411",
   "metadata": {},
   "source": [
    "#### Checking weather,  key exist in dictionary returns True and if not, returns False."
   ]
  },
  {
   "cell_type": "code",
   "execution_count": 35,
   "id": "25641d6d",
   "metadata": {},
   "outputs": [
    {
     "data": {
      "text/plain": [
       "False"
      ]
     },
     "execution_count": 35,
     "metadata": {},
     "output_type": "execute_result"
    }
   ],
   "source": [
    "'uncle' in family"
   ]
  },
  {
   "cell_type": "markdown",
   "id": "a7f955ae",
   "metadata": {},
   "source": [
    "#### Checking weather,  key exist in dictionary returns the Value of the key passed as first argument and if not, returns the second argument passed in get."
   ]
  },
  {
   "cell_type": "code",
   "execution_count": 36,
   "id": "97372292",
   "metadata": {},
   "outputs": [
    {
     "data": {
      "text/plain": [
       "'Does Not exist in dictionary'"
      ]
     },
     "execution_count": 36,
     "metadata": {},
     "output_type": "execute_result"
    }
   ],
   "source": [
    "family.get('uncle','Does Not exist in dictionary')"
   ]
  },
  {
   "cell_type": "code",
   "execution_count": 37,
   "id": "5d7e0393",
   "metadata": {},
   "outputs": [
    {
     "data": {
      "text/plain": [
       "{'Dad': 42, 'Mom': 39, 'Sister': 24, 'Me': 21, 'Uncle': 38}"
      ]
     },
     "execution_count": 37,
     "metadata": {},
     "output_type": "execute_result"
    }
   ],
   "source": [
    "#Adding new key & value to the dictionary\n",
    "family['Uncle']=38\n",
    "family"
   ]
  },
  {
   "cell_type": "code",
   "execution_count": 38,
   "id": "ddb9687f",
   "metadata": {},
   "outputs": [
    {
     "data": {
      "text/plain": [
       "37"
      ]
     },
     "execution_count": 38,
     "metadata": {},
     "output_type": "execute_result"
    }
   ],
   "source": [
    "#second way of adding new key value in dectionary\n",
    "family.setdefault('aunt',37)"
   ]
  },
  {
   "cell_type": "code",
   "execution_count": 39,
   "id": "a8df1225",
   "metadata": {},
   "outputs": [
    {
     "data": {
      "text/plain": [
       "{'Dad': 42, 'Mom': 39, 'Sister': 24, 'Me': 21, 'Uncle': 38, 'aunt': 37}"
      ]
     },
     "execution_count": 39,
     "metadata": {},
     "output_type": "execute_result"
    }
   ],
   "source": [
    "family"
   ]
  },
  {
   "cell_type": "code",
   "execution_count": 40,
   "id": "fb64b0a2",
   "metadata": {},
   "outputs": [
    {
     "data": {
      "text/plain": [
       "{'Dad': 42, 'Mom': 39, 'Sister': 24, 'Me': 21, 'Uncle': 40, 'aunt': 37}"
      ]
     },
     "execution_count": 40,
     "metadata": {},
     "output_type": "execute_result"
    }
   ],
   "source": [
    "#Updating the value of key.\n",
    "family['Uncle']=40\n",
    "family"
   ]
  },
  {
   "cell_type": "code",
   "execution_count": 41,
   "id": "0e6dda89",
   "metadata": {},
   "outputs": [
    {
     "data": {
      "text/plain": [
       "{'Dad': 42,\n",
       " 'Mom': 39,\n",
       " 'Sister': 24,\n",
       " 'Me': 21,\n",
       " 'Uncle': 40,\n",
       " 'aunt': 37,\n",
       " 'a': 10,\n",
       " 'b': 20,\n",
       " 'c': 30}"
      ]
     },
     "execution_count": 41,
     "metadata": {},
     "output_type": "execute_result"
    }
   ],
   "source": [
    "#second way of updating the dictionary or you can say merging two dictionary together\n",
    "new={'a':10,'b':20,'c':30}\n",
    "family.update(new)\n",
    "family"
   ]
  },
  {
   "cell_type": "raw",
   "id": "866cf9bd",
   "metadata": {},
   "source": [
    "extract values from a dictionary for a particular key\n",
    "1.d['key']\n",
    "2.d.get['key']"
   ]
  },
  {
   "cell_type": "code",
   "execution_count": 23,
   "id": "938afae3",
   "metadata": {},
   "outputs": [
    {
     "name": "stdout",
     "output_type": "stream",
     "text": [
      "{1: 50, 2: 100, 3: 150, 4: 200, 5: 250}\n"
     ]
    }
   ],
   "source": [
    "d = {1:50,2:100,3:150,4:200,5:250}\n",
    "print(d)"
   ]
  },
  {
   "cell_type": "code",
   "execution_count": 24,
   "id": "2e5afa97",
   "metadata": {},
   "outputs": [
    {
     "name": "stdout",
     "output_type": "stream",
     "text": [
      "{1: 50, 2: 100, 3: 150, 4: 200, 5: 250}\n",
      "50\n",
      "{1: 'Jay', 2: 100, 3: 150, 4: 200, 5: 250}\n"
     ]
    }
   ],
   "source": [
    "d = {1:50,2:100,3:150,4:200,5:250}\n",
    "print(d)\n",
    "print(d[1])\n",
    "d[1]=\"Jay\"\n",
    "print(d)"
   ]
  },
  {
   "cell_type": "raw",
   "id": "786da2c7",
   "metadata": {},
   "source": [
    "All indexing in strings, lists and tuples is by position.\n",
    "All indexing in dic is by key\n",
    "\n",
    "list,strings and dictionary are mutable."
   ]
  },
  {
   "cell_type": "code",
   "execution_count": 26,
   "id": "ceeb1784",
   "metadata": {},
   "outputs": [
    {
     "name": "stdout",
     "output_type": "stream",
     "text": [
      "{1: 50, 2: 100, 3: 150, 4: 200, 5: 250}\n",
      "{1: 50, 2: 100, 4: 200, 5: 250}\n"
     ]
    }
   ],
   "source": [
    "d = {1:50,2:100,3:150,4:200,5:250}\n",
    "print(d)\n",
    "del d[3]\n",
    "print(d)"
   ]
  },
  {
   "cell_type": "code",
   "execution_count": 27,
   "id": "5b9b93d4",
   "metadata": {},
   "outputs": [
    {
     "name": "stdout",
     "output_type": "stream",
     "text": [
      "{1: [11, 12], 2: [44, 55]}\n"
     ]
    }
   ],
   "source": [
    "#Dictionary can contain lists\n",
    "l = {1:[11,12],2:[44,55]}\n",
    "print(l)"
   ]
  },
  {
   "cell_type": "code",
   "execution_count": 28,
   "id": "8a5e2ca3",
   "metadata": {},
   "outputs": [
    {
     "name": "stdout",
     "output_type": "stream",
     "text": [
      "{1: (11, 12), 2: (44, 55)}\n"
     ]
    }
   ],
   "source": [
    "# Dictionary can contain tuples\n",
    "l = {1:(11,12),2:(44,55)}\n",
    "print(l)"
   ]
  },
  {
   "cell_type": "code",
   "execution_count": 29,
   "id": "22364888",
   "metadata": {},
   "outputs": [
    {
     "name": "stdout",
     "output_type": "stream",
     "text": [
      "{1: ('1', 2), 2: ('1', '2'), 100: {444: ('1', 2), 445: ('1', '2'), 446: ('2', '3')}, 3: ('2', '3'), 4: '3'}\n"
     ]
    }
   ],
   "source": [
    "# Dictionaries can contain dictionaries\n",
    "l = {1:('1',2), 2:('1','2'), 100:{444:('1',2),445:('1','2'),446:('2','3')},3:('2','3'),4:('3')}\n",
    "print(l)"
   ]
  },
  {
   "cell_type": "code",
   "execution_count": 30,
   "id": "98a49c00",
   "metadata": {},
   "outputs": [
    {
     "name": "stdout",
     "output_type": "stream",
     "text": [
      "<class 'dict'>\n",
      "l[1]= ('1', 2)\n",
      "l[100]= {444: ('1', 2), 445: ('1', '2'), 446: ('2', '3')}\n"
     ]
    }
   ],
   "source": [
    "print(type(l))\n",
    "print(\"l[1]=\",l[1])\n",
    "print(\"l[100]=\",l[100])"
   ]
  },
  {
   "cell_type": "raw",
   "id": "936fdd12",
   "metadata": {},
   "source": [
    "When hierarchy is involved, one of the best ways of storing the data is Dictionary"
   ]
  }
 ],
 "metadata": {
  "kernelspec": {
   "display_name": "Python 3 (ipykernel)",
   "language": "python",
   "name": "python3"
  },
  "language_info": {
   "codemirror_mode": {
    "name": "ipython",
    "version": 3
   },
   "file_extension": ".py",
   "mimetype": "text/x-python",
   "name": "python",
   "nbconvert_exporter": "python",
   "pygments_lexer": "ipython3",
   "version": "3.9.12"
  }
 },
 "nbformat": 4,
 "nbformat_minor": 5
}
