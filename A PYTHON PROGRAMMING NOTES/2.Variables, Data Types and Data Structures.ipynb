{
 "cells": [
  {
   "cell_type": "markdown",
   "id": "2b69eb72",
   "metadata": {},
   "source": [
    "# Variables in Python"
   ]
  },
  {
   "cell_type": "markdown",
   "id": "32a17b8b",
   "metadata": {},
   "source": [
    "- A variable is basically a name given to any storage area or memory location in a program. In simple words, we can say that a variable is a container that contains some information, and whenever we need that information, we use the name of that container to access it\n",
    "- For example, you might want the name x to represent 3. To make it so, simply execute the following:"
   ]
  },
  {
   "cell_type": "code",
   "execution_count": 1,
   "id": "12e062a7",
   "metadata": {},
   "outputs": [],
   "source": [
    "x = 3"
   ]
  },
  {
   "cell_type": "code",
   "execution_count": 2,
   "id": "8108351b",
   "metadata": {},
   "outputs": [
    {
     "data": {
      "text/plain": [
       "3"
      ]
     },
     "execution_count": 2,
     "metadata": {},
     "output_type": "execute_result"
    }
   ],
   "source": [
    "x"
   ]
  },
  {
   "cell_type": "markdown",
   "id": "ee6e9036",
   "metadata": {},
   "source": [
    "- This is called an assignment. We assign the value 3 to the variable x. Another way of putting this is to say that we bind the variable x to the value (or object) 3. \n",
    "- After you’ve assigned a value to a variable, you can use the variable in expressions:"
   ]
  },
  {
   "cell_type": "code",
   "execution_count": 3,
   "id": "4a1b1d2a",
   "metadata": {},
   "outputs": [
    {
     "data": {
      "text/plain": [
       "9"
      ]
     },
     "execution_count": 3,
     "metadata": {},
     "output_type": "execute_result"
    }
   ],
   "source": [
    "x * 3"
   ]
  },
  {
   "cell_type": "markdown",
   "id": "0e98a3a0",
   "metadata": {},
   "source": [
    "- Variable is a kind of a box that can store a single value.\n",
    "- Variable is  just evaluates to the value it contain\n",
    "- Values can be stored in variables which can be used in expression or anywhere  , where values are used"
   ]
  },
  {
   "cell_type": "code",
   "execution_count": 4,
   "id": "7499182a",
   "metadata": {},
   "outputs": [],
   "source": [
    "x = 4\n",
    "y = 10"
   ]
  },
  {
   "cell_type": "code",
   "execution_count": 5,
   "id": "f59cdfcf",
   "metadata": {},
   "outputs": [
    {
     "data": {
      "text/plain": [
       "14"
      ]
     },
     "execution_count": 5,
     "metadata": {},
     "output_type": "execute_result"
    }
   ],
   "source": [
    "x + y"
   ]
  },
  {
   "cell_type": "markdown",
   "id": "3fd97fdb",
   "metadata": {},
   "source": [
    "## Rules of creating a variable:-"
   ]
  },
  {
   "cell_type": "markdown",
   "id": "1aeb55fc",
   "metadata": {},
   "source": [
    "1. Variables should not start with numbers.\n",
    "2. Variables can start with '_'(underscore)\n",
    "3. Variables should not start with any special characters except '_'\n",
    "4. Variables should not be named after default built-in keywords.\n",
    "5. Variable name should always be at the left side of the assignment operator( = ).\n",
    "6. Variable name should always start with an capital or small alphabets not with a number or Special symbols.\n",
    "7. You can also use alphanumeric name for creating a variable.\n",
    "8. You cannot use any special characters in variable except \"_\".\n",
    "9. You cannot use space in defining the variable use underscore inplace of it.\n",
    "\n",
    "76abc Syntax error\n",
    "more@=1000 Syntax error\n",
    "\n",
    "Keywords cannot be variable names."
   ]
  },
  {
   "cell_type": "code",
   "execution_count": 6,
   "id": "5b0c6404",
   "metadata": {},
   "outputs": [
    {
     "name": "stdout",
     "output_type": "stream",
     "text": [
      "['False', 'None', 'True', '__peg_parser__', 'and', 'as', 'assert', 'async', 'await', 'break', 'class', 'continue', 'def', 'del', 'elif', 'else', 'except', 'finally', 'for', 'from', 'global', 'if', 'import', 'in', 'is', 'lambda', 'nonlocal', 'not', 'or', 'pass', 'raise', 'return', 'try', 'while', 'with', 'yield'] "
     ]
    }
   ],
   "source": [
    "import keyword\n",
    "print(keyword.kwlist, end=\" \")"
   ]
  },
  {
   "cell_type": "code",
   "execution_count": 7,
   "id": "ffb0db69",
   "metadata": {},
   "outputs": [
    {
     "ename": "SyntaxError",
     "evalue": "invalid syntax (1983842289.py, line 1)",
     "output_type": "error",
     "traceback": [
      "\u001b[1;36m  Input \u001b[1;32mIn [7]\u001b[1;36m\u001b[0m\n\u001b[1;33m    2x='Jayesh'\u001b[0m\n\u001b[1;37m     ^\u001b[0m\n\u001b[1;31mSyntaxError\u001b[0m\u001b[1;31m:\u001b[0m invalid syntax\n"
     ]
    }
   ],
   "source": [
    "2x='Jayesh'"
   ]
  },
  {
   "cell_type": "code",
   "execution_count": 8,
   "id": "a0d8f1cf",
   "metadata": {},
   "outputs": [
    {
     "data": {
      "text/plain": [
       "2"
      ]
     },
     "execution_count": 8,
     "metadata": {},
     "output_type": "execute_result"
    }
   ],
   "source": [
    "_x = 2\n",
    "_x"
   ]
  },
  {
   "cell_type": "code",
   "execution_count": 9,
   "id": "0936c46c",
   "metadata": {},
   "outputs": [
    {
     "ename": "SyntaxError",
     "evalue": "invalid syntax (3638762657.py, line 1)",
     "output_type": "error",
     "traceback": [
      "\u001b[1;36m  Input \u001b[1;32mIn [9]\u001b[1;36m\u001b[0m\n\u001b[1;33m    @h = 25\u001b[0m\n\u001b[1;37m       ^\u001b[0m\n\u001b[1;31mSyntaxError\u001b[0m\u001b[1;31m:\u001b[0m invalid syntax\n"
     ]
    }
   ],
   "source": [
    "@h = 25"
   ]
  },
  {
   "cell_type": "code",
   "execution_count": 10,
   "id": "a5df9a33",
   "metadata": {},
   "outputs": [
    {
     "ename": "SyntaxError",
     "evalue": "invalid syntax (315675162.py, line 1)",
     "output_type": "error",
     "traceback": [
      "\u001b[1;36m  Input \u001b[1;32mIn [10]\u001b[1;36m\u001b[0m\n\u001b[1;33m    pass = 54\u001b[0m\n\u001b[1;37m         ^\u001b[0m\n\u001b[1;31mSyntaxError\u001b[0m\u001b[1;31m:\u001b[0m invalid syntax\n"
     ]
    }
   ],
   "source": [
    "pass = 54"
   ]
  },
  {
   "cell_type": "code",
   "execution_count": 11,
   "id": "5cf138db",
   "metadata": {},
   "outputs": [
    {
     "data": {
      "text/plain": [
       "123456"
      ]
     },
     "execution_count": 11,
     "metadata": {},
     "output_type": "execute_result"
    }
   ],
   "source": [
    "password= 123456\n",
    "password"
   ]
  },
  {
   "cell_type": "code",
   "execution_count": 12,
   "id": "57bc16d5",
   "metadata": {},
   "outputs": [
    {
     "ename": "SyntaxError",
     "evalue": "cannot assign to literal (3346287145.py, line 1)",
     "output_type": "error",
     "traceback": [
      "\u001b[1;36m  Input \u001b[1;32mIn [12]\u001b[1;36m\u001b[0m\n\u001b[1;33m    123456= password\u001b[0m\n\u001b[1;37m    ^\u001b[0m\n\u001b[1;31mSyntaxError\u001b[0m\u001b[1;31m:\u001b[0m cannot assign to literal\n"
     ]
    }
   ],
   "source": [
    "123456= password"
   ]
  },
  {
   "cell_type": "code",
   "execution_count": 13,
   "id": "0fd363f6",
   "metadata": {},
   "outputs": [
    {
     "ename": "SyntaxError",
     "evalue": "cannot assign to operator (3453546214.py, line 1)",
     "output_type": "error",
     "traceback": [
      "\u001b[1;36m  Input \u001b[1;32mIn [13]\u001b[1;36m\u001b[0m\n\u001b[1;33m    jaye@hg= \"Patil\"\u001b[0m\n\u001b[1;37m    ^\u001b[0m\n\u001b[1;31mSyntaxError\u001b[0m\u001b[1;31m:\u001b[0m cannot assign to operator\n"
     ]
    }
   ],
   "source": [
    "jaye@hg= \"Patil\""
   ]
  },
  {
   "cell_type": "code",
   "execution_count": 14,
   "id": "21c7b6d1",
   "metadata": {},
   "outputs": [
    {
     "data": {
      "text/plain": [
       "25"
      ]
     },
     "execution_count": 14,
     "metadata": {},
     "output_type": "execute_result"
    }
   ],
   "source": [
    "x = 25\n",
    "x"
   ]
  },
  {
   "cell_type": "code",
   "execution_count": 15,
   "id": "be82da03",
   "metadata": {},
   "outputs": [
    {
     "data": {
      "text/plain": [
       "'Jayesh'"
      ]
     },
     "execution_count": 15,
     "metadata": {},
     "output_type": "execute_result"
    }
   ],
   "source": [
    "y = \"Jayesh\"\n",
    "y"
   ]
  },
  {
   "cell_type": "code",
   "execution_count": 16,
   "id": "ede6c2a9",
   "metadata": {},
   "outputs": [
    {
     "data": {
      "text/plain": [
       "'ITVedant'"
      ]
     },
     "execution_count": 16,
     "metadata": {},
     "output_type": "execute_result"
    }
   ],
   "source": [
    "x2 = \"ITVedant\"\n",
    "x2"
   ]
  },
  {
   "cell_type": "code",
   "execution_count": 17,
   "id": "28ada20e",
   "metadata": {},
   "outputs": [
    {
     "data": {
      "text/plain": [
       "'Patil'"
      ]
     },
     "execution_count": 17,
     "metadata": {},
     "output_type": "execute_result"
    }
   ],
   "source": [
    "z = \"Patil\"\n",
    "z"
   ]
  },
  {
   "cell_type": "code",
   "execution_count": 18,
   "id": "07a4706e",
   "metadata": {},
   "outputs": [
    {
     "data": {
      "text/plain": [
       "'Jayesh Patil'"
      ]
     },
     "execution_count": 18,
     "metadata": {},
     "output_type": "execute_result"
    }
   ],
   "source": [
    "y +\" \"+ z"
   ]
  },
  {
   "cell_type": "markdown",
   "id": "bda83a66",
   "metadata": {},
   "source": [
    "## Multiple variable assignment"
   ]
  },
  {
   "cell_type": "code",
   "execution_count": 19,
   "id": "83127fb7",
   "metadata": {},
   "outputs": [],
   "source": [
    "#Till now we care assigning one variable at a time like this..\n",
    "x = 10\n",
    "y = 20"
   ]
  },
  {
   "cell_type": "code",
   "execution_count": 20,
   "id": "c98db4d3",
   "metadata": {},
   "outputs": [],
   "source": [
    "#but we can also assign or declare multiple variable all at once\n",
    "\n",
    "x, y = 10,20"
   ]
  },
  {
   "cell_type": "code",
   "execution_count": 21,
   "id": "b951cfc1",
   "metadata": {},
   "outputs": [
    {
     "data": {
      "text/plain": [
       "10"
      ]
     },
     "execution_count": 21,
     "metadata": {},
     "output_type": "execute_result"
    }
   ],
   "source": [
    "# so now\n",
    "x"
   ]
  },
  {
   "cell_type": "code",
   "execution_count": 22,
   "id": "36160ca3",
   "metadata": {},
   "outputs": [
    {
     "data": {
      "text/plain": [
       "20"
      ]
     },
     "execution_count": 22,
     "metadata": {},
     "output_type": "execute_result"
    }
   ],
   "source": [
    "y"
   ]
  },
  {
   "cell_type": "code",
   "execution_count": 23,
   "id": "5456a983",
   "metadata": {},
   "outputs": [],
   "source": [
    "database = ['Jayesh',1111]"
   ]
  },
  {
   "cell_type": "code",
   "execution_count": 24,
   "id": "54fa3a7c",
   "metadata": {},
   "outputs": [],
   "source": [
    "username, pin = database"
   ]
  },
  {
   "cell_type": "code",
   "execution_count": 25,
   "id": "fcd0f5a5",
   "metadata": {},
   "outputs": [
    {
     "data": {
      "text/plain": [
       "'Jayesh'"
      ]
     },
     "execution_count": 25,
     "metadata": {},
     "output_type": "execute_result"
    }
   ],
   "source": [
    "username"
   ]
  },
  {
   "cell_type": "code",
   "execution_count": 26,
   "id": "a95170df",
   "metadata": {},
   "outputs": [
    {
     "data": {
      "text/plain": [
       "1111"
      ]
     },
     "execution_count": 26,
     "metadata": {},
     "output_type": "execute_result"
    }
   ],
   "source": [
    "pin"
   ]
  },
  {
   "cell_type": "code",
   "execution_count": 27,
   "id": "02de5b3c",
   "metadata": {},
   "outputs": [],
   "source": [
    "a=b=c=[1,2,3]"
   ]
  },
  {
   "cell_type": "code",
   "execution_count": 28,
   "id": "430631f1",
   "metadata": {},
   "outputs": [
    {
     "data": {
      "text/plain": [
       "[1, 2, 3]"
      ]
     },
     "execution_count": 28,
     "metadata": {},
     "output_type": "execute_result"
    }
   ],
   "source": [
    "a "
   ]
  },
  {
   "cell_type": "code",
   "execution_count": 29,
   "id": "6fba64c8",
   "metadata": {},
   "outputs": [
    {
     "data": {
      "text/plain": [
       "[1, 2, 3]"
      ]
     },
     "execution_count": 29,
     "metadata": {},
     "output_type": "execute_result"
    }
   ],
   "source": [
    "b"
   ]
  },
  {
   "cell_type": "code",
   "execution_count": 30,
   "id": "a23ae3c1",
   "metadata": {},
   "outputs": [
    {
     "data": {
      "text/plain": [
       "[1, 2, 3]"
      ]
     },
     "execution_count": 30,
     "metadata": {},
     "output_type": "execute_result"
    }
   ],
   "source": [
    "c"
   ]
  },
  {
   "cell_type": "markdown",
   "id": "aee881b0",
   "metadata": {},
   "source": [
    "but a=b=c is not same as a,b,c"
   ]
  },
  {
   "cell_type": "code",
   "execution_count": 31,
   "id": "1e834cfd",
   "metadata": {},
   "outputs": [],
   "source": [
    "a,b,c=[3,4,5]"
   ]
  },
  {
   "cell_type": "code",
   "execution_count": 32,
   "id": "57bbaa5d",
   "metadata": {},
   "outputs": [
    {
     "data": {
      "text/plain": [
       "3"
      ]
     },
     "execution_count": 32,
     "metadata": {},
     "output_type": "execute_result"
    }
   ],
   "source": [
    "a"
   ]
  },
  {
   "cell_type": "code",
   "execution_count": 33,
   "id": "267177b1",
   "metadata": {},
   "outputs": [
    {
     "data": {
      "text/plain": [
       "4"
      ]
     },
     "execution_count": 33,
     "metadata": {},
     "output_type": "execute_result"
    }
   ],
   "source": [
    "b"
   ]
  },
  {
   "cell_type": "code",
   "execution_count": 34,
   "id": "dee8f630",
   "metadata": {},
   "outputs": [
    {
     "data": {
      "text/plain": [
       "5"
      ]
     },
     "execution_count": 34,
     "metadata": {},
     "output_type": "execute_result"
    }
   ],
   "source": [
    "c"
   ]
  },
  {
   "cell_type": "markdown",
   "id": "efa26b75",
   "metadata": {},
   "source": [
    "Lets's try this one"
   ]
  },
  {
   "cell_type": "code",
   "execution_count": 35,
   "id": "09a31034",
   "metadata": {},
   "outputs": [],
   "source": [
    "cat = ['Black','Fat','Cute']"
   ]
  },
  {
   "cell_type": "code",
   "execution_count": 36,
   "id": "162eadb1",
   "metadata": {},
   "outputs": [
    {
     "data": {
      "text/plain": [
       "['Black', 'Fat', 'Cute']"
      ]
     },
     "execution_count": 36,
     "metadata": {},
     "output_type": "execute_result"
    }
   ],
   "source": [
    "cat"
   ]
  },
  {
   "cell_type": "code",
   "execution_count": 37,
   "id": "63df3d12",
   "metadata": {},
   "outputs": [],
   "source": [
    "color,size,looks= cat"
   ]
  },
  {
   "cell_type": "code",
   "execution_count": 38,
   "id": "9559ef2a",
   "metadata": {},
   "outputs": [
    {
     "data": {
      "text/plain": [
       "'Black'"
      ]
     },
     "execution_count": 38,
     "metadata": {},
     "output_type": "execute_result"
    }
   ],
   "source": [
    "color"
   ]
  },
  {
   "cell_type": "code",
   "execution_count": 39,
   "id": "b69ecb21",
   "metadata": {},
   "outputs": [
    {
     "data": {
      "text/plain": [
       "'Cute'"
      ]
     },
     "execution_count": 39,
     "metadata": {},
     "output_type": "execute_result"
    }
   ],
   "source": [
    "looks"
   ]
  },
  {
   "cell_type": "code",
   "execution_count": 40,
   "id": "e272e81c",
   "metadata": {},
   "outputs": [
    {
     "data": {
      "text/plain": [
       "'Fat'"
      ]
     },
     "execution_count": 40,
     "metadata": {},
     "output_type": "execute_result"
    }
   ],
   "source": [
    "size"
   ]
  },
  {
   "cell_type": "markdown",
   "id": "54c90134",
   "metadata": {},
   "source": [
    "## Variable Swapping"
   ]
  },
  {
   "cell_type": "code",
   "execution_count": 41,
   "id": "78d776ee",
   "metadata": {},
   "outputs": [],
   "source": [
    "a = 'XXXX'"
   ]
  },
  {
   "cell_type": "code",
   "execution_count": 42,
   "id": "18697142",
   "metadata": {},
   "outputs": [],
   "source": [
    "b = 'YYYY'"
   ]
  },
  {
   "cell_type": "code",
   "execution_count": 43,
   "id": "1c7d44f1",
   "metadata": {},
   "outputs": [
    {
     "data": {
      "text/plain": [
       "'XXXX'"
      ]
     },
     "execution_count": 43,
     "metadata": {},
     "output_type": "execute_result"
    }
   ],
   "source": [
    "a"
   ]
  },
  {
   "cell_type": "code",
   "execution_count": 44,
   "id": "70a072a2",
   "metadata": {},
   "outputs": [
    {
     "data": {
      "text/plain": [
       "'YYYY'"
      ]
     },
     "execution_count": 44,
     "metadata": {},
     "output_type": "execute_result"
    }
   ],
   "source": [
    "b"
   ]
  },
  {
   "cell_type": "code",
   "execution_count": 45,
   "id": "babce294",
   "metadata": {},
   "outputs": [],
   "source": [
    "#value of a equal to be and b equals to a \n",
    "#(we are using previous technique of multiple variable assignments)\n",
    "a,b = b,a"
   ]
  },
  {
   "cell_type": "code",
   "execution_count": 46,
   "id": "18a6ba69",
   "metadata": {},
   "outputs": [
    {
     "data": {
      "text/plain": [
       "'YYYY'"
      ]
     },
     "execution_count": 46,
     "metadata": {},
     "output_type": "execute_result"
    }
   ],
   "source": [
    "a"
   ]
  },
  {
   "cell_type": "code",
   "execution_count": 47,
   "id": "419a0cd1",
   "metadata": {},
   "outputs": [
    {
     "data": {
      "text/plain": [
       "'XXXX'"
      ]
     },
     "execution_count": 47,
     "metadata": {},
     "output_type": "execute_result"
    }
   ],
   "source": [
    "b"
   ]
  },
  {
   "cell_type": "markdown",
   "id": "84dd6282",
   "metadata": {},
   "source": [
    "# Data Types in Python"
   ]
  },
  {
   "cell_type": "markdown",
   "id": "ba8d59ac",
   "metadata": {},
   "source": [
    "A variable can hold different types of values. For example,a person's name must be stored as a string whereas it's id must be stored as an integer.\n",
    "\n",
    "Python provides various standard data types that define the storage method on each of them.the data types defined in Python are given below:"
   ]
  },
  {
   "cell_type": "markdown",
   "id": "4e5cea4d",
   "metadata": {},
   "source": [
    "## Numbers\n",
    "\n",
    "Number stores numeric values. Python creates number objects when a number assigned to a variable.For example;\n",
    "a=3, b=5 #a and b are number objects.\n",
    "Python supports 4 types of numeric data.\n",
    "\n",
    ">int(signed integers like 10,2,12,etc.)\n",
    "\n",
    ">float(float is used to store floating point numbers like 1.9, 9.203,15.2,etc.)\n",
    "\n",
    ">complex(complex numbers like 2.14j,2.0 + 2.3j,etc.)\n",
    "\n",
    "A complex number contains an ordered pair i.e.x+iy where x and y denote real and imaginary parts respectively.\n"
   ]
  },
  {
   "cell_type": "markdown",
   "id": "a24e7cbc",
   "metadata": {},
   "source": [
    "### Int\n",
    "> Whole Number"
   ]
  },
  {
   "cell_type": "code",
   "execution_count": 48,
   "id": "cd16b895",
   "metadata": {},
   "outputs": [],
   "source": [
    "a = 10"
   ]
  },
  {
   "cell_type": "code",
   "execution_count": 49,
   "id": "366fae3a",
   "metadata": {},
   "outputs": [
    {
     "data": {
      "text/plain": [
       "int"
      ]
     },
     "execution_count": 49,
     "metadata": {},
     "output_type": "execute_result"
    }
   ],
   "source": [
    "type(a)"
   ]
  },
  {
   "cell_type": "code",
   "execution_count": 50,
   "id": "4ce82043",
   "metadata": {},
   "outputs": [
    {
     "name": "stdout",
     "output_type": "stream",
     "text": [
      "10 is integer? True\n"
     ]
    }
   ],
   "source": [
    "print(a,\"is integer?\",isinstance(a,int))"
   ]
  },
  {
   "cell_type": "code",
   "execution_count": 51,
   "id": "8361fa1d",
   "metadata": {},
   "outputs": [
    {
     "name": "stdout",
     "output_type": "stream",
     "text": [
      "10 30\n"
     ]
    }
   ],
   "source": [
    "b = 30\n",
    "print(a,b)"
   ]
  },
  {
   "cell_type": "code",
   "execution_count": 52,
   "id": "a893d94d",
   "metadata": {},
   "outputs": [
    {
     "name": "stdout",
     "output_type": "stream",
     "text": [
      "10\n",
      "30\n"
     ]
    }
   ],
   "source": [
    "print(a)\n",
    "print(b)"
   ]
  },
  {
   "cell_type": "code",
   "execution_count": 53,
   "id": "43bf791c",
   "metadata": {},
   "outputs": [
    {
     "data": {
      "text/plain": [
       "40"
      ]
     },
     "execution_count": 53,
     "metadata": {},
     "output_type": "execute_result"
    }
   ],
   "source": [
    "a + b"
   ]
  },
  {
   "cell_type": "code",
   "execution_count": 54,
   "id": "5ce1c758",
   "metadata": {},
   "outputs": [
    {
     "data": {
      "text/plain": [
       "100"
      ]
     },
     "execution_count": 54,
     "metadata": {},
     "output_type": "execute_result"
    }
   ],
   "source": [
    "a ** 2"
   ]
  },
  {
   "cell_type": "markdown",
   "id": "3da47523",
   "metadata": {},
   "source": [
    "### Float\n",
    ">Number with Decimals"
   ]
  },
  {
   "cell_type": "code",
   "execution_count": 55,
   "id": "93c947b7",
   "metadata": {},
   "outputs": [],
   "source": [
    "a = 12.5\n",
    "b = 77.5"
   ]
  },
  {
   "cell_type": "code",
   "execution_count": 56,
   "id": "b78b970a",
   "metadata": {},
   "outputs": [
    {
     "data": {
      "text/plain": [
       "float"
      ]
     },
     "execution_count": 56,
     "metadata": {},
     "output_type": "execute_result"
    }
   ],
   "source": [
    "type(a)"
   ]
  },
  {
   "cell_type": "code",
   "execution_count": 57,
   "id": "442f288a",
   "metadata": {},
   "outputs": [
    {
     "name": "stdout",
     "output_type": "stream",
     "text": [
      "12.5 is float? True\n"
     ]
    }
   ],
   "source": [
    "print(a,\"is float?\",isinstance(a,float))"
   ]
  },
  {
   "cell_type": "code",
   "execution_count": 58,
   "id": "bc879d8b",
   "metadata": {},
   "outputs": [
    {
     "data": {
      "text/plain": [
       "float"
      ]
     },
     "execution_count": 58,
     "metadata": {},
     "output_type": "execute_result"
    }
   ],
   "source": [
    "type(b)"
   ]
  },
  {
   "cell_type": "code",
   "execution_count": 59,
   "id": "87ae7f27",
   "metadata": {},
   "outputs": [
    {
     "name": "stdout",
     "output_type": "stream",
     "text": [
      "77.5 is float? True\n"
     ]
    }
   ],
   "source": [
    "print(b,\"is float?\",isinstance(b,float))"
   ]
  },
  {
   "cell_type": "code",
   "execution_count": 60,
   "id": "20dfd4eb",
   "metadata": {},
   "outputs": [
    {
     "name": "stdout",
     "output_type": "stream",
     "text": [
      "12.5 77.5\n"
     ]
    }
   ],
   "source": [
    "print(a,b)"
   ]
  },
  {
   "cell_type": "code",
   "execution_count": 61,
   "id": "210e1694",
   "metadata": {},
   "outputs": [
    {
     "data": {
      "text/plain": [
       "90.0"
      ]
     },
     "execution_count": 61,
     "metadata": {},
     "output_type": "execute_result"
    }
   ],
   "source": [
    "a + b"
   ]
  },
  {
   "cell_type": "code",
   "execution_count": 62,
   "id": "cc58dffe",
   "metadata": {},
   "outputs": [
    {
     "data": {
      "text/plain": [
       "6.2"
      ]
     },
     "execution_count": 62,
     "metadata": {},
     "output_type": "execute_result"
    }
   ],
   "source": [
    "b / a"
   ]
  },
  {
   "cell_type": "markdown",
   "id": "e4979def",
   "metadata": {},
   "source": [
    "### Complex\n",
    ">Where you can use real and imaginary parts"
   ]
  },
  {
   "cell_type": "code",
   "execution_count": 63,
   "id": "3db37550",
   "metadata": {},
   "outputs": [],
   "source": [
    "c1 = 2+3j\n",
    "c2 = 5-6j"
   ]
  },
  {
   "cell_type": "code",
   "execution_count": 64,
   "id": "8df8fa7d",
   "metadata": {},
   "outputs": [
    {
     "data": {
      "text/plain": [
       "(2+3j)"
      ]
     },
     "execution_count": 64,
     "metadata": {},
     "output_type": "execute_result"
    }
   ],
   "source": [
    "c1"
   ]
  },
  {
   "cell_type": "code",
   "execution_count": 65,
   "id": "2af9fb6a",
   "metadata": {},
   "outputs": [
    {
     "data": {
      "text/plain": [
       "(5-6j)"
      ]
     },
     "execution_count": 65,
     "metadata": {},
     "output_type": "execute_result"
    }
   ],
   "source": [
    "c2"
   ]
  },
  {
   "cell_type": "code",
   "execution_count": 66,
   "id": "13e481d8",
   "metadata": {},
   "outputs": [
    {
     "data": {
      "text/plain": [
       "complex"
      ]
     },
     "execution_count": 66,
     "metadata": {},
     "output_type": "execute_result"
    }
   ],
   "source": [
    "type(c1)"
   ]
  },
  {
   "cell_type": "code",
   "execution_count": 67,
   "id": "843f2259",
   "metadata": {},
   "outputs": [
    {
     "name": "stdout",
     "output_type": "stream",
     "text": [
      "(2+3j) is complex? True\n"
     ]
    }
   ],
   "source": [
    "print(c1,\"is complex?\",isinstance(c1,complex))"
   ]
  },
  {
   "cell_type": "code",
   "execution_count": 68,
   "id": "4b85ab23",
   "metadata": {},
   "outputs": [
    {
     "data": {
      "text/plain": [
       "complex"
      ]
     },
     "execution_count": 68,
     "metadata": {},
     "output_type": "execute_result"
    }
   ],
   "source": [
    "type(c2)"
   ]
  },
  {
   "cell_type": "code",
   "execution_count": 69,
   "id": "6909e746",
   "metadata": {},
   "outputs": [
    {
     "name": "stdout",
     "output_type": "stream",
     "text": [
      "(5-6j) is complex? True\n"
     ]
    }
   ],
   "source": [
    "print(c2,\"is complex?\",isinstance(c2,complex))"
   ]
  },
  {
   "cell_type": "code",
   "execution_count": 70,
   "id": "c53b5f7f",
   "metadata": {},
   "outputs": [
    {
     "name": "stdout",
     "output_type": "stream",
     "text": [
      "(7-3j)\n"
     ]
    }
   ],
   "source": [
    "c3= c1+c2\n",
    "print(c3)"
   ]
  },
  {
   "cell_type": "code",
   "execution_count": 71,
   "id": "d0fd3d2a",
   "metadata": {},
   "outputs": [
    {
     "name": "stdout",
     "output_type": "stream",
     "text": [
      "(-5+6j)\n"
     ]
    }
   ],
   "source": [
    "c4=c1-c3\n",
    "print(c4)"
   ]
  },
  {
   "cell_type": "code",
   "execution_count": 72,
   "id": "185cfb41",
   "metadata": {},
   "outputs": [
    {
     "data": {
      "text/plain": [
       "7.0"
      ]
     },
     "execution_count": 72,
     "metadata": {},
     "output_type": "execute_result"
    }
   ],
   "source": [
    "c3.real"
   ]
  },
  {
   "cell_type": "code",
   "execution_count": 73,
   "id": "12672ad9",
   "metadata": {},
   "outputs": [
    {
     "data": {
      "text/plain": [
       "6.0"
      ]
     },
     "execution_count": 73,
     "metadata": {},
     "output_type": "execute_result"
    }
   ],
   "source": [
    "c4.imag"
   ]
  },
  {
   "cell_type": "markdown",
   "id": "68582ab2",
   "metadata": {},
   "source": [
    "## Strings\n",
    "String can be defined as a sequence of characters represented in a quotation marks.In python, we can use single or double quotes to define a string.\n",
    "\n",
    "The operator * is known as repitition operator as the operation \"Python\"*2 returns \"PythonPython\""
   ]
  },
  {
   "cell_type": "code",
   "execution_count": 74,
   "id": "9ec12a8a",
   "metadata": {},
   "outputs": [],
   "source": [
    "a = \"Python\"\n",
    "b = 'Python'"
   ]
  },
  {
   "cell_type": "code",
   "execution_count": 75,
   "id": "26da945b",
   "metadata": {},
   "outputs": [
    {
     "data": {
      "text/plain": [
       "str"
      ]
     },
     "execution_count": 75,
     "metadata": {},
     "output_type": "execute_result"
    }
   ],
   "source": [
    "type(a)"
   ]
  },
  {
   "cell_type": "code",
   "execution_count": 76,
   "id": "d8716512",
   "metadata": {},
   "outputs": [
    {
     "data": {
      "text/plain": [
       "str"
      ]
     },
     "execution_count": 76,
     "metadata": {},
     "output_type": "execute_result"
    }
   ],
   "source": [
    "type(b)"
   ]
  },
  {
   "cell_type": "code",
   "execution_count": 77,
   "id": "3ab9c09e",
   "metadata": {},
   "outputs": [
    {
     "name": "stdout",
     "output_type": "stream",
     "text": [
      "Python is string ? True\n"
     ]
    }
   ],
   "source": [
    "print(a,\"is string ?\",isinstance(b,str))"
   ]
  },
  {
   "cell_type": "code",
   "execution_count": 78,
   "id": "598b4b83",
   "metadata": {},
   "outputs": [
    {
     "name": "stdout",
     "output_type": "stream",
     "text": [
      "PythonPythonPythonPythonPython\n"
     ]
    }
   ],
   "source": [
    "print(b*5)"
   ]
  },
  {
   "cell_type": "code",
   "execution_count": 79,
   "id": "2a4f3463",
   "metadata": {},
   "outputs": [
    {
     "name": "stdout",
     "output_type": "stream",
     "text": [
      "Addition of a and b is PythonPython\n"
     ]
    }
   ],
   "source": [
    "c = a + b\n",
    "print(\"Addition of a and b is\",c)"
   ]
  },
  {
   "cell_type": "markdown",
   "id": "1696de35",
   "metadata": {},
   "source": [
    "## Booleans\n",
    "\n",
    ">Python implements all of the usual operators for the boolean logic, but uses English symbols rather than symbols(&&,||,etc.)"
   ]
  },
  {
   "cell_type": "code",
   "execution_count": 80,
   "id": "f32bafdc",
   "metadata": {},
   "outputs": [],
   "source": [
    "a = True\n",
    "b = False"
   ]
  },
  {
   "cell_type": "code",
   "execution_count": 81,
   "id": "9971116f",
   "metadata": {},
   "outputs": [
    {
     "name": "stdout",
     "output_type": "stream",
     "text": [
      "True\n"
     ]
    }
   ],
   "source": [
    "print(a)"
   ]
  },
  {
   "cell_type": "code",
   "execution_count": 82,
   "id": "5385f239",
   "metadata": {},
   "outputs": [
    {
     "name": "stdout",
     "output_type": "stream",
     "text": [
      "False\n"
     ]
    }
   ],
   "source": [
    "print(b)"
   ]
  },
  {
   "cell_type": "code",
   "execution_count": 83,
   "id": "4ba8c075",
   "metadata": {},
   "outputs": [
    {
     "data": {
      "text/plain": [
       "bool"
      ]
     },
     "execution_count": 83,
     "metadata": {},
     "output_type": "execute_result"
    }
   ],
   "source": [
    "type(a)"
   ]
  },
  {
   "cell_type": "code",
   "execution_count": 84,
   "id": "ba2466cc",
   "metadata": {},
   "outputs": [
    {
     "name": "stdout",
     "output_type": "stream",
     "text": [
      "True is Boolean ? True\n"
     ]
    }
   ],
   "source": [
    "print(a,\"is Boolean ?\",isinstance(a,bool))"
   ]
  },
  {
   "cell_type": "code",
   "execution_count": 85,
   "id": "f80f8733",
   "metadata": {},
   "outputs": [],
   "source": [
    "p = 30\n",
    "q = 40"
   ]
  },
  {
   "cell_type": "code",
   "execution_count": 86,
   "id": "f25f3c8e",
   "metadata": {},
   "outputs": [
    {
     "data": {
      "text/plain": [
       "False"
      ]
     },
     "execution_count": 86,
     "metadata": {},
     "output_type": "execute_result"
    }
   ],
   "source": [
    "p>50"
   ]
  },
  {
   "cell_type": "code",
   "execution_count": 87,
   "id": "aef80d1f",
   "metadata": {},
   "outputs": [
    {
     "data": {
      "text/plain": [
       "True"
      ]
     },
     "execution_count": 87,
     "metadata": {},
     "output_type": "execute_result"
    }
   ],
   "source": [
    "q<100"
   ]
  },
  {
   "cell_type": "markdown",
   "id": "41b66b07",
   "metadata": {},
   "source": [
    "Operations performed on Boolean datatype : AND, OR, NOT"
   ]
  },
  {
   "cell_type": "markdown",
   "id": "007f730b",
   "metadata": {},
   "source": [
    ">AND = All my conditions are True.\n",
    "\n",
    ">OR = Either of condition is True.\n",
    "\n",
    ">NOT = Just opposite"
   ]
  },
  {
   "cell_type": "code",
   "execution_count": 88,
   "id": "6e7dc795",
   "metadata": {},
   "outputs": [
    {
     "name": "stdout",
     "output_type": "stream",
     "text": [
      "AND operation produces: False\n"
     ]
    }
   ],
   "source": [
    "print(\"AND operation produces:\", a and b)  #True and False"
   ]
  },
  {
   "cell_type": "code",
   "execution_count": 89,
   "id": "6da8e608",
   "metadata": {},
   "outputs": [
    {
     "name": "stdout",
     "output_type": "stream",
     "text": [
      "OR operation produces: True\n"
     ]
    }
   ],
   "source": [
    "print(\"OR operation produces:\", a or b)  #True or False"
   ]
  },
  {
   "cell_type": "code",
   "execution_count": 90,
   "id": "1d07141d",
   "metadata": {},
   "outputs": [
    {
     "name": "stdout",
     "output_type": "stream",
     "text": [
      "NOT operation produces: True\n"
     ]
    }
   ],
   "source": [
    "print(\"NOT operation produces:\", not b)  #not False"
   ]
  },
  {
   "cell_type": "markdown",
   "id": "4cac328a",
   "metadata": {},
   "source": [
    "# Data Structures"
   ]
  },
  {
   "cell_type": "markdown",
   "id": "4d1e0a33",
   "metadata": {},
   "source": [
    ">Sequence - List,Tuple\n",
    "\n",
    ">Mapping - Dictionary\n",
    "\n",
    ">Set - Unordered collection of distinct objects"
   ]
  },
  {
   "cell_type": "markdown",
   "id": "b247c40b",
   "metadata": {},
   "source": [
    "## Lists\n",
    ">[ ] Ordered, Allows Duplicates, Mutable\n",
    "\n",
    ">1.Lists are just like arrays, declared in other languages.\n",
    "\n",
    ">2.A single list may contain data types like integers,Strings as well as Objects.Lists are mutable.i.e.Once I define a particular list, I have a liberty to change it in a future.\n",
    "\n",
    ">3.Lists in Python are ordered and have a definite count.\n",
    "\n",
    ">4.The elements in lists are indexed according to a definite sequence and the indexing of a list is done with 0 being the first number.\n",
    "\n",
    ">5.Each element in the list has its definite place in the list, which allows duplicating of elements in the list, with each element having its own distinct place and credibility.\n",
    "\n",
    ">6.There are 46 available methods on lists.\n",
    "\n",
    ">7.In a dictionary, we can't use lists as keys."
   ]
  },
  {
   "cell_type": "markdown",
   "id": "7553f65a",
   "metadata": {},
   "source": [
    "### Application :\n",
    "To store the steps necessary to cook in the kitchen."
   ]
  },
  {
   "cell_type": "code",
   "execution_count": 91,
   "id": "bf7889be",
   "metadata": {},
   "outputs": [],
   "source": [
    "a = [1,2,3,1,2,3, 'new', 'old', 13.5, 12+13j, True]"
   ]
  },
  {
   "cell_type": "code",
   "execution_count": 92,
   "id": "d479054f",
   "metadata": {},
   "outputs": [
    {
     "data": {
      "text/plain": [
       "[1, 2, 3, 1, 2, 3, 'new', 'old', 13.5, (12+13j), True]"
      ]
     },
     "execution_count": 92,
     "metadata": {},
     "output_type": "execute_result"
    }
   ],
   "source": [
    "a"
   ]
  },
  {
   "cell_type": "code",
   "execution_count": 93,
   "id": "673b00a1",
   "metadata": {},
   "outputs": [
    {
     "data": {
      "text/plain": [
       "list"
      ]
     },
     "execution_count": 93,
     "metadata": {},
     "output_type": "execute_result"
    }
   ],
   "source": [
    "type(a)"
   ]
  },
  {
   "cell_type": "markdown",
   "id": "e1245212",
   "metadata": {},
   "source": [
    "## Tuples\n",
    "\n",
    ">The items are surrounded in paranthesis().\n",
    "\n",
    ">A tuple is an (immutable) ordered list of values.i.e, Once you define a tuple I cannot change it in a future.\n",
    "\n",
    ">There are 33 available methods in tuples.\n",
    "\n",
    ">A tuple is in many ways similar to a list; one of the most important difference is that tuples can be used as keys in dictionaries, while lists cannot. Here is a trivial example:"
   ]
  },
  {
   "cell_type": "markdown",
   "id": "e96c4b3a",
   "metadata": {},
   "source": [
    "### Application:\n",
    ">To store latitude and longitude of your home. \n",
    "\n",
    ">To store passwords."
   ]
  },
  {
   "cell_type": "code",
   "execution_count": 94,
   "id": "0254eb18",
   "metadata": {},
   "outputs": [
    {
     "name": "stdout",
     "output_type": "stream",
     "text": [
      "()\n"
     ]
    }
   ],
   "source": [
    "# An empty tuple \n",
    "empty_tuple = () \n",
    "print (empty_tuple)"
   ]
  },
  {
   "cell_type": "code",
   "execution_count": 95,
   "id": "1f885b64",
   "metadata": {},
   "outputs": [
    {
     "name": "stdout",
     "output_type": "stream",
     "text": [
      "('python', 'State')\n",
      "('python', 'State')\n",
      "<class 'tuple'>\n"
     ]
    }
   ],
   "source": [
    "# Creating non-empty tuples \n",
    "  \n",
    "# One way of creation \n",
    "tup = 'python', 'State'\n",
    "print(tup)\n",
    "  \n",
    "# Another for doing the same \n",
    "tup = ('python', 'State') \n",
    "print(tup)\n",
    "\n",
    "t = (5, 6)       # Create a tuple\n",
    "print(type(t))"
   ]
  },
  {
   "cell_type": "code",
   "execution_count": 96,
   "id": "0995d2f6",
   "metadata": {},
   "outputs": [
    {
     "data": {
      "text/plain": [
       "tuple"
      ]
     },
     "execution_count": 96,
     "metadata": {},
     "output_type": "execute_result"
    }
   ],
   "source": [
    "tuple1 = 1,2,3\n",
    "type(tuple1)"
   ]
  },
  {
   "cell_type": "markdown",
   "id": "23bb7c1f",
   "metadata": {},
   "source": [
    "## Dictionaries {Key:Value}\n",
    ">1.Dictionaries in Python is an unordered collection of data values. used to store data values like a map, whch unlike other data.\n",
    "\n",
    ">2.Types that hold only single value as an element Dictionary holds key value:pair value.\n",
    "\n",
    ">3.Key value is provided in the dictionary to make it more optimized."
   ]
  },
  {
   "cell_type": "markdown",
   "id": "dfb0f263",
   "metadata": {},
   "source": [
    "### Application:\n",
    ">Used to store data values like a map\n",
    "\n",
    ">Data Dictionary used in organisation to provide detailed information about the contents of a dataset or a database."
   ]
  },
  {
   "cell_type": "code",
   "execution_count": 97,
   "id": "f0703be6",
   "metadata": {},
   "outputs": [
    {
     "name": "stdout",
     "output_type": "stream",
     "text": [
      "Empty Dictionary: \n",
      "{}\n",
      "{1: 'State', 2: 'Street', 3: 'Bellandur'}\n",
      "{1: 'State', 2: 'Street'}\n"
     ]
    }
   ],
   "source": [
    "Dict = {}  # Creating an empty Dictionary \n",
    "print(\"Empty Dictionary: \") \n",
    "print(Dict) \n",
    "\n",
    "Dict = dict({1: 'State', 2: 'Street', 3:'Bellandur'}) # with dict() method \n",
    "print(Dict) \n",
    "\n",
    "Dict = dict([(1, 'State'), (2, 'Street')]) # with each item as a Pair  \n",
    "print(Dict)"
   ]
  },
  {
   "cell_type": "code",
   "execution_count": 98,
   "id": "d6827bd2",
   "metadata": {},
   "outputs": [
    {
     "name": "stdout",
     "output_type": "stream",
     "text": [
      "False\n"
     ]
    }
   ],
   "source": [
    "d = {'cat': 'cute', 'dog': 'furry'}  # Create a new dictionary with some data\n",
    "# print(d['cat'])       # Get an entry from a dictionary; prints \"cute\"\n",
    "print('rat' in d)     # Check if a dictionary has a given key; prints \"True\""
   ]
  },
  {
   "cell_type": "code",
   "execution_count": 99,
   "id": "aaeaf1f4",
   "metadata": {},
   "outputs": [
    {
     "name": "stdout",
     "output_type": "stream",
     "text": [
      "wet\n"
     ]
    }
   ],
   "source": [
    "d['fish'] = 'wet'    # Set an entry in a dictionary\n",
    "print(d['fish'])  "
   ]
  },
  {
   "cell_type": "code",
   "execution_count": 100,
   "id": "57d1eca5",
   "metadata": {},
   "outputs": [
    {
     "ename": "KeyError",
     "evalue": "'monkey'",
     "output_type": "error",
     "traceback": [
      "\u001b[1;31m---------------------------------------------------------------------------\u001b[0m",
      "\u001b[1;31mKeyError\u001b[0m                                  Traceback (most recent call last)",
      "Input \u001b[1;32mIn [100]\u001b[0m, in \u001b[0;36m<cell line: 1>\u001b[1;34m()\u001b[0m\n\u001b[1;32m----> 1\u001b[0m \u001b[38;5;28mprint\u001b[39m(\u001b[43md\u001b[49m\u001b[43m[\u001b[49m\u001b[38;5;124;43m'\u001b[39;49m\u001b[38;5;124;43mmonkey\u001b[39;49m\u001b[38;5;124;43m'\u001b[39;49m\u001b[43m]\u001b[49m)\n",
      "\u001b[1;31mKeyError\u001b[0m: 'monkey'"
     ]
    }
   ],
   "source": [
    "print(d['monkey'])"
   ]
  },
  {
   "cell_type": "code",
   "execution_count": 101,
   "id": "5a82ee29",
   "metadata": {},
   "outputs": [],
   "source": [
    "#Example of dictionary family members and their ages\n",
    "x = {\"Dad\":42 , \"Mom\":39,\"Sister\":24,\"Me\":21}"
   ]
  },
  {
   "cell_type": "code",
   "execution_count": 102,
   "id": "ce41f1e8",
   "metadata": {},
   "outputs": [
    {
     "data": {
      "text/plain": [
       "{'Dad': 42, 'Mom': 39, 'Sister': 24, 'Me': 21}"
      ]
     },
     "execution_count": 102,
     "metadata": {},
     "output_type": "execute_result"
    }
   ],
   "source": [
    "x"
   ]
  },
  {
   "cell_type": "code",
   "execution_count": 103,
   "id": "f24b16bb",
   "metadata": {},
   "outputs": [
    {
     "data": {
      "text/plain": [
       "42"
      ]
     },
     "execution_count": 103,
     "metadata": {},
     "output_type": "execute_result"
    }
   ],
   "source": [
    "x['Dad']"
   ]
  },
  {
   "cell_type": "markdown",
   "id": "1f8c86c4",
   "metadata": {},
   "source": [
    "# Sets\n",
    ">1.A set is an unordered collection data type is iterable, mutable and has no duplicate elements.\n",
    "\n",
    ">2.The major advantage of using a set as opposed to a list, is that it has a highly optimized method for checking whether a specific element is contained in the set."
   ]
  },
  {
   "cell_type": "markdown",
   "id": "77b83f5b",
   "metadata": {},
   "source": [
    "### Application :\n",
    ">When we go to the shoping malls, we have noticed that there are separate portions for each kind of things.\n",
    "\n",
    ">As we all know that there are millions of galaxies present in our world which are separated from each other by some distance.Here, universe act as a set.\n",
    "\n",
    ">Playlist of songs."
   ]
  },
  {
   "cell_type": "code",
   "execution_count": 104,
   "id": "cc4378ff",
   "metadata": {},
   "outputs": [],
   "source": [
    "a = {1,2,3,2.3,2,1,2, \"New\", True}    # It will allow Boolean but dont shown in output"
   ]
  },
  {
   "cell_type": "code",
   "execution_count": 105,
   "id": "14dd38f2",
   "metadata": {},
   "outputs": [
    {
     "name": "stdout",
     "output_type": "stream",
     "text": [
      "{1, 2, 3, 2.3, 'New'}\n"
     ]
    }
   ],
   "source": [
    "print(a)"
   ]
  },
  {
   "cell_type": "code",
   "execution_count": 106,
   "id": "7d5d275f",
   "metadata": {},
   "outputs": [],
   "source": [
    "b= {1,2,3,2.3,2,1,2,2+3j, \"New\", True}    # It will allow complex numbers but shows them in bracket"
   ]
  },
  {
   "cell_type": "code",
   "execution_count": 107,
   "id": "fc163bd5",
   "metadata": {},
   "outputs": [
    {
     "data": {
      "text/plain": [
       "{(2+3j), 1, 2, 2.3, 3, 'New'}"
      ]
     },
     "execution_count": 107,
     "metadata": {},
     "output_type": "execute_result"
    }
   ],
   "source": [
    "b"
   ]
  },
  {
   "cell_type": "code",
   "execution_count": 108,
   "id": "9a74c330",
   "metadata": {},
   "outputs": [],
   "source": [
    "import random"
   ]
  },
  {
   "cell_type": "code",
   "execution_count": 109,
   "id": "3b514466",
   "metadata": {},
   "outputs": [],
   "source": [
    "a = {random.randint(10,100) for i in range(10)}\n",
    "b = {random.randint(10,100) for i in range(10)}"
   ]
  },
  {
   "cell_type": "code",
   "execution_count": 110,
   "id": "9f317954",
   "metadata": {},
   "outputs": [
    {
     "name": "stdout",
     "output_type": "stream",
     "text": [
      "Set A is : {68, 69, 70, 71, 12, 44, 17, 86, 23, 89}\n"
     ]
    }
   ],
   "source": [
    "print(\"Set A is :\",a)"
   ]
  },
  {
   "cell_type": "code",
   "execution_count": 111,
   "id": "55c9b851",
   "metadata": {},
   "outputs": [
    {
     "name": "stdout",
     "output_type": "stream",
     "text": [
      "Set B is : {41, 45, 46, 15, 19, 52, 84, 55, 57, 95}\n"
     ]
    }
   ],
   "source": [
    "print(\"Set B is :\",b)"
   ]
  },
  {
   "cell_type": "code",
   "execution_count": 112,
   "id": "e20e147b",
   "metadata": {},
   "outputs": [
    {
     "data": {
      "text/plain": [
       "set"
      ]
     },
     "execution_count": 112,
     "metadata": {},
     "output_type": "execute_result"
    }
   ],
   "source": [
    "type(a)"
   ]
  },
  {
   "cell_type": "code",
   "execution_count": 113,
   "id": "fbb02402",
   "metadata": {},
   "outputs": [
    {
     "data": {
      "text/plain": [
       "set"
      ]
     },
     "execution_count": 113,
     "metadata": {},
     "output_type": "execute_result"
    }
   ],
   "source": [
    "type(b)"
   ]
  },
  {
   "cell_type": "code",
   "execution_count": 114,
   "id": "48c3fb2b",
   "metadata": {},
   "outputs": [
    {
     "name": "stdout",
     "output_type": "stream",
     "text": [
      "{41, 45, 46, 15, 19, 52, 84, 55, 57, 95} is set? True\n"
     ]
    }
   ],
   "source": [
    "print(b,\"is set?\",isinstance(b,set))"
   ]
  }
 ],
 "metadata": {
  "kernelspec": {
   "display_name": "Python 3 (ipykernel)",
   "language": "python",
   "name": "python3"
  },
  "language_info": {
   "codemirror_mode": {
    "name": "ipython",
    "version": 3
   },
   "file_extension": ".py",
   "mimetype": "text/x-python",
   "name": "python",
   "nbconvert_exporter": "python",
   "pygments_lexer": "ipython3",
   "version": "3.9.12"
  }
 },
 "nbformat": 4,
 "nbformat_minor": 5
}
