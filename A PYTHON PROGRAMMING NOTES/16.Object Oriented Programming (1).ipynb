{
 "cells": [
  {
   "cell_type": "markdown",
   "id": "34a2046d",
   "metadata": {},
   "source": [
    "## Attributes\n",
    "> Variables defined inside a class are known as attributes.\n",
    "\n",
    "## Methods\n",
    "> Functions defined innside a class are called as methods.\n",
    "\n",
    "## Object\n",
    "> when you store an entire class in a variable then that variable is said to be an object.\n",
    "\n",
    "## Self\n",
    "> Self is nothing but your object itself.It is a defualt variable which contains memory adrress of an object."
   ]
  },
  {
   "cell_type": "markdown",
   "id": "64f8bc41",
   "metadata": {},
   "source": [
    "## Class\n",
    "> Class is an easy way where we can group similar variables and functions together.i.e.it is the blueprint of an object.You can create n number of blueprints with a same class."
   ]
  },
  {
   "cell_type": "raw",
   "id": "50fd81ae",
   "metadata": {},
   "source": [
    "class classname():\n",
    "    variable1\n",
    "    variable2\n",
    "    variable3\n",
    "    \n",
    "    #Actions/Methods\n",
    "    functions using self keyword\n",
    "    \n",
    "#object\n",
    "object1\n",
    "object2\n",
    "object3"
   ]
  },
  {
   "cell_type": "code",
   "execution_count": 1,
   "id": "694ae5e0",
   "metadata": {},
   "outputs": [],
   "source": [
    "class Human():\n",
    "    eyes = 'Blue'\n",
    "    Hair = 'Black'\n",
    "    Gender = 'Male'\n",
    "    \n",
    "    #Humans does some action\n",
    "    def walk(self):\n",
    "        return \"I am walking\"\n",
    "    def speak(self):\n",
    "        return \"I am speaking\"\n",
    "    \n",
    "person1 = Human() # If you want to use above class you should create an object over here"
   ]
  },
  {
   "cell_type": "code",
   "execution_count": 2,
   "id": "c753f19e",
   "metadata": {},
   "outputs": [
    {
     "data": {
      "text/plain": [
       "'Blue'"
      ]
     },
     "execution_count": 2,
     "metadata": {},
     "output_type": "execute_result"
    }
   ],
   "source": [
    "person1.eyes"
   ]
  },
  {
   "cell_type": "code",
   "execution_count": 3,
   "id": "ec7f7ee3",
   "metadata": {},
   "outputs": [
    {
     "data": {
      "text/plain": [
       "'Black'"
      ]
     },
     "execution_count": 3,
     "metadata": {},
     "output_type": "execute_result"
    }
   ],
   "source": [
    "person1.Hair"
   ]
  },
  {
   "cell_type": "code",
   "execution_count": 4,
   "id": "73100bd1",
   "metadata": {},
   "outputs": [
    {
     "data": {
      "text/plain": [
       "'Male'"
      ]
     },
     "execution_count": 4,
     "metadata": {},
     "output_type": "execute_result"
    }
   ],
   "source": [
    "person1.Gender"
   ]
  },
  {
   "cell_type": "code",
   "execution_count": 5,
   "id": "28a09860",
   "metadata": {},
   "outputs": [
    {
     "data": {
      "text/plain": [
       "'I am walking'"
      ]
     },
     "execution_count": 5,
     "metadata": {},
     "output_type": "execute_result"
    }
   ],
   "source": [
    "person1.walk()"
   ]
  },
  {
   "cell_type": "code",
   "execution_count": 6,
   "id": "e9adbe29",
   "metadata": {},
   "outputs": [
    {
     "data": {
      "text/plain": [
       "'I am speaking'"
      ]
     },
     "execution_count": 6,
     "metadata": {},
     "output_type": "execute_result"
    }
   ],
   "source": [
    "person1.speak()"
   ]
  },
  {
   "cell_type": "code",
   "execution_count": 1,
   "id": "b0c01832",
   "metadata": {},
   "outputs": [],
   "source": [
    "class myclass():\n",
    "    def createname(self,name):\n",
    "        self.name=name\n",
    "    def displayname(self):\n",
    "        return self.name\n",
    "    def sayhello(self):\n",
    "        return f\"Hello {self.name}\"\n",
    "    \n",
    "cob1=myclass()\n",
    "cob2=myclass()"
   ]
  },
  {
   "cell_type": "code",
   "execution_count": 2,
   "id": "3632dd49",
   "metadata": {},
   "outputs": [],
   "source": [
    "cob1.createname(\"Jayesh\")\n",
    "cob2.createname(\"Jay\")"
   ]
  },
  {
   "cell_type": "code",
   "execution_count": 3,
   "id": "acdfe02a",
   "metadata": {},
   "outputs": [
    {
     "data": {
      "text/plain": [
       "'Jayesh'"
      ]
     },
     "execution_count": 3,
     "metadata": {},
     "output_type": "execute_result"
    }
   ],
   "source": [
    "cob1.displayname()"
   ]
  },
  {
   "cell_type": "code",
   "execution_count": 4,
   "id": "e79aeb4a",
   "metadata": {},
   "outputs": [
    {
     "data": {
      "text/plain": [
       "'Jay'"
      ]
     },
     "execution_count": 4,
     "metadata": {},
     "output_type": "execute_result"
    }
   ],
   "source": [
    "cob2.displayname()"
   ]
  },
  {
   "cell_type": "code",
   "execution_count": 11,
   "id": "790d04c9",
   "metadata": {},
   "outputs": [
    {
     "data": {
      "text/plain": [
       "'Jayesh'"
      ]
     },
     "execution_count": 11,
     "metadata": {},
     "output_type": "execute_result"
    }
   ],
   "source": [
    "myclass.displayname(cob1)"
   ]
  },
  {
   "cell_type": "code",
   "execution_count": 12,
   "id": "be45a59b",
   "metadata": {},
   "outputs": [
    {
     "data": {
      "text/plain": [
       "'Jay'"
      ]
     },
     "execution_count": 12,
     "metadata": {},
     "output_type": "execute_result"
    }
   ],
   "source": [
    "myclass.displayname(cob2)"
   ]
  },
  {
   "cell_type": "code",
   "execution_count": 13,
   "id": "dcc983f4",
   "metadata": {},
   "outputs": [],
   "source": [
    "name = \"Jayesh\"\n",
    "age = 25\n",
    "\n",
    "class example():\n",
    "    name=\"Jay\"\n",
    "    age = 16\n",
    "    \n",
    "    def intro(self):\n",
    "        return f\"My name is {name}, my age is {age}\"\n",
    "obj = example()"
   ]
  },
  {
   "cell_type": "code",
   "execution_count": 14,
   "id": "e8b27c86",
   "metadata": {},
   "outputs": [
    {
     "data": {
      "text/plain": [
       "'My name is Jayesh, my age is 25'"
      ]
     },
     "execution_count": 14,
     "metadata": {},
     "output_type": "execute_result"
    }
   ],
   "source": [
    "obj.intro()"
   ]
  },
  {
   "cell_type": "code",
   "execution_count": 15,
   "id": "7b7aab3a",
   "metadata": {},
   "outputs": [
    {
     "data": {
      "text/plain": [
       "'Jay'"
      ]
     },
     "execution_count": 15,
     "metadata": {},
     "output_type": "execute_result"
    }
   ],
   "source": [
    "obj.name"
   ]
  },
  {
   "cell_type": "code",
   "execution_count": 16,
   "id": "83f4c6c9",
   "metadata": {},
   "outputs": [
    {
     "data": {
      "text/plain": [
       "16"
      ]
     },
     "execution_count": 16,
     "metadata": {},
     "output_type": "execute_result"
    }
   ],
   "source": [
    "obj.age"
   ]
  },
  {
   "cell_type": "code",
   "execution_count": 17,
   "id": "7ab681cd",
   "metadata": {},
   "outputs": [],
   "source": [
    "# If you want to print Jay 16 you have to make change\n",
    "class example():\n",
    "    name=\"Jay\"  #self.name=obj.name\n",
    "    age=16  #self.age=obj.age\n",
    "    \n",
    "    def intro(self):\n",
    "        return f\"My name is {self.name}, my age is {self.age}\"\n",
    "    \n",
    "obj= example()"
   ]
  },
  {
   "cell_type": "code",
   "execution_count": 18,
   "id": "4ee570f9",
   "metadata": {},
   "outputs": [
    {
     "data": {
      "text/plain": [
       "'Jay'"
      ]
     },
     "execution_count": 18,
     "metadata": {},
     "output_type": "execute_result"
    }
   ],
   "source": [
    "obj.name"
   ]
  },
  {
   "cell_type": "code",
   "execution_count": 19,
   "id": "0ab87cd8",
   "metadata": {},
   "outputs": [
    {
     "data": {
      "text/plain": [
       "16"
      ]
     },
     "execution_count": 19,
     "metadata": {},
     "output_type": "execute_result"
    }
   ],
   "source": [
    "obj.age"
   ]
  },
  {
   "cell_type": "code",
   "execution_count": 20,
   "id": "cb3480d0",
   "metadata": {},
   "outputs": [
    {
     "data": {
      "text/plain": [
       "'My name is Jay, my age is 16'"
      ]
     },
     "execution_count": 20,
     "metadata": {},
     "output_type": "execute_result"
    }
   ],
   "source": [
    "obj.intro()"
   ]
  },
  {
   "cell_type": "markdown",
   "id": "59b4e422",
   "metadata": {},
   "source": [
    "## Class Variable"
   ]
  },
  {
   "cell_type": "markdown",
   "id": "cfc6d515",
   "metadata": {},
   "source": [
    "> Class variable is defined inside a class and global to all methods of that class and will be same for every object created with that class."
   ]
  },
  {
   "cell_type": "markdown",
   "id": "43fd6d7e",
   "metadata": {},
   "source": [
    "## Instance Variable"
   ]
  },
  {
   "cell_type": "markdown",
   "id": "06f355eb",
   "metadata": {},
   "source": [
    "> Instance variable is defined inside the method of the class which is local to method itself of the class and will be unique for every object created with that class."
   ]
  },
  {
   "cell_type": "markdown",
   "id": "0b69cb86",
   "metadata": {},
   "source": [
    "## Constructor"
   ]
  },
  {
   "cell_type": "markdown",
   "id": "3c5b4e21",
   "metadata": {},
   "source": [
    "> A method used to initialise instance variable."
   ]
  },
  {
   "cell_type": "code",
   "execution_count": 21,
   "id": "5ab8ca25",
   "metadata": {},
   "outputs": [],
   "source": [
    "class man():\n",
    "    gender = 'male'  #gender = class variable\n",
    "    \n",
    "    #__init__ = constructor or initialiser\n",
    "    def __init__(self,name):\n",
    "        self.name = name  #instance variable\n",
    "        \n",
    "obj1 = man('Jay')\n",
    "obj2 = man('Kumar')"
   ]
  },
  {
   "cell_type": "code",
   "execution_count": 22,
   "id": "f084c409",
   "metadata": {},
   "outputs": [
    {
     "data": {
      "text/plain": [
       "'Jay'"
      ]
     },
     "execution_count": 22,
     "metadata": {},
     "output_type": "execute_result"
    }
   ],
   "source": [
    "obj1.name"
   ]
  },
  {
   "cell_type": "code",
   "execution_count": 23,
   "id": "2ce5a119",
   "metadata": {},
   "outputs": [
    {
     "data": {
      "text/plain": [
       "'Kumar'"
      ]
     },
     "execution_count": 23,
     "metadata": {},
     "output_type": "execute_result"
    }
   ],
   "source": [
    "obj2.name"
   ]
  },
  {
   "cell_type": "code",
   "execution_count": 24,
   "id": "45bb1435",
   "metadata": {},
   "outputs": [
    {
     "data": {
      "text/plain": [
       "'male'"
      ]
     },
     "execution_count": 24,
     "metadata": {},
     "output_type": "execute_result"
    }
   ],
   "source": [
    "obj1.gender"
   ]
  },
  {
   "cell_type": "code",
   "execution_count": 25,
   "id": "a6df9ea0",
   "metadata": {},
   "outputs": [
    {
     "data": {
      "text/plain": [
       "'male'"
      ]
     },
     "execution_count": 25,
     "metadata": {},
     "output_type": "execute_result"
    }
   ],
   "source": [
    "obj2.gender"
   ]
  },
  {
   "cell_type": "code",
   "execution_count": 26,
   "id": "1d996e38",
   "metadata": {},
   "outputs": [],
   "source": [
    "class man():\n",
    "    gender = 'male'  #gender = class variable\n",
    "    \n",
    "    #__init__ = constructor or initialiser\n",
    "    def __init__(self,name,age,place,salary):\n",
    "        self.name = name  #instance variable\n",
    "        self.age = age\n",
    "        self.place = place\n",
    "        self.salary = salary\n",
    "    def intro(self):\n",
    "        return f\"I am {self.name}.I am {self.age} years old.I live in {self.place}.My salary is {self.salary}\" \n",
    "    \n",
    "myself = man(\"Jayesh\",25,\"Mumbai\",\"2K\")"
   ]
  },
  {
   "cell_type": "code",
   "execution_count": 27,
   "id": "9a258216",
   "metadata": {},
   "outputs": [
    {
     "data": {
      "text/plain": [
       "'I am Jayesh.I am 25 years old.I live in Mumbai.My salary is 2K'"
      ]
     },
     "execution_count": 27,
     "metadata": {},
     "output_type": "execute_result"
    }
   ],
   "source": [
    "myself.intro()"
   ]
  },
  {
   "cell_type": "code",
   "execution_count": 28,
   "id": "97fa0420",
   "metadata": {},
   "outputs": [
    {
     "data": {
      "text/plain": [
       "'Jayesh'"
      ]
     },
     "execution_count": 28,
     "metadata": {},
     "output_type": "execute_result"
    }
   ],
   "source": [
    "myself.name"
   ]
  },
  {
   "cell_type": "code",
   "execution_count": 29,
   "id": "a075632e",
   "metadata": {},
   "outputs": [
    {
     "data": {
      "text/plain": [
       "'2K'"
      ]
     },
     "execution_count": 29,
     "metadata": {},
     "output_type": "execute_result"
    }
   ],
   "source": [
    "myself.salary"
   ]
  },
  {
   "cell_type": "code",
   "execution_count": 30,
   "id": "5b31a9e8",
   "metadata": {},
   "outputs": [],
   "source": [
    "class character():\n",
    "    def __init__(self,name,age):\n",
    "        self.name=name\n",
    "        self.age=age\n",
    "        \n",
    "    def minus(self):\n",
    "        self.age= self.age-5\n",
    "        \n",
    "obj1 = character(\"Ninad\",20)\n",
    "obj2 = character(\"Pratik\",20)"
   ]
  },
  {
   "cell_type": "code",
   "execution_count": 31,
   "id": "5188a6f9",
   "metadata": {},
   "outputs": [
    {
     "data": {
      "text/plain": [
       "'Ninad'"
      ]
     },
     "execution_count": 31,
     "metadata": {},
     "output_type": "execute_result"
    }
   ],
   "source": [
    "obj1.name"
   ]
  },
  {
   "cell_type": "code",
   "execution_count": 32,
   "id": "c35f730b",
   "metadata": {},
   "outputs": [
    {
     "data": {
      "text/plain": [
       "20"
      ]
     },
     "execution_count": 32,
     "metadata": {},
     "output_type": "execute_result"
    }
   ],
   "source": [
    "obj1.age"
   ]
  },
  {
   "cell_type": "code",
   "execution_count": 33,
   "id": "6828c5c1",
   "metadata": {},
   "outputs": [
    {
     "data": {
      "text/plain": [
       "'Pratik'"
      ]
     },
     "execution_count": 33,
     "metadata": {},
     "output_type": "execute_result"
    }
   ],
   "source": [
    "obj2.name"
   ]
  },
  {
   "cell_type": "code",
   "execution_count": 34,
   "id": "d0c2387c",
   "metadata": {},
   "outputs": [
    {
     "data": {
      "text/plain": [
       "20"
      ]
     },
     "execution_count": 34,
     "metadata": {},
     "output_type": "execute_result"
    }
   ],
   "source": [
    "obj2.age"
   ]
  },
  {
   "cell_type": "code",
   "execution_count": 35,
   "id": "62b22105",
   "metadata": {},
   "outputs": [
    {
     "data": {
      "text/plain": [
       "15"
      ]
     },
     "execution_count": 35,
     "metadata": {},
     "output_type": "execute_result"
    }
   ],
   "source": [
    "obj1.minus()\n",
    "obj1.age"
   ]
  },
  {
   "cell_type": "code",
   "execution_count": 36,
   "id": "c48e0feb",
   "metadata": {},
   "outputs": [
    {
     "data": {
      "text/plain": [
       "20"
      ]
     },
     "execution_count": 36,
     "metadata": {},
     "output_type": "execute_result"
    }
   ],
   "source": [
    "obj2.age"
   ]
  },
  {
   "cell_type": "markdown",
   "id": "06c3644f",
   "metadata": {},
   "source": [
    "## Inheritance"
   ]
  },
  {
   "cell_type": "code",
   "execution_count": 37,
   "id": "6d56e12f",
   "metadata": {},
   "outputs": [],
   "source": [
    "class mom():\n",
    "    eyes='brown'\n",
    "    hairs = 'black'\n",
    "    \n",
    "    def intro(self):\n",
    "        return \"I am MOM Class\"\n",
    "    \n",
    "class dad():\n",
    "    eyes=\"blue\"\n",
    "    nose=\"long and straight\"\n",
    "    hairs = \"brown\"\n",
    "    \n",
    "    def intro(self):\n",
    "        return \"I am DAD class\"\n",
    "    \n",
    "class child(dad):\n",
    "    def intro(self):\n",
    "        return \"I am child class\"\n",
    "    \n",
    "cob = child()"
   ]
  },
  {
   "cell_type": "code",
   "execution_count": 38,
   "id": "af4399d4",
   "metadata": {},
   "outputs": [
    {
     "data": {
      "text/plain": [
       "'blue'"
      ]
     },
     "execution_count": 38,
     "metadata": {},
     "output_type": "execute_result"
    }
   ],
   "source": [
    "cob.eyes"
   ]
  },
  {
   "cell_type": "code",
   "execution_count": 39,
   "id": "27fc764d",
   "metadata": {},
   "outputs": [
    {
     "data": {
      "text/plain": [
       "'long and straight'"
      ]
     },
     "execution_count": 39,
     "metadata": {},
     "output_type": "execute_result"
    }
   ],
   "source": [
    "cob.nose"
   ]
  },
  {
   "cell_type": "code",
   "execution_count": 40,
   "id": "1344fc90",
   "metadata": {},
   "outputs": [
    {
     "data": {
      "text/plain": [
       "'brown'"
      ]
     },
     "execution_count": 40,
     "metadata": {},
     "output_type": "execute_result"
    }
   ],
   "source": [
    "cob.hairs"
   ]
  },
  {
   "cell_type": "code",
   "execution_count": 41,
   "id": "1314aa6e",
   "metadata": {},
   "outputs": [
    {
     "data": {
      "text/plain": [
       "'I am child class'"
      ]
     },
     "execution_count": 41,
     "metadata": {},
     "output_type": "execute_result"
    }
   ],
   "source": [
    "cob.intro()"
   ]
  },
  {
   "cell_type": "code",
   "execution_count": 42,
   "id": "85b98d00",
   "metadata": {},
   "outputs": [],
   "source": [
    "class mom():\n",
    "    eyes='brown'\n",
    "    hairs = 'black'\n",
    "    \n",
    "    def intro(self):\n",
    "        return \"I am MOM Class\"\n",
    "    \n",
    "class dad():\n",
    "    eyes=\"blue\"\n",
    "    nose=\"long and straight\"\n",
    "    hairs = \"brown\"\n",
    "    \n",
    "    def intro(self):\n",
    "        return \"I am DAD class\"\n",
    "    \n",
    "class child(dad):\n",
    "    pass\n",
    "    \n",
    "cob = child()"
   ]
  },
  {
   "cell_type": "code",
   "execution_count": 43,
   "id": "92e20d12",
   "metadata": {},
   "outputs": [
    {
     "data": {
      "text/plain": [
       "'I am DAD class'"
      ]
     },
     "execution_count": 43,
     "metadata": {},
     "output_type": "execute_result"
    }
   ],
   "source": [
    "cob.intro()"
   ]
  },
  {
   "cell_type": "markdown",
   "id": "03699ad1",
   "metadata": {},
   "source": [
    "### Multiple Inheritance"
   ]
  },
  {
   "cell_type": "code",
   "execution_count": 44,
   "id": "ce17ece2",
   "metadata": {},
   "outputs": [],
   "source": [
    "class mom():\n",
    "    eyes='brown'\n",
    "    hairs = 'black'\n",
    "    voice = 'sweet'\n",
    "    def intro(self):\n",
    "        return \"I am MOM Class\"\n",
    "    \n",
    "class dad():\n",
    "    eyes=\"blue\"\n",
    "    nose=\"long and straight\"\n",
    "    hairs = \"brown\"\n",
    "    voice = 'rough'\n",
    "    \n",
    "    def intro(self):\n",
    "        return \"I am DAD class\"\n",
    "    \n",
    "class child(dad):\n",
    "    nose = 'parrot nose'  #attribute overriding\n",
    "    def intro(self):  #method overriding\n",
    "        return \"I am child class\"\n",
    "    \n",
    "cob = child()"
   ]
  },
  {
   "cell_type": "code",
   "execution_count": 45,
   "id": "32fc7df6",
   "metadata": {},
   "outputs": [
    {
     "data": {
      "text/plain": [
       "'parrot nose'"
      ]
     },
     "execution_count": 45,
     "metadata": {},
     "output_type": "execute_result"
    }
   ],
   "source": [
    "cob.nose"
   ]
  },
  {
   "cell_type": "code",
   "execution_count": 46,
   "id": "f204fdd6",
   "metadata": {},
   "outputs": [
    {
     "data": {
      "text/plain": [
       "'blue'"
      ]
     },
     "execution_count": 46,
     "metadata": {},
     "output_type": "execute_result"
    }
   ],
   "source": [
    "cob.eyes  # It will check Dad class first"
   ]
  },
  {
   "cell_type": "code",
   "execution_count": 47,
   "id": "0233378b",
   "metadata": {},
   "outputs": [
    {
     "data": {
      "text/plain": [
       "'brown'"
      ]
     },
     "execution_count": 47,
     "metadata": {},
     "output_type": "execute_result"
    }
   ],
   "source": [
    "cob.hairs"
   ]
  },
  {
   "cell_type": "code",
   "execution_count": 48,
   "id": "a4ec6d31",
   "metadata": {},
   "outputs": [],
   "source": [
    "class mom():\n",
    "    eyes='brown'\n",
    "    hairs = 'black'\n",
    "    voice = 'sweet'\n",
    "    def intro(self):\n",
    "        return \"I am MOM Class\"\n",
    "    \n",
    "class dad():\n",
    "    eyes=\"blue\"\n",
    "    nose=\"long and straight\"\n",
    "    hairs = \"brown\"\n",
    "    voice = 'rough'\n",
    "    \n",
    "    def intro(self):\n",
    "        return \"I am DAD class\"\n",
    "    \n",
    "class child(dad):\n",
    "    nose = 'parrot nose'  #attribute overriding\n",
    "    voice = \"strong\"\n",
    "    def intro(self):  #method overriding\n",
    "        return \"I am child class\"\n",
    "    \n",
    "cob = child()"
   ]
  },
  {
   "cell_type": "code",
   "execution_count": 49,
   "id": "369fe001",
   "metadata": {},
   "outputs": [
    {
     "data": {
      "text/plain": [
       "'strong'"
      ]
     },
     "execution_count": 49,
     "metadata": {},
     "output_type": "execute_result"
    }
   ],
   "source": [
    "cob.voice"
   ]
  },
  {
   "cell_type": "markdown",
   "id": "7c6d706a",
   "metadata": {},
   "source": [
    "## MINI PROJECT"
   ]
  },
  {
   "cell_type": "markdown",
   "id": "05cf3604",
   "metadata": {},
   "source": [
    "### Data Abstraction"
   ]
  },
  {
   "cell_type": "code",
   "execution_count": 50,
   "id": "fc9c1086",
   "metadata": {},
   "outputs": [],
   "source": [
    "class abst():\n",
    "    x = 10 #pulic variable=accessible\n",
    "    _y = 20 #protected variable-Theoretical=practically accessible\n",
    "    __z = 30 #private variable = cannot accessible\n",
    "    \n",
    "ob1 = abst()"
   ]
  },
  {
   "cell_type": "code",
   "execution_count": 51,
   "id": "54333e1a",
   "metadata": {},
   "outputs": [
    {
     "data": {
      "text/plain": [
       "10"
      ]
     },
     "execution_count": 51,
     "metadata": {},
     "output_type": "execute_result"
    }
   ],
   "source": [
    "ob1.x"
   ]
  },
  {
   "cell_type": "code",
   "execution_count": 52,
   "id": "40b978a0",
   "metadata": {},
   "outputs": [
    {
     "data": {
      "text/plain": [
       "20"
      ]
     },
     "execution_count": 52,
     "metadata": {},
     "output_type": "execute_result"
    }
   ],
   "source": [
    "ob1._y"
   ]
  },
  {
   "cell_type": "code",
   "execution_count": 53,
   "id": "3b248ede",
   "metadata": {},
   "outputs": [
    {
     "ename": "AttributeError",
     "evalue": "'abst' object has no attribute '__z'",
     "output_type": "error",
     "traceback": [
      "\u001b[1;31m---------------------------------------------------------------------------\u001b[0m",
      "\u001b[1;31mAttributeError\u001b[0m                            Traceback (most recent call last)",
      "Input \u001b[1;32mIn [53]\u001b[0m, in \u001b[0;36m<cell line: 1>\u001b[1;34m()\u001b[0m\n\u001b[1;32m----> 1\u001b[0m \u001b[43mob1\u001b[49m\u001b[38;5;241;43m.\u001b[39;49m\u001b[43m__z\u001b[49m\n",
      "\u001b[1;31mAttributeError\u001b[0m: 'abst' object has no attribute '__z'"
     ]
    }
   ],
   "source": [
    "ob1.__z"
   ]
  },
  {
   "cell_type": "code",
   "execution_count": 54,
   "id": "535ccf9e",
   "metadata": {},
   "outputs": [
    {
     "name": "stdout",
     "output_type": "stream",
     "text": [
      "Player name :- Mario\n",
      "Score = 0\n",
      "Life :- 3\n"
     ]
    }
   ],
   "source": [
    "class character():\n",
    "    def __init__(self,name):\n",
    "        self.name = name\n",
    "        self.__score = 0\n",
    "        self.__life = 3\n",
    "        \n",
    "    def displayscore(self):\n",
    "        return self.__score\n",
    "    \n",
    "    def displaylife(self):\n",
    "        return self.__life\n",
    "    \n",
    "    def punch(self):\n",
    "        self.__score = self.__score + 5\n",
    "        \n",
    "    def kick(self):\n",
    "        self.__score = self.__score+10\n",
    "        \n",
    "    def stabbed(self):\n",
    "        self.__life = self.__life - 1\n",
    "        \n",
    "    def intro(self):\n",
    "        print(f\"Player name :- {self.name}\")\n",
    "        print(f\"Score = {self.displayscore()}\")\n",
    "        print(f\"Life :- {self.displaylife()}\")\n",
    "              \n",
    "mario = character('Mario')\n",
    "mini = character('Mini')\n",
    "\n",
    "mario.intro()"
   ]
  },
  {
   "cell_type": "code",
   "execution_count": 55,
   "id": "fc9ccdfd",
   "metadata": {},
   "outputs": [],
   "source": [
    "mario.punch()"
   ]
  },
  {
   "cell_type": "code",
   "execution_count": 56,
   "id": "4ca80432",
   "metadata": {},
   "outputs": [
    {
     "data": {
      "text/plain": [
       "5"
      ]
     },
     "execution_count": 56,
     "metadata": {},
     "output_type": "execute_result"
    }
   ],
   "source": [
    "mario.displayscore()"
   ]
  },
  {
   "cell_type": "code",
   "execution_count": 57,
   "id": "67c4e786",
   "metadata": {},
   "outputs": [],
   "source": [
    "mario.stabbed()"
   ]
  },
  {
   "cell_type": "code",
   "execution_count": 58,
   "id": "a67e2316",
   "metadata": {},
   "outputs": [
    {
     "data": {
      "text/plain": [
       "2"
      ]
     },
     "execution_count": 58,
     "metadata": {},
     "output_type": "execute_result"
    }
   ],
   "source": [
    "mario.displaylife()"
   ]
  },
  {
   "cell_type": "code",
   "execution_count": 59,
   "id": "c15a0185",
   "metadata": {},
   "outputs": [],
   "source": [
    "mario.kick()"
   ]
  },
  {
   "cell_type": "code",
   "execution_count": 60,
   "id": "aaab2573",
   "metadata": {},
   "outputs": [
    {
     "data": {
      "text/plain": [
       "15"
      ]
     },
     "execution_count": 60,
     "metadata": {},
     "output_type": "execute_result"
    }
   ],
   "source": [
    "mario.displayscore()"
   ]
  },
  {
   "cell_type": "code",
   "execution_count": 61,
   "id": "fa5aa5b3",
   "metadata": {},
   "outputs": [
    {
     "data": {
      "text/plain": [
       "1"
      ]
     },
     "execution_count": 61,
     "metadata": {},
     "output_type": "execute_result"
    }
   ],
   "source": [
    "mario.stabbed()\n",
    "mario.displaylife()"
   ]
  },
  {
   "cell_type": "code",
   "execution_count": 62,
   "id": "61351c1a",
   "metadata": {},
   "outputs": [
    {
     "name": "stdout",
     "output_type": "stream",
     "text": [
      "Welcome to the Level 2\n"
     ]
    }
   ],
   "source": [
    "x = mario.displaylife()\n",
    "\n",
    "if x==0:\n",
    "    print(\"Game Over...\")\n",
    "else:\n",
    "    print(\"Welcome to the Level 2\")"
   ]
  },
  {
   "cell_type": "code",
   "execution_count": 63,
   "id": "fbbe303b",
   "metadata": {},
   "outputs": [
    {
     "name": "stdout",
     "output_type": "stream",
     "text": [
      "Player name :- Mario\n",
      "Score = 15\n",
      "Life :- 1\n"
     ]
    }
   ],
   "source": [
    "mario.intro()"
   ]
  },
  {
   "cell_type": "code",
   "execution_count": 64,
   "id": "bc26ed80",
   "metadata": {},
   "outputs": [
    {
     "name": "stdout",
     "output_type": "stream",
     "text": [
      "Player name :- Mini\n",
      "Score = 0\n",
      "Life :- 3\n"
     ]
    }
   ],
   "source": [
    "mini.intro()"
   ]
  },
  {
   "cell_type": "markdown",
   "id": "82749774",
   "metadata": {},
   "source": [
    "## Encapsulation"
   ]
  },
  {
   "cell_type": "markdown",
   "id": "f12c208b",
   "metadata": {},
   "source": [
    "Binding similar type of data together"
   ]
  },
  {
   "cell_type": "markdown",
   "id": "45baf47e",
   "metadata": {},
   "source": [
    "## Built in attributes"
   ]
  },
  {
   "cell_type": "markdown",
   "id": "69d532e8",
   "metadata": {},
   "source": [
    "> __dict__ : Dictionary containing the class namespace.\n",
    "    \n",
    "> __doc__ : Class documentation string or none,if undefined.\n",
    "    \n",
    "> __name__ : Class name.\n",
    "    \n",
    "> __module__ : Module name in which class is defined. This attribute is \"__main__\" in interactive mode.\n",
    "    \n",
    "> __bases__ : A possibly empty tuple containing the base classes in order of their occurence in the base class list."
   ]
  },
  {
   "cell_type": "markdown",
   "id": "824bf4b3",
   "metadata": {},
   "source": [
    "## OOPS PROJECTS"
   ]
  },
  {
   "cell_type": "markdown",
   "id": "201d2e27",
   "metadata": {},
   "source": [
    "### Employee System "
   ]
  },
  {
   "cell_type": "code",
   "execution_count": 18,
   "id": "595ebfac",
   "metadata": {},
   "outputs": [],
   "source": [
    "class Employee():\n",
    "    \"\"\"This is Parent/super/base class\"\"\"\n",
    "    empcount = 0\n",
    "    incamt = 1.10\n",
    "    def __init__(self,first,last,salary):\n",
    "        self.first = first\n",
    "        self.last = last\n",
    "        self.salary = salary \n",
    "        self.email = first.lower()+\".\"+last.lower()+\"@itvedant.com\"\n",
    "        \n",
    "        Employee.empcount+=1\n",
    "    \n",
    "    def fullname(self):\n",
    "        return f\"{self.first.title()} {self.last.title()}\"\n",
    "    \n",
    "    def increment(self):\n",
    "        self.salary = self.salary * self.incamt\n",
    "        \n",
    "class Developer(Employee):\n",
    "    def __init__(self,first,last,salary,prolang):\n",
    "        super().__init__(first,last,salary)\n",
    "        self.prolang = prolang\n",
    "        \n",
    "class Manager(Employee):\n",
    "    def __init__(self,first,last,salary,employee=None):\n",
    "        super().__init__(first,last,salary)\n",
    "        \n",
    "        if (employee is None):\n",
    "            self.employee = []\n",
    "        else:\n",
    "            self.employee = employee \n",
    "            \n",
    "    def addemp(self,emp):\n",
    "        if(emp not in self.employee):\n",
    "            self.employee.append(emp)\n",
    "            \n",
    "    def removeemp(self,emp):\n",
    "        if(emp in self.employee):\n",
    "            self.employee.remove(emp)\n",
    "            \n",
    "    def printemp(self):\n",
    "        for emp in self.employee:\n",
    "            print(f\"---> {emp.fullname()}\")\n",
    "            \n",
    "\n",
    "        \n",
    "emp1 = Employee(\"Raj\",\"Yadav\",10000)\n",
    "emp2 = Employee(\"Deepak\",\"Gupta\",20000)\n",
    "emp3 = Employee(\"Kishor\",\"Yadav\",30000)\n",
    "mgr1 = Manager(\"Shubham\",\"Yadav\",400000,[emp1,emp2,emp3])\n",
    "\n",
    "\n",
    "dev1 = Developer(\"pratik\",\"singh\",110000,\"Python\")\n",
    "dev2 = Developer(\"rahul\",\"nishad\",210000,\"Cython\")\n",
    "dev3 = Developer(\"megesh\",\"thevar\",310000,\"Django\")\n",
    "mgr2 = Manager(\"Ganesh\",\"Kumar\",450000,[dev1,dev2,dev3])\n",
    "\n",
    "dev4 = Developer(\"suraj\",\"singh\",110000,\"Java\")"
   ]
  },
  {
   "cell_type": "code",
   "execution_count": 67,
   "id": "ad84366c",
   "metadata": {},
   "outputs": [
    {
     "data": {
      "text/plain": [
       "'Raj Yadav'"
      ]
     },
     "execution_count": 67,
     "metadata": {},
     "output_type": "execute_result"
    }
   ],
   "source": [
    "emp1.fullname()"
   ]
  },
  {
   "cell_type": "code",
   "execution_count": 68,
   "id": "a28e16e4",
   "metadata": {},
   "outputs": [
    {
     "data": {
      "text/plain": [
       "10000"
      ]
     },
     "execution_count": 68,
     "metadata": {},
     "output_type": "execute_result"
    }
   ],
   "source": [
    "emp1.salary"
   ]
  },
  {
   "cell_type": "code",
   "execution_count": 69,
   "id": "4c814e5e",
   "metadata": {},
   "outputs": [
    {
     "data": {
      "text/plain": [
       "'raj.yadav@itvedant.com'"
      ]
     },
     "execution_count": 69,
     "metadata": {},
     "output_type": "execute_result"
    }
   ],
   "source": [
    "emp1.email"
   ]
  },
  {
   "cell_type": "code",
   "execution_count": 2,
   "id": "65a62cee",
   "metadata": {},
   "outputs": [
    {
     "data": {
      "text/plain": [
       "'Pratik Singh'"
      ]
     },
     "execution_count": 2,
     "metadata": {},
     "output_type": "execute_result"
    }
   ],
   "source": [
    "dev1.fullname()"
   ]
  },
  {
   "cell_type": "code",
   "execution_count": 3,
   "id": "57e59124",
   "metadata": {},
   "outputs": [
    {
     "data": {
      "text/plain": [
       "'Megesh Thevar'"
      ]
     },
     "execution_count": 3,
     "metadata": {},
     "output_type": "execute_result"
    }
   ],
   "source": [
    "dev3.fullname()"
   ]
  },
  {
   "cell_type": "code",
   "execution_count": 5,
   "id": "08cb55ac",
   "metadata": {},
   "outputs": [
    {
     "data": {
      "text/plain": [
       "'rahul.nishad@itvedant.com'"
      ]
     },
     "execution_count": 5,
     "metadata": {},
     "output_type": "execute_result"
    }
   ],
   "source": [
    "dev2.email"
   ]
  },
  {
   "cell_type": "code",
   "execution_count": 6,
   "id": "7d0aaee1",
   "metadata": {},
   "outputs": [
    {
     "data": {
      "text/plain": [
       "110000"
      ]
     },
     "execution_count": 6,
     "metadata": {},
     "output_type": "execute_result"
    }
   ],
   "source": [
    "dev1.salary"
   ]
  },
  {
   "cell_type": "code",
   "execution_count": 7,
   "id": "b0ad7203",
   "metadata": {},
   "outputs": [],
   "source": [
    "dev2.increment()"
   ]
  },
  {
   "cell_type": "code",
   "execution_count": 8,
   "id": "b30cf160",
   "metadata": {},
   "outputs": [
    {
     "data": {
      "text/plain": [
       "231000.00000000003"
      ]
     },
     "execution_count": 8,
     "metadata": {},
     "output_type": "execute_result"
    }
   ],
   "source": [
    "dev2.salary"
   ]
  },
  {
   "cell_type": "code",
   "execution_count": 9,
   "id": "3d242009",
   "metadata": {},
   "outputs": [
    {
     "data": {
      "text/plain": [
       "6"
      ]
     },
     "execution_count": 9,
     "metadata": {},
     "output_type": "execute_result"
    }
   ],
   "source": [
    "Employee.empcount"
   ]
  },
  {
   "cell_type": "code",
   "execution_count": 13,
   "id": "3adf5159",
   "metadata": {},
   "outputs": [
    {
     "name": "stdout",
     "output_type": "stream",
     "text": [
      "---> Pratik Singh\n",
      "---> Rahul Nishad\n",
      "---> Megesh Thevar\n"
     ]
    }
   ],
   "source": [
    "mgr2.printemp()"
   ]
  },
  {
   "cell_type": "code",
   "execution_count": 15,
   "id": "964b9dba",
   "metadata": {},
   "outputs": [
    {
     "name": "stdout",
     "output_type": "stream",
     "text": [
      "---> Raj Yadav\n",
      "---> Deepak Gupta\n",
      "---> Kishor Yadav\n"
     ]
    }
   ],
   "source": [
    "mgr1.printemp()"
   ]
  },
  {
   "cell_type": "code",
   "execution_count": 16,
   "id": "0a7b94a4",
   "metadata": {},
   "outputs": [],
   "source": [
    "mgr1.removeemp(emp1)"
   ]
  },
  {
   "cell_type": "code",
   "execution_count": 17,
   "id": "1e375bb3",
   "metadata": {},
   "outputs": [
    {
     "name": "stdout",
     "output_type": "stream",
     "text": [
      "---> Deepak Gupta\n",
      "---> Kishor Yadav\n"
     ]
    }
   ],
   "source": [
    "mgr1.printemp()"
   ]
  },
  {
   "cell_type": "code",
   "execution_count": 20,
   "id": "f87a6c92",
   "metadata": {},
   "outputs": [],
   "source": [
    "mgr2.addemp(dev4)"
   ]
  },
  {
   "cell_type": "code",
   "execution_count": 22,
   "id": "031bf678",
   "metadata": {},
   "outputs": [
    {
     "name": "stdout",
     "output_type": "stream",
     "text": [
      "---> Pratik Singh\n",
      "---> Rahul Nishad\n",
      "---> Megesh Thevar\n",
      "---> Suraj Singh\n"
     ]
    }
   ],
   "source": [
    "mgr2.printemp()"
   ]
  },
  {
   "cell_type": "markdown",
   "id": "eff5623f",
   "metadata": {},
   "source": [
    "### Banking System"
   ]
  },
  {
   "cell_type": "code",
   "execution_count": 1,
   "id": "ad0d1e92",
   "metadata": {},
   "outputs": [],
   "source": [
    "class user():\n",
    "    def __init__(self,name,age,gender):\n",
    "        self.name=name\n",
    "        self.age=age\n",
    "        self.gender=gender\n",
    "        \n",
    "    def showdetails(self):\n",
    "        print(\"Personal details :- \")\n",
    "        print(f\"Name :- {self.name.title()}\")\n",
    "        print(f\"Age :- {self.age}\")\n",
    "        print(f\"Gender :- {self.gender.title()}\")\n",
    "        \n",
    "class bank(user):\n",
    "    __balance = 0\n",
    "    __usercount = 0\n",
    "    \n",
    "    def __init__(self,name,age,gender):\n",
    "        super().__init__(name,age,gender)\n",
    "        bank.__usercount +=1\n",
    "        self.__accountno = f\"bnkaccno000{bank.__usercount}\"\n",
    "        \n",
    "    def deposit(self,amount):\n",
    "        self.amount = amount\n",
    "        self.__balance += self.amount \n",
    "        print(f\"Account Balance has been updated :- Rs.{self.__balance}\")\n",
    "        \n",
    "    def withdraw(self,amount):\n",
    "        self.amount = amount\n",
    "        \n",
    "        if (self.amount > self.__balance):\n",
    "            print(f\"Insufficient amount, Balance available :- Rs.{self.__balance}\")\n",
    "        elif(100<= self.amount <= self.__balance):\n",
    "            print(\"Thank you for visiting\")\n",
    "            self.__balance -= self.amount\n",
    "            print(\"Current balance is Rs. {self.__balance}\")\n",
    "        else:\n",
    "            print(\"You cannot withdraw less than 100 Rs.\")\n",
    "            \n",
    "    def viewbalance(self):\n",
    "        self.showdetails()\n",
    "        print(f\"Account No.:- {self.__accountno}\")\n",
    "        print(f\"Current balance is :- Rs. {self.__balance}\")\n",
    "        \n",
    "    def transfer(self,username,amount):\n",
    "        self.amount = amount\n",
    "        if (self.amount > self.__balance):\n",
    "            print(f\"Insufficient amount, Balance available :- Rs. {self.__balance}\")\n",
    "        elif (1<=self.amount<=self.__balance):\n",
    "            username.__balance += self.amount\n",
    "            self.__balance -= self.amount\n",
    "            print(\"Amount transferred Successfully\")\n",
    "            print(f\"Current balance is :- Rs.{self.__balance}\")\n",
    "        else:\n",
    "            print(\"You cannot transfer less than Rs.1\")"
   ]
  },
  {
   "cell_type": "code",
   "execution_count": 2,
   "id": "379ed5b8",
   "metadata": {},
   "outputs": [],
   "source": [
    "jay = bank(\"Jayesh Patil\",10,\"Male\")\n",
    "deepak = bank(\"Deepak Gupta\",11,\"Male\")"
   ]
  },
  {
   "cell_type": "code",
   "execution_count": 3,
   "id": "e4f93370",
   "metadata": {},
   "outputs": [
    {
     "name": "stdout",
     "output_type": "stream",
     "text": [
      "Personal details :- \n",
      "Name :- Jayesh Patil\n",
      "Age :- 10\n",
      "Gender :- Male\n",
      "Account No.:- bnkaccno0001\n",
      "Current balance is :- Rs. 0\n"
     ]
    }
   ],
   "source": [
    "jay.viewbalance()"
   ]
  },
  {
   "cell_type": "code",
   "execution_count": 4,
   "id": "49857ac6",
   "metadata": {},
   "outputs": [
    {
     "name": "stdout",
     "output_type": "stream",
     "text": [
      "Personal details :- \n",
      "Name :- Deepak Gupta\n",
      "Age :- 11\n",
      "Gender :- Male\n",
      "Account No.:- bnkaccno0002\n",
      "Current balance is :- Rs. 0\n"
     ]
    }
   ],
   "source": [
    "deepak.viewbalance()"
   ]
  },
  {
   "cell_type": "code",
   "execution_count": 5,
   "id": "0e74a651",
   "metadata": {},
   "outputs": [
    {
     "name": "stdout",
     "output_type": "stream",
     "text": [
      "Account Balance has been updated :- Rs.10000\n"
     ]
    }
   ],
   "source": [
    "deepak.deposit(10000)"
   ]
  },
  {
   "cell_type": "code",
   "execution_count": 6,
   "id": "1a6799b4",
   "metadata": {},
   "outputs": [
    {
     "name": "stdout",
     "output_type": "stream",
     "text": [
      "Personal details :- \n",
      "Name :- Deepak Gupta\n",
      "Age :- 11\n",
      "Gender :- Male\n",
      "Account No.:- bnkaccno0002\n",
      "Current balance is :- Rs. 10000\n"
     ]
    }
   ],
   "source": [
    "deepak.viewbalance()"
   ]
  },
  {
   "cell_type": "code",
   "execution_count": 7,
   "id": "21519ba5",
   "metadata": {},
   "outputs": [
    {
     "name": "stdout",
     "output_type": "stream",
     "text": [
      "Amount transferred Successfully\n",
      "Current balance is :- Rs.5000\n"
     ]
    }
   ],
   "source": [
    "deepak.transfer(jay,5000)"
   ]
  },
  {
   "cell_type": "code",
   "execution_count": 8,
   "id": "794954e8",
   "metadata": {},
   "outputs": [
    {
     "name": "stdout",
     "output_type": "stream",
     "text": [
      "Personal details :- \n",
      "Name :- Jayesh Patil\n",
      "Age :- 10\n",
      "Gender :- Male\n",
      "Account No.:- bnkaccno0001\n",
      "Current balance is :- Rs. 5000\n"
     ]
    }
   ],
   "source": [
    "jay.viewbalance()"
   ]
  },
  {
   "cell_type": "code",
   "execution_count": 9,
   "id": "a9d09f86",
   "metadata": {},
   "outputs": [
    {
     "name": "stdout",
     "output_type": "stream",
     "text": [
      "Personal details :- \n",
      "Name :- Deepak Gupta\n",
      "Age :- 11\n",
      "Gender :- Male\n",
      "Account No.:- bnkaccno0002\n",
      "Current balance is :- Rs. 5000\n"
     ]
    }
   ],
   "source": [
    "deepak.viewbalance()"
   ]
  },
  {
   "cell_type": "code",
   "execution_count": 10,
   "id": "46706727",
   "metadata": {},
   "outputs": [
    {
     "name": "stdout",
     "output_type": "stream",
     "text": [
      "Thank you for visiting\n",
      "Current balance is Rs. {self.__balance}\n"
     ]
    }
   ],
   "source": [
    "jay.withdraw(2000)"
   ]
  },
  {
   "cell_type": "code",
   "execution_count": 11,
   "id": "a0acb9c8",
   "metadata": {},
   "outputs": [
    {
     "name": "stdout",
     "output_type": "stream",
     "text": [
      "Personal details :- \n",
      "Name :- Jayesh Patil\n",
      "Age :- 10\n",
      "Gender :- Male\n",
      "Account No.:- bnkaccno0001\n",
      "Current balance is :- Rs. 3000\n"
     ]
    }
   ],
   "source": [
    "jay.viewbalance()"
   ]
  },
  {
   "cell_type": "code",
   "execution_count": 12,
   "id": "6c87ab46",
   "metadata": {},
   "outputs": [
    {
     "name": "stdout",
     "output_type": "stream",
     "text": [
      "Insufficient amount, Balance available :- Rs.3000\n"
     ]
    }
   ],
   "source": [
    "jay.withdraw(6000)"
   ]
  },
  {
   "cell_type": "code",
   "execution_count": 13,
   "id": "720849ea",
   "metadata": {},
   "outputs": [
    {
     "name": "stdout",
     "output_type": "stream",
     "text": [
      "You cannot withdraw less than 100 Rs.\n"
     ]
    }
   ],
   "source": [
    "jay.withdraw(80)"
   ]
  }
 ],
 "metadata": {
  "kernelspec": {
   "display_name": "Python 3 (ipykernel)",
   "language": "python",
   "name": "python3"
  },
  "language_info": {
   "codemirror_mode": {
    "name": "ipython",
    "version": 3
   },
   "file_extension": ".py",
   "mimetype": "text/x-python",
   "name": "python",
   "nbconvert_exporter": "python",
   "pygments_lexer": "ipython3",
   "version": "3.9.12"
  }
 },
 "nbformat": 4,
 "nbformat_minor": 5
}
