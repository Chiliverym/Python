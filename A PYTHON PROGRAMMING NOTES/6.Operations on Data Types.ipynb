{
 "cells": [
  {
   "cell_type": "markdown",
   "id": "b26500f1",
   "metadata": {},
   "source": [
    "# Numbers"
   ]
  },
  {
   "cell_type": "markdown",
   "id": "42adc1fd",
   "metadata": {},
   "source": [
    "## Int"
   ]
  },
  {
   "cell_type": "code",
   "execution_count": 1,
   "id": "7287742a",
   "metadata": {},
   "outputs": [],
   "source": [
    "a = 10\n",
    "b = 20"
   ]
  },
  {
   "cell_type": "code",
   "execution_count": 3,
   "id": "48702672",
   "metadata": {},
   "outputs": [
    {
     "name": "stdout",
     "output_type": "stream",
     "text": [
      "The value of A is 10\n",
      "The value of B is 20\n"
     ]
    }
   ],
   "source": [
    "print(\"The value of A is\",a)\n",
    "print(\"The value of B is\",b)"
   ]
  },
  {
   "cell_type": "code",
   "execution_count": 4,
   "id": "a008ae32",
   "metadata": {},
   "outputs": [
    {
     "name": "stdout",
     "output_type": "stream",
     "text": [
      "Arithmetic operations on any number\n",
      "\n",
      "========================================================================================== \n",
      "\n",
      "Addition : 30 \n",
      "\n",
      "Subtraction : -10 \n",
      "\n",
      "Multiplication : 200 \n",
      "\n",
      "Division : 0.5 \n",
      "\n",
      "Power : 1000 \n",
      "\n",
      "Floor Division : 0 \n",
      "\n",
      "Modulus : 0 \n",
      "\n"
     ]
    }
   ],
   "source": [
    "print(\"Arithmetic operations on any number\\n\")\n",
    "print(\"=========\"*10,'\\n')\n",
    "print(\"Addition :\", a+b,'\\n')\n",
    "print(\"Subtraction :\",a-b,'\\n')\n",
    "print(\"Multiplication :\",a*b,'\\n')\n",
    "print(\"Division :\",a/b,'\\n')\n",
    "print(\"Power :\",a**3,'\\n')\n",
    "print(\"Floor Division :\",a//b,'\\n')  #it dont take decimal values it only takes integer\n",
    "print(\"Modulus :\",b%a,'\\n')  #modulus is remainder of division"
   ]
  },
  {
   "cell_type": "code",
   "execution_count": 5,
   "id": "99575654",
   "metadata": {},
   "outputs": [
    {
     "data": {
      "text/plain": [
       "['__abs__',\n",
       " '__add__',\n",
       " '__and__',\n",
       " '__bool__',\n",
       " '__ceil__',\n",
       " '__class__',\n",
       " '__delattr__',\n",
       " '__dir__',\n",
       " '__divmod__',\n",
       " '__doc__',\n",
       " '__eq__',\n",
       " '__float__',\n",
       " '__floor__',\n",
       " '__floordiv__',\n",
       " '__format__',\n",
       " '__ge__',\n",
       " '__getattribute__',\n",
       " '__getnewargs__',\n",
       " '__gt__',\n",
       " '__hash__',\n",
       " '__index__',\n",
       " '__init__',\n",
       " '__init_subclass__',\n",
       " '__int__',\n",
       " '__invert__',\n",
       " '__le__',\n",
       " '__lshift__',\n",
       " '__lt__',\n",
       " '__mod__',\n",
       " '__mul__',\n",
       " '__ne__',\n",
       " '__neg__',\n",
       " '__new__',\n",
       " '__or__',\n",
       " '__pos__',\n",
       " '__pow__',\n",
       " '__radd__',\n",
       " '__rand__',\n",
       " '__rdivmod__',\n",
       " '__reduce__',\n",
       " '__reduce_ex__',\n",
       " '__repr__',\n",
       " '__rfloordiv__',\n",
       " '__rlshift__',\n",
       " '__rmod__',\n",
       " '__rmul__',\n",
       " '__ror__',\n",
       " '__round__',\n",
       " '__rpow__',\n",
       " '__rrshift__',\n",
       " '__rshift__',\n",
       " '__rsub__',\n",
       " '__rtruediv__',\n",
       " '__rxor__',\n",
       " '__setattr__',\n",
       " '__sizeof__',\n",
       " '__str__',\n",
       " '__sub__',\n",
       " '__subclasshook__',\n",
       " '__truediv__',\n",
       " '__trunc__',\n",
       " '__xor__',\n",
       " 'as_integer_ratio',\n",
       " 'bit_length',\n",
       " 'conjugate',\n",
       " 'denominator',\n",
       " 'from_bytes',\n",
       " 'imag',\n",
       " 'numerator',\n",
       " 'real',\n",
       " 'to_bytes']"
      ]
     },
     "execution_count": 5,
     "metadata": {},
     "output_type": "execute_result"
    }
   ],
   "source": [
    "dir(int)"
   ]
  },
  {
   "cell_type": "code",
   "execution_count": 6,
   "id": "47b6313b",
   "metadata": {},
   "outputs": [
    {
     "name": "stdout",
     "output_type": "stream",
     "text": [
      "Help on class int in module builtins:\n",
      "\n",
      "class int(object)\n",
      " |  int([x]) -> integer\n",
      " |  int(x, base=10) -> integer\n",
      " |  \n",
      " |  Convert a number or string to an integer, or return 0 if no arguments\n",
      " |  are given.  If x is a number, return x.__int__().  For floating point\n",
      " |  numbers, this truncates towards zero.\n",
      " |  \n",
      " |  If x is not a number or if base is given, then x must be a string,\n",
      " |  bytes, or bytearray instance representing an integer literal in the\n",
      " |  given base.  The literal can be preceded by '+' or '-' and be surrounded\n",
      " |  by whitespace.  The base defaults to 10.  Valid bases are 0 and 2-36.\n",
      " |  Base 0 means to interpret the base from the string as an integer literal.\n",
      " |  >>> int('0b100', base=0)\n",
      " |  4\n",
      " |  \n",
      " |  Built-in subclasses:\n",
      " |      bool\n",
      " |  \n",
      " |  Methods defined here:\n",
      " |  \n",
      " |  __abs__(self, /)\n",
      " |      abs(self)\n",
      " |  \n",
      " |  __add__(self, value, /)\n",
      " |      Return self+value.\n",
      " |  \n",
      " |  __and__(self, value, /)\n",
      " |      Return self&value.\n",
      " |  \n",
      " |  __bool__(self, /)\n",
      " |      self != 0\n",
      " |  \n",
      " |  __ceil__(...)\n",
      " |      Ceiling of an Integral returns itself.\n",
      " |  \n",
      " |  __divmod__(self, value, /)\n",
      " |      Return divmod(self, value).\n",
      " |  \n",
      " |  __eq__(self, value, /)\n",
      " |      Return self==value.\n",
      " |  \n",
      " |  __float__(self, /)\n",
      " |      float(self)\n",
      " |  \n",
      " |  __floor__(...)\n",
      " |      Flooring an Integral returns itself.\n",
      " |  \n",
      " |  __floordiv__(self, value, /)\n",
      " |      Return self//value.\n",
      " |  \n",
      " |  __format__(self, format_spec, /)\n",
      " |      Default object formatter.\n",
      " |  \n",
      " |  __ge__(self, value, /)\n",
      " |      Return self>=value.\n",
      " |  \n",
      " |  __getattribute__(self, name, /)\n",
      " |      Return getattr(self, name).\n",
      " |  \n",
      " |  __getnewargs__(self, /)\n",
      " |  \n",
      " |  __gt__(self, value, /)\n",
      " |      Return self>value.\n",
      " |  \n",
      " |  __hash__(self, /)\n",
      " |      Return hash(self).\n",
      " |  \n",
      " |  __index__(self, /)\n",
      " |      Return self converted to an integer, if self is suitable for use as an index into a list.\n",
      " |  \n",
      " |  __int__(self, /)\n",
      " |      int(self)\n",
      " |  \n",
      " |  __invert__(self, /)\n",
      " |      ~self\n",
      " |  \n",
      " |  __le__(self, value, /)\n",
      " |      Return self<=value.\n",
      " |  \n",
      " |  __lshift__(self, value, /)\n",
      " |      Return self<<value.\n",
      " |  \n",
      " |  __lt__(self, value, /)\n",
      " |      Return self<value.\n",
      " |  \n",
      " |  __mod__(self, value, /)\n",
      " |      Return self%value.\n",
      " |  \n",
      " |  __mul__(self, value, /)\n",
      " |      Return self*value.\n",
      " |  \n",
      " |  __ne__(self, value, /)\n",
      " |      Return self!=value.\n",
      " |  \n",
      " |  __neg__(self, /)\n",
      " |      -self\n",
      " |  \n",
      " |  __or__(self, value, /)\n",
      " |      Return self|value.\n",
      " |  \n",
      " |  __pos__(self, /)\n",
      " |      +self\n",
      " |  \n",
      " |  __pow__(self, value, mod=None, /)\n",
      " |      Return pow(self, value, mod).\n",
      " |  \n",
      " |  __radd__(self, value, /)\n",
      " |      Return value+self.\n",
      " |  \n",
      " |  __rand__(self, value, /)\n",
      " |      Return value&self.\n",
      " |  \n",
      " |  __rdivmod__(self, value, /)\n",
      " |      Return divmod(value, self).\n",
      " |  \n",
      " |  __repr__(self, /)\n",
      " |      Return repr(self).\n",
      " |  \n",
      " |  __rfloordiv__(self, value, /)\n",
      " |      Return value//self.\n",
      " |  \n",
      " |  __rlshift__(self, value, /)\n",
      " |      Return value<<self.\n",
      " |  \n",
      " |  __rmod__(self, value, /)\n",
      " |      Return value%self.\n",
      " |  \n",
      " |  __rmul__(self, value, /)\n",
      " |      Return value*self.\n",
      " |  \n",
      " |  __ror__(self, value, /)\n",
      " |      Return value|self.\n",
      " |  \n",
      " |  __round__(...)\n",
      " |      Rounding an Integral returns itself.\n",
      " |      Rounding with an ndigits argument also returns an integer.\n",
      " |  \n",
      " |  __rpow__(self, value, mod=None, /)\n",
      " |      Return pow(value, self, mod).\n",
      " |  \n",
      " |  __rrshift__(self, value, /)\n",
      " |      Return value>>self.\n",
      " |  \n",
      " |  __rshift__(self, value, /)\n",
      " |      Return self>>value.\n",
      " |  \n",
      " |  __rsub__(self, value, /)\n",
      " |      Return value-self.\n",
      " |  \n",
      " |  __rtruediv__(self, value, /)\n",
      " |      Return value/self.\n",
      " |  \n",
      " |  __rxor__(self, value, /)\n",
      " |      Return value^self.\n",
      " |  \n",
      " |  __sizeof__(self, /)\n",
      " |      Returns size in memory, in bytes.\n",
      " |  \n",
      " |  __sub__(self, value, /)\n",
      " |      Return self-value.\n",
      " |  \n",
      " |  __truediv__(self, value, /)\n",
      " |      Return self/value.\n",
      " |  \n",
      " |  __trunc__(...)\n",
      " |      Truncating an Integral returns itself.\n",
      " |  \n",
      " |  __xor__(self, value, /)\n",
      " |      Return self^value.\n",
      " |  \n",
      " |  as_integer_ratio(self, /)\n",
      " |      Return integer ratio.\n",
      " |      \n",
      " |      Return a pair of integers, whose ratio is exactly equal to the original int\n",
      " |      and with a positive denominator.\n",
      " |      \n",
      " |      >>> (10).as_integer_ratio()\n",
      " |      (10, 1)\n",
      " |      >>> (-10).as_integer_ratio()\n",
      " |      (-10, 1)\n",
      " |      >>> (0).as_integer_ratio()\n",
      " |      (0, 1)\n",
      " |  \n",
      " |  bit_length(self, /)\n",
      " |      Number of bits necessary to represent self in binary.\n",
      " |      \n",
      " |      >>> bin(37)\n",
      " |      '0b100101'\n",
      " |      >>> (37).bit_length()\n",
      " |      6\n",
      " |  \n",
      " |  conjugate(...)\n",
      " |      Returns self, the complex conjugate of any int.\n",
      " |  \n",
      " |  to_bytes(self, /, length, byteorder, *, signed=False)\n",
      " |      Return an array of bytes representing an integer.\n",
      " |      \n",
      " |      length\n",
      " |        Length of bytes object to use.  An OverflowError is raised if the\n",
      " |        integer is not representable with the given number of bytes.\n",
      " |      byteorder\n",
      " |        The byte order used to represent the integer.  If byteorder is 'big',\n",
      " |        the most significant byte is at the beginning of the byte array.  If\n",
      " |        byteorder is 'little', the most significant byte is at the end of the\n",
      " |        byte array.  To request the native byte order of the host system, use\n",
      " |        `sys.byteorder' as the byte order value.\n",
      " |      signed\n",
      " |        Determines whether two's complement is used to represent the integer.\n",
      " |        If signed is False and a negative integer is given, an OverflowError\n",
      " |        is raised.\n",
      " |  \n",
      " |  ----------------------------------------------------------------------\n",
      " |  Class methods defined here:\n",
      " |  \n",
      " |  from_bytes(bytes, byteorder, *, signed=False) from builtins.type\n",
      " |      Return the integer represented by the given array of bytes.\n",
      " |      \n",
      " |      bytes\n",
      " |        Holds the array of bytes to convert.  The argument must either\n",
      " |        support the buffer protocol or be an iterable object producing bytes.\n",
      " |        Bytes and bytearray are examples of built-in objects that support the\n",
      " |        buffer protocol.\n",
      " |      byteorder\n",
      " |        The byte order used to represent the integer.  If byteorder is 'big',\n",
      " |        the most significant byte is at the beginning of the byte array.  If\n",
      " |        byteorder is 'little', the most significant byte is at the end of the\n",
      " |        byte array.  To request the native byte order of the host system, use\n",
      " |        `sys.byteorder' as the byte order value.\n",
      " |      signed\n",
      " |        Indicates whether two's complement is used to represent the integer.\n",
      " |  \n",
      " |  ----------------------------------------------------------------------\n",
      " |  Static methods defined here:\n",
      " |  \n",
      " |  __new__(*args, **kwargs) from builtins.type\n",
      " |      Create and return a new object.  See help(type) for accurate signature.\n",
      " |  \n",
      " |  ----------------------------------------------------------------------\n",
      " |  Data descriptors defined here:\n",
      " |  \n",
      " |  denominator\n",
      " |      the denominator of a rational number in lowest terms\n",
      " |  \n",
      " |  imag\n",
      " |      the imaginary part of a complex number\n",
      " |  \n",
      " |  numerator\n",
      " |      the numerator of a rational number in lowest terms\n",
      " |  \n",
      " |  real\n",
      " |      the real part of a complex number\n",
      "\n"
     ]
    }
   ],
   "source": [
    "help(int)"
   ]
  },
  {
   "cell_type": "code",
   "execution_count": 18,
   "id": "554c3d82",
   "metadata": {},
   "outputs": [
    {
     "data": {
      "text/plain": [
       "-9"
      ]
     },
     "execution_count": 18,
     "metadata": {},
     "output_type": "execute_result"
    }
   ],
   "source": [
    "-3**2"
   ]
  },
  {
   "cell_type": "code",
   "execution_count": 19,
   "id": "bd8b10d3",
   "metadata": {},
   "outputs": [
    {
     "data": {
      "text/plain": [
       "9"
      ]
     },
     "execution_count": 19,
     "metadata": {},
     "output_type": "execute_result"
    }
   ],
   "source": [
    "(-3)**2"
   ]
  },
  {
   "cell_type": "markdown",
   "id": "292eb13f",
   "metadata": {},
   "source": [
    "- Note that the exponentiation operator binds tighter than the negation (unary minus), so -3** 2 is in fact the same as -(3** 2).\n",
    "\n",
    "- If you want to calculate (-3)** 2, you must say so explicitly."
   ]
  },
  {
   "cell_type": "code",
   "execution_count": 7,
   "id": "2f538ea7",
   "metadata": {},
   "outputs": [
    {
     "data": {
      "text/plain": [
       "12"
      ]
     },
     "execution_count": 7,
     "metadata": {},
     "output_type": "execute_result"
    }
   ],
   "source": [
    "abs(-12)"
   ]
  },
  {
   "cell_type": "markdown",
   "id": "d6a85ada",
   "metadata": {},
   "source": [
    "Integer divides integer but gives float as a output"
   ]
  },
  {
   "cell_type": "code",
   "execution_count": 14,
   "id": "37c091c0",
   "metadata": {},
   "outputs": [
    {
     "data": {
      "text/plain": [
       "5.0"
      ]
     },
     "execution_count": 14,
     "metadata": {},
     "output_type": "execute_result"
    }
   ],
   "source": [
    "10/2"
   ]
  },
  {
   "cell_type": "code",
   "execution_count": 8,
   "id": "b1c546c5",
   "metadata": {},
   "outputs": [
    {
     "data": {
      "text/plain": [
       "1.6666666666666667"
      ]
     },
     "execution_count": 8,
     "metadata": {},
     "output_type": "execute_result"
    }
   ],
   "source": [
    "10/6"
   ]
  },
  {
   "cell_type": "code",
   "execution_count": 11,
   "id": "95f7739a",
   "metadata": {},
   "outputs": [
    {
     "data": {
      "text/plain": [
       "1.67"
      ]
     },
     "execution_count": 11,
     "metadata": {},
     "output_type": "execute_result"
    }
   ],
   "source": [
    "round(10/6,2)"
   ]
  },
  {
   "cell_type": "code",
   "execution_count": 12,
   "id": "62acf7c4",
   "metadata": {},
   "outputs": [
    {
     "data": {
      "text/plain": [
       "2.0"
      ]
     },
     "execution_count": 12,
     "metadata": {},
     "output_type": "execute_result"
    }
   ],
   "source": [
    "round(10/6,0)"
   ]
  },
  {
   "cell_type": "code",
   "execution_count": 13,
   "id": "e8c8fa4d",
   "metadata": {},
   "outputs": [
    {
     "data": {
      "text/plain": [
       "1"
      ]
     },
     "execution_count": 13,
     "metadata": {},
     "output_type": "execute_result"
    }
   ],
   "source": [
    "10//6"
   ]
  },
  {
   "cell_type": "markdown",
   "id": "0b0fd19f",
   "metadata": {},
   "source": [
    "## Float"
   ]
  },
  {
   "cell_type": "code",
   "execution_count": 16,
   "id": "b1cc0634",
   "metadata": {},
   "outputs": [],
   "source": [
    "a = 10.5\n",
    "b = 7.5"
   ]
  },
  {
   "cell_type": "code",
   "execution_count": 17,
   "id": "6c67cc5d",
   "metadata": {},
   "outputs": [
    {
     "name": "stdout",
     "output_type": "stream",
     "text": [
      "Arithmetic operations on any number\n",
      "\n",
      "================================================================================ \n",
      "\n",
      "A is 10.5 and B is 7.5 \n",
      "\n",
      "Addition : 18.0 \n",
      "\n",
      "Subtraction : 3.0 \n",
      "\n",
      "Multiplication : 78.75 \n",
      "\n",
      "Division : 1.4 \n",
      "\n",
      "Power : 1157.625 \n",
      "\n",
      "Floor Division : 1.0 \n",
      "\n",
      "Modulus : 3.0 \n",
      "\n"
     ]
    }
   ],
   "source": [
    "print('Arithmetic operations on any number\\n')\n",
    "print('========'*10,'\\n')\n",
    "print('A is',a,\"and\",\"B is\",b,\"\\n\")\n",
    "print('Addition :',a+b,'\\n')\n",
    "print('Subtraction :',a-b,'\\n')\n",
    "print('Multiplication :',a*b,'\\n')\n",
    "print('Division :',a/b,'\\n')\n",
    "print('Power :',a**3,'\\n')\n",
    "print('Floor Division :',a//b,'\\n')\n",
    "print('Modulus :',a%b,'\\n')   #modulus is remainder of division"
   ]
  },
  {
   "cell_type": "markdown",
   "id": "0fcecaa2",
   "metadata": {},
   "source": [
    "- Real numbers are called floats (or floating-point numbers) in Python. If either one of the numbers in a division is a float, the result will be, too:"
   ]
  },
  {
   "cell_type": "code",
   "execution_count": 20,
   "id": "b3bf3c11",
   "metadata": {},
   "outputs": [
    {
     "data": {
      "text/plain": [
       "0.5"
      ]
     },
     "execution_count": 20,
     "metadata": {},
     "output_type": "execute_result"
    }
   ],
   "source": [
    "1.0/2.0   #float gives float as output"
   ]
  },
  {
   "cell_type": "code",
   "execution_count": 21,
   "id": "13b7cec8",
   "metadata": {},
   "outputs": [
    {
     "data": {
      "text/plain": [
       "0.5"
      ]
     },
     "execution_count": 21,
     "metadata": {},
     "output_type": "execute_result"
    }
   ],
   "source": [
    "1/2.0   #integer devides float but gives float as output"
   ]
  },
  {
   "cell_type": "code",
   "execution_count": 22,
   "id": "46fc65fa",
   "metadata": {},
   "outputs": [
    {
     "data": {
      "text/plain": [
       "0.5"
      ]
     },
     "execution_count": 22,
     "metadata": {},
     "output_type": "execute_result"
    }
   ],
   "source": [
    "1.0/2     #integer devides float but gives float as output"
   ]
  },
  {
   "cell_type": "code",
   "execution_count": 23,
   "id": "cb8c0d97",
   "metadata": {},
   "outputs": [
    {
     "data": {
      "text/plain": [
       "0.5"
      ]
     },
     "execution_count": 23,
     "metadata": {},
     "output_type": "execute_result"
    }
   ],
   "source": [
    "1/2.     #integer devides float but gives float as output"
   ]
  },
  {
   "cell_type": "markdown",
   "id": "0161c629",
   "metadata": {},
   "source": [
    "#### ACTIVITY:\n",
    "Create a variable called 'pi' and assign the float value 3.1415 to it. Print the value of pi."
   ]
  },
  {
   "cell_type": "code",
   "execution_count": null,
   "id": "a6abf07c",
   "metadata": {},
   "outputs": [],
   "source": []
  },
  {
   "cell_type": "code",
   "execution_count": null,
   "id": "bee27984",
   "metadata": {},
   "outputs": [],
   "source": []
  },
  {
   "cell_type": "markdown",
   "id": "0f4c1542",
   "metadata": {},
   "source": [
    "## Complex"
   ]
  },
  {
   "cell_type": "code",
   "execution_count": 24,
   "id": "590daa76",
   "metadata": {},
   "outputs": [],
   "source": [
    "c1 = 5+11j\n",
    "c2 = 3+4j"
   ]
  },
  {
   "cell_type": "code",
   "execution_count": 25,
   "id": "90220aa1",
   "metadata": {},
   "outputs": [
    {
     "data": {
      "text/plain": [
       "(5+11j)"
      ]
     },
     "execution_count": 25,
     "metadata": {},
     "output_type": "execute_result"
    }
   ],
   "source": [
    "c1"
   ]
  },
  {
   "cell_type": "code",
   "execution_count": 26,
   "id": "b6344f26",
   "metadata": {},
   "outputs": [
    {
     "data": {
      "text/plain": [
       "(3+4j)"
      ]
     },
     "execution_count": 26,
     "metadata": {},
     "output_type": "execute_result"
    }
   ],
   "source": [
    "c2"
   ]
  },
  {
   "cell_type": "code",
   "execution_count": 27,
   "id": "1547efc3",
   "metadata": {},
   "outputs": [
    {
     "name": "stdout",
     "output_type": "stream",
     "text": [
      "Addition : (8+15j)\n",
      "Subtraction : (2+7j)\n",
      "Multiplication : (-29+53j)\n",
      "Division : (2.36+0.52j)\n"
     ]
    }
   ],
   "source": [
    "print(\"Addition :\",c1+c2)\n",
    "print(\"Subtraction :\",c1-c2)\n",
    "print(\"Multiplication :\",c1*c2)\n",
    "print(\"Division :\",c1/c2)"
   ]
  },
  {
   "cell_type": "markdown",
   "id": "c25b75c6",
   "metadata": {},
   "source": [
    "# Booleans"
   ]
  },
  {
   "cell_type": "code",
   "execution_count": 28,
   "id": "014f6893",
   "metadata": {},
   "outputs": [
    {
     "data": {
      "text/plain": [
       "False"
      ]
     },
     "execution_count": 28,
     "metadata": {},
     "output_type": "execute_result"
    }
   ],
   "source": [
    "\"P\" == \"p\""
   ]
  },
  {
   "cell_type": "code",
   "execution_count": 29,
   "id": "4328105d",
   "metadata": {},
   "outputs": [
    {
     "name": "stdout",
     "output_type": "stream",
     "text": [
      "<class 'bool'>\n"
     ]
    }
   ],
   "source": [
    "t, f = True, False\n",
    "print(type(t))"
   ]
  },
  {
   "cell_type": "code",
   "execution_count": 30,
   "id": "e83135ae",
   "metadata": {},
   "outputs": [
    {
     "data": {
      "text/plain": [
       "True"
      ]
     },
     "execution_count": 30,
     "metadata": {},
     "output_type": "execute_result"
    }
   ],
   "source": [
    "t"
   ]
  },
  {
   "cell_type": "code",
   "execution_count": 31,
   "id": "0add687f",
   "metadata": {},
   "outputs": [
    {
     "data": {
      "text/plain": [
       "False"
      ]
     },
     "execution_count": 31,
     "metadata": {},
     "output_type": "execute_result"
    }
   ],
   "source": [
    "f"
   ]
  },
  {
   "cell_type": "code",
   "execution_count": 32,
   "id": "8a8aa3e2",
   "metadata": {},
   "outputs": [
    {
     "name": "stdout",
     "output_type": "stream",
     "text": [
      "False\n"
     ]
    }
   ],
   "source": [
    "print(t and f) # Logical AND;"
   ]
  },
  {
   "cell_type": "code",
   "execution_count": 33,
   "id": "a1010838",
   "metadata": {},
   "outputs": [
    {
     "name": "stdout",
     "output_type": "stream",
     "text": [
      "True\n"
     ]
    }
   ],
   "source": [
    "print(t or f)  # Logical OR;"
   ]
  },
  {
   "cell_type": "code",
   "execution_count": 34,
   "id": "1e3fe642",
   "metadata": {},
   "outputs": [
    {
     "name": "stdout",
     "output_type": "stream",
     "text": [
      "False\n"
     ]
    }
   ],
   "source": [
    "print(not t)   # Logical NOT;"
   ]
  },
  {
   "cell_type": "code",
   "execution_count": 35,
   "id": "7231bc7d",
   "metadata": {},
   "outputs": [
    {
     "name": "stdout",
     "output_type": "stream",
     "text": [
      "True\n"
     ]
    }
   ],
   "source": [
    "print(t != f)  # Logical Not Equal to;"
   ]
  },
  {
   "cell_type": "code",
   "execution_count": 36,
   "id": "655b5ddb",
   "metadata": {},
   "outputs": [
    {
     "name": "stdout",
     "output_type": "stream",
     "text": [
      "False\n",
      "True\n"
     ]
    }
   ],
   "source": [
    "print(t & f) # Logical AND;\n",
    "print(t | f) # Logical OR;"
   ]
  },
  {
   "cell_type": "markdown",
   "id": "880f6fdf",
   "metadata": {},
   "source": [
    "# Strings"
   ]
  },
  {
   "cell_type": "code",
   "execution_count": 37,
   "id": "550df01d",
   "metadata": {},
   "outputs": [
    {
     "name": "stdout",
     "output_type": "stream",
     "text": [
      "Python\n",
      "Python\n"
     ]
    }
   ],
   "source": [
    "a = \"Python\"\n",
    "b = 'Python'\n",
    "print(a)\n",
    "print(b)"
   ]
  },
  {
   "cell_type": "code",
   "execution_count": 38,
   "id": "06beb6ac",
   "metadata": {},
   "outputs": [
    {
     "name": "stdout",
     "output_type": "stream",
     "text": [
      "PythonPythonPythonPythonPython\n",
      "Addition of a and b is PythonPython\n"
     ]
    }
   ],
   "source": [
    "print(b*5)\n",
    "c = a + b\n",
    "print(\"Addition of a and b is\",c)"
   ]
  },
  {
   "cell_type": "markdown",
   "id": "c923858b",
   "metadata": {},
   "source": [
    "## String Concatenation\n",
    ">joins two different string values."
   ]
  },
  {
   "cell_type": "code",
   "execution_count": 40,
   "id": "4ba2b9b7",
   "metadata": {},
   "outputs": [
    {
     "data": {
      "text/plain": [
       "'jayeshpatil'"
      ]
     },
     "execution_count": 40,
     "metadata": {},
     "output_type": "execute_result"
    }
   ],
   "source": [
    "'jayesh'+'patil'"
   ]
  },
  {
   "cell_type": "code",
   "execution_count": 41,
   "id": "d00707a1",
   "metadata": {},
   "outputs": [
    {
     "data": {
      "text/plain": [
       "'mmmmnnnn'"
      ]
     },
     "execution_count": 41,
     "metadata": {},
     "output_type": "execute_result"
    }
   ],
   "source": [
    "'mmmm'+'nnnn'"
   ]
  },
  {
   "cell_type": "code",
   "execution_count": 42,
   "id": "bf3e883f",
   "metadata": {},
   "outputs": [
    {
     "data": {
      "text/plain": [
       "'bbbbb KKKKK'"
      ]
     },
     "execution_count": 42,
     "metadata": {},
     "output_type": "execute_result"
    }
   ],
   "source": [
    "'bbbbb '+'KKKKK'  #it also counts space"
   ]
  },
  {
   "cell_type": "code",
   "execution_count": 43,
   "id": "97a9d765",
   "metadata": {},
   "outputs": [
    {
     "ename": "TypeError",
     "evalue": "can only concatenate str (not \"int\") to str",
     "output_type": "error",
     "traceback": [
      "\u001b[1;31m---------------------------------------------------------------------------\u001b[0m",
      "\u001b[1;31mTypeError\u001b[0m                                 Traceback (most recent call last)",
      "\u001b[1;32m~\\AppData\\Local\\Temp/ipykernel_8224/1366672459.py\u001b[0m in \u001b[0;36m<module>\u001b[1;34m\u001b[0m\n\u001b[1;32m----> 1\u001b[1;33m \u001b[1;34m'jay'\u001b[0m\u001b[1;33m+\u001b[0m\u001b[1;36m9\u001b[0m\u001b[1;33m\u001b[0m\u001b[1;33m\u001b[0m\u001b[0m\n\u001b[0m",
      "\u001b[1;31mTypeError\u001b[0m: can only concatenate str (not \"int\") to str"
     ]
    }
   ],
   "source": [
    "'jay'+9"
   ]
  },
  {
   "cell_type": "markdown",
   "id": "1735c54a",
   "metadata": {},
   "source": [
    "- we can also used reverse index which start at the last character of sting using minus operator\n",
    "- so here we have type cast the integer value to string value."
   ]
  },
  {
   "cell_type": "code",
   "execution_count": 44,
   "id": "25d3c4fc",
   "metadata": {},
   "outputs": [
    {
     "data": {
      "text/plain": [
       "'jay9'"
      ]
     },
     "execution_count": 44,
     "metadata": {},
     "output_type": "execute_result"
    }
   ],
   "source": [
    "#Method 1\n",
    "'jay'+'9'"
   ]
  },
  {
   "cell_type": "code",
   "execution_count": 45,
   "id": "a2f75aad",
   "metadata": {},
   "outputs": [
    {
     "data": {
      "text/plain": [
       "'jay9'"
      ]
     },
     "execution_count": 45,
     "metadata": {},
     "output_type": "execute_result"
    }
   ],
   "source": [
    "#Method 2\n",
    "'jay'+ str(9)"
   ]
  },
  {
   "cell_type": "code",
   "execution_count": 103,
   "id": "abfd5516",
   "metadata": {},
   "outputs": [
    {
     "name": "stdout",
     "output_type": "stream",
     "text": [
      "Vin\n",
      "V\n"
     ]
    },
    {
     "ename": "TypeError",
     "evalue": "'str' object does not support item assignment",
     "output_type": "error",
     "traceback": [
      "\u001b[1;31m---------------------------------------------------------------------------\u001b[0m",
      "\u001b[1;31mTypeError\u001b[0m                                 Traceback (most recent call last)",
      "\u001b[1;32m~\\AppData\\Local\\Temp/ipykernel_8224/1635293428.py\u001b[0m in \u001b[0;36m<module>\u001b[1;34m\u001b[0m\n\u001b[0;32m      3\u001b[0m \u001b[0mprint\u001b[0m\u001b[1;33m(\u001b[0m\u001b[0mst\u001b[0m\u001b[1;33m)\u001b[0m\u001b[1;33m\u001b[0m\u001b[1;33m\u001b[0m\u001b[0m\n\u001b[0;32m      4\u001b[0m \u001b[0mprint\u001b[0m\u001b[1;33m(\u001b[0m\u001b[0mst\u001b[0m\u001b[1;33m[\u001b[0m\u001b[1;36m0\u001b[0m\u001b[1;33m]\u001b[0m\u001b[1;33m)\u001b[0m\u001b[1;33m\u001b[0m\u001b[1;33m\u001b[0m\u001b[0m\n\u001b[1;32m----> 5\u001b[1;33m \u001b[0mst\u001b[0m\u001b[1;33m[\u001b[0m\u001b[1;36m0\u001b[0m\u001b[1;33m]\u001b[0m\u001b[1;33m=\u001b[0m\u001b[1;34m'Y'\u001b[0m\u001b[1;33m\u001b[0m\u001b[1;33m\u001b[0m\u001b[0m\n\u001b[0m\u001b[0;32m      6\u001b[0m \u001b[0mprint\u001b[0m\u001b[1;33m(\u001b[0m\u001b[0mst\u001b[0m\u001b[1;33m)\u001b[0m\u001b[1;33m\u001b[0m\u001b[1;33m\u001b[0m\u001b[0m\n\u001b[0;32m      7\u001b[0m \u001b[0mprint\u001b[0m\u001b[1;33m(\u001b[0m\u001b[0mst\u001b[0m\u001b[1;33m[\u001b[0m\u001b[1;36m0\u001b[0m\u001b[1;33m]\u001b[0m\u001b[1;33m)\u001b[0m\u001b[1;33m\u001b[0m\u001b[1;33m\u001b[0m\u001b[0m\n",
      "\u001b[1;31mTypeError\u001b[0m: 'str' object does not support item assignment"
     ]
    }
   ],
   "source": [
    "#Strings are immutable, means you cant change an existing string i.e. FIXED\n",
    "st = 'Vin'\n",
    "print(st)\n",
    "print(st[0])\n",
    "st[0]='Y'\n",
    "print(st)\n",
    "print(st[0])"
   ]
  },
  {
   "cell_type": "code",
   "execution_count": 104,
   "id": "1e5e7fb7",
   "metadata": {},
   "outputs": [
    {
     "name": "stdout",
     "output_type": "stream",
     "text": [
      "Yin\n"
     ]
    }
   ],
   "source": [
    "#Above thing can be achieved with a slight modification\n",
    "\n",
    "st = \"Vin\"\n",
    "st = 'Y'+st[1:]\n",
    "\n",
    "print(st)"
   ]
  },
  {
   "cell_type": "markdown",
   "id": "c5b123fc",
   "metadata": {},
   "source": [
    "## String Replication\n",
    ">Multiples the String"
   ]
  },
  {
   "cell_type": "code",
   "execution_count": 46,
   "id": "2eea9676",
   "metadata": {},
   "outputs": [
    {
     "data": {
      "text/plain": [
       "'JayeshJayeshJayesh'"
      ]
     },
     "execution_count": 46,
     "metadata": {},
     "output_type": "execute_result"
    }
   ],
   "source": [
    "'Jayesh'*3"
   ]
  },
  {
   "cell_type": "code",
   "execution_count": 47,
   "id": "aa098aac",
   "metadata": {},
   "outputs": [
    {
     "data": {
      "text/plain": [
       "'patil patil patil '"
      ]
     },
     "execution_count": 47,
     "metadata": {},
     "output_type": "execute_result"
    }
   ],
   "source": [
    "'patil '*3 #it also counts the white space."
   ]
  },
  {
   "cell_type": "markdown",
   "id": "4a7f7fb5",
   "metadata": {},
   "source": [
    "## String Indexing"
   ]
  },
  {
   "cell_type": "markdown",
   "id": "b15c91c9",
   "metadata": {},
   "source": [
    ">gets the index of the character or alphabet in the string.\n",
    "\n",
    ">indexing in python starts with 0, not 1"
   ]
  },
  {
   "cell_type": "code",
   "execution_count": 48,
   "id": "895b1962",
   "metadata": {},
   "outputs": [
    {
     "name": "stdout",
     "output_type": "stream",
     "text": [
      "J\n",
      "a\n",
      "h\n",
      "i\n",
      "s\n",
      "False\n"
     ]
    }
   ],
   "source": [
    "s = \"JayeshPatil\"\n",
    "print(s[0])\n",
    "print(s[1])\n",
    "print(s[5])\n",
    "print(s[-2])\n",
    "print(s[-7])\n",
    "print(s[0] == s[-7])"
   ]
  },
  {
   "cell_type": "code",
   "execution_count": 50,
   "id": "af9811f5",
   "metadata": {},
   "outputs": [],
   "source": [
    "x = 'I love Python Programming'\n",
    "#we can also store the slices into a variable and form string\n",
    "a='jay'\n",
    "b=x[2:6]\n",
    "c=x[7:13]\n",
    "z = a + \" \"+b+\" \"+c"
   ]
  },
  {
   "cell_type": "code",
   "execution_count": 51,
   "id": "10335be9",
   "metadata": {},
   "outputs": [
    {
     "name": "stdout",
     "output_type": "stream",
     "text": [
      "jay love Python\n"
     ]
    }
   ],
   "source": [
    "print(z)"
   ]
  },
  {
   "cell_type": "markdown",
   "id": "3c6d1e29",
   "metadata": {},
   "source": [
    "## String Slicing"
   ]
  },
  {
   "cell_type": "markdown",
   "id": "d67ca0b3",
   "metadata": {},
   "source": [
    "- gets the specific part of string.\n",
    "- string [start:end:step]\n",
    "- start index is inclusive and end is exclusive"
   ]
  },
  {
   "cell_type": "code",
   "execution_count": 52,
   "id": "0af595f9",
   "metadata": {},
   "outputs": [
    {
     "name": "stdout",
     "output_type": "stream",
     "text": [
      "ayes\n",
      "Jayes\n",
      "esh Patil love Python Programming Language\n",
      "Jay\n",
      "ngua\n",
      "egaugnaL gnimmargorP nohtyP evol litaP hseyaJ\n"
     ]
    }
   ],
   "source": [
    "s = \"Jayesh Patil love Python Programming Language\"\n",
    "\n",
    "print(s[1:5])\n",
    "print(s[0:5])\n",
    "print(s[3:])\n",
    "print(s[:3])\n",
    "print(s[-6:-2])\n",
    "print(s[::-1])"
   ]
  },
  {
   "cell_type": "code",
   "execution_count": 53,
   "id": "b9e96866",
   "metadata": {},
   "outputs": [
    {
     "data": {
      "text/plain": [
       "'python'"
      ]
     },
     "execution_count": 53,
     "metadata": {},
     "output_type": "execute_result"
    }
   ],
   "source": [
    "'i love python program'[7:13]"
   ]
  },
  {
   "cell_type": "code",
   "execution_count": 54,
   "id": "94dc6d7c",
   "metadata": {},
   "outputs": [
    {
     "data": {
      "text/plain": [
       "'I love Python'"
      ]
     },
     "execution_count": 54,
     "metadata": {},
     "output_type": "execute_result"
    }
   ],
   "source": [
    "x[:13] #if the start argument is empty then that means start from the very begining"
   ]
  },
  {
   "cell_type": "code",
   "execution_count": 55,
   "id": "f4133ef4",
   "metadata": {},
   "outputs": [
    {
     "data": {
      "text/plain": [
       "'Python Programming'"
      ]
     },
     "execution_count": 55,
     "metadata": {},
     "output_type": "execute_result"
    }
   ],
   "source": [
    "x[7:] #if the end argument is empty then that means include every element till the end"
   ]
  },
  {
   "cell_type": "code",
   "execution_count": 56,
   "id": "8522c87d",
   "metadata": {},
   "outputs": [
    {
     "data": {
      "text/plain": [
       "'I love Python Programming'"
      ]
     },
     "execution_count": 56,
     "metadata": {},
     "output_type": "execute_result"
    }
   ],
   "source": [
    "x[:]  #this simply means start from the begining and go till the end"
   ]
  },
  {
   "cell_type": "code",
   "execution_count": 57,
   "id": "d87a8123",
   "metadata": {},
   "outputs": [
    {
     "data": {
      "text/plain": [
       "'gnimmargorP nohtyP evol I'"
      ]
     },
     "execution_count": 57,
     "metadata": {},
     "output_type": "execute_result"
    }
   ],
   "source": [
    "x[::-1] #this simply means start from the begining and go till the end but in reverse order"
   ]
  },
  {
   "cell_type": "code",
   "execution_count": 58,
   "id": "bab1b15e",
   "metadata": {},
   "outputs": [
    {
     "data": {
      "text/plain": [
       "'p nohty'"
      ]
     },
     "execution_count": 58,
     "metadata": {},
     "output_type": "execute_result"
    }
   ],
   "source": [
    "'i love python program'[14:7:-1]"
   ]
  },
  {
   "cell_type": "code",
   "execution_count": 59,
   "id": "5ae33c55",
   "metadata": {},
   "outputs": [
    {
     "data": {
      "text/plain": [
       "'ilv yhnporm'"
      ]
     },
     "execution_count": 59,
     "metadata": {},
     "output_type": "execute_result"
    }
   ],
   "source": [
    "'i love python program'[::2]"
   ]
  },
  {
   "cell_type": "code",
   "execution_count": 60,
   "id": "98c9990e",
   "metadata": {},
   "outputs": [
    {
     "data": {
      "text/plain": [
       "'mropnhy vli'"
      ]
     },
     "execution_count": 60,
     "metadata": {},
     "output_type": "execute_result"
    }
   ],
   "source": [
    "'i love python program'[::-2]"
   ]
  },
  {
   "cell_type": "markdown",
   "id": "62400d79",
   "metadata": {},
   "source": [
    "### in and not in operator"
   ]
  },
  {
   "cell_type": "code",
   "execution_count": 61,
   "id": "cdeea02a",
   "metadata": {},
   "outputs": [
    {
     "name": "stdout",
     "output_type": "stream",
     "text": [
      "True\n",
      "False\n"
     ]
    }
   ],
   "source": [
    "s = \"Machine\"\n",
    "print('a' in s)\n",
    "print('a' not in s)"
   ]
  },
  {
   "cell_type": "markdown",
   "id": "6d0176bb",
   "metadata": {},
   "source": [
    "## Methods of String"
   ]
  },
  {
   "cell_type": "code",
   "execution_count": 101,
   "id": "7153d570",
   "metadata": {},
   "outputs": [
    {
     "data": {
      "text/plain": [
       "['__add__',\n",
       " '__class__',\n",
       " '__contains__',\n",
       " '__delattr__',\n",
       " '__dir__',\n",
       " '__doc__',\n",
       " '__eq__',\n",
       " '__format__',\n",
       " '__ge__',\n",
       " '__getattribute__',\n",
       " '__getitem__',\n",
       " '__getnewargs__',\n",
       " '__gt__',\n",
       " '__hash__',\n",
       " '__init__',\n",
       " '__init_subclass__',\n",
       " '__iter__',\n",
       " '__le__',\n",
       " '__len__',\n",
       " '__lt__',\n",
       " '__mod__',\n",
       " '__mul__',\n",
       " '__ne__',\n",
       " '__new__',\n",
       " '__reduce__',\n",
       " '__reduce_ex__',\n",
       " '__repr__',\n",
       " '__rmod__',\n",
       " '__rmul__',\n",
       " '__setattr__',\n",
       " '__sizeof__',\n",
       " '__str__',\n",
       " '__subclasshook__',\n",
       " 'capitalize',\n",
       " 'casefold',\n",
       " 'center',\n",
       " 'count',\n",
       " 'encode',\n",
       " 'endswith',\n",
       " 'expandtabs',\n",
       " 'find',\n",
       " 'format',\n",
       " 'format_map',\n",
       " 'index',\n",
       " 'isalnum',\n",
       " 'isalpha',\n",
       " 'isascii',\n",
       " 'isdecimal',\n",
       " 'isdigit',\n",
       " 'isidentifier',\n",
       " 'islower',\n",
       " 'isnumeric',\n",
       " 'isprintable',\n",
       " 'isspace',\n",
       " 'istitle',\n",
       " 'isupper',\n",
       " 'join',\n",
       " 'ljust',\n",
       " 'lower',\n",
       " 'lstrip',\n",
       " 'maketrans',\n",
       " 'partition',\n",
       " 'removeprefix',\n",
       " 'removesuffix',\n",
       " 'replace',\n",
       " 'rfind',\n",
       " 'rindex',\n",
       " 'rjust',\n",
       " 'rpartition',\n",
       " 'rsplit',\n",
       " 'rstrip',\n",
       " 'split',\n",
       " 'splitlines',\n",
       " 'startswith',\n",
       " 'strip',\n",
       " 'swapcase',\n",
       " 'title',\n",
       " 'translate',\n",
       " 'upper',\n",
       " 'zfill']"
      ]
     },
     "execution_count": 101,
     "metadata": {},
     "output_type": "execute_result"
    }
   ],
   "source": [
    "dir(str)"
   ]
  },
  {
   "cell_type": "markdown",
   "id": "ce2d5af9",
   "metadata": {},
   "source": [
    "### FIND \n",
    ">use to search for index of the letter\n",
    "\n",
    ">string.find(‘x’)"
   ]
  },
  {
   "cell_type": "code",
   "execution_count": 62,
   "id": "038eeeff",
   "metadata": {},
   "outputs": [],
   "source": [
    "sent = 'thiS is PyThoN ProGmMing.'"
   ]
  },
  {
   "cell_type": "code",
   "execution_count": 63,
   "id": "939a0ff2",
   "metadata": {},
   "outputs": [
    {
     "data": {
      "text/plain": [
       "5"
      ]
     },
     "execution_count": 63,
     "metadata": {},
     "output_type": "execute_result"
    }
   ],
   "source": [
    "sent.find(\"is\")"
   ]
  },
  {
   "cell_type": "markdown",
   "id": "6e956946",
   "metadata": {},
   "source": [
    "### CAPITALIZE\n",
    ">Capitalise the first letter of the first word in the string, rest all will be small.\n",
    "\n",
    ">string.capitalize()"
   ]
  },
  {
   "cell_type": "code",
   "execution_count": 64,
   "id": "b3f85b8f",
   "metadata": {},
   "outputs": [
    {
     "data": {
      "text/plain": [
       "'This is python progmming.'"
      ]
     },
     "execution_count": 64,
     "metadata": {},
     "output_type": "execute_result"
    }
   ],
   "source": [
    "sent.capitalize()"
   ]
  },
  {
   "cell_type": "markdown",
   "id": "bbaf3ed2",
   "metadata": {},
   "source": [
    "It is done temporarily since if we call back, you will see the change is not back."
   ]
  },
  {
   "cell_type": "code",
   "execution_count": 65,
   "id": "5d74ad3f",
   "metadata": {},
   "outputs": [
    {
     "name": "stdout",
     "output_type": "stream",
     "text": [
      "thiS is PyThoN ProGmMing.\n"
     ]
    }
   ],
   "source": [
    "print(sent)"
   ]
  },
  {
   "cell_type": "markdown",
   "id": "6d7f2fe0",
   "metadata": {},
   "source": [
    "### TITLE\n",
    ">It capitalise the every first letter of all the words in string, rest other will be small\n",
    "\n",
    ">string.title()"
   ]
  },
  {
   "cell_type": "code",
   "execution_count": 66,
   "id": "ce3684b9",
   "metadata": {},
   "outputs": [
    {
     "data": {
      "text/plain": [
       "'This Is Python Progmming.'"
      ]
     },
     "execution_count": 66,
     "metadata": {},
     "output_type": "execute_result"
    }
   ],
   "source": [
    "sent.title()"
   ]
  },
  {
   "cell_type": "markdown",
   "id": "5f3d5c7d",
   "metadata": {},
   "source": [
    "### UPPER \n",
    ">It converts the string into uppercase\n",
    "\n",
    ">string.upper()"
   ]
  },
  {
   "cell_type": "code",
   "execution_count": 67,
   "id": "d9aedb68",
   "metadata": {},
   "outputs": [
    {
     "data": {
      "text/plain": [
       "'thiS is PyThoN ProGmMing.'"
      ]
     },
     "execution_count": 67,
     "metadata": {},
     "output_type": "execute_result"
    }
   ],
   "source": [
    "sent"
   ]
  },
  {
   "cell_type": "code",
   "execution_count": 68,
   "id": "e12a656d",
   "metadata": {},
   "outputs": [
    {
     "data": {
      "text/plain": [
       "'THIS IS PYTHON PROGMMING.'"
      ]
     },
     "execution_count": 68,
     "metadata": {},
     "output_type": "execute_result"
    }
   ],
   "source": [
    "sent.upper()"
   ]
  },
  {
   "cell_type": "markdown",
   "id": "d4abc995",
   "metadata": {},
   "source": [
    "### LOWER \n",
    ">It converts the string into lowercase\n",
    "\n",
    ">string.lower()"
   ]
  },
  {
   "cell_type": "code",
   "execution_count": 69,
   "id": "7e5f73fb",
   "metadata": {},
   "outputs": [
    {
     "data": {
      "text/plain": [
       "'this is python progmming.'"
      ]
     },
     "execution_count": 69,
     "metadata": {},
     "output_type": "execute_result"
    }
   ],
   "source": [
    "sent.lower()"
   ]
  },
  {
   "cell_type": "markdown",
   "id": "5a66c3b2",
   "metadata": {},
   "source": [
    "### SWAPCASE \n",
    ">It converts the string into swapcase i.e it change capital letter to small & viz\n",
    "\n",
    ">string.swapcase()"
   ]
  },
  {
   "cell_type": "code",
   "execution_count": 70,
   "id": "b8b4cf08",
   "metadata": {},
   "outputs": [
    {
     "data": {
      "text/plain": [
       "'thiS is PyThoN ProGmMing.'"
      ]
     },
     "execution_count": 70,
     "metadata": {},
     "output_type": "execute_result"
    }
   ],
   "source": [
    "sent"
   ]
  },
  {
   "cell_type": "code",
   "execution_count": 71,
   "id": "029522cf",
   "metadata": {},
   "outputs": [
    {
     "data": {
      "text/plain": [
       "'THIs IS pYtHOn pROgMmING.'"
      ]
     },
     "execution_count": 71,
     "metadata": {},
     "output_type": "execute_result"
    }
   ],
   "source": [
    "sent.swapcase()"
   ]
  },
  {
   "cell_type": "markdown",
   "id": "f164d00f",
   "metadata": {},
   "source": [
    "### REPLACE \n",
    ">It replaces the given word in the strig with another.\n",
    "\n",
    ">string.replace(word,newword)"
   ]
  },
  {
   "cell_type": "code",
   "execution_count": 72,
   "id": "e753e0ac",
   "metadata": {},
   "outputs": [
    {
     "data": {
      "text/plain": [
       "'thiS is PyThoN ProGmMing.'"
      ]
     },
     "execution_count": 72,
     "metadata": {},
     "output_type": "execute_result"
    }
   ],
   "source": [
    "sent"
   ]
  },
  {
   "cell_type": "code",
   "execution_count": 73,
   "id": "832d4b11",
   "metadata": {},
   "outputs": [
    {
     "data": {
      "text/plain": [
       "'thiS is Java ProGmMing.'"
      ]
     },
     "execution_count": 73,
     "metadata": {},
     "output_type": "execute_result"
    }
   ],
   "source": [
    "sent.replace('PyThoN','Java')"
   ]
  },
  {
   "cell_type": "markdown",
   "id": "7ab62601",
   "metadata": {},
   "source": [
    "but this replace is also not saved permanently."
   ]
  },
  {
   "cell_type": "code",
   "execution_count": 74,
   "id": "5c1c8c03",
   "metadata": {},
   "outputs": [
    {
     "data": {
      "text/plain": [
       "'thiS is PyThoN ProGmMing.'"
      ]
     },
     "execution_count": 74,
     "metadata": {},
     "output_type": "execute_result"
    }
   ],
   "source": [
    "sent"
   ]
  },
  {
   "cell_type": "markdown",
   "id": "bcf6adeb",
   "metadata": {},
   "source": [
    "### FORMAT \n",
    ">It used to make changes in the string explicitly.\n",
    "\n",
    ">string.format()"
   ]
  },
  {
   "cell_type": "code",
   "execution_count": 75,
   "id": "24548064",
   "metadata": {},
   "outputs": [],
   "source": [
    "age = 25\n",
    "name = 'Jayesh'"
   ]
  },
  {
   "cell_type": "code",
   "execution_count": 76,
   "id": "a0d94fb5",
   "metadata": {},
   "outputs": [
    {
     "data": {
      "text/plain": [
       "'My age is 25 and my name is Jayesh'"
      ]
     },
     "execution_count": 76,
     "metadata": {},
     "output_type": "execute_result"
    }
   ],
   "source": [
    "#1st way of using format\n",
    "'My age is {} and my name is {}'.format(age,name)"
   ]
  },
  {
   "cell_type": "code",
   "execution_count": 77,
   "id": "332d823f",
   "metadata": {},
   "outputs": [
    {
     "data": {
      "text/plain": [
       "'My age is 25 and my name is Jayesh'"
      ]
     },
     "execution_count": 77,
     "metadata": {},
     "output_type": "execute_result"
    }
   ],
   "source": [
    "#2nd way of using format\n",
    "'My age is {one} and my name is {two}'.format(one=age,two=name)"
   ]
  },
  {
   "cell_type": "code",
   "execution_count": 78,
   "id": "c1219e89",
   "metadata": {},
   "outputs": [
    {
     "data": {
      "text/plain": [
       "'My age is 25 and my name is Jayesh and more 25'"
      ]
     },
     "execution_count": 78,
     "metadata": {},
     "output_type": "execute_result"
    }
   ],
   "source": [
    "'My age is {one} and my name is {two} and more {one}'.format(one=age,two=name)"
   ]
  },
  {
   "cell_type": "code",
   "execution_count": 79,
   "id": "b8396ac8",
   "metadata": {},
   "outputs": [
    {
     "data": {
      "text/plain": [
       "'My age is 25 and my name is Jayesh'"
      ]
     },
     "execution_count": 79,
     "metadata": {},
     "output_type": "execute_result"
    }
   ],
   "source": [
    "#3rd way of using format\n",
    "f'My age is {age} and my name is {name}'"
   ]
  },
  {
   "cell_type": "markdown",
   "id": "35f5eaa7",
   "metadata": {},
   "source": [
    "### SPLIT\n",
    ">It use to split the string into words with specified character by defult it is space and it return a list.\n",
    "\n",
    ">string.split(character)"
   ]
  },
  {
   "cell_type": "code",
   "execution_count": 80,
   "id": "8941f2fa",
   "metadata": {},
   "outputs": [
    {
     "data": {
      "text/plain": [
       "'thiS is PyThoN ProGmMing.'"
      ]
     },
     "execution_count": 80,
     "metadata": {},
     "output_type": "execute_result"
    }
   ],
   "source": [
    "sent"
   ]
  },
  {
   "cell_type": "code",
   "execution_count": 81,
   "id": "c5418c8f",
   "metadata": {},
   "outputs": [
    {
     "data": {
      "text/plain": [
       "['thiS', 'is', 'PyThoN', 'ProGmMing.']"
      ]
     },
     "execution_count": 81,
     "metadata": {},
     "output_type": "execute_result"
    }
   ],
   "source": [
    "sent.split()"
   ]
  },
  {
   "cell_type": "markdown",
   "id": "633f813e",
   "metadata": {},
   "source": [
    "As i said, by default it splits the sentence after every white space."
   ]
  },
  {
   "cell_type": "code",
   "execution_count": 82,
   "id": "142d9d4e",
   "metadata": {},
   "outputs": [],
   "source": [
    "new = 'this@is@python@programing'"
   ]
  },
  {
   "cell_type": "code",
   "execution_count": 83,
   "id": "6c8374b5",
   "metadata": {},
   "outputs": [
    {
     "data": {
      "text/plain": [
       "['this', 'is', 'python', 'programing']"
      ]
     },
     "execution_count": 83,
     "metadata": {},
     "output_type": "execute_result"
    }
   ],
   "source": [
    "new.split('@')"
   ]
  },
  {
   "cell_type": "markdown",
   "id": "a24cb26d",
   "metadata": {},
   "source": [
    "here we split the string by @ character and the output is every other word before and after @ character but not including @"
   ]
  },
  {
   "cell_type": "code",
   "execution_count": 84,
   "id": "294ad379",
   "metadata": {},
   "outputs": [],
   "source": [
    "email ='abc123@gmail.com'"
   ]
  },
  {
   "cell_type": "code",
   "execution_count": 85,
   "id": "762ec2ce",
   "metadata": {},
   "outputs": [
    {
     "data": {
      "text/plain": [
       "['abc123', 'gmail.com']"
      ]
     },
     "execution_count": 85,
     "metadata": {},
     "output_type": "execute_result"
    }
   ],
   "source": [
    "email.split('@')"
   ]
  },
  {
   "cell_type": "markdown",
   "id": "dc670750",
   "metadata": {},
   "source": [
    "### COUNT \n",
    ">It use to count the number of occurance of specified object or in other words it is used to count the frequency of the specified object.\n",
    "\n",
    ">string.count(object)"
   ]
  },
  {
   "cell_type": "code",
   "execution_count": 86,
   "id": "9156dbad",
   "metadata": {},
   "outputs": [],
   "source": [
    "x=\"i love python and python programming\""
   ]
  },
  {
   "cell_type": "code",
   "execution_count": 87,
   "id": "34001343",
   "metadata": {},
   "outputs": [
    {
     "data": {
      "text/plain": [
       "2"
      ]
     },
     "execution_count": 87,
     "metadata": {},
     "output_type": "execute_result"
    }
   ],
   "source": [
    "x.count('python')"
   ]
  },
  {
   "cell_type": "code",
   "execution_count": 89,
   "id": "d404bf70",
   "metadata": {},
   "outputs": [
    {
     "data": {
      "text/plain": [
       "4"
      ]
     },
     "execution_count": 89,
     "metadata": {},
     "output_type": "execute_result"
    }
   ],
   "source": [
    "x.count('o')"
   ]
  },
  {
   "cell_type": "markdown",
   "id": "28190b29",
   "metadata": {},
   "source": [
    "### STARTSWITH\n",
    ">It use to evaluate wheather the string starts with specified character and returns boolean value as output.\n",
    "\n",
    ">string.startswith(character)"
   ]
  },
  {
   "cell_type": "code",
   "execution_count": 90,
   "id": "47853df5",
   "metadata": {},
   "outputs": [
    {
     "data": {
      "text/plain": [
       "True"
      ]
     },
     "execution_count": 90,
     "metadata": {},
     "output_type": "execute_result"
    }
   ],
   "source": [
    "x.startswith('i')"
   ]
  },
  {
   "cell_type": "code",
   "execution_count": 91,
   "id": "972e217a",
   "metadata": {},
   "outputs": [
    {
     "data": {
      "text/plain": [
       "False"
      ]
     },
     "execution_count": 91,
     "metadata": {},
     "output_type": "execute_result"
    }
   ],
   "source": [
    "x.startswith('I') #since python is case sensitive"
   ]
  },
  {
   "cell_type": "markdown",
   "id": "68be0f56",
   "metadata": {},
   "source": [
    "### ENDSWITH\n",
    ">It use to evaluate wheather the string ends with specified character and returns boolean value as output.\n",
    "\n",
    ">string.endswith(character)"
   ]
  },
  {
   "cell_type": "code",
   "execution_count": 92,
   "id": "4a6de5bf",
   "metadata": {},
   "outputs": [
    {
     "data": {
      "text/plain": [
       "True"
      ]
     },
     "execution_count": 92,
     "metadata": {},
     "output_type": "execute_result"
    }
   ],
   "source": [
    "x.endswith('g')"
   ]
  },
  {
   "cell_type": "code",
   "execution_count": 93,
   "id": "e930e6de",
   "metadata": {},
   "outputs": [
    {
     "data": {
      "text/plain": [
       "False"
      ]
     },
     "execution_count": 93,
     "metadata": {},
     "output_type": "execute_result"
    }
   ],
   "source": [
    "x.endswith('G')  #since Python is case sensitive language"
   ]
  },
  {
   "cell_type": "markdown",
   "id": "d7bb7b50",
   "metadata": {},
   "source": [
    "### RSTRIP\n",
    ">It use to remove the white spaces from the right side of the string.\n",
    "\n",
    ">string.rstrip()"
   ]
  },
  {
   "cell_type": "code",
   "execution_count": 95,
   "id": "b197b03a",
   "metadata": {},
   "outputs": [],
   "source": [
    "a = \"              string                      \""
   ]
  },
  {
   "cell_type": "code",
   "execution_count": 96,
   "id": "7c668254",
   "metadata": {},
   "outputs": [
    {
     "data": {
      "text/plain": [
       "'              string'"
      ]
     },
     "execution_count": 96,
     "metadata": {},
     "output_type": "execute_result"
    }
   ],
   "source": [
    "a.rstrip()"
   ]
  },
  {
   "cell_type": "markdown",
   "id": "06ebe8f0",
   "metadata": {},
   "source": [
    "### LSTRIP  \n",
    ">It use to remove the white spaces from the lift side of the string.\n",
    "\n",
    ">string.lstrip()"
   ]
  },
  {
   "cell_type": "code",
   "execution_count": 97,
   "id": "b2e3257d",
   "metadata": {},
   "outputs": [
    {
     "data": {
      "text/plain": [
       "'string                      '"
      ]
     },
     "execution_count": 97,
     "metadata": {},
     "output_type": "execute_result"
    }
   ],
   "source": [
    "a.lstrip()"
   ]
  },
  {
   "cell_type": "markdown",
   "id": "b9ddd7cf",
   "metadata": {},
   "source": [
    "### STRIP  \n",
    ">It use to remove the white spaces from both side of the string.\n",
    "\n",
    ">string.strip()"
   ]
  },
  {
   "cell_type": "code",
   "execution_count": 98,
   "id": "bbd1845f",
   "metadata": {},
   "outputs": [
    {
     "data": {
      "text/plain": [
       "'string'"
      ]
     },
     "execution_count": 98,
     "metadata": {},
     "output_type": "execute_result"
    }
   ],
   "source": [
    "a.strip()"
   ]
  },
  {
   "cell_type": "markdown",
   "id": "065cedc9",
   "metadata": {},
   "source": [
    "### JOIN  \n",
    ">It use to join every element inside the interable with string and return a complete string\n",
    "\n",
    ">string.join(iterable)"
   ]
  },
  {
   "cell_type": "code",
   "execution_count": 99,
   "id": "fe86f3d6",
   "metadata": {},
   "outputs": [
    {
     "data": {
      "text/plain": [
       "'hey there hello world'"
      ]
     },
     "execution_count": 99,
     "metadata": {},
     "output_type": "execute_result"
    }
   ],
   "source": [
    "x=\" \"\n",
    "y=['hey','there','hello','world']\n",
    "x.join(y)"
   ]
  },
  {
   "cell_type": "markdown",
   "id": "0351a61f",
   "metadata": {},
   "source": [
    "### CENTER  \n",
    ">It use to keep the string at the center of the given length.\n",
    "\n",
    ">string.center(length)"
   ]
  },
  {
   "cell_type": "code",
   "execution_count": 2,
   "id": "ecda65e5",
   "metadata": {},
   "outputs": [
    {
     "data": {
      "text/plain": [
       "'          center          '"
      ]
     },
     "execution_count": 2,
     "metadata": {},
     "output_type": "execute_result"
    }
   ],
   "source": [
    "x='center'\n",
    "\n",
    "x.center(26)"
   ]
  },
  {
   "cell_type": "code",
   "execution_count": 102,
   "id": "94fe11ec",
   "metadata": {},
   "outputs": [
    {
     "name": "stdout",
     "output_type": "stream",
     "text": [
      "Hello WorldMachine Learning\n",
      "JayJay\n",
      "mACHINE lEARNING\n",
      "hello world\n",
      "JAY\n",
      "y\n",
      "J\n",
      "False\n",
      "True\n",
      "False\n",
      "False\n",
      "An apple a day keeps the doctor away\n",
      "An apple a day keeps the doctor away\n",
      "36\n",
      "en epple e dey keeps the doctor ewey\n",
      "jay secured 85\n"
     ]
    }
   ],
   "source": [
    "#Program to demonstrate various string functions\n",
    "s1=\"Hello World\"\n",
    "s2=\"Machine Learning\"\n",
    "s3=\"Jay\"\n",
    "\n",
    "print(s1+s2)\n",
    "print(s3*2)\n",
    "print(s2.swapcase())\n",
    "print(s1.lower())\n",
    "print(s3.upper())\n",
    "print(max(s3))  # max gives the last value\n",
    "print(min(s3))  # min gives the first value\n",
    "print(s1.isdigit())\n",
    "print(\"1250\".isdigit())\n",
    "print(\"1250rs\".isdigit())\n",
    "print(s1.isalpha())  # isalpha = alpha numeric\n",
    "s4 = \"an apple a day keeps the doctor away\"\n",
    "print(s4.capitalize())  #Proper in excel\n",
    "print(\"aN aPPle A Day keeps The DocToR aWAy\".capitalize())\n",
    "print(len(s4))\n",
    "print(s4.replace(\"a\",\"e\"))  #replace(\"original character\",\"new character\")\n",
    "print(\"jay secured 85%\".strip('%'))"
   ]
  },
  {
   "cell_type": "code",
   "execution_count": null,
   "id": "9a5844c0",
   "metadata": {},
   "outputs": [],
   "source": []
  }
 ],
 "metadata": {
  "kernelspec": {
   "display_name": "Python 3 (ipykernel)",
   "language": "python",
   "name": "python3"
  },
  "language_info": {
   "codemirror_mode": {
    "name": "ipython",
    "version": 3
   },
   "file_extension": ".py",
   "mimetype": "text/x-python",
   "name": "python",
   "nbconvert_exporter": "python",
   "pygments_lexer": "ipython3",
   "version": "3.9.12"
  }
 },
 "nbformat": 4,
 "nbformat_minor": 5
}
